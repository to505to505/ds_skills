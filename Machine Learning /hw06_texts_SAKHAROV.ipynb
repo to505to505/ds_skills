{
  "cells": [
    {
      "cell_type": "markdown",
      "metadata": {
        "id": "xrvOD02o3HvH"
      },
      "source": [
        "# Домашнее задание 6: классификация текстов"
      ]
    },
    {
      "cell_type": "markdown",
      "metadata": {
        "id": "sxwj_Iie3HvJ"
      },
      "source": [
        "В этом домашнем задании вам предстоит построить классификатор текстов!\n",
        "\n",
        "Данные мы будем использовать из Kaggle соревнования: https://www.kaggle.com/competitions/nlp-getting-started/data \n",
        "\n",
        "\n",
        "Оттуда надо скачать файл train.csv. На обучающую и тестовую выборки его поделим кодом ниже, менять его не надо!"
      ]
    },
    {
      "cell_type": "markdown",
      "metadata": {
        "id": "qQVgqLg93HvJ"
      },
      "source": [
        "Мы будем работать с датасетом постов из твиттера. Нам предстоит решать задачу бинарной классификации - определять содержатся ли в твитте информация о настоящей катастрофе/инциденте или нет."
      ]
    },
    {
      "cell_type": "code",
      "execution_count": 594,
      "metadata": {
        "id": "TcjEYh7R3HvK"
      },
      "outputs": [],
      "source": [
        "import numpy as np\n",
        "import pandas as pd\n",
        "from typing import  List\n",
        "import matplotlib.pyplot as plt\n",
        "import seaborn as sns\n",
        "from string import punctuation"
      ]
    },
    {
      "cell_type": "code",
      "execution_count": 595,
      "metadata": {
        "id": "mjwffGiB3HvK"
      },
      "outputs": [],
      "source": [
        "data = pd.read_csv('train.csv')"
      ]
    },
    {
      "cell_type": "code",
      "execution_count": 596,
      "metadata": {
        "colab": {
          "base_uri": "https://localhost:8080/",
          "height": 206
        },
        "id": "v0uUoFTN3HvK",
        "outputId": "0d37d677-a00d-449c-8f86-6f85dce2ef4a"
      },
      "outputs": [
        {
          "data": {
            "text/html": [
              "<div>\n",
              "<style scoped>\n",
              "    .dataframe tbody tr th:only-of-type {\n",
              "        vertical-align: middle;\n",
              "    }\n",
              "\n",
              "    .dataframe tbody tr th {\n",
              "        vertical-align: top;\n",
              "    }\n",
              "\n",
              "    .dataframe thead th {\n",
              "        text-align: right;\n",
              "    }\n",
              "</style>\n",
              "<table border=\"1\" class=\"dataframe\">\n",
              "  <thead>\n",
              "    <tr style=\"text-align: right;\">\n",
              "      <th></th>\n",
              "      <th>id</th>\n",
              "      <th>keyword</th>\n",
              "      <th>location</th>\n",
              "      <th>text</th>\n",
              "      <th>target</th>\n",
              "    </tr>\n",
              "  </thead>\n",
              "  <tbody>\n",
              "    <tr>\n",
              "      <th>0</th>\n",
              "      <td>1</td>\n",
              "      <td>NaN</td>\n",
              "      <td>NaN</td>\n",
              "      <td>Our Deeds are the Reason of this #earthquake M...</td>\n",
              "      <td>1</td>\n",
              "    </tr>\n",
              "    <tr>\n",
              "      <th>1</th>\n",
              "      <td>4</td>\n",
              "      <td>NaN</td>\n",
              "      <td>NaN</td>\n",
              "      <td>Forest fire near La Ronge Sask. Canada</td>\n",
              "      <td>1</td>\n",
              "    </tr>\n",
              "    <tr>\n",
              "      <th>2</th>\n",
              "      <td>5</td>\n",
              "      <td>NaN</td>\n",
              "      <td>NaN</td>\n",
              "      <td>All residents asked to 'shelter in place' are ...</td>\n",
              "      <td>1</td>\n",
              "    </tr>\n",
              "    <tr>\n",
              "      <th>3</th>\n",
              "      <td>6</td>\n",
              "      <td>NaN</td>\n",
              "      <td>NaN</td>\n",
              "      <td>13,000 people receive #wildfires evacuation or...</td>\n",
              "      <td>1</td>\n",
              "    </tr>\n",
              "    <tr>\n",
              "      <th>4</th>\n",
              "      <td>7</td>\n",
              "      <td>NaN</td>\n",
              "      <td>NaN</td>\n",
              "      <td>Just got sent this photo from Ruby #Alaska as ...</td>\n",
              "      <td>1</td>\n",
              "    </tr>\n",
              "  </tbody>\n",
              "</table>\n",
              "</div>"
            ],
            "text/plain": [
              "   id keyword location                                               text  \\\n",
              "0   1     NaN      NaN  Our Deeds are the Reason of this #earthquake M...   \n",
              "1   4     NaN      NaN             Forest fire near La Ronge Sask. Canada   \n",
              "2   5     NaN      NaN  All residents asked to 'shelter in place' are ...   \n",
              "3   6     NaN      NaN  13,000 people receive #wildfires evacuation or...   \n",
              "4   7     NaN      NaN  Just got sent this photo from Ruby #Alaska as ...   \n",
              "\n",
              "   target  \n",
              "0       1  \n",
              "1       1  \n",
              "2       1  \n",
              "3       1  \n",
              "4       1  "
            ]
          },
          "execution_count": 596,
          "metadata": {},
          "output_type": "execute_result"
        }
      ],
      "source": [
        "data.head()"
      ]
    },
    {
      "cell_type": "code",
      "execution_count": 597,
      "metadata": {
        "id": "f49NdWY23HvL"
      },
      "outputs": [],
      "source": [
        "from sklearn.model_selection import train_test_split\n",
        "\n",
        "train, test = train_test_split(data, test_size=0.3, random_state=42)"
      ]
    },
    {
      "cell_type": "markdown",
      "metadata": {
        "id": "YlLemInT3HvL"
      },
      "source": [
        "## Задание 1 (0.5 балла)\n",
        "\n",
        "Выведете на экран информацию о пропусках в данных. Если пропуски присутствуют заполните их пустой строкой."
      ]
    },
    {
      "cell_type": "code",
      "execution_count": 598,
      "metadata": {
        "id": "96aJxmkV4105"
      },
      "outputs": [
        {
          "data": {
            "text/plain": [
              "id             0\n",
              "keyword       61\n",
              "location    2533\n",
              "text           0\n",
              "target         0\n",
              "dtype: int64"
            ]
          },
          "execution_count": 598,
          "metadata": {},
          "output_type": "execute_result"
        }
      ],
      "source": [
        "data.isna().sum()"
      ]
    },
    {
      "cell_type": "code",
      "execution_count": 599,
      "metadata": {},
      "outputs": [],
      "source": [
        "test.fillna(' ', inplace= True)\n",
        "train.fillna(' ', inplace= True)"
      ]
    },
    {
      "cell_type": "markdown",
      "metadata": {
        "id": "A8CPBUal3HvL"
      },
      "source": [
        "## Задание 2 (1 балл)\n",
        "Давайте немного посмотрим на наши данные. Визуализируйте (где явно просят) или выведете информацию о следующем:\n",
        "\n",
        "1. Какое распределение классов в обучающей выборке?\n"
      ]
    },
    {
      "cell_type": "code",
      "execution_count": 600,
      "metadata": {
        "id": "WvJ_EU9o5BGm"
      },
      "outputs": [
        {
          "data": {
            "image/png": "[encoded data removed]",
            "text/plain": [
              "<Figure size 432x288 with 1 Axes>"
            ]
          },
          "metadata": {},
          "output_type": "display_data"
        }
      ],
      "source": [
        "plt.pie(train['target'].value_counts(), labels=['0', '1'], autopct='%1.1f%%')\n",
        "plt.legend()\n",
        "plt.show()"
      ]
    },
    {
      "cell_type": "markdown",
      "metadata": {
        "id": "f08KScbP5q2y"
      },
      "source": [
        "2. Посмотрите на колонку \"keyword\" - возьмите 10 наиболее встречающихся значений, постройте ступенчатую диаграмму распределения классов в зависимости от значения keyword, сделайте выводы."
      ]
    },
    {
      "cell_type": "code",
      "execution_count": 601,
      "metadata": {
        "id": "WSCb0htu5w_Y"
      },
      "outputs": [],
      "source": [
        "popular_keywords = train['keyword'].value_counts().nlargest(10).index\n",
        "popular_keywords_test = test['keyword'].value_counts().nlargest(10).index"
      ]
    },
    {
      "cell_type": "code",
      "execution_count": 602,
      "metadata": {},
      "outputs": [],
      "source": [
        "a = popular_keywords.tolist()\n",
        "b = popular_keywords_test.tolist()"
      ]
    },
    {
      "cell_type": "code",
      "execution_count": 603,
      "metadata": {},
      "outputs": [],
      "source": [
        "data_top = train[train['keyword'].isin(a)]\n",
        "data_top_test = test[test['keyword'].isin(b)]"
      ]
    },
    {
      "cell_type": "code",
      "execution_count": 604,
      "metadata": {},
      "outputs": [],
      "source": [
        "class_distribution = data_top.groupby(['keyword', 'target']).size().unstack()\n",
        "class_distribution_test = data_top_test.groupby(['keyword', 'target']).size().unstack()\n"
      ]
    },
    {
      "cell_type": "code",
      "execution_count": 605,
      "metadata": {},
      "outputs": [
        {
          "data": {
            "text/plain": [
              "<AxesSubplot:title={'center':'Test'}, xlabel='keyword'>"
            ]
          },
          "execution_count": 605,
          "metadata": {},
          "output_type": "execute_result"
        },
        {
          "data": {
            "image/png": "[encoded data removed]",
            "text/plain": [
              "<Figure size 432x288 with 1 Axes>"
            ]
          },
          "metadata": {
            "needs_background": "light"
          },
          "output_type": "display_data"
        },
        {
          "data": {
            "image/png": "[encoded data removed]",
            "text/plain": [
              "<Figure size 432x288 with 1 Axes>"
            ]
          },
          "metadata": {
            "needs_background": "light"
          },
          "output_type": "display_data"
        }
      ],
      "source": [
        "class_distribution.plot(kind='bar', stacked=True, title = 'Train' )\n",
        "class_distribution_test.plot(kind='bar', stacked=True, title = 'Test' )"
      ]
    },
    {
      "cell_type": "code",
      "execution_count": 606,
      "metadata": {},
      "outputs": [],
      "source": [
        "class_distribution = class_distribution.reset_index().melt(id_vars='keyword')\n",
        "class_distribution_test = class_distribution_test.reset_index().melt(id_vars='keyword')"
      ]
    },
    {
      "cell_type": "code",
      "execution_count": 607,
      "metadata": {},
      "outputs": [
        {
          "data": {
            "image/png": "[encoded data removed]",
            "text/plain": [
              "<Figure size 1440x720 with 1 Axes>"
            ]
          },
          "metadata": {
            "needs_background": "light"
          },
          "output_type": "display_data"
        }
      ],
      "source": [
        "plt.figure(figsize=(20, 10))\n",
        "sns.lineplot(data=class_distribution, x='keyword', y='value', hue='target', drawstyle='steps', sort=True)\n",
        "plt.suptitle('Train')\n",
        "plt.show()"
      ]
    },
    {
      "cell_type": "code",
      "execution_count": 608,
      "metadata": {},
      "outputs": [
        {
          "data": {
            "image/png": "[encoded data removed]",
            "text/plain": [
              "<Figure size 1440x720 with 1 Axes>"
            ]
          },
          "metadata": {
            "needs_background": "light"
          },
          "output_type": "display_data"
        }
      ],
      "source": [
        "plt.figure(figsize=(20, 10))\n",
        "sns.lineplot(data=class_distribution_test, x='keyword', y='value', hue='target', drawstyle='steps', sort=True)\n",
        "plt.suptitle('Test')\n",
        "plt.show()"
      ]
    },
    {
      "cell_type": "markdown",
      "metadata": {
        "id": "l4al3g9E-P09"
      },
      "source": [
        "**Выводы**: Как мы видим, несмотря на небольшой дисбаланс классов в общей train выборке, отдельно у популярных ключевых словах дисбаланс может быть достаточно сильный (в основном в пользу 0)\n",
        "У теста мы также видим достаточно сильный дисбаланс, как в одну, так и в другую сторону "
      ]
    },
    {
      "cell_type": "markdown",
      "metadata": {
        "id": "c006nNBP3HvM"
      },
      "source": [
        "## Задание 3 (0.5 балла) \n",
        "\n",
        "В этом задании предлагается объединить все три текстовых столбца в один (просто сконкатенировать cтроки) и убрать столбец с индексом."
      ]
    },
    {
      "cell_type": "code",
      "execution_count": 609,
      "metadata": {
        "colab": {
          "base_uri": "https://localhost:8080/",
          "height": 143
        },
        "id": "GdF9gFmL-c0r",
        "outputId": "ebe008b7-4d0e-4bc2-89f3-60a575c1b1fd"
      },
      "outputs": [
        {
          "data": {
            "text/html": [
              "<div>\n",
              "<style scoped>\n",
              "    .dataframe tbody tr th:only-of-type {\n",
              "        vertical-align: middle;\n",
              "    }\n",
              "\n",
              "    .dataframe tbody tr th {\n",
              "        vertical-align: top;\n",
              "    }\n",
              "\n",
              "    .dataframe thead th {\n",
              "        text-align: right;\n",
              "    }\n",
              "</style>\n",
              "<table border=\"1\" class=\"dataframe\">\n",
              "  <thead>\n",
              "    <tr style=\"text-align: right;\">\n",
              "      <th></th>\n",
              "      <th>id</th>\n",
              "      <th>keyword</th>\n",
              "      <th>location</th>\n",
              "      <th>text</th>\n",
              "      <th>target</th>\n",
              "    </tr>\n",
              "  </thead>\n",
              "  <tbody>\n",
              "    <tr>\n",
              "      <th>6590</th>\n",
              "      <td>9436</td>\n",
              "      <td>survivors</td>\n",
              "      <td>Marietta, GA</td>\n",
              "      <td>Stemming from my #Cubs talk- the team rosters ...</td>\n",
              "      <td>1</td>\n",
              "    </tr>\n",
              "    <tr>\n",
              "      <th>7122</th>\n",
              "      <td>10203</td>\n",
              "      <td>violent%20storm</td>\n",
              "      <td></td>\n",
              "      <td>If you were the NWS wth a rotating storm w/ a ...</td>\n",
              "      <td>1</td>\n",
              "    </tr>\n",
              "    <tr>\n",
              "      <th>2769</th>\n",
              "      <td>3980</td>\n",
              "      <td>devastation</td>\n",
              "      <td>Atlanta g.a.</td>\n",
              "      <td>http://t.co/Gxgm1T3W0J From Devastation to Ela...</td>\n",
              "      <td>0</td>\n",
              "    </tr>\n",
              "  </tbody>\n",
              "</table>\n",
              "</div>"
            ],
            "text/plain": [
              "         id          keyword      location  \\\n",
              "6590   9436        survivors  Marietta, GA   \n",
              "7122  10203  violent%20storm                 \n",
              "2769   3980      devastation  Atlanta g.a.   \n",
              "\n",
              "                                                   text  target  \n",
              "6590  Stemming from my #Cubs talk- the team rosters ...       1  \n",
              "7122  If you were the NWS wth a rotating storm w/ a ...       1  \n",
              "2769  http://t.co/Gxgm1T3W0J From Devastation to Ela...       0  "
            ]
          },
          "execution_count": 609,
          "metadata": {},
          "output_type": "execute_result"
        }
      ],
      "source": [
        "train.loc[[6590, 7122, 2769]]"
      ]
    },
    {
      "cell_type": "code",
      "execution_count": 610,
      "metadata": {
        "id": "lwwJKX_l-eoh"
      },
      "outputs": [],
      "source": [
        "# -- YOUR CODE HERE --\n",
        "train_new = train.copy()\n",
        "train_new['text_all'] = train_new[['keyword', 'location', 'text']].apply(lambda x: ' '.join(x), axis=1)\n",
        "train_new.drop(['id','keyword', 'location', 'text'], axis=1, inplace=True)"
      ]
    },
    {
      "cell_type": "code",
      "execution_count": 611,
      "metadata": {},
      "outputs": [],
      "source": [
        "test_new = test.copy()\n",
        "test_new['text_all'] = test_new[['keyword', 'location', 'text']].apply(lambda x: ' '.join(x), axis=1)\n",
        "test_new.drop(['id','keyword', 'location', 'text'], axis=1, inplace=True)"
      ]
    },
    {
      "cell_type": "code",
      "execution_count": 612,
      "metadata": {
        "colab": {
          "base_uri": "https://localhost:8080/",
          "height": 143
        },
        "id": "jk7P70XX_CpT",
        "outputId": "5cf01b29-8ada-46d7-f7ee-74e7aed37996"
      },
      "outputs": [
        {
          "data": {
            "text/html": [
              "<div>\n",
              "<style scoped>\n",
              "    .dataframe tbody tr th:only-of-type {\n",
              "        vertical-align: middle;\n",
              "    }\n",
              "\n",
              "    .dataframe tbody tr th {\n",
              "        vertical-align: top;\n",
              "    }\n",
              "\n",
              "    .dataframe thead th {\n",
              "        text-align: right;\n",
              "    }\n",
              "</style>\n",
              "<table border=\"1\" class=\"dataframe\">\n",
              "  <thead>\n",
              "    <tr style=\"text-align: right;\">\n",
              "      <th></th>\n",
              "      <th>target</th>\n",
              "      <th>text_all</th>\n",
              "    </tr>\n",
              "  </thead>\n",
              "  <tbody>\n",
              "    <tr>\n",
              "      <th>6590</th>\n",
              "      <td>1</td>\n",
              "      <td>survivors Marietta, GA Stemming from my #Cubs ...</td>\n",
              "    </tr>\n",
              "    <tr>\n",
              "      <th>7122</th>\n",
              "      <td>1</td>\n",
              "      <td>violent%20storm   If you were the NWS wth a ro...</td>\n",
              "    </tr>\n",
              "    <tr>\n",
              "      <th>2769</th>\n",
              "      <td>0</td>\n",
              "      <td>devastation Atlanta g.a. http://t.co/Gxgm1T3W0...</td>\n",
              "    </tr>\n",
              "  </tbody>\n",
              "</table>\n",
              "</div>"
            ],
            "text/plain": [
              "      target                                           text_all\n",
              "6590       1  survivors Marietta, GA Stemming from my #Cubs ...\n",
              "7122       1  violent%20storm   If you were the NWS wth a ro...\n",
              "2769       0  devastation Atlanta g.a. http://t.co/Gxgm1T3W0..."
            ]
          },
          "execution_count": 612,
          "metadata": {},
          "output_type": "execute_result"
        }
      ],
      "source": [
        "train_new.loc[[6590, 7122, 2769]]"
      ]
    },
    {
      "cell_type": "markdown",
      "metadata": {
        "id": "ViXdGTxP3HvM"
      },
      "source": [
        "## Задание 4 (0.5 балла)\n",
        "\n",
        "Далее мы будем пока работать только с train частью.\n",
        "\n",
        "1. Предобработайте данные (train часть) с помощью CountVectorizer.\n",
        "2. Какого размера получилась матрица?\n"
      ]
    },
    {
      "cell_type": "code",
      "execution_count": 613,
      "metadata": {
        "id": "oB1MTqUVAbPA"
      },
      "outputs": [],
      "source": [
        "from sklearn.feature_extraction.text import CountVectorizer\n",
        "vectorizer = CountVectorizer()\n",
        "\n",
        "# -- YOUR CODE HERE --"
      ]
    },
    {
      "cell_type": "code",
      "execution_count": 614,
      "metadata": {},
      "outputs": [],
      "source": [
        "X_train = vectorizer.fit_transform(train_new['text_all'])"
      ]
    },
    {
      "cell_type": "code",
      "execution_count": 615,
      "metadata": {},
      "outputs": [
        {
          "data": {
            "text/plain": [
              "{'bridge': 2948,\n",
              " '20collapse': 320,\n",
              " 'ashes': 1928,\n",
              " '2015': 295,\n",
              " 'australia': 2059,\n",
              " 'ûªs': 18425,\n",
              " 'collapse': 3914,\n",
              " 'at': 1977,\n",
              " 'trent': 16483,\n",
              " 'among': 1628,\n",
              " 'worst': 17813,\n",
              " 'in': 8314,\n",
              " 'history': 7773,\n",
              " 'england': 5722,\n",
              " 'bundled': 3085,\n",
              " 'out': 11995,\n",
              " 'for': 6503,\n",
              " '60': 755,\n",
              " 'http': 7970,\n",
              " 'co': 3861,\n",
              " 't5trhjuau0': 15733,\n",
              " 'hail': 7420,\n",
              " 'carol': 3363,\n",
              " 'stream': 15419,\n",
              " 'illinois': 8249,\n",
              " 'great': 7206,\n",
              " 'michigan': 10594,\n",
              " 'technique': 15888,\n",
              " 'camp': 3261,\n",
              " 'b1g': 2147,\n",
              " 'thanks': 16013,\n",
              " 'to': 16272,\n",
              " 'bmurph1019': 2753,\n",
              " 'hail_youtsey': 7421,\n",
              " 'termn8r13': 15949,\n",
              " 'goblue': 7088,\n",
              " 'wrestleon': 17848,\n",
              " 'oaskgki6qj': 11648,\n",
              " 'police': 12634,\n",
              " 'houston': 7933,\n",
              " 'cnn': 3854,\n",
              " 'tennessee': 15932,\n",
              " 'movie': 10940,\n",
              " 'theater': 16025,\n",
              " 'shooting': 14647,\n",
              " 'suspect': 15632,\n",
              " 'killed': 9246,\n",
              " 'by': 3150,\n",
              " 'di8elzswnr': 4890,\n",
              " 'rioting': 13800,\n",
              " 'still': 15357,\n",
              " 'couple': 4204,\n",
              " 'of': 11708,\n",
              " 'hours': 7925,\n",
              " 'left': 9644,\n",
              " 'until': 16884,\n",
              " 'have': 7546,\n",
              " 'be': 2383,\n",
              " 'up': 16895,\n",
              " 'class': 3774,\n",
              " 'wounds': 17822,\n",
              " 'lake': 9485,\n",
              " 'highlands': 7724,\n",
              " 'crack': 4242,\n",
              " 'the': 16022,\n",
              " 'path': 12228,\n",
              " 'where': 17582,\n",
              " 'wiped': 17684,\n",
              " 'this': 16107,\n",
              " 'morning': 10886,\n",
              " 'during': 5348,\n",
              " 'beach': 2386,\n",
              " 'run': 14049,\n",
              " 'surface': 15606,\n",
              " 'on': 11828,\n",
              " 'elbow': 5571,\n",
              " 'and': 1651,\n",
              " 'right': 13783,\n",
              " 'knee': 9316,\n",
              " 'yaqrsximph': 18081,\n",
              " 'airplane': 1458,\n",
              " '20accident': 309,\n",
              " 'somewhere': 15025,\n",
              " 'there': 16070,\n",
              " 'experts': 5988,\n",
              " 'france': 6594,\n",
              " 'begin': 2442,\n",
              " 'examining': 5934,\n",
              " 'debris': 4641,\n",
              " 'found': 6553,\n",
              " 'reunion': 13707,\n",
              " 'island': 8601,\n",
              " 'french': 6642,\n",
              " 'air': 1451,\n",
              " 'accident': 1241,\n",
              " 'tagzbcxfj0': 15758,\n",
              " 'mlb': 10762,\n",
              " 'bloody': 2719,\n",
              " 'isolated': 8610,\n",
              " 'city': 3742,\n",
              " 'world': 17794,\n",
              " 'perth': 12370,\n",
              " 'came': 3251,\n",
              " 'kill': 9243,\n",
              " 'indians': 8356,\n",
              " 'fun': 6721,\n",
              " 'video': 17164,\n",
              " 'smirking': 14922,\n",
              " 'remorseless': 13579,\n",
              " 'pakistani': 12124,\n",
              " 'killer': 9247,\n",
              " 'shows': 14678,\n",
              " 'him': 7746,\n",
              " 'boasting': 2766,\n",
              " 'fpjlwoxklg': 6575,\n",
              " 'burning': 3101,\n",
              " 'johnsontionne': 8903,\n",
              " 'except': 5939,\n",
              " 'idk': 8176,\n",
              " 'them': 16055,\n",
              " 'it': 8620,\n",
              " 'really': 13423,\n",
              " 'destroy': 4823,\n",
              " 'he': 7580,\n",
              " 'or': 11919,\n",
              " 'she': 14590,\n",
              " 'her': 7670,\n",
              " 'ask': 1943,\n",
              " 'house': 7926,\n",
              " 'wounded': 17821,\n",
              " 'maracay': 10278,\n",
              " 'nirgua': 11374,\n",
              " 'venezuela': 17104,\n",
              " 'officer': 11725,\n",
              " 'dead': 4615,\n",
              " 'after': 1395,\n",
              " 'exchanging': 5943,\n",
              " 'shots': 14660,\n",
              " 'xxfk4khbiw': 18027,\n",
              " 'wreck': 17845,\n",
              " 'currently': 4410,\n",
              " 'writing': 17858,\n",
              " 'book': 2805,\n",
              " 'friggin': 6666,\n",
              " 'destiel': 4817,\n",
              " 'sucks': 15514,\n",
              " 'read': 13402,\n",
              " 'vine': 17185,\n",
              " 'description': 4797,\n",
              " 'https': 7971,\n",
              " 'mkx6ux4ozt': 10760,\n",
              " 'mudslide': 10998,\n",
              " 'malibu': 10234,\n",
              " 'santafe': 14210,\n",
              " 'winning': 17679,\n",
              " 'sterling': 15340,\n",
              " 'scott': 14326,\n",
              " 'red': 13475,\n",
              " 'carpet': 3368,\n",
              " 'fundraiser': 6724,\n",
              " 'oso': 11969,\n",
              " 'ma4ra7atql': 10151,\n",
              " 'cg579wldne': 3513,\n",
              " 'casualties': 3406,\n",
              " 'canadian': 3282,\n",
              " 'bread': 2915,\n",
              " 'libertarianluke': 9733,\n",
              " 'all': 1539,\n",
              " 'that': 16016,\n",
              " 'honest': 7859,\n",
              " 'if': 8187,\n",
              " 'people': 12330,\n",
              " 'want': 17376,\n",
              " 'go': 7080,\n",
              " 'rampage': 13313,\n",
              " 'let': 9698,\n",
              " 'use': 16955,\n",
              " 'their': 16050,\n",
              " 'own': 12051,\n",
              " 'hands': 7465,\n",
              " 'feet': 6221,\n",
              " 'no': 11417,\n",
              " 'ambulance': 1608,\n",
              " 'amsterdam': 1635,\n",
              " '7xglah10zl': 928,\n",
              " 'twelve': 16646,\n",
              " 'feared': 6198,\n",
              " 'helicopter': 7646,\n",
              " 'crash': 4257,\n",
              " 'thmblaatzp': 16115,\n",
              " 'electrocuted': 5585,\n",
              " 'got': 7141,\n",
              " 'last': 9543,\n",
              " 'night': 11359,\n",
              " 'work': 17784,\n",
              " 'first': 6348,\n",
              " 'time': 16206,\n",
              " 'my': 11069,\n",
              " 'life': 9746,\n",
              " 'shit': 14630,\n",
              " 'was': 17406,\n",
              " 'weird': 17514,\n",
              " 'drown': 5276,\n",
              " 'some': 15013,\n",
              " 'older': 11801,\n",
              " 'native': 11173,\n",
              " 'australians': 2061,\n",
              " 'believe': 2469,\n",
              " 'oceans': 11685,\n",
              " 'were': 17532,\n",
              " 'created': 4278,\n",
              " 'from': 6673,\n",
              " 'urine': 16932,\n",
              " 'an': 1638,\n",
              " 'angry': 1676,\n",
              " 'god': 7090,\n",
              " 'who': 17605,\n",
              " 'tried': 16503,\n",
              " 'volcano': 17257,\n",
              " 'west': 17537,\n",
              " 'coast': 3869,\n",
              " 'cali': 3226,\n",
              " 'usa': 16943,\n",
              " 'architect': 1834,\n",
              " 'behind': 2454,\n",
              " 'kanye': 9086,\n",
              " 'musbik7ejf': 11030,\n",
              " 'attack': 2002,\n",
              " 'mumbai': 11017,\n",
              " 'india': 8349,\n",
              " 'shud': 14684,\n",
              " 'not': 11481,\n",
              " 'give': 7013,\n",
              " 'any': 1734,\n",
              " 'evidence': 5919,\n",
              " 'pak': 12122,\n",
              " 'they': 16089,\n",
              " 'will': 17641,\n",
              " 'share': 14573,\n",
              " 'with': 17700,\n",
              " 'terrorists': 15962,\n",
              " 'amp': 1630,\n",
              " 'next': 11313,\n",
              " 'oth': 11977,\n",
              " 'contries': 4114,\n",
              " 'qiopbtiuvu': 13126,\n",
              " 'body': 2774,\n",
              " '20bag': 311,\n",
              " 'new': 11281,\n",
              " 'york': 18173,\n",
              " 'auth': 2063,\n",
              " 'louis': 9993,\n",
              " 'vuitton': 17294,\n",
              " 'brown': 3002,\n",
              " 'saumur': 14245,\n",
              " '35': 485,\n",
              " 'cross': 4322,\n",
              " 'shoulder': 14662,\n",
              " 'bag': 2202,\n",
              " 'monogram': 10842,\n",
              " '23': 355,\n",
              " '419': 581,\n",
              " 'full': 6718,\n",
              " 'û_': 18408,\n",
              " 'hcdiwe5flc': 7571,\n",
              " 'zlvebeoavg': 18338,\n",
              " 'annihilated': 1696,\n",
              " 'higher': 7721,\n",
              " 'places': 12532,\n",
              " 'episode': 5783,\n",
              " 'trunks': 16557,\n",
              " 'freiza': 6640,\n",
              " 'is': 8585,\n",
              " 'cleanest': 3782,\n",
              " 'ever': 5902,\n",
              " 'showed': 14674,\n",
              " 'nigga': 11357,\n",
              " 'mercy': 10518,\n",
              " 'cyclone': 4447,\n",
              " 'hyderabad': 8073,\n",
              " 'roughdeal1': 13969,\n",
              " 'ante': 1714,\n",
              " 'hudhud': 7978,\n",
              " 'chandrababu': 3544,\n",
              " 'valle': 17039,\n",
              " 'ne': 11224,\n",
              " 'ga': 6799,\n",
              " '65': 781,\n",
              " 'zhenghxn': 18312,\n",
              " '11': 117,\n",
              " 'eyes': 6036,\n",
              " 'akame': 1474,\n",
              " 'tokyo': 16296,\n",
              " 'ghoul': 6978,\n",
              " 'damn': 4511,\n",
              " 'dont': 5154,\n",
              " 'dare': 4551,\n",
              " 'watch': 17423,\n",
              " 'suicide': 15530,\n",
              " '20bombing': 317,\n",
              " 'principality': 12842,\n",
              " 'zeron': 18304,\n",
              " 'rayquazaerk': 13368,\n",
              " 'are': 1836,\n",
              " 'christian': 3689,\n",
              " 'sure': 15600,\n",
              " 'but': 3126,\n",
              " 'don': 5144,\n",
              " 'bombing': 2794,\n",
              " 'employed': 5668,\n",
              " 'often': 11746,\n",
              " 'as': 1912,\n",
              " 'islamic': 8598,\n",
              " 'groups': 7259,\n",
              " 'demolished': 4739,\n",
              " 'jackmulholland1': 8698,\n",
              " 'think': 16099,\n",
              " 'also': 1581,\n",
              " 'became': 2412,\n",
              " 'marquis': 10322,\n",
              " 'then': 16062,\n",
              " 'carlos': 3355,\n",
              " 'charlie': 3569,\n",
              " 'finally': 6308,\n",
              " 'dublin': 5308,\n",
              " 'sadly': 14130,\n",
              " 'inundated': 8515,\n",
              " 'surf': 15604,\n",
              " 'hi': 7711,\n",
              " 'waimea': 17339,\n",
              " 'bay': 2344,\n",
              " 'like': 9769,\n",
              " 'surfers': 15607,\n",
              " 'czdw8oowa2': 4460,\n",
              " 'collision': 3928,\n",
              " 'denver': 4763,\n",
              " 'colorado': 3939,\n",
              " 'motorcyclist': 10919,\n",
              " 'bicyclist': 2564,\n",
              " 'injured': 8415,\n",
              " 'broadway': 2984,\n",
              " 'zl7ojdaj3u': 18334,\n",
              " 'flames': 6386,\n",
              " 'around': 1879,\n",
              " 'you': 18177,\n",
              " 'maryland': 10334,\n",
              " 'mansion': 10268,\n",
              " 'fire': 6330,\n",
              " 'caused': 3434,\n",
              " 'damaged': 4502,\n",
              " 'plug': 12586,\n",
              " 'under': 16813,\n",
              " 'christmas': 3696,\n",
              " 'tree': 16469,\n",
              " 'report': 13616,\n",
              " 'says': 14264,\n",
              " 'into': 8509,\n",
              " 'lkjfabqzb3': 9869,\n",
              " 'demolish': 4738,\n",
              " 'nyhc': 11603,\n",
              " 'going': 7098,\n",
              " 'drake': 5213,\n",
              " 'over': 12023,\n",
              " 'ghostwriting': 6977,\n",
              " 'should': 14661,\n",
              " 'know': 9331,\n",
              " 'rihanna': 13788,\n",
              " 'lives': 9847,\n",
              " 'door': 5158,\n",
              " 'buildings': 3066,\n",
              " '20burning': 319,\n",
              " 'blue': 2736,\n",
              " 'yes': 18118,\n",
              " '1acd4900c1424d1': 232,\n",
              " 'foxnews': 6567,\n",
              " 'one': 11834,\n",
              " 'down': 5182,\n",
              " 'looting': 9961,\n",
              " 'forest': 6518,\n",
              " '20fires': 327,\n",
              " 'nicola': 11345,\n",
              " 'valley': 17040,\n",
              " 'fires': 6343,\n",
              " 'dying': 5384,\n",
              " 'salmon': 14165,\n",
              " 'act': 1279,\n",
              " 'deny': 4764,\n",
              " 'climate': 3805,\n",
              " 'change': 3545,\n",
              " 'nightmares': 11362,\n",
              " 'here': 7671,\n",
              " 'rbzomwgjee': 13380,\n",
              " 'bcpoli': 2375,\n",
              " 'canpoli': 3300,\n",
              " 'vanpoli': 17056,\n",
              " 'ns1aggfnxz': 11533,\n",
              " 'shoes': 14642,\n",
              " 'asics': 1940,\n",
              " 'gt': 7281,\n",
              " 'ii': 8217,\n",
              " 'super': 15573,\n",
              " 'ronnie': 13935,\n",
              " 'fieg': 6275,\n",
              " 'kith': 9287,\n",
              " 'white': 17599,\n",
              " '3m': 536,\n",
              " 'gel': 6908,\n",
              " 'grey': 7233,\n",
              " 'od250zshfy': 11689,\n",
              " 'sandstorm': 14201,\n",
              " 'airport': 1460,\n",
              " 'get': 6950,\n",
              " 'swallowed': 15645,\n",
              " 'minute': 10695,\n",
              " 'wd9odwjj9l': 17467,\n",
              " '20on': 331,\n",
              " '20fire': 326,\n",
              " 'uk': 16776,\n",
              " 'tweetlikeitsseptember11th2001': 16643,\n",
              " 'those': 16126,\n",
              " 'two': 16658,\n",
              " 'oil': 11769,\n",
              " '20spill': 338,\n",
              " 'ny': 11592,\n",
              " 'california': 3229,\n",
              " 'spill': 15149,\n",
              " 'might': 10622,\n",
              " 'larger': 9535,\n",
              " 'than': 16005,\n",
              " 'projected': 12889,\n",
              " 'xwxbyhtuzc': 18026,\n",
              " 'wzedxefblg': 17918,\n",
              " 'cartoon': 3380,\n",
              " 'bears': 2394,\n",
              " 'without': 17705,\n",
              " 'we': 17472,\n",
              " 'would': 17817,\n",
              " 'qave': 13098,\n",
              " 'knowlddge': 9333,\n",
              " 'toilet': 16293,\n",
              " 'paper': 12162,\n",
              " 'drought': 5271,\n",
              " 'miami': 10585,\n",
              " '_gaabyx': 1137,\n",
              " 'purple': 13035,\n",
              " 'activist': 1291,\n",
              " 'thought': 16129,\n",
              " 'injuries': 8417,\n",
              " 'madison': 10177,\n",
              " 'wi': 17620,\n",
              " 'st': 15242,\n",
              " 'mo': 10781,\n",
              " 'buffoonmike': 3060,\n",
              " 'knew': 9320,\n",
              " 'doing': 5128,\n",
              " 'much': 10995,\n",
              " 'bite': 2628,\n",
              " 'us': 16939,\n",
              " 'influenced': 8398,\n",
              " 'shitty': 14634,\n",
              " 'staff': 15251,\n",
              " 'acquisitions': 1274,\n",
              " 'landslide': 9511,\n",
              " 'austin': 2058,\n",
              " 'texas': 15977,\n",
              " 'toddstarnes': 16285,\n",
              " 'enjoy': 5729,\n",
              " 'impending': 8289,\n",
              " 'todd': 16283,\n",
              " 'hehe': 7632,\n",
              " 'apocalypse': 1768,\n",
              " 'oregon': 11935,\n",
              " 'look': 9946,\n",
              " 'grizzly': 7245,\n",
              " 'peak': 12297,\n",
              " 'now': 11512,\n",
              " 'looks': 9950,\n",
              " 'beginning': 2444,\n",
              " 'dystopian': 5389,\n",
              " 'detonation': 4841,\n",
              " 'ignition': 8203,\n",
              " 'knock': 9326,\n",
              " 'sensor': 14469,\n",
              " 'senso': 14468,\n",
              " 'standard': 15264,\n",
              " 'ks100': 9383,\n",
              " '7o4lnfbe7k': 920,\n",
              " 'fvzsgjtbew': 6753,\n",
              " '20responders': 334,\n",
              " 'week': 17505,\n",
              " 'responders': 13667,\n",
              " 'dart': 4564,\n",
              " 'members': 10495,\n",
              " 'participating': 12201,\n",
              " 'four': 6558,\n",
              " 'day': 4593,\n",
              " 'intensive': 8481,\n",
              " 'technical': 15886,\n",
              " 'large': 9534,\n",
              " 'animal': 1678,\n",
              " 'tl93aod3er': 16247,\n",
              " 'military': 10641,\n",
              " 'lot': 9984,\n",
              " '20': 281,\n",
              " 'tom': 16302,\n",
              " 'clancy': 3770,\n",
              " 'mystery': 11085,\n",
              " 'novels': 11510,\n",
              " 'paperback': 12163,\n",
              " 'obix79ncxn': 11654,\n",
              " 'tomclancy': 16306,\n",
              " 'drowning': 5278,\n",
              " 'coventry': 4216,\n",
              " 'why': 17618,\n",
              " 'low': 10009,\n",
              " 'self': 14439,\n",
              " 'image': 8264,\n",
              " 'take': 15766,\n",
              " 'quiz': 13198,\n",
              " 'z8r6r3nbtb': 18264,\n",
              " 'namffldh5h': 11138,\n",
              " 'gonna': 7110,\n",
              " 'fight': 6284,\n",
              " 'taylor': 15834,\n",
              " 'soon': 15044,\n",
              " 'danger': 4525,\n",
              " 'hailing': 7424,\n",
              " 'dayton': 4595,\n",
              " 'wish': 17695,\n",
              " 'could': 4190,\n",
              " 'victoria': 17154,\n",
              " 'secret': 14399,\n",
              " 'front': 6674,\n",
              " 'good': 7111,\n",
              " 'flood': 6428,\n",
              " 'spot': 15181,\n",
              " 'combo': 3950,\n",
              " '53inch': 689,\n",
              " '300w': 459,\n",
              " 'curved': 4414,\n",
              " 'cree': 4288,\n",
              " 'led': 9634,\n",
              " 'light': 9757,\n",
              " 'bar': 2268,\n",
              " '4x4': 659,\n",
              " 'offroad': 11739,\n",
              " 'fog': 6467,\n",
              " 'lamp': 9493,\n",
              " 're': 13389,\n",
              " 'o097vsotxk': 11619,\n",
              " 'i23xy7iejj': 8089,\n",
              " 'severe': 14522,\n",
              " 'weather': 17486,\n",
              " 'bulletin': 3073,\n",
              " 'typhoon': 16684,\n",
              " 'ûï': 18429,\n",
              " 'hannaph': 7473,\n",
              " 'soudelor': 15063,\n",
              " 'tropical': 16532,\n",
              " 'warning': 17391,\n",
              " 'issued': 8615,\n",
              " '00': 0,\n",
              " 'pm': 12594,\n",
              " '06': 23,\n",
              " 'thhjjw51pe': 16092,\n",
              " 'fits': 6357,\n",
              " '01': 6,\n",
              " 'bmw': 2754,\n",
              " '325ci': 478,\n",
              " '5l': 726,\n",
              " 'l6': 9449,\n",
              " 'gbvdnczjou': 6893,\n",
              " 'c211hise0r': 3169,\n",
              " 'explosion': 6003,\n",
              " 'london': 9928,\n",
              " 'united': 16851,\n",
              " 'kingdom': 9267,\n",
              " '10': 87,\n",
              " 'chemical': 3605,\n",
              " 'park': 12186,\n",
              " 'western': 17541,\n",
              " 'germany': 6945,\n",
              " 'xbznu0qkvs': 17948,\n",
              " 'bomb': 2789,\n",
              " 'soul': 15065,\n",
              " 'food': 6488,\n",
              " 'sound': 15069,\n",
              " 'so': 14969,\n",
              " 'terrorism': 15960,\n",
              " 'truth': 16561,\n",
              " 'bejftygjil': 2461,\n",
              " 'news': 11295,\n",
              " 'bbc': 2353,\n",
              " 'islam': 8595,\n",
              " 'isis': 8593,\n",
              " 'quran': 13207,\n",
              " 'lies': 9745,\n",
              " 'jlczidz7vu': 8866,\n",
              " 'sinking': 14765,\n",
              " 'your': 18187,\n",
              " 'lost': 9983,\n",
              " 'alone': 1569,\n",
              " 'stone': 15374,\n",
              " 'carry': 3373,\n",
              " 'onå': 11862,\n",
              " 'hostage': 7911,\n",
              " 'chicago': 3624,\n",
              " 'mylittlepwnies3': 11080,\n",
              " 'early__may': 5428,\n",
              " 'anathemazhiv': 1645,\n",
              " 'tonysandos': 16320,\n",
              " 'which': 17587,\n",
              " 'has': 7522,\n",
              " 'do': 5103,\n",
              " 'lebanon': 9631,\n",
              " '80s': 943,\n",
              " 'iran': 8561,\n",
              " 'crisis': 4311,\n",
              " 'libya': 9740,\n",
              " 'pan': 12140,\n",
              " 'am': 1595,\n",
              " 'pa': 12092,\n",
              " 'pulls': 13002,\n",
              " 'gun': 7315,\n",
              " 'man': 10245,\n",
              " 'apparent': 1779,\n",
              " 'provocation': 12948,\n",
              " 'lhw4vtbhzg': 9729,\n",
              " 'via': 17141,\n",
              " 'dailykos': 4488,\n",
              " 'derailment': 4784,\n",
              " 'minneapolis': 10684,\n",
              " 'mn': 10776,\n",
              " 'train': 16424,\n",
              " 'patna': 12236,\n",
              " 'casualty': 3407,\n",
              " 'far': 6130,\n",
              " 'indian': 8352,\n",
              " 'express': 6011,\n",
              " 'yh5vetm0yz': 18131,\n",
              " '17wgug8z0m': 197,\n",
              " 'panic': 12151,\n",
              " 'dream': 5228,\n",
              " 'magic': 10189,\n",
              " 'linden': 9791,\n",
              " 'method': 10548,\n",
              " 'lite': 9821,\n",
              " 'version': 17119,\n",
              " 'anxiety': 1733,\n",
              " 'cure': 4403,\n",
              " 'program': 12880,\n",
              " '073izwx0lb': 28,\n",
              " 'lind': 9789,\n",
              " 'okmlagvkjv': 11790,\n",
              " 'rescued': 13638,\n",
              " 'jammu': 8730,\n",
              " 'kashmir': 9098,\n",
              " 'delhi': 4711,\n",
              " '18': 198,\n",
              " 'bovines': 2849,\n",
              " 'smugglersåênabbed': 14936,\n",
              " 'e7fn5g5ruu': 5411,\n",
              " 'fredericksburg': 6615,\n",
              " 'virginia': 17202,\n",
              " 'wwp': 17901,\n",
              " 'serving': 14504,\n",
              " 'more': 10873,\n",
              " '75k': 881,\n",
              " 'veterans': 17126,\n",
              " '52k': 684,\n",
              " 'oif': 11768,\n",
              " 'oef': 11702,\n",
              " 'vets': 17127,\n",
              " 'physical': 12441,\n",
              " 'many': 10271,\n",
              " 'invisible': 8530,\n",
              " 'ones': 11840,\n",
              " 'shhlv4dplz': 14610,\n",
              " 'client': 3801,\n",
              " 'dust': 5351,\n",
              " '20storm': 339,\n",
              " 'learned': 9622,\n",
              " 'about': 1209,\n",
              " 'economics': 5479,\n",
              " 'south': 15079,\n",
              " 'dakota': 4492,\n",
              " 'storm': 15389,\n",
              " 'did': 4909,\n",
              " 'years': 18101,\n",
              " 'college': 3922,\n",
              " 'hubert': 7977,\n",
              " 'humphrey': 8012,\n",
              " 'wrecked': 17847,\n",
              " 'cramer': 4250,\n",
              " 'iger': 8195,\n",
              " 'words': 17783,\n",
              " 'disney': 5008,\n",
              " 'stock': 15365,\n",
              " 'sf5jdnvdw9': 14534,\n",
              " 'til_now': 16200,\n",
              " 'cnbc': 3849,\n",
              " 'tring': 16510,\n",
              " 'marc_holl': 10281,\n",
              " 'nennicook': 11260,\n",
              " 'aitchkaycee': 1465,\n",
              " 'vixstuart': 17228,\n",
              " 'benjbeckwith': 2497,\n",
              " 'pretty': 12817,\n",
              " 'disaster': 4979,\n",
              " 'gbbo': 6886,\n",
              " 'obliteration': 11663,\n",
              " 'canada': 3280,\n",
              " 'need': 11240,\n",
              " 'arcade': 1832,\n",
              " 'shooter': 14646,\n",
              " 'fix': 6362,\n",
              " 'cte': 4367,\n",
              " 'empty': 5673,\n",
              " 'only': 11850,\n",
              " 'running': 14056,\n",
              " 'even': 5896,\n",
              " 'buy': 3138,\n",
              " 'cod': 3885,\n",
              " 'title': 16234,\n",
              " 'weren': 17533,\n",
              " 'overpriced': 12032,\n",
              " 'steam': 15324,\n",
              " 'bioterrorism': 2609,\n",
              " 'firepower': 6342,\n",
              " 'lab': 9462,\n",
              " 'electronic': 5586,\n",
              " 'resource': 13659,\n",
              " 'automation': 2075,\n",
              " 'against': 1409,\n",
              " 'infectious': 8386,\n",
              " 'diseases': 4998,\n",
              " 'kvpbybglsr': 9415,\n",
              " 'graysondolan': 7201,\n",
              " 'me': 10434,\n",
              " 'explode': 5995,\n",
              " 'washington': 17412,\n",
              " 'kendall': 9160,\n",
              " 'jenner': 8806,\n",
              " 'nick': 11339,\n",
              " 'jonas': 8915,\n",
              " 'dating': 4573,\n",
              " 'quite': 13196,\n",
              " 'literally': 9822,\n",
              " 'pfvzvpxqgr': 12399,\n",
              " 'always': 1594,\n",
              " 'tell': 15913,\n",
              " 'mom': 10823,\n",
              " 'bring': 2963,\n",
              " 'hold': 7813,\n",
              " 'cat': 3408,\n",
              " 'heat': 7616,\n",
              " '20wave': 342,\n",
              " 'fort': 6540,\n",
              " 'worth': 17816,\n",
              " 'rt': 14016,\n",
              " 'startelegram': 15290,\n",
              " 'homeless': 7842,\n",
              " 'vulnerable': 17297,\n",
              " 'north': 11463,\n",
              " 'wave': 17440,\n",
              " 'k9airfq3ql': 9049,\n",
              " 'jdbtlymehy': 8790,\n",
              " 'nuclear': 11547,\n",
              " '20reactor': 333,\n",
              " 'solar': 14997,\n",
              " 'power': 12718,\n",
              " 'japanese': 8748,\n",
              " 'fukushima': 6717,\n",
              " 'reactor': 13399,\n",
              " 'energy': 5710,\n",
              " 'japan': 8747,\n",
              " 'temperature': 15924,\n",
              " 'fuel': 6710,\n",
              " 'pool': 12655,\n",
              " 'ys3nmwwyvc': 18215,\n",
              " 'alpotnb7q3': 1574,\n",
              " 'arvada': 1908,\n",
              " 'least': 9626,\n",
              " 'taken': 15769,\n",
              " 'local': 9900,\n",
              " 'wlmsq3mtho': 17725,\n",
              " 'trauma': 16451,\n",
              " 'nashville': 11161,\n",
              " 'tn': 16264,\n",
              " 'esteemed': 5852,\n",
              " 'journalist': 8936,\n",
              " 'recalls': 13445,\n",
              " 'tragic': 16420,\n",
              " 'effects': 5529,\n",
              " 'unaddressed': 16797,\n",
              " 'childhood': 3636,\n",
              " 'keithboykin': 9149,\n",
              " 'randallpinkston': 13317,\n",
              " 'pozarmy': 12723,\n",
              " 'gxq1auzb18': 7362,\n",
              " 'panicking': 12152,\n",
              " 'feel': 6213,\n",
              " 'results': 13689,\n",
              " 'back': 2179,\n",
              " 'alarmingly': 1498,\n",
              " 'calm': 3236,\n",
              " 'lightning': 9763,\n",
              " 'thunder': 16168,\n",
              " 'possible': 12689,\n",
              " 'pinpoint': 12479,\n",
              " 'foothill': 6502,\n",
              " 'forecast': 6511,\n",
              " 'ctijdpxabk': 4369,\n",
              " 'displaced': 5019,\n",
              " '40': 562,\n",
              " 'ocean': 11684,\n",
              " 'township': 16385,\n",
              " 'apartment': 1756,\n",
              " 'newyork': 11308,\n",
              " 'uelz59wvom': 16749,\n",
              " 'massacre': 10345,\n",
              " 'stay': 15315,\n",
              " 'tuned': 16602,\n",
              " 'freddiedeboer': 6612,\n",
              " 'thucydiplease': 16166,\n",
              " 'rise': 13810,\n",
              " 'coates': 3874,\n",
              " 'charleston': 3568,\n",
              " 'walter': 17366,\n",
              " 'black': 2652,\n",
              " 'twitter': 16656,\n",
              " 'broadly': 2982,\n",
              " 'well': 17519,\n",
              " 'deaths': 4636,\n",
              " 'gallifrey': 6826,\n",
              " 'mathew_is_angry': 10366,\n",
              " 'z3ke_sk1': 18256,\n",
              " 'saladinahmed': 14154,\n",
              " 'died': 4915,\n",
              " 'horrible': 7898,\n",
              " 'trapped': 16448,\n",
              " 'ships': 14624,\n",
              " 'risk': 13813,\n",
              " '20buildings': 318,\n",
              " 'whiterun': 17601,\n",
              " 'skyrim': 14840,\n",
              " 'destruction': 4829,\n",
              " 'fine': 6315,\n",
              " 'just': 9003,\n",
              " 'windstorm': 17667,\n",
              " 'palm': 12132,\n",
              " 'county': 4202,\n",
              " 'fl': 6379,\n",
              " 'reality': 13418,\n",
              " 'training': 16426,\n",
              " 'falls': 6103,\n",
              " 'off': 11716,\n",
              " 'elevated': 5597,\n",
              " 'tracks': 16405,\n",
              " 'jiomnrcygt': 8854,\n",
              " 'paramedic': 12173,\n",
              " 'ems': 5675,\n",
              " 'rescuers': 13639,\n",
              " 'fears': 6199,\n",
              " 'missing': 10721,\n",
              " 'migrants': 10625,\n",
              " 'med': 10448,\n",
              " 'search': 14378,\n",
              " 'survivors': 15627,\n",
              " 'boat': 2767,\n",
              " 'carrying': 3375,\n",
              " '6ds67xai5e': 810,\n",
              " 'derailed': 4782,\n",
              " 'toronto': 16346,\n",
              " 'derailed_benchmark': 4783,\n",
              " 'cool': 4127,\n",
              " 'paths': 12232,\n",
              " 'wonder': 17762,\n",
              " 'can': 3277,\n",
              " 'find': 6312,\n",
              " 'leaks': 9619,\n",
              " 'jobs': 8885,\n",
              " 'given': 7016,\n",
              " 'resque': 13673,\n",
              " 'too': 16321,\n",
              " 'ladies': 9473,\n",
              " 'tote': 16362,\n",
              " 'handbag': 7458,\n",
              " 'women': 17757,\n",
              " 'faux': 6162,\n",
              " 'leather': 9627,\n",
              " 'fashion': 6144,\n",
              " 'purse': 13040,\n",
              " 'y87gi3brlv': 18057,\n",
              " '1zbhvdcxzs': 280,\n",
              " 'raishimi33': 13302,\n",
              " 'sounds': 15073,\n",
              " 'plan': 12537,\n",
              " 'little': 9827,\n",
              " 'applaud': 1785,\n",
              " 'catastrophic': 3414,\n",
              " 'buxton': 3137,\n",
              " 'venice': 17105,\n",
              " 'nottingham': 11502,\n",
              " 'invading': 8518,\n",
              " 'iraq': 8566,\n",
              " 'mistake': 10730,\n",
              " 'diplomacy': 4951,\n",
              " 'needs': 11244,\n",
              " 'replace': 13611,\n",
              " 'constant': 4084,\n",
              " 'threat': 16137,\n",
              " 'war': 17380,\n",
              " 'israel': 8612,\n",
              " 'yqjpn3quux': 18205,\n",
              " 'related': 13543,\n",
              " 'threatens': 16140,\n",
              " 'europe': 5881,\n",
              " 'wk6b5z803o': 17720,\n",
              " 'livingston': 9852,\n",
              " 'mt': 10982,\n",
              " 'marynmck': 10335,\n",
              " 'beyond': 2537,\n",
              " 'adorable': 1334,\n",
              " 'hope': 7882,\n",
              " 'won': 17761,\n",
              " 'been': 2431,\n",
              " 'noticed': 11491,\n",
              " 'devastation': 4849,\n",
              " 'mount': 10923,\n",
              " 'vernon': 17115,\n",
              " 'coming': 3962,\n",
              " 'target': 15803,\n",
              " 'starbucks': 15279,\n",
              " 'closed': 3819,\n",
              " 'momneedscoffee': 10827,\n",
              " 'asap': 1915,\n",
              " 'iwontmakeit': 8651,\n",
              " 'bombed': 2791,\n",
              " 'screwston': 14353,\n",
              " 'tx': 16664,\n",
              " 'redskins': 13491,\n",
              " 'wr': 17838,\n",
              " 'roberts': 13868,\n",
              " 'belly': 2478,\n",
              " 'teamstream': 15877,\n",
              " 'gbcvvevdty': 6887,\n",
              " 'hellfire': 7650,\n",
              " 'allah': 1540,\n",
              " 'describes': 4795,\n",
              " 'piling': 12470,\n",
              " 'wealth': 17478,\n",
              " 'thinking': 16100,\n",
              " 'forever': 6519,\n",
              " 'surah': 15599,\n",
              " 'humaza': 8003,\n",
              " 'reflect': 13505,\n",
              " 'worldwide': 17802,\n",
              " 'loved': 9998,\n",
              " 'way': 17445,\n",
              " 'written': 17861,\n",
              " 'include': 8327,\n",
              " 'vantage': 17057,\n",
              " 'points': 12625,\n",
              " 'detkenlang': 4838,\n",
              " 'kindle': 9259,\n",
              " 'kcrnmjkj73': 9131,\n",
              " 'heartdisease': 7609,\n",
              " 'service': 14501,\n",
              " 'spending': 15140,\n",
              " 'half': 7436,\n",
              " 'budget': 3052,\n",
              " 'kzfigkeeva': 9434,\n",
              " 'tragedy': 16419,\n",
              " 'sandrabland': 14200,\n",
              " 'forget': 6522,\n",
              " 'gajtugaui7': 6817,\n",
              " 'mayhem': 10395,\n",
              " 'detroit': 4842,\n",
              " 'liked': 9770,\n",
              " 'youtube': 18195,\n",
              " 'itsjustinstuart': 8632,\n",
              " 'mnkaji2q1n': 10777,\n",
              " 'range': 13325,\n",
              " 'hungerarticles': 8019,\n",
              " 'nepal': 11264,\n",
              " 'rebuilding': 13440,\n",
              " 'livelihoods': 9839,\n",
              " 'quake': 13161,\n",
              " 'lrouwjmbix': 10026,\n",
              " 'arsonist': 1892,\n",
              " 'suspected': 15633,\n",
              " 'serial': 14492,\n",
              " 'arrested': 1882,\n",
              " 'calif': 3228,\n",
              " 'pzotpdgaki': 13075,\n",
              " 'hurricane': 8036,\n",
              " 'vineyard': 17187,\n",
              " 'chubbysquirrel_': 3702,\n",
              " 'hurricane_surge': 8039,\n",
              " ...}"
            ]
          },
          "execution_count": 615,
          "metadata": {},
          "output_type": "execute_result"
        }
      ],
      "source": [
        "vectorizer.vocabulary_"
      ]
    },
    {
      "cell_type": "code",
      "execution_count": 616,
      "metadata": {},
      "outputs": [
        {
          "data": {
            "text/plain": [
              "(5329, 18455)"
            ]
          },
          "execution_count": 616,
          "metadata": {},
          "output_type": "execute_result"
        }
      ],
      "source": [
        "X_train.shape"
      ]
    },
    {
      "cell_type": "markdown",
      "metadata": {},
      "source": [
        "### Размер матрицы 5329 на 18455 (всего 5329 строк в нашем первоначальном датасете и 18455 токенов всего в нашем первоначальном датасете)"
      ]
    },
    {
      "cell_type": "markdown",
      "metadata": {
        "id": "A4waLlnC3HvM"
      },
      "source": [
        "## Задание 5 (1 балл)\n",
        "\n",
        "В предыдущем пункте у вас должна была получиться достаточно большая матрица.\n",
        "Если вы взгляните на текст, то увидете, что там есть множество специальных символов, ссылок и прочего мусора.\n",
        "\n",
        "Давайте также посмотрим на словарь, который получился в результате построения CountVectorizer, его можно найти в поле vocabulary_ инстанса этого класса. Давайте напишем функцию, которая печает ответы на следующие вопросы:\n",
        "\n",
        "1. Найдите в этом словаре все слова, которые содержат цифры. Сколько таких слов нашлось?\n",
        "\n",
        "2. Найдите все слова, которые содержат символы пунктуации. Сколько таких слов нашлось? \n",
        "\n",
        "3. Сколько хэштегов (токен начинается на #) и упоминаний (токен начинается на @) осталось в словаре?"
      ]
    },
    {
      "cell_type": "code",
      "execution_count": 617,
      "metadata": {
        "id": "7PhQSWqcHhU8"
      },
      "outputs": [],
      "source": [
        "def contains_digit(s: str) -> bool:\n",
        "    # Проверка, содержит ли слово цифры\n",
        "    # -- YOUR CODE HERE --\n",
        "    return any([i.isdigit() for i in s])\n",
        "\n",
        "def contains_punctuation(s: str) -> bool:\n",
        "    # Проверка, содержит ли слово пунктуацию\n",
        "    # -- YOUR CODE HERE --\n",
        "    return any([i in punctuation for i in s])\n",
        "\n",
        "def is_hashtag(s: str) -> bool:\n",
        "    # Проверка, является ли слово хэштегом\n",
        "    # -- YOUR CODE HERE --\n",
        "    return s.startswith('#')\n",
        "\n",
        "def is_mention(s: str) -> bool:\n",
        "    # Проверка, является ли слово упоминанием\n",
        "    # -- YOUR CODE HERE --\n",
        "    return s.startswith('@')\n",
        "\n",
        "def investigate_vocabulary(vocabulary):\n",
        "    # -- YOUR CODE HERE --\n",
        "    digits = []\n",
        "    puncts = [] \n",
        "    hashtags = []\n",
        "    mentions = []\n",
        "    for i in vocabulary.keys():\n",
        "        if contains_digit(i):\n",
        "            digits.append(i)\n",
        "        if contains_punctuation(i):\n",
        "            puncts.append(i)\n",
        "        if is_hashtag(i):\n",
        "            hashtags.append(i)\n",
        "        if is_mention(i):\n",
        "            mentions.append(i)\n",
        "        \n",
        "      \n",
        "    print('With digit:  ', digits)  \n",
        "    print('With punctuation:', puncts)\n",
        "    print('Hashtags:        ', hashtags)\n",
        "    print('Mentions:        ', mentions)   \n",
        "\n",
        "\n"
      ]
    },
    {
      "cell_type": "code",
      "execution_count": 618,
      "metadata": {
        "colab": {
          "base_uri": "https://localhost:8080/"
        },
        "id": "s8hL5ZcQIdp6",
        "outputId": "c8b50455-38f2-455d-c9f6-96b03a7e09ce"
      },
      "outputs": [
        {
          "name": "stdout",
          "output_type": "stream",
          "text": [
            "With digit:   ['th1nk', 'think333']\n",
            "With punctuation: ['think.', 'th!nk', 'th...nk', '#think', '@think', '@thinking', '@nothink']\n",
            "Hashtags:         ['#think']\n",
            "Mentions:         ['@think', '@thinking', '@nothink']\n"
          ]
        }
      ],
      "source": [
        "dummy_vocab = {'th1nk' : 0,\n",
        "               'think333' : 1,\n",
        "               'think.' : 2,\n",
        "               'th!nk' : 3,\n",
        "               'th...nk' : 4,\n",
        "               '#think' : 5,\n",
        "               '@think' : 6,\n",
        "               '@thinking':7,\n",
        "               '@nothink' : 8,\n",
        "               'think' : 9}\n",
        "investigate_vocabulary(dummy_vocab)"
      ]
    },
    {
      "cell_type": "code",
      "execution_count": 619,
      "metadata": {
        "id": "VpW8R_SuKR_l"
      },
      "outputs": [
        {
          "name": "stdout",
          "output_type": "stream",
          "text": [
            "With digit:   ['20collapse', '2015', '60', 't5trhjuau0', 'b1g', 'bmurph1019', 'termn8r13', 'oaskgki6qj', 'di8elzswnr', '20accident', 'tagzbcxfj0', 'xxfk4khbiw', 'mkx6ux4ozt', 'ma4ra7atql', 'cg579wldne', '7xglah10zl', 'musbik7ejf', '20bag', '35', '23', '419', 'hcdiwe5flc', 'roughdeal1', '65', '11', '20bombing', 'jackmulholland1', 'czdw8oowa2', 'zl7ojdaj3u', 'lkjfabqzb3', '20burning', '1acd4900c1424d1', '20fires', 'ns1aggfnxz', '3m', 'od250zshfy', 'wd9odwjj9l', '20on', '20fire', 'tweetlikeitsseptember11th2001', '20spill', 'ks100', '7o4lnfbe7k', '20responders', 'tl93aod3er', '20', 'obix79ncxn', 'z8r6r3nbtb', 'namffldh5h', '53inch', '300w', '4x4', 'o097vsotxk', 'i23xy7iejj', '00', '06', 'thhjjw51pe', '01', '325ci', '5l', 'l6', 'c211hise0r', '10', 'xbznu0qkvs', 'jlczidz7vu', 'mylittlepwnies3', '80s', 'lhw4vtbhzg', 'yh5vetm0yz', '17wgug8z0m', '073izwx0lb', '18', 'e7fn5g5ruu', '75k', '52k', 'shhlv4dplz', '20storm', 'sf5jdnvdw9', '20wave', 'k9airfq3ql', '20reactor', 'ys3nmwwyvc', 'alpotnb7q3', 'wlmsq3mtho', 'gxq1auzb18', '40', 'uelz59wvom', 'z3ke_sk1', '20buildings', '6ds67xai5e', 'y87gi3brlv', '1zbhvdcxzs', 'raishimi33', 'yqjpn3quux', 'wk6b5z803o', 'kcrnmjkj73', 'gajtugaui7', 'mnkaji2q1n', '33333', '9vw0uqqi1y', 'tyjxrfd3st', 'j3di85ist5', 'swb1192', 'ameenshaikh3', '1ybe5mgzl4', '7zog3dpdu9', 'tilgurkv7z', '405', '91jvycxxvi', '50', 'saf9mosksn', 'qfrawln4ba', 'cd2ng2awql', '2wbivkzjip', '4mjyw7p7cf', 'vcq2icptki', 'a8jz5a26wi', '20murderer', 'ii2spvp89b', 'rodpt33xfm', '0bvk5tub4j', 'nps3xpbkaq', 'xb1', 'vpvj5hrc1i', '8tygo0kizz', '1st', '300', 'h1xigcen7f', 'pw3tzu0tay', '20up', '9giaxd6jty', '19', 'oogoto76uz', '2013', 'xc96rwuszb', 'xm9stfzcpv', 'robertmeyer9', 'r1cnsjuayq', 'dq1ylcrf9k', 'ohcx3y8l4s', 'hfvnyft78c', '8j4rdwyjwu', '9mkzpzfkl2', '48', '870833', '399227', '9000', '1800', 'x8i0mhyrmn', '20disaster', 'k4zomof319', 's2kxvm0cba', 'qsheu3yf0w', '1943', 'sqfp6ecz0i', 'oef123l5rc', 'u2do2mc2ri', '3om3xw6cz8', 'mh370', 'i1eeuxxz3a', 'wattys2015', 'g891m9gh4r', 'xq92x4bvg3', 'mirrorlady2', '6hhmbdk9yo', 'm4tczaawpt', 's5', 'cas8xc2dfe', 'hpd3snm6oy', '9973', '16', '99', 'gsmddmu9pu', '1sgzgtgfw9', 'b4', '12hr', 'l9fjpnszuo', 'mskn6d3ekh', '21', '2fs649qdwx', 'kltit88as3', 'x9mdhocpda', '616', 'wwu070tjej', 'b2', '52', '15000270364', 'nyv51681ue', 'cbs3', '9rfo9gy3ne', 'o82yvxbztv', 'n5kmxuverg', '50225', '103', '742992', 'vj44', 'uwobuuw2mk', 'eac4au', '15', 'fvp3wnid4l', 'qelroci7by', 'friend50', 'hy5pbe12tm', 'c1njpli5or', '1qochspybw', 'kiildu8gpo', 'wudlkq7ncx', 'fqv47ob8ge', 'cwm0ulqu3e', 'cx6aupnemu', '434', '400000', 'ûò800000', 'txzxcnudr8', 'b1bx0eruep', 'bgy4i47j70', 'ixjqg1sx6u', '8owc41fmbr', 'ohbv7yvtl5', 'ymuti3nd9r', '74', '75', '20murder', 't7ge0j3cay', 'camilla_33', '304', 'wbcshirl2', 'rodarmer21', '20bomb', '16yr', 'zbzc8905gl', '2day', 'dno7qxcffh', 'ia1hngnhvb', 'marek1330', 'ffkcj8pfj2', 'music212', '5v29w19tfx', 'enrjh5qkve', 'windows10', '3fzidhqrk3', 'stankyboy88', 'acfi2rhz4n', 'pst5bbq0av', '495', '31', '97', '90', 'nkkctttsd9', 'cybksxhf7d', 'vcjcykq8b8', '8qc8bcxoko', 'bytbz8s5ux', '034', '1a', '5s', '5c', 'o3wvsclicx', '14', '4evttqpeia', 'ue78c7egox', 'ap30pszkvx', '9vd6x4wdoy', '70', 'ltvvpflsg8', '3g79prayyc', 'isi1rllct0', 'sr37', '1141', 'mylieruxk1', 'kah1kmtrj7', '33', '209923', '87', '545328', 'qmo1txxdkj', 'death2usa', 'tngye2fklv', '20bags', 'y46isyzkc8', '0xa6fcjyec', '8cpcz2xohb', 'c5ggszugw1', '2pimg9bice', 'glosblue66', '20plan', '20failure', 'sjkgjxff2r', 'm8ufjdtlsm', 'a6ppegelox', '39', 'e0uusnpsq5', 'utc7pdidfo', 'haji_hunter762', 'oioecbsh1f', 'tomarse99', '20emergency', '24', '09', 'hxwfbpp1b3', '104393', '96', '628624', '087809233445', '2327564d', 't1mbw0ia3o', 'clfa0py5lm', 'o784', '4103', 'calum5sos', 'dih1tgqhej', 'jlwgshyy3n', 'round2', 'fqqi8gvlq4', 'hwy401', 'aprensss3x', 'xizkjfff29', 'grzchkdf37', 'n844h1aspj', 'sz2rvwpwhj', 'lajx578dru', 'p4doa5yyje', 'ep016', '08', 'ejkrf8n8a8', 'sphwe6wfi5', '375', 'd7zxz42qw1', 'mort3mer', 'jcdd6sd6qn', '9guckjghms', '55', '8jcyxhq1az', 'kevr_7', 'wj7ujfs8fd', '20fall', 'tbqsqtmqv4', 'e1vkc2efst', 'beua507iug', '100', 'wvlah8jrxe', 'z10', 'sd7loww9nu', '7hkavtvx81', '2pm', '2nd', 'ja3w1s3tmr', 'wqikqx9e3w', 'kncm9jc8i9', 'jvivt6zrv7', 'ss1zl36y9v', 'p3g3bqbczu', 'rpbxdfnx5k', '6615434', 'dmlj1agotw', 'qmif0blwoa', 'l6pif3lpen', 'chrisman528', 'enpjcfma8l', 'moa0q0aufa', 'nkou7zwwrt', '20zone', '17', 'wvj39a3bgm', 'dieanpink95', 'yu_nita99', '20bomber', 'pioy1o54f4', 'e9yfe3p7p1', '8gzbgmmaa1', 'lt3dave', 'orxdqfz0j0', 'vn0accf6d4', 'of3td6dglb', '5ytiex55lh', 'ysxun5vceh', 'i7eskymoec', 'efcn9ivnfg', '7cibxls55f', 'bbdpnj8xsx', 's7vygenjuv', 'xfhh2xf9ga', 'joeybats19', 'rqwuoy1fm4', 'dili5jhmur', 'ndxrk2ncln', 'th9ywbbeet', '25', '6sdtzsgelq', '7npbfrzejl', 'y0kbyy8nce', 'l9udest', 'btpqdehl3p', '9pm', '4hngtkdqmv', 'l1gh8064yv', 'k9fbtccu58', 'xyj0rpsai2', 'jkpjpch9i6', 'chrisdyson16', 'iylvzy3cob', 'teq7sri57p', 'pdehd1tcpk', 'targ56igbz', 'wz55nbyao3', 'l7pmdmejs1', 'mdp2ni1pqu', '9cpwiecegv', 'rzlytnez2u', '86v81dv00e', 'h132iul7mu', 'e1kbludwh5', 'nkaw9ezqgg', 'u4gsbnu8wc', '77', '8437150124', '360wisenews', 'eatfro3d5x', '5km', 'v3azwoamzk', 'rny4l3sr7a', 'igx8xfz8ko', 'gk4unpznhn', 'qr6btdcqcj', 'd1vjoyg52a', 'chorr2xovp', 'tqh5amoknd', 'bm0sxzbnke', '92fwtobi3u', 'cor4', '12giqbvlys', 'jwfiilj8wr', 'czqr3ci9xw', 'b77t2qxdcs', '25sy9y295l', 'q8reoevlue', 'jlzk2hdetg', 'judson1360', 'xtra1360', '3g', 'comuiok3mp', 'welshninja87', 'tuvbr4lep3', 'cpeqv52lna', '72ix7vm87w', 'ageekyfangirl14', 'fs4y1c9mnf', '60th', 'l8w30wfw3r', 'icrzi5tqc5', 'onxhkfhn2a', 'hu5cxqnobf', 'uymxocfs33', 'lauren_miller_7', 'lgglf5yrme', 's2wm8lh7oo', 'n00dvxega2', 'b2b', 'b2bagency', '6vei1mhea4', 'samanthaturne19', 'n71hmvervv', 'u6isxv2f3v', '213', '4678', 'o2jd4tbrwa', 'jfx6qiyivf', 'lma39zrwoy', '05', '12pm', '45pm', 'ayfdjeb7hy', 'vnni3zzuz6', '28t3nwhdky', 'pdosrg8cf7', 'kpvymhm2ub', 'phixznv1yn', '6tvvlg2fni', '7mlcd0l0b8', 'nlbltynv36', 'cjvbqxw83s', 'ih8udz8mq3', 'uqnj6nk9y3', '3og66nfsig', 'uhf7nyabsw', 'nonm8c6l8p', 'st5fgblsye', '0uk0h9hozn', '101', 'ujrx9kgawp', 'ja0wgp8spe', 'ryah8fni5q', '26oo0fcl53', 'ipwysnik0g', '20services', 'gkye6gjtk5', 'jejc9xctmp', '917', '033', 'wxces39zte', '4ryzmzsgdw', 'mgr809yc5a', 'uzwxjbg0zh', 'pbya7uv3v5', 'f1bakpnyn6åê', 'lzxwoaye4x', '2781', 'vckit6edev', '6mbpvwitxf', '20bang', 'mmchale13', 'vbsj8tniv1', '20bagging', 'nf4iculoje', '463p0ys0eb', 'fu1btuq1et', 'bp8bm8xsxw', 'p6cylz5lpt', 'jpu9gips9f', 'ndjja4d5o8', 'l7bjsq0y2o', 'blcbabm7a1', '30', 'u1fuwrgk5u', 'vg8hrbebda', 'x1xj0xvtj7', 'a1', '90blks', '8whts', 'dnu5hwsxo2', '27', 'zonewolf123', 'u66kyg11zd', 'defj7xekgx', 'kxewlhh7uw', 'qnvxj2palj', 'rqiuqxnm2x', 'rgyuakc0dr', 'ba2rrxugsg', '70years', '8vzl1ns2io', 'p5zicjudxo', 'kzhb8zx6yc', '302', '13', 'uz1yiz7n6m', 'ijwar15h16', '158', '1017', 'lw9o2kdk18', 'ihave44episodesofgg', 'weudlkc4o4', 'trl1dskf81', 'qzvkpahsq7', '20truck', '180', '999', 'zdtz3rbs6w', '29pm', '15pm', 'o8x4m5er6b', '415', '751', '0880', '5fhkxtrhyu', 'ioq051t5te', '629', 'klxaucnp5i', 'lhdcpnzx6a', '88', '92', '5th', '3ugfpwmy2x', 'l2nmywrmq2', 'bozlwr716z', 'c9t2f6dltm', 'mzqq5pai8g', '1313', 'wj0u59mppb', '900037', '6ime8kjacv', '70th', 'qreinwg0gs', '9am', 'c0slabbp7j', 'ge0yd3mkav', '80dzgco6vc', 'qwo7q1amh8', 'esrkmazeq9', 'udkesj01ml', '05th', '29', 'yqyiwjn8ez', 'bqblwiw08g', 'osi2016', '10th', 'tbm9fqb8cw', 'mcsek4hx5s', 'iifgaz0fil', 'jt_ruff23', '25573', 'btjpeo0bto', 'clyj32l333', 'dlaub2nvtn', 'xpfmr368uf', 'nmaumydke1', 'jzprciqa9d', 'fj7kcrlir7', '2k13', '7mlmsuzv1z', '32215', 'm5rjekvddp', '2pcs', '18w', '4wd', '1qt51r5h98', 'oqh1jbuenl', 'bagef9lfgt', 'bvxqa3kfrx', 'emvohm9m6j', 'hhwv0eudfv', 'kmndkfa7me', 'emrzicb004', 'lwilliams_13', '20b3pnqxmd', '4682', '18287', 'kee1tytz15', 'spe7u8t40k', 'ohyd7hhcpe', 'fqj5aga1pd', 'x8zqbwnfo1', 'f4lhfmehzh', 'pattyds50', '12', '72w', 'mjmwa72er6', 'adx9iyi246', 'x9ofv1kmv7', 'b19z8vi3td', 'yvv1rlghft', 't81oayjowc', '0dqjeretxu', 'ik7mgidvbm', 'af1yzus8ln', '2ii3brc7nx', 'kshllcenterpri1', 'progress4ohio', '4zmcqrmois', 'l9ekhnkbar', 'y3fo0ghg8t', 'layzba9y8h', '6th', 'orjb3j803f', 'cqyvfr4ucy', 'p9rymfjcux', 'yojkfqej6s', '8m', '0ghk693egj', 'hs2', '178', 'lzml1xb2nh', '1krpz3j1eu', 'g37hujx6et', 'msgdoing111welfareworks', '65000', '5cgtqfk2ur', '3am', 'nmtlpo4b58', '360', 'y2jt1amyfj', '3rd', '7nu7prxeul', 'rw8b50xz9m', '2z8ubsy5m8', '3kob7xbea0', '7dyoglhmre', 'hkm3rtd4zf', 'mj2jq2psv6', 'swwylrk0fv', '6sdgz5dxnt', 'bjzssw4tid', 'o207jyabyz', 'cjctb2ocxg', 'ugzu9iqprw', 'wc69xajis4', 'ledofficial1', '412', 'a8nmdkd3rv', 'tq3j2qgtzq', 'igxrqpotm7', '3kpbu6hgt5', 'gl4mcax0ny', '3sicroaanz', 'i27oa0hisp', '143', '2007', 'f1tcbg1mki', 'is2idc3ubj', 'bb4sp', 'sayzt2oagm', 'u7vavyrgv9', 'zrzejpef5j', 'amea3lamdj', '911', 'yo3t8qho9h', '8odtzmvqar', '64oz', '9cntp3nq6o', 'qdf6asaelm', 'benjm1', 'b1grego', 'vbhu2t8wgb', 'n3yjb8tcpm', 'udj50j3mv4', '666', 'dhggxo7mcc', '5ortb8p51c', '2012', '96355', 'i8sj1kws1d', '5bdrfu1duo', 'o61h2taae4', 'n95igskd3p', 'tzszmf2qxe', 'esemjrn5cc', 'pue5xnznqb', 'ecd7hizja1', 'gvj7slbelp', 'qadrkejz9t', '5dujgypima', 'sywuel7yyx', 'lkz5cnynxx', 'mfsbwpj0ce', 'pnssia5e46', '9v1rvcomh2', '30a', 'e3l1jqjh2u', '7vcezi6cbb', 'azovgv4sb6', 'qv7iydovx9', '312', 'ofecs6tcvc', 'q2eblokeve', 'encmhz6y34', 'x1441', 'cvjyml7krm', 'fph01u3eii', 'mcc76xowli', 'uqkx5vbium', '4000', 'igll3ph6o1', '1xpw292tje', '462446', '022017', '9qpg0z3rh9', 'bjvfk1ete9', 'dzlense1gw', 'im2hdsklq5', 'iwsdbgd1zq', 'wpilp4mymf', '8nhd9idajs', 'psbxl1hvu3', 'be_ram0s', 'dsb3ldfuxu', 'ttq9ilhp8w', 'lxvlqvbc8r', 'acmrm833zq', 'lzob8qoh1b', '1pdjoq4jc1', '600', 'pjigxpvpl0', 'qyu8grorq1', 'nn6y0fd3l0', 'bz3ir4gmwj', '7mzycu2iho', 's0ktiliskq', 'olpbmy9xw9', 'on18cqgcoa', 'martinmj22', '2q3fuerey5', '5bgcw3ezb5', 'tfan6qq2ys', 'eujgu1hvvx', 'itfbbz9xyc', '130', '1980', '6ioabsl6i7', 'ophiuchus2613', '1008pla', 'go0pkrfzmf', '5hkgxzjlmx', 'siren_song21', '1200', '83', '2014', 'ek6kyhxpe9', 'yn6nxoucr1', 'wc8aqxedf7', 'iqj1z3jxx8', 'tm5hthfdo0', 'ik8m4yi9t4', 'dmb6xp966d', 'u2es0uk1u3', 'bgrab7lk8d', 'noahj456', 'xnto3jmmts', 'cfevtrsc1u', 'vfctrzaok2', 'acb0ryenuo', '205', '478', '36', 'michael5sos', 'lnzi7o166y', 'tmpfwjpi6i', 'qh5axvhwh5', '1pdnlsp8xw', '0wbecdmhqo', '253', 'a2ss7pr4gw', 'j2pykyo0en', '14wh0pjj2c', 'xyi5fdacxo', 'georgefoster72', '3brme6sn4t', 'sb3rjqqzix', 'tomdean86', 'm0dap5xlwo', 'ghghqm9e6d', '5pmikavykl', 'sks5jccrj2', 'vsoxkbt6nq', 'tms7', '985dwwpdet', 'wmdihdiz1r', '367', 'emdjnnltp0', 'fxdh3u8bq3', 'e9d9lk5fdw', '3htj2pypsg', '53143', 'i9dspdkruk', 'nep5azwkna', 'xlq8g6vb2r', 'k5fijankjb', 'nicklee8', 'london3', 'xy41z0o5ei', 'vg7jnah0iw', '7vsqqsvgni', 'got7supportph', 'cezhq7czll', '1620', 'ssn1mxsfoa', 'fw8elbnap7', '4500', 'vijfnhl630', '9jxb3rx8mf', 'b5s5epj7um', 'hpa9gqrywa', '2011', 'qdmvtj4lzj', '4tiles', 'win10', '2nip3d15dx', 'qpur3vd7hl', 'j5mkcbkcov', '4yi4nuovbv', 'yahoo7', '1916', '8ddijzynkf', '52uus4tfn3', '578gunp8t9', 'tatzfk63ch', 'jnromse1z2', 'w6yu7qs4cv', 'sqn4girdvz', 'wgwiqmicl1', '95', 'acc1z5q9zw', 'hdumpty39', 'pms4pmur0q', 'russaky89', 'zhgu8ye1bj', 'x1onv3d5ux', 'wbogs8ejsj', '17000', 'n8ezfctfce', 'gknrp0e8qs', 'hz4lkffc59', '1945', 'ow4gexynbh', 'pme0hojvya', 'edyfo6e2pu', 'm5kxlpkfa1', 'k9cd0efvut', 'scghl0piq6', 'dm0uupqgwy', 'adz8kburt7', '11juzhlgmt', '20skyhawkmm20', 'traplord_29', 'fredosantana300', 'lilreese300', 'mtgfx3efiv', '3a3fgzfmzh', 'g0q0bzbjli', 'exyr6c5qpu', 'danielkemp6', 'fel4qhwyfd', 'zg1yddywa5', 'dodxi41y1cåêis', 'hlmyaanrc9', 'k1tmlwvjmj', '64cymg1ltg', 'xssgedsbh4', '40mln', '0dxvz7fdh3', 'cc7d0wxk0m', '0fekgyby5f', 't07qxp5cbe', 'mkqsvp8e0g', '7a', '30p', 'fdiu44jldj', 'c0nkgp6w03åê', 'hworb1n6vn', 'rs22lj4qfp', 'ld0uniyw4k', '66yvulizbk', 'sa5cdwvdxt', '8eijdxapnp', '4kus', '15moferadio', 'heavybag201', 'hughes1128', '7spydy1csc', '9wqixgmhfh', 'pm2tnnfdww', 'friend59', 't94lnfwf34', 'rocyyei2dm', '9lpf4v4hmq', '2ag9auabr3', 'qna4tubnwh', 'anp9g6njfd', 'gexhzu1vk8', '100mb', 'q1', 'avzsyie1nt', 'zdj2hyf6ro', '10pm', '00pm', 'semw5cq7dg', '1hlvrkwgip', '9f3rdn9n3d', 'rslm72254', '115film', 'selma2oakland', 'daalpenzp0', '030', 'sct014', 'bkn032', '2030', '320', 'rhxmghspd7', '14028', 'yg697fcqgr', '4e719w6m4v', 'drag0nking0201', 'sww0qsmxvm', 'bcdp4gkoka', 'u9cd0txe7z', 'vgzgok5k3s', 'ywkk26arag', 'm1', '94', '04', 'zdtoyd8ebj', '20k', 'sky9eokggb', '5iyzsda6xb', 'ecsu16', 'xzv0lt9zzk', 'm2y9ym3if6', 'pty9hrcuzh', 'r7pvtsduma', 'ltyefjdm3a', '0la1aw9uud', 'dh30000', 'y35qtvdsoh', 'qhujajctr5', '8hgcbxukz0', '4kopkcyvtt', 'dfyasvj7nf', 'avv6hpnpch', 'auxsmdg1un', '26', 'qsipl1c9fa', '3w0pxfyyri', 'yqg5pvw5gx', 'j6wseptxga', '5sosfam', 'qwgiwc9w7z', '9lyx7zmthe', '5pbc96rtmj', '9km', 'jkt48', 'a7x', 'roh3', 'alrasyid448iturasya', 'roh3smantibatam', 'yr8knephgu', '6ezkoof2xt', 'facm78eg7k', 'l90dcpv9zu', '53', 'z8xiqngulc', 'uzsqzycb8x', '540', 'p18lzrlmy6', 'hollyorange8', 'bonn1egreer', 'v4br5gjmiy', '4i0rkcbk1d', '124', '172', '1fvootqnej', 'j43nwkx0x3', 'q4kgftc2am', '6w6a2l4qae', 'rku0idm6aq', 'monijjth7v', '0yxbb5dzw5', 'txg7k2do9v', '11th', 'notoriousd12', 'tube4nbqnz', '570', 'q0jhdcu6ly', '15th', 'kgswhsr7mn', 'zombiefunrun2014', 'latssuo4ws', 'hgdrk81sn4', 'pfsryjs1pc', 'skdbot7tgf', 'camilacabello97', 'ptq3zmgnck', 'ajpnebg803', 'dq3ddgvgbf', '96km', 'time2015', '34', 'utc2015', 'qew4c5m1xd', '28pm', 'd02sbm0ojs', '3934', 'grh7zlk979', 'cgdj3drso9', 'charstevens97', '9wowps78vd', 'aknynpv461', 'hfzk09mcen', 'ndgpwyxu6h', '8bhvxx2xl9', '4ou8s82hxj', 'zsdvweglf5', '2008', 'njd1n5txxe', '1000', '12000', 'avwe1lbvhn', 'zweygphpf7', 'xuhmj098lq', 'y8h5v1j2y7', 'eysvvza7qm', 'j3cirxjfa6', 'amrox4y4nx', 'avvsoino8z', 'qcyqhvn2ha', '2005', 'jtxji7ygrl', '2be7bwcmpl', 'legna989', 'dgelj8ryt9', 'a0ad8z5vsr', 'bqv3qttuxr', '0drqlrsgy5', 'cp7c1ch0zu', '0pamznyyuw', '3939', '5qyczywkgg', 'ktd5ig9m5o', '2jhtlwuey0', 'g0dn1chluo', '4zqrsaqrrt', '6ar3ukvsxw', 'wcfpznsn9u', 'vsvy1qe69t', 'eelex4ssvf', 'h6z7hxuqtu', 'hunterlove1995', 'usar2015', 'usar15', 'qhfqlui6ry', 'aomq1rykmj', 'annealiz1', 'rcburzsb2b', 'ehsfklgri3', '5xrc0a76vd', '02', '9ikhdyhvnc', '200000', '100bn', 'po19h8ycnd', 'bb7ttdvjwe', 'hpvodud7ip', 'ew5wzc07fo', '9bliddngtf', 'yuo7jdnijx', '361', '2a', 'eaaqumkkc9', '731', 'vvplfqv58p', 'l5awtundhm', 'bwe9kjcept', 'c7', 'i4aogcsoy5', 'djiwg9pxv4', '2h0dpmv2ef', '4zn0mdsrvp', '28', 'rgpem2tqej', 'g03dkpoonp', 'go0hpi0b4c', 'yao1e0xngw', 'babysweet420', '420', 'i4', 'ksxto8nknl', 'homealone2', 'film4', '27w', 'd3p88xdlec', 'j2ddvh7fy0', 'bjycrgfh5y', '152261', '106', '775995', 'yilt1bb68k', 'n0tawgezjx', 'vmkexjtyg4', 'calk5nv5vc', '19th', '64', 'o2cdkpsdfp', 'cwz37lndvk', '4kdthctemv', 'thyzomvwu0', '83joo0xk29', 'g1bwl3dqqk', 'kz35rgngjf', '2azxdlcxga', 'axvq80rbyj', 'sophieingle01', 'angharadjames16', 'zpsnx5iyaj', 'qms8rressd', 'zla30jcssq', 'yu6nue7gfb', '3gz5zqqthe', 'tn1ax1xmbb', 'neil_eastwood77', '4xb4zwyhct', 'bp6mfjhars', 'hukjz1wt36', 'dxwfx56pwh', 'gpaulista5', 'nq89drydbu', '5ebpybfh4d', 'uo0aqk9kr8', 'n9c3i9v8go', 'mkwyvm3i8r', '5hljucxi0s', 'fifa16', 'kgtxnnbj7y', '1meeo3wjco', '852', 'giyaad7dcc', 'wgmzmj5imd', 'qvsp6b2qsu', '0s6ydfrwdq', 'gne1fw0xhe', 'pfmn63vnam', 'natz5ipv1x', 'leaeby6cr2', '54', 'srslcxhc2t', 'pwd5l0glkv', 'h9fsiaxv3q', 's7nbowa7tp', '3f7owdecy7', 'hkbxxvd9iw', 'p6gqmctglj', 'zsykzj2bzg', 'fx7uzzxte4', 'ga14egplw9', 'ks7ln8hq8s', 'mauds99', 'ush59uq30j', 'ksawlyux02', 'rvkyj3yuvk', 'ww3', 't344phnpy9', 'drno7okm21', 'allthekidneybeansandsorbet4misha', 'wmnb5ita5p', 'mflrvbh4qa', '1mvsqg0xke', '6uhih9pbru', 'mudgu1puns', 'vbswhz4s2v', 'ingu6ztyg4', 'pcaldicott7', '7newsadl', 'r1xwdnvb0g', 'quedv2xxxx', 'b6nphxorzg', 'bigburgerboi55', '1952', 'mcejzzxgh8', '42', '910975', '78', '865828', 'jrdwyy0ax4', 'since1970the', 'b4federal', 'wgqkxmby3b', 'wk63tm34a0', '9naw3qoqol', '90l2lb5wmr', 'iggfnbixt5', 'pt1', '9utqe9zfde', 'qpr1980', 'rorington95', 'b7omj7u3ei', 'mtmoia0oo0', 'nn4ztcmsru', 's5nuegswyj', 'qdhxto57em', '600858', '047821', 'e0lugbl6pb', '40121', 'gskjqwyi2d', 'zzsee5hipm', 'j3lyon', 'pjlda9hd5v', '3wnjauar7w', 'i2aag6lp6w', 'zr5rgbgh03', 'sbhhkkz01y', 'xpddwh5tem', '2acrgdqhj0', 'of3q75fgeu', 'jbrk8zsry6', 'zz0cewew64', 'q5mp2q6hy8', 'y8wloctevc', '15p', '7p', 'feikc9fxed', 'uhkxmxab9l', 'chr3lyc', 'iaff36', 'jyiegtnc6h', 'l1gfxgozvx', 'qr1l2jyuez', 'cheese3d', 'jtjofltms4', 'vplr5hka2u', 'sxhw2tnnlf', 'cxb55h37jn', 'h6tyysgr30', '7hanpcr5rk', '9zmwt9xydz', 'v4smaeslk5', '365disasters', '911f3ixrh0', 'eeewo207mx', 'writes4coffee', 'sto58qa94c', 'tw4rw', '544', 't6seku4yvm', 'tjoz4u4txl', 'ph7wllkrfi', 'any1', 'oxxrnab8un', '5u5gakx2ch', '695807', '837865', 'kg4vaal', 'ot3bjjhh8s', '260th', 'ay49mtyyl8', 'votejkt48id', '12news', '90th', 'g62txymzbv', '140', 'sigeeq42cz', '6acswzo7cw', '3tnuaciv3c', 'ncjpgf6znv', 'gerjau74ey', 'summer2k15', '2002', '81neizeknm', 'm4tui0p9nt', '20s', 'mt029qj4ig', 'rbmucurs2f', '7amdollela', '3la', '7aal', 'dhambp54ya', 'shawie17shawie', '7paovyzttw', '5000', 'tyyfg4qqvm', 'onvd9d4nkg', 'hhtwayt4yo', '3ev07ppapn', 'xuzee2budv', 'mhl7pfr7kb', 'lou8lbla1f', '8e7ry8ebmf', 'kacrlpjc0l', 'e84ifmcczn', 'gopsicp8bm', 'dacherryontop13', '1elreh1jlj', 'q3dtoqo04c', 't8sv2ai7sw', 'healthweekly1', 'pzeixi4xk7', 'njd28pg9xv', 'ashes2015', 'a7tjawwtj7', 'swq5lmydka', 'aauizggc9q', 'steph93065', 'jmawrlt7hb', 'l056yj2ioi', '8ihuco4glw', 'dehmym5lpk', '5qhqo6ejtu', '107', '410', 'bsmj2hvgwd', 'bxalnedy49', 'hddbmu2yca', 'sgxp1u5ol1', 'si02qrguka', '0c1y8g7e9p', 'cgf61fpmr0', 'media420', 'jnn0krnxvy', '5loiwuyv5r', 'zrtrpl77qv', 'dmac1043', 'bradleybrad47', 'fd9dzspugk', '1928', 'wpkl2qniqw', 'bd52fxdvhq', 'j5onxfwlao', '6g49ywwsqj', 'bs6xaqhsim', 'y3zfqjsvpz', '79th', 'xehwmsh7lv', 'a0v1ybysod', 'th2wlilbmo', 'vam5podgyw', 'za4axfjsvb', 'da9lzton1c', 'xgkyvf9t4f', 'u9bkqt6xhr', '300000', '1200000', '11000000', 'prci76howu', 'rtcufag0au', '905', '877', '8591', 'al28rvkqpq', 'ndwep6izdq', '5pm', 'zlco4ue5oq', '1beegwrsis', 'drculiyp0t', 'bla42rdt1o', 'einsqs8tfq', 'neur0sis', 'zyrzx6dfki', '6cx46e7qb7', 'tgcr5vofj3', 'e65v80fcus', 'drbcrypj4p', 'jwiv6wyw6f', 'qvs7o10bg3', 'm19ivwrdkk', 'x2wn7o2a3w', '7ad0l7cgee', 'hhzql9tznp', 'pkfv8lksld', '0iyuntxduv', 'gn3whnsfib', 'fwpof5twoc', 'lvlh3w3awo', 'viwxy1xdyk', '4got', '81g18wsauk', 'od2ratxrqs', 'û_1', '160', 'pnhpljho8e', '64xr9ltnoh', 's0eyq1wehe', 'c5jutfxbm9', 'uxp6poqjlb', 'x1392', '8015', 'oqw8jx6rts', 'bvckd9pdti', 'uonebahh3h', 'jasoncundy05', 'wkpzp1jcau', 'hzpx6vaqpz', 'l4w0pcorbs', 'z8ij8ktkyk', '9nyxjndora', 'sg1ftkaegq', 'rkb7egkveb', 'knbv2ytnwc', 'ianokavo96', 'rvmmut3gvc', '58', 'ybdsljw7c1', 'u4bdy1w7d4', 'news4buffalo', 'gxqwd1qzbd', '2010', 'vve3usesgf', '370', 'gyqlaoz3l2', 'pckf0nl2yn', 'gayler1969', 'melissaross9847', 'mackinnon08', 'l0deocxu6o', 'aliveafter5', 'sc4twjkxr1', 'yn6duotimr', 'slc27emugm', '1862', 'iw7elszifz', 'montetjwitter11', 'nolesfan05', 'qv1rmzi3j1', '7old5mjwph', 'offers2go', 'w9cd6offcj', '6ndbfopk5m', 'dazqamoo0c', 'seshqn5dsk', 'bc19', 'm6x1', 'sqpshaws0w', 'udlebh88uz', 'zoipkpbd6o', 'cj76k0yayj', 'lh9mrypdrj', 'mp3', 'pqhuthss3i', '0iw6drf5x9', '5qhoehe9hf', 'e1', 'ch4', 'jgdlx4faw8', 'kmxzho5tfm', 's0ctcqjvjx', 'leyjwnnah8', 'dlizfkk30y', 'wal4frtfka', '0f8xa4ih1u', 'ngkrzpza45', 'v5yuualoqw', '263chat', 'eug6zhciun', '263789f4', '30s', 'htez4z48od', 'eq4rxc9bb3', 'meganbee92', 'iywzallsn4', 'h3dch6fyaw', '10566', 'luigmhma1i', 'bumzvmwam3', 'jhc2rt0v9f', 'yzazf4ceoa', 'x5rc5nuamh', '1k2phqcuw8', '12am', 'dggm5b0w4l', 'eyr2xx5l1p', 'w0exzad5gc', 'eg1fskqbv6', 'ildbeje225', '241cn8yxjq', 'mhtw4fnet', 'ks94', 'ihphzckm41', 'ibype1kaz5', 'obp595w7tm', 'rv9dv6joew', '5fcjvml520', 'fvyrwhux8p', 'dh0s4buuk7', 'c_pinto001', '9pfeaqeski', 'fntg70rnkx', 'lk5uqkop1e', 'vgvjgr8zoo', '928', 'renew911health', '40w', 'us70', 'flow397', '82', '15t', 'sa15t', '2jbibeib9g', 'p5ktaqw5qg', 'x6asgrjswc', 'bfes5twbzt', 'kl4r1ccwct', 'myhhthsli3', '9hkxxbb82o', 'joelsherman1', 'ijobz3mzp0', 'm9o08gurt4', 'ptc0xcragy', 'jkd7cti2iw', 'lajn2n5e2d', 'jasonpope2', 'p8yr2po6jn', 'vbqmz5apwj', 'c2eyjnybfn', 'gt7gf0fsex', 'v5gtunwohy', '6peeip4y7w', '5yl4dc1tqt', 'gllawb2fsk', '3kaafuoztc', 'ldbao0rsuz', 'abc7eyewitness', 'abc7', 'q5q1x5vcqk', '1osmiuxkhw', 'kp2lf4aute', 'hvbj30aj9s', 'lhpgxc4b8j', '309943', 'pol92mn8yz', 's4srgrmqcz', '325', '10am', 'oa6b0z2h6y', 'afk_10', '35jyap0ul9', 'jones94kyle', 'rg9yaybosa', '582', 'nvfkzv5fex', '38pm', 'epzgg4uqji', 'k5knnwugwt', 'ipxpi3me16', 'rv0fk7q4y5', 'ps1', '0gknpy4lua', 'czpdn9obit', 'jennife29916207', 'dmtab6g7j7', 'lbpx8bucnv', 'c720', '3dc', '3mtwh0jjns', 'bbqnk76qus', '0blkwcupzq', '6sy44kyysd', '2lgtzkwmqw', 's7xdxuudcy', 'lqjjy1ptwt', 'reffbkvg9r', 'qzdqrbr4lh', 'r4utnewlna', '12u', 'esk4yvzvap', 'imtygds5qo', 'l3w8mipvnt', 'o85m1bjfrw', 'i1vpkq9yag', 'ty5gavn7uk', '1mgvd4x5oe', 'odydt9qpk1', 'q3xq8r658r', 'k3', 'norkxbrs6g', 'igm2fcmupm', 'uxcfbj3mzx', 'hmwhob7prs', 'modnao23', 'cihc8nrc9h', 'tui9uwbvvp', 'fc3bxrthpg', 'biu4kowglz', 'l4wjhz4aj6', 'kmgdv7vsaz', 'bytsfms7md', 'kxplyom9rr', 'xwnjysv9v9', '46', '7d7vweq3es', 'vdefmulx43', 'yqpaijsa5g', 'zsqm8ihe1k', 'cm9tve2vsq', 'hxdg254dho', '407v1y4hhg', '0vcsafx9by', 'gpbxrrdc07', 'nss5l64cvr', 'vf6cklmcsx', '459', '2uvmq4vafq', 'mayhem_114', 'qi8qdw5dfg', 'tyewzf3hqa', 'espn2', 'eerkh8ljws', '3glyoyf6oc', '45600', 'vmf5lnxvzc', 'uotpnsqpz5', '4esbsa8int', 'fcfpijiqt5', 'kjsvw06gbv', 'bieyguqpb1', '1965', 'k9asktwxfl', '8550013', '21k', 'ezbtg81trz', '1061thetwister', 'xkonkz0zl6', 'dxvtgi1bvo', 'p4kofytkdx', 'nqxqyi70w4', 'gpvzv0249y', 'iafflocal4416', 'tj_robertson2', 'mqydxrlae7', 'epjjkb4be9', 'tu9cglmgvr', 'wvexjjrg6e', 'to0bpieyms', '7l6bhexixv', 'o4xljnav8f', 'udp10frxrl', 'wblimlmt2x', 'fvlgu1nayr', 'r5bxzzhxkm', '6lojoorouk', 'f7a66diiyk', 'xqiadg9h2w', '22days', 'gw0cxoojyv', 'msdizftz2g', '9zrqmd8ngz', '3942', '500th', '32', 'v9i4pfxo0c', '7lvgcmyiyj', '109', 'g7s34sw2am', '95roots', '204', '555', '14cicptkna', '2m1gneaifl', 'uqh85mip0v', 'rio2016', '9mtrq5jf4d', 'cbs29', 'edznx6goud', 'rg3bndkxjx', 'bq90pfzmrp', 'envw98', 'jdabe80', 'btus5jejuy', 'zrtfxluk6r', '6jjvcdn4ti', '4am', 'w56cf75mxe', 'vb3vfm76ke', 'silverstar58200', 'ogzjokd7sv', 's43we7oe2i', 'kkeh8qcgc3', 'hbbgy2vzyt', 'cw500', 'jq9nj6gko3', 'vtp8i8qlen', '1d', 'p5jpjgiipw', 'your4state', 'aog5chjmvs', 'cln2sxzy1z', '1tvlfrhm1m', 'flo8fgy35a', '150', 'pkuamxw6pm', 'pawvnj4sap', '5yrbegzafx', 'x4ecggvnsn', 'jw3hn9ewft', 'nywrkrq7kn', 'uisnqiu3if', 'nnmqlz91o9', 'o91f3cyy0r', '72', '4914njpio3', 'e7shtylbnl', '0rokdutyun', '65xr1p9soo', 'tk65ske0zm', 'br7gmmh5ek', 'dxfqou4kt2', 'twykzn4rlc', 'gusramzp1s', 'gl6eejyjky', 'wqtdnp3w5a', '521', '2009', 'xtf5dvgrvh', 'qkrltrd39b', 'r6jdj9kigm', 'nxs3z1kxid', 'y3dm9ulqxg', 'x2qsjod40u', 'kfkaosh0kh', 'zhrtcvu0ff', '9r5fsts7bd', '1970', '429cj', 'wqul8pg5px', '4ykxt3kd62', '7k', 'qbecjli7cx', 'fy0r9o7xsl', 'z4jyharrew', '8th', 'oqb7dasmvy', 'oqeq4uegf8', 'an3w16c8f6', 'yrfz5wj7r2', '4q4zd7ou34', 'ixjjlp1lvo', '1pack', '2pack', '3pack', 'ag65u29sgo', 'hj26sfddfi', 'h9vmmdebdx', 'mrospd9878', '0ajisa5531', '51', '950109', '439469', 'lovemywife1983', '4the', 'time4me_sews', 'cbxnhhz6kd', 'boygbp0jw9', 'bdotq8dsln', 'wgl4lubnw1', 'yhqu5uv6ok', '3x', 'braoubgec2', 'mcwd37iof9', 'bp597yds2b', 'uvq41i3kx2', 'h31knuwzz5', 'zu9yydf5di', 'scotto519', 'heyot6', 'sqsyueh4yi', 'koin6news', '199t7nd0pm', 'ly8x7rqbwn', 'unsayjdtu7', 'id667rlets', 'dadz5zfo1g', 'kfzvmxj9st', '1vjalja1sx', 'j3rtf2dt3x', 'zl7fhucxhl', 'jlu2j5qs8u', 'praiz8', 'im2ad', 'fk1l4nozig', '120000', 'fcixk23xqh', '4pqcmqchng', 'kk8cnppzmk', 'n08qluornx', 'toyu16mxbo', 'p10hndc0mm', 'x5jgkjv6ma', 'ljylxz1fbi', '4bcqzqjrzn', 'fnpdjwvw1j', 'z3nevglufm', 'eltne5v1qn', '5sos', '57', 'ldjet9tfmk', '1wopsgbvvv', '202', 'c1xhizprad', '241487', 'yfy3nkkcoh', 'nv7rk63pgc', 'qwtk1b2fmc', 'alvinnelson07', '2sgdofsmrq', 'xlegc6uora', 'o8xvtlp4mf', 'soea1ggbkj', 'cuvkf5ykax', 'hibdw7d7ja', 'h6pm1w7ell', 'pk8dgvripw', 'rz0adzursw', 'aqinavl1b6', 'co2', 'shrhkfj1bc', 'pvmr38lnva', 'seagull07', '4c58ooavhy', 'libertygeek83', 'lej5onus9q', 'izjk6kpwiz', 'lizzie363', '14000', 'vxjcx8ukmd', 'wwxbgubww5', 'm4', 'vzpkn23rx4', 'qegmrhsms2', 'b7zwevsrgo', 'tqwrw3jqwo', 'rzxqssun02', 'home2', 'paobghv3c7', 'kbtzzzg2tp', 'rbrw8pwipj', 'l3gizrucy4', 'crcn8rwvkj', '9qnq45zduw', '2jxkmkpalp', 'ec46lyqqc6', 'kxy56fr8vm', 'ww1', 'f9j3l2yjl4', 'n6zflxigvr', 'obfd7e4qcp', 'yazje5owvk', 'di5arr6hq6', 'lec1vms7x2', '30min', 'uubovy9gqi', '1xw0z8zeqw', '3pcntczoxv', 'n0akjm1e4b', '3nuih6pkui', '2ufcc6gh3m', 'hep9k0xghb', '80ebvglmra', 'mo7dbbdfvr', '0scnwe8xbv', 'ke1zs6naml', 'o7qogmoegu', 'ssb4', '2hours', 'wactt18gda', '9odqryjncf', '0xouv7dhwz', 'ia44nczlif', 'ogtuv1plht', 'npoqlkqup9', 'x1386', 'xkmlq99sjy', 'a3rgqucugo', 'nb1e7mnce5', 'omar_molina036', 'zpxe3fmyng', 'im6m4xaen2', 'njlqrqcnl9', 'sbila2yqjq', '452', 'ed32pbvio7', '10x', '12v', '24v', 'ifm6v6480p', 'kp5dpoaf58', '295ss', 'a5iwus8evq', 'gi82n2juwn', 'wyokt0ftrw', 'c4news', 'sqgogj3s5r', '2minutemix', 'wftcrlz32p', '03', '528', '530', '740', '20177', '707d', 'y8xknpqmnj', 'km8ucihrrn', 'addtexastonext1dtour', 'z4ilb9y9nu', 'j295md1sow', 'abyhrgss1s', 'rm50vcvjsh', '73umw2igrz', 'fhkhcqpl7j', 'jdkqc12tid', 'd8awx2okke', 'g90', 'kxxnszp6nk', 'arizzo44', 'jlester34', 'xgnjgle9eq', 'tcs2cd5y6y', '261', '0usdi5jcho', 'xyg7jhrjof', '7mepkbf9e8', 'exsqijf4ny', 'tedcruz2016', 'y7sipkb1kd', '0yo2l38ozr', 'q13', 'e981dgskab', 'gunnersfan89', '5koho39oje', 'cnkvile7be', 'u9fcb8dz3h', 'mwmt3bdr5l', 'randerson62', 'wf8itk2kvx', 'x1x6d5enef', 'xhehjfft7g', 'jbjrg3ep1q', 'mnsy1qr7bq', '1lk1eqwyuw', 'jb038rdfak', 'v6qxnfhrxf', '4k', '500', 'e61x9y65qd', 'ovlet0gdqm', 'ehklp12yip', 'u2', 'u8rgb51d22', '2tnu95vgfe', 'nx2d83a4du', '30pm', 'psalm34', '22', '4regionåêåênear', '0wdazlcm90', 'vcirn1md8v', 'nruzhr5xqu', 'thexfiles201days', 's7grbznwlr', '94123', 'limpar33', 'k2tbes65oa', '2872j5d4hb', 'odv3rqs8ju', 'fce0k1ihti', 'gted6ldwho', 'yhaqa5wxok', 'pop2015', 'nå¼36', '9le0b19lvf', 'krsy54xmmc', 'zqmtrbkas0', 'yeqq3bzx3g', 'kmvrzasxy4', 't2kk8fya77', 'xkurdr3yev', 'atheistic_1', 'ddhwori5w1', '37592', 'zcvfc500yy', '9e2f7bivle', 'zoepzsoky1', 'mjtn3qbgos', '2kdq56xtws', 'dialta6t69', 'vgf41iupkn', 'du19', 'ykdsp0nrdq', 'vdgfxyx3bw', 'ubfr1urafc', 'alnv51d95x', 'katiecool447', '30th', '1986', '2016', 'gilbert23', 'e8dl1lncvu', 'qu1iug3e9r', '100s', 'vjbhxn9x1o', 'isea2015', 'rpneaj6fod', '573', 'dratomic420', 'g38y8h1tjt', 'kukmal605a', 'm0utldif77', '2iafpmqjep', 'cs8myauna4', '8nadrgr4xc', 'qchv3jqovk', 'gc0udfnfgg', 'ìñ1', 'raabchar_28', 'aez3ak1lrn', 'cbaxcuba0h', '9i6crcrq2m', 'sikkg0fphr', 'ayp6zvhm2a', 'emiliorivera48', 'tziolfte5i', 'aphiabeta1907', 'uan05tnksw', 'jn8s0drwbp', '6cadrhioxp', 'news3lv', 'exdbcx4gcr', '9jcibenckz', '4i0kz2akly', 'm7na4skfwr', 'nmpn2mqzge', 'eyevziopg1', '6aimd1uway', '9cgbjwmhii', '41', '252426', '072013', 'dan0gkx28l', 'khd99oz7u3', 'blutz10', 'nckogwjq61', 'xszx9mwxyp', 'nmfsgkf1za', '12m', 'tfgrayudc5', '37dqvjhncv', '7ijlz6bcsp', '1921', '99mbyfl3id', '4ddmtguzzs', 'you7wn9xvs', 'fa07af174a71408', 'ybjezkurw1', 'cgvuy3rcxo', 'yrvgykdbm6', 'y4y8fcljed', 'fw1ptaelgv', 'fkfa9vsssz', 'bs6pjt09tc', 'wxhmp5ppjq', 'ftunlh6ddg', 'aw23wxtyjb', 'abgct9vfua', 'nmhztb1ewm', 'rjebpib5rz', '8j09zutxwt', 'gpcecp9khv', 'alexeivolkov1', 'anutoopkf4', 'vz1irh0nmm', 'insurers163', 'nyo1xuebfa', 'w0a1mjorhy', 'wzc5r4xoqz', 'mbo6oaniqi', 'r3pddjpiee', '8kj1wdaigj', 'daniglasgow45', 'top25', 'o9dzgzqemf', 'axk9xno6yz', '6ce1vwovhs', 'pijg5w2l2u', '000', 'lknu8902je', '_chelsdelong12', 'kendra_leigh13', '8fvqrizoux', 'qqsmshaj3n', '163', '2z2htdjqzd', 'xuub2hbli5', 'h5epx2d1ga', 'suilzs2s95', 'rs40000cr', '3_6_12', 'jojnq2oopi', 'dskui6mmgl', 'rrq1ildkil', 'niv8x5tbe0', '1998', 'malkavius2', 'lpgfqnpjd3', 'm00nf00l', 'ibed3xg7fy', '0yaxrjicrr', '66', 'jst5hauk35', '358', 'nbc15', 'pis0aivrbr', 'kea5l3b1ae', 'ffnzit7kgn', '2k15', 'ep18', 'mr5bi4kd82', 'm151a1', 'm416', '9rryaylgyy', 'nm83johluu', 'drfkarlz1d', 'zkkn6mse1n', 'fzhjf8bxld', '911bombing', 'vn73o4sgzj', 'vdiliicyr5', 'pw5dst9roz', 'r4yzhxk7lw', '07', 'fpkiqbus9r', 'a9bnlse6qb', 'wxela91juh', '234', 'sruj5zljgl', 'cy0ciu2u1c', 'aatt5amnmd', 'ysg9vsrt4g', '9tg7a5oqfp', 's01e09', 'gxyivswki7', '3ac5wuy1r0', '3nkculgvmw', '00cy9vxeff', 'tweet4taiji', 'jslxtq3nqs', '3yu26v19zh', '35qwnglkos', 'sxwjyr3k3l', 'kezi9', 'ee8rpoahpk', 'ha5boppejy', 'msuy4qtpk9', 'savannahross_4', 'chibi877', 'n6ahgfmudt', '6exs23muy3', 'l9idherotj', '9tb82zmr2x', '039', '13000', 'aptap6yx1r', 'jilfbr0ufp', 'usvyhdg9og', '8r5vpaoo5z', 'jvcxb75drj', 'qwsbvflpe1', '43', 'laurathorne97', 'mesqtvdu63', '2am', 'tft1bb4xaz', 'colinhoffman29', '63rd', 'zz5udilrea', 'pkkcdwjyg0', 'dougmartin17', 'nvp6wrkl1e', 'bdn2fdpdaz', 'k8ughv2aif', 'spt54kfa9q', 'q4q8xsyzob', 'f56v61ampt', 'h3sxfv5mtc', 'qj3pvgavn7', 'ad38kwoglh', 'ifqqpur99x', 'fk1vyh5qlk', 'lkwxu8qv7n', 'au3dbci7nf', 'bovjrf62t7', 'z6ee1jvhni', 'janenelson097', 'kkimmbue04', 'owbujez3q4', 'wrb7xd8w5y', 'cilo9pmleb', '0t9yd557ry', '31tgtlz3ya', 'c7rco2emwf', 'scxfc5wi9t', 'gx1otoh8sj', 'my8q1uwijn', 'optps1lgkc', 'fb8snrg4hu', 'ao4ju9vmmf', 'oyy9mgw7hn', '060', '1028', 'pf8dxwibdp', 'p1amginsys', '6pagjqfbzk', 'gix1gaynxz', 'p93s2rfhx6', 'g3', '15000270653', 'kcoff6bmie', 'gbrnulp3fh', 'j2erzbmjqd', '233liveonline', 'io7kuug1uq', '617', 's0vgtkhw7v', 'qvx0vqtpz0', 'iys9xwpvmk', 'vaping101', 'cykr4xaluh', 'o8y1sul4ow', '4cpnbbzkzg', '956', 'g7', 'g20', '123127', '825133', '8jxql8cv8z', 'egcv7ybjae', 'su4zvwadj7', 'wvtpuryx63', 'moll5vd8yd', '1976', 'y678xsnvj6', 'txetcysm1h', 'gg0dzsvbz7', 'kbe91arcdw', '1q6ccffzv6', 'vxuftvt9au', '3oionqlfql', 'zy3hpdjnwg', 'gz27audyha', 'p4ekgc9sig', '736324', '73', '990062', '1xssvgimvb', '06jst', '6aug', '12jst', '18jst', 'l6jbjaj8dm', 'n15b', 'lqgoe7psxp', '159', 'fjddx43ewj', 'vdukcv7yjy', '8bqjtp6id5', '8kjs7zqajs', 'k6uetsnlht', 'lwane9vupg', 'cpqgufzb28', 'to9viqoofv', 'wild_lionx3', 'tgtcru8jio', 'vbo1tjndps', '21b6skpdur', 'wbcb3sytj7', 'qgyn2u1up3', 'wis3h9tqrm', 'cntwb6sczj', 'gvd7fcx8iz', 'ehlq3zsptd', 'djx5elbrv1', '1145', '45', 'mjstefggu5', 'q4l7dg56jm', 'fven1ex0ps', '5oqhq8quqv', 'm9ig3wq8lq', 'u30n3ffx8y', 'naturalemblem26', 'ud7xobyua1', 'ae9cpiexak', 'yi3oivk2x4', 'qtizcbww7g', '77ciwxabva', '7cmf3noync', 'ymp0ginwza', 'j3x0doy7r3', '513', 'e4wk8uri8a', 'xtljz7bjgl', '10muey8pxj', 'sahq5uoahw', '7ennullkzm', '777', '239', 'j8tyt1xrrk', '9d4nazoi94', 'hr88cwxpgz', 'rptouz2ijs', '69mlhfefhr', 'abnzqwlig1', 'm8mvdspjp7', 'biuey7buts', 'jwqybe4ep1', 'qpwotugui9', 'gvaipmlsl0', '0r03c6njli', 'olnk1ti1nm', '0btniwagt1', 'hhzy3oqela', 'mctjnzx4h8', '6gsamy6mts', '140920', '150718', 'y7o55by36f', 'qycw5jjaj1', 'zvre6ffnyd', '1he4ufawzm', '73km', 'i6lmccclv5', 'bmxsndx14g', '7zb9gm5z0h', '1843', '458dtr3ulx', 'f7ljwxj5jp', 'nekm1rpohu', 'oi6cmagasi', 'oez7o9ab2c', '1buf0xm53d', '4k8olzv9bv', '9lo0hzwjpz', '5zdbtktww7', 'cwcvbubs01', 'ma3route', 'bonnieg434', 'cy1lfenyv8', 'volfan326', 'tmz6x1n2gq', 'hsjb215', 'e1wrvyzfkv', '42mawzb8t9', 'o6onsjhcsd', 'p2', 'cyu8zxw1oh', '93infxzhx0', '15901', 'k14q8chwkp', 'sjnyfszcu1', 'fzujg7sxjg', 'gmoul9zq2q', 'krnw0wxhe5', '30pcs', '12mm', 'znsvstgwx3', 'rpda60aoni', 'raf732vrtt', '9z9hsmiavd', 'e2hltyyfak', 'pmxezuo4ay', '1pflm532mg', '58qrugzvg0', 'f8gvwkfqox', 's3xleak', 'ph0tos', '19yrs', 'exp0sed', 'ixrehm05yq', 'snqfhpym3o', '9viibxgjav', 'rvsyxwj9cp', 'tonyakappes11', 'xyav4t5n0o', 'rukjyjg9oq', 'xzlrwc0pik', 'o5xlxmkoyq', 'zzcbbqyj1q', 'bl59fw4sys', '307558', '81', '403118', '2fenu1syu6', 'kavaovjz2v', 'jdtpirnm76', 'a2tiivnjdy', 'fw2xifj6ec', 'g2uimbekge', 'xh4dz1gpyw', 'g0hsyh7yav', 'fymp4i2wp5', '2zgvslox5p', 'jkym9edofc', '982988', '261624', '450', '8gtrvece1n', '7xq8jrtl7i', 'j90dt2qnxb', 'oer5hh41ew', '93iaeec26t', '612bsbvw8k', '87h5mba3n1', 'qjuu0wcwpx', '10000', 'gv84wnhb7s', '33fbr25t1o', 'lue3waegpi', '9h0ym9ofsv', 'm9yda5k6jf', 'qwqnni7vmz', 'abc7chicago', '6un7xc9sve', 'qyx5thkrbh', 'y9w0v6te9o', 'mul1j9aeux', '6vja8r4yxa', 'bhzr9ugus2', 'ohndh2ri0v', 'p4zfxdnbch', 'guaj2t910b', 'i4fz75utnh', 'h6amecx5k7', 'b8iwrdxcm0', '1600', 'glpfu0uriz', '02pm', 'cf9e6tu3g7', 'macob5xlsu', '666canberra', 't4fvvnrpc5', '0zznbvfuvo', 'vmjrtuvmh4', 'geu4h46csz', 'gzib0mawmn', '138', 'rg4jishybs', 'r4kheh7iaf', 'gx9skuau9j', '1w58ehv9s1', 'p8ih0hni3l', 'omb3os54tn', 'lqd1wefpqd', 'uml5jztmcb', 'dr_baseball41', 'granttamane8', 'dtop77', 'lq4lxgs2xu', 'tbx8cakdrw', 'fs012trudg', 'met4ytzmfb', 'avu9b4k2rv', 'p96rgbbayl', 'sje59u2nnm', 'tm9zbhjcyf', '69', 'jods9a32pi', 'e2wgreicmz', 'jans3fd4lf', '2sdmichb2z', 'kerrykatona7', 'm27329', '1236', '4d9cd4mnvh', 'unhqcq6bex', '925', 'r1354', 'd12r8xpshy', 'fftokd0vts', 'ljxce1qw2p', '3945', 'dgbeh5l9ds', 'ndis8f1vzt', 'o1smuh2unn', 'xqj6wgiuqh', 'qd3dssfwue', '627', 'hyider_ghost2', 'x8moyevjsj', 'steveycheese99', 'dwu8qqys0v', 'tu6scrsxvg', 'idhj4jbq05', '38', 'etkd58un8n', 'lrelvrm06w', '82ndabndiv', 'ugesklcn8m', 'kqpky7dthj', '44', '414510', '942499', '5zcje7arci', 'gl3c1vc88p', '8392', 'so81ab3a1x', 'hvxu1zcvau', 'ijmccmhh5g', 'hbhx0dwkpc', 'zujwuiomb3', 'iap4lwvqsw', 'ur7fexszg4', 'wb8awoblcl', 'umzkc9azwd', 'zqo6nuvytu', '1fhrrhcimh', 'wgefbuk4jk', 'g5zsru0zvq', '8t36hwgoqd', '0l', 'v6', 'c8uxkizwm6', 'snxgh9r16u', 'thomasvissman22', '1895', 'zckxtfc9pt', 'tuai0zwgxu', 'ef4swp9sxz', 'nb7maaaofs', 'j9lpdrxcde', 'itg84q7vii', 'sjxllzosw7', 'u2kwof3wtj', '50shadezofgrey', 'p45perez', 'x9cuihib5n', 'mg5eajelul', 'pcxarbh9an', 'birkbje23e', 'buzwjmw49e', '650', '559', '957thegame', '0yzgw9zbhr', 'rhtaqjvqn2', 'comlg0vdbv', 'aoesbvns45', 'jrkgyl7te5', 'breaking411', 'onlvf2fyoy', 'vaunps6wja', 'ioqm5bm1dg', 'w6o0uizf8p', 'o0ltqdjbqe', 'mo9wptyqkp', '350', 'ko0oz3ryfg', 'lvkoemsq8m', 'cjirhhh4vj', 'ut7r2ixrjq', 'v3z96ydmvd', 'kxslftz2i5', 'taxuxp9qa2', 'p64xrvgjik', 'yx1ukbmtqb', 'fqcdphccg7', 'khf0ih05a9', 'he7q7h3nzf', 'k3pnnktlxh', 'dzlpnp399x', 'i5', '43rd', 'ct9ejxolpu', 'sb5r7shccj', 'widda16', 'qzrcinaf5z', 'iyjejop2wi', 'gi2p9tuvbi', 'db5', 'hgb1mc3irk', '6ysxghc8gz', '0t8vqkeari', 'byvubg0wye', 'g0r3zr1nqj', 'fl8gci84aj', 'dvonwiv3l1', '1999', 'aq5zlim7l4', 'fvr9jdq71a', 'qxxn6rksp6', 'b3x1wqzaor', '4y4ytwhd74', 'obky8pc89h', '210', 'ypbvs1ijya', '9dflv6ynqr', 'muanfwcrw9', 'ols6qdi9um', 'uu64wfg17m', 'gxgm1t3w0j', 's2g', '6jzcedayrg', 'n2bcf4m64v', 'wdueaj8q4j', 'carvv6gsrb', 'lan76zqkxg', 'kristenkoin6', '81hvv3n3rs', 'tprimo24', 'mrv54fidfn', 'projeavg8t', '3p', 'xqrlewia4x', '6fynermusg', '23km', 'kf0qybkzol', 'kaylak369', 'pgb2bmcfx8', '7y2gnva2ev', 'a1a', '9dwyjqvfy4', 'd1ff3r3nt1sg00d', 'cubze5mizm', 'vox99fwkcx', 'uavfrtlfs4', '85g1pcccxg', '8acdf4zui6', 'infinitegrace7', '0tslqjokvh', 'gordon_r74', 'vl5tbr3wbr', '0x8jaqtowm', 'm1rosi2wcs', '709', 'w3esx6ud8t', 'jlput7va3s', 'txrswi0efg', 'rlpttkbg4w', 'ozk1qhjvfh', '97343', 'p0gos5urxg', 'hk9yf72ova', 'k0qtl8aodh', 'zqbxe7x9y7', '400t', 'e0pi0c54ff', '03l7nwqdje', 'y518jyrzav', 'pdkhbdg9ho', 'bsrerjby0i', 'hiroshima70', '9ckgggyvou', 'u0vdbrxfia', '2ppzgpxybi', 'ds9khkffwc', 'david5fernandez', 'ecmj18azai', 'dj1lwznieh', 'i9mxxkzhbl', 'm203ul6o7p', 'dead_dreamer15', 'dlvzaay7qr', 'gdrssjbh8q', '55436', '1950', 'xezbs3sq0y', 'c2x0qokgly', 'jvai5vkmsy', 'nr8jjmpmos', 'ekfaz6wvbz', 'sstj2bepqn', 'fnmje8gf7m', 'nye8ae2ifr', 'wq3wjsgphl', 'i405', 'us101', 'js9ehp88wq', 'b24fowler', 'daewony0406', 'fprt7nwrot', 'bkh7z6cwwl', 'fe9hivfmxq', 'q8ivrzojzv', 'gnynjhne6j', '1funemes7m', 'fqsk7qcawo', 'zct5cchoj0', 'badr58', '0000', '20150613', 'fgdeh56plo', 'kot9zvd2h7', '1uo1atrbbj', 'vets78734', '2xmdidgpnr', 'k44tl3rfmy', 'ipt0honoti', '83bmprwh7w', 'eeasterling_2', 'ny3l1orzqb', 'rujv4vpnbv', 'ih0awv3l1o', 'awxr24zsqh', 'o9a26fn27y', 'f2tqmfh1yb', 'i6zqlk2puz', 'sxmlg3xdvx', 'ltmgdp6jaf', 'ryleedowns02', 'nevaehburton33', 'roi2nsmejj', '3tj8zjin21', 'lxtjc87kls', '707762', '014213', 'p1jlurgwbu', 'apwxs5mm44', 'ds76lozlsu', 'otsm38xmas', 'ceiao1texr', 'fmu0fnumxf', 'a5gnzbusqq', 'ixw2cutk1c', 'scynic1', 'ryanoss123', '223347', '80', '827834', 'd7m9kgmpji', '8zy9n6fx9t', 'itz9masbvz', 'wveo9ed10e', 'mly7sdn6ev', '37qpssnacv', '92pk0hujd8', 'ecmujkkqx1', '5wfxbaqmbk', 'rfb3jxbiej', 'gxe7nhwz3e', 'y2mt6v13e8', 'fyjwjdkm5i', 'anlhw2izkz', 'wamkre6ckd', 'pyramidhead76', 'calum36chambers', 'ztfead8gid', 'm3', '10km', '0w12pwpsfx', 'xwvw1sft4i', 'j7hukhwmal', '1eb2dauyfn', '38745', 'upgd2cy9il', 'mzrhfojt2j', 'pp15000266858', 'pdx911', '950xijhnvh', 'elxn42', '48zg5ynebn', 'qu8s89pvvt', '93dm6gnwwc', 'audreyp77', 'teena_797', 'z2vdgiyowf', 'lzasr05ljo', 'iemxgse2be', 'skq8oucm3r', 't8nz6h9zz4', 'ojus08yzrq', 'auf4j4owj1', 'mis0rjxuir', 'rsv9atj9vh', 'dly6ruusqk', 'uc4j4jhvgr', 'otfw5sekd7', 'ibsvy2r3ph', 'vsgqolr32g', 'p7uhcb13qx', 'libertybell1000', '60000', '42gw2i2q41', 'gbepdi0wzt', 'gjfd85vuf2', 'hppld1jhtz', '614817868480726', '195582811791382', 'rteugb5tnv', 'z7phpjtqud', '1km', 'x6el3ysycn', 'nas3ipm5vh', 'mgs2', 'ps2', 'bo3', 'gedoxsppl9', 'wmmkirj0hw', 'darrylb1979', '2017', '2019', 'zeno001', '6c', 'qn4zyisspo', '3vwp7wd56w', 'nv3uxv9imx', 'ej30ihrea9', 'jhscgda2g8', 'baseballquotes1', 'owje3i6ygn', 'vxsqpfe9na', '4fxfllrien', 'i12nlsr8fk', '2099', 'ks111', 'xsgwm5zxpd', '02elqlopfk', 'ojyw7jkuh5', 'ny35', 'tmzxopvs94', 'w192wkog1m', 'jmu5uyamdu', 'uea0txrhys', 'fkd1mbtb68', 'xwms1aww8m', 'te2yerugsi', 'e4qonkzndz', '1500', 'dhgavw8bsw', '0lmheaex9k', 'fuerk0gwui', 'mv7ggglmvc', '14th', 'yh4r7ug21a', '141', 'm5', '60km', 'tbstk5vqu0', '3novices', '2i4eoggo5j', '7000', '9newsmornings', 'gigw51izpk', '91å', '90225', 'pp05etlk7t', '3ol8mhhpma', '71st', 'kif7m3fqlx', 'oz6vlwwtnr', 'tj3ltpzfw1', 'jssmmlnaq7', 'zm6vczqvwk', 'dknlznom6n', 'mqbyravk6h', '4km', 'obsz45ybaj', 't4pv0nroov', 'pseylyzck4', 'xb8nfxabum', 'jadehelm15', 'vt2aky5mgk', 'khsbzkfd6o', 'rhee1975', 'ba4pusvjln', 'drayesha4', 'wjljq3ya4g', 'ucy5fea9yu', 'dnwwo1ybrk', '7qpg80ud7v', 'ajay0snplg', 'qxhowcv16r', 'demetae12', 'iidkc0jsbx', 'bptmlf4p10', 'micjnpuhg0', 'vddi5chktp', 'wx11d69gez', 'met0mtpr3s', 'z99pkjztrp', '56', '8jvqi9uspl', 'na2ey64vsg', 'gs50ddg1jy', 'antpips67', 'live4heed', '801', 'wmur9', 'ydgmgbryl2', 'n6mcpgvwq2', 's8oinfgxyx', 'n3vbtc6nca', '5lnidvobff', 'm5djllxozp', '2500', '6hkw5qlppt', '98', '250', '6l', 'v8', 'dkozymvy5l', 'xrdwr8cdvm', 'fxtffl4axy', '2gljhvead9', 'cfe9huqn0h', 'cyv2zg935g', 'vicken52', 'goonc1ty', '11202', 'jsccx8k0ja', 'ed1vpitswy', '6xsbddlziy', '7b2wf6ovfk', 'cameronhigdon34', 'optich3cz', 'askh3cz', 'ph2xli8nve', '22fuxhn7el', 'wmoyibwec1', '0rsverlztm', 'x17fubqbgg', 'jbodkm6rbu', 'tux0ypwzur', 'wbi7laq18e', 'phh1vmlfoo', 'susanj357', 'hrl4xnj9k7', 'sweet2young', 'r_lauren83199', 'xojademarie124', 'twpl0nl8cx', 'ltf6jl5keu', 'zlq8thctkw', 'indigo6e', '4kbwpcmmbm', '1rreo2jg9u', 'be4', 'a2e6dcsk88', '9eh2lcqkxl', 'ki9ehjhl8y', 'i7ap1mes8m', '2rtq9qmgpb', 'ohholj9vev', '68', '61', 'tarmineta3', 'inkuv5dntx', '1cvegtizog', 'mpoaefql6k', 'hbdo22nqpz', 'kgkz50q8tk', 'xv3d9bpjhi', 'hcwrk81p71', '876', 'biigd1leq3', 'argus_99', 'heidia1438', '1erd2fpryp', 'fkqjy3ezyg', '50vdq7a1m5', 'qh6oxft9ir', 'ng2x5', 'zfwmjh6slh', 'abcnews24', 'c5u9qsysej', '3967', 'gnpstnvi5g', 'uaodoquda1', 'blzt5zwose', 'trump2016', 'xvaoqo4egr', 'kaputt21', 'kasiadear33', 'bae0ap4g9y', '6hkca1dsna', '6agmkx2ww4', 'stallion150', 'os1wjrvx5c', 'hksbmijqz1', '10k', '11am', 'g1nw99yj8u', '90630', 'jvjalyg2n1', 'qxmweljbc0', 'gfs7usulgq', '8picbkdjm0', '945hpa', '45m', '60m', 'nbd5ot9iew', '1xhsuewqn4', 'uppwxda4yd', 'm6lvkxl9ii', 'je86vetdxh', '1udz0nvoeh', '40hourfamine', 'xqdvghz8g6', 'jannellix0', 'kiro7seattle', 'r5live', 'itzzkwfhg5', '1940', 'jp9xyla3c5', 'sdxzhjco0x', 'wkmfdig3nt', 'z16dtoqhhg', 'x36', 'rczalru05o', '36gccapaak', 'nqjzs6wkun', 'gbqtc7sp9c', 'hxox7o42rq', 'v6ijxccd2i', 'x3g2ox6k8r', 'uchwtlc9b4zjugh7ydlb55iw', 'mh17', 'tt4kvmvujq', 'l0pmmtzlwp', 'sy2whxt0k5', 't1000s', 'xl61', '62', '74yfqxvak0', 'kxrehvt6hl', 'tdeqwm8zxn', 'kestuuyc4t', 'pzfbb1p1mj', 'njqv45nds2', 'ydjpoph1dw', '4izfdyc3cg', 'q6oxzq45ve', 'kabk3tcjnl', 'epex4axg4b', 'etswuod3om', 'qgum9xheos', 'yl67dkf4tb', '98o2kc3a1z', '43sxg9z6xh', '0wratka2jl', 'rkdzb0tgc3', 'xzvmzqus0x', 'xomi4zqzgp', '0m1tw3datd', 'v1sfllowgh', 'wyattb23', 'rfvjh58ef2', 'sj57boksib', '0npzp', 'ixiybap8qa', 'zepzqydby4', 'cirtvml9vp', 'iovr4ymlkp', 'news786', 'u7bbenxwyk', 'kg5plkedhr', 'qeihvn3dnq', 'm8', 'jmbvpanxr3', '125', 'gwnlhneku9', 'ai6kworbbt', 'codythompson25', 'txtpx4umqh', 'gilmanrocks7', '1vi2rnbk2i', 'tdwprvb04y', 'hikdc1fm2f', 'bb17', 'lvizo9cssr', '6cz3bohrd4', 'vra50', 'pc7s8nxj6q', '9xohmmlmdy', '509', 'b2yvlmpepr', 's61', '231a', 'icd10', 'ei9x4h8thm', 'xyiwr9jetl', 'u8hsrtrxmm', 'eo2f96wxpz', '3sth9lrbun', 'jqxm4gcqz3', 'nh1news', '7jggqwbv6s', 'dydfvz7amj', 'fxux987vzx', 'nxttd9nrux', 'irqj3zkcuz', '8km', '3bwwnlsxhb', 'jb25fhke6q', '300m', 'lw2fglrgxb', 'hmrt98oydj', 'tdaktglu5p', 'imawesome7986', 'mrvxbzywd4', 'whopper_jr_760', 'i2hhviumtm', 'nyty7fcqo6', 'hyypspn0yq', 'drvm8isote', 'ub1jzskmrc', 'i5k3vjicmg', 'cizjafnm4e', '860', '757', '2y5morpugt', 'wezjqc4cf2', 'eqdm2opybg', '1i19cuov7l', 'jamiegriff97', 'k4h8cq7puo', 'yhh7x0maio', '2y9dnp5vtg', '6xul6dcosh', '66obqmximb', 'rjju70rhyu', 'nxkum9h7wd', 'akzzoe5ce6', 'cplyrewfz3', 'angel_star39', 'xszicdwxq0', 'xn09mx6sxy', 'onlinemh370', '2oroyunym2', 'c9jnxz3dxc', 'zepp1978', 'olliebailey11', 'jpa6sajfe3', 'hendy_21', 'ii4ewe1qir', 'h3vusqzyqo', 'c1qxjweqqu', 'zhp0sowxry', 'flqxd3q5py', '60s', '610', 'ep03', 'j2bone', '8400', 'ft7orfa52y', 'dv4mmlso1i', 'nbcvbso9nm', 'pblvpm6c27', 'xe0ee1fzfh', 'idws2zgysa', 'ehgtzhkan4', 'cqlm9jojop', 'exil1bkzmp', 'ehomn68ojb', 'kaccpk85wf', 'tb8gzembxu', 'vcv73buacz', 'geqkdao4cv', 'dg0bgzecgm', 'dbaujp29ub', 'onpnbx0zex', 'um5icn5et2', 'dlp8kpkt2k', 'kombatfans33', '4hcywrwn6l', '2twxz6vxbx', 'ms8e8mnddb', 'tls40nqipn', '6f9afql6wp', 'dyy7ml2nzj', 'p85nwcmkqu', 'ofan6dkoez', 'brianboru67', 'jimskiv92', 'hijinks1967', '48tpnmbjvg', 'ccvcte3lcw', 'pz56zjssft', 'pq3ipugkuy', 'rabidmonkeys1', 'zt5ofbiwtd', 'ul5xdblmbk', 'mxz7yx8ld1', '2025', 'm9k08oazve', 'sk398', 'ra2majpkq2', 'y7ghhyk05b', '0ymf6txfch', '3i3d2ngent', 'jyiekeo2he', 'ûª93', 'mfkqyxd8xg', 'hhpvpael4n', '4yygb', 'o7yyjlukfj', 'rjcaxjp4os', 'nbc10', 'pq0d7mh3qr', 'a6ro9bmxcy', 'cxi82rfifs', 'emily4everever', 'flsa8mldsn', 'orovzfsku2', 'gvm70u2bpm', 'b00hr', 'arzemsr7fq', 'a6wmbnr51s', 'h2o', '8xixbspot8', 'nhxse3rthx', 'o1enhjrkjd', 'q5qcoao8jp', 'wmutcdg36b', 'rffpqbaz2f', 'z5grlrey6v', 'bnwygx6luh', 'olnfzb86zb', 'm1xykecrzr', '0mnpcer9no', 'rb2s0jmlej', '9asc1hhfnj', '3snyoohseq', 'ddr0zjxvqn', 'ogxsy4gwd1', '1994', 'bxgnq57xvb', 'car5qeuvhh', 'lrtu8rwn2f', 'jannet2208', '5uecmcv2pk', '71vdjhjnwv', 'kkdx8zmv4g', '11dvqjvxpo', 'lr4btvueom', 'cinla1964', '90s', 'urjwsvr311', '7jfreteii4', 'dwilliams313', 'nu6wrp716d', 'dofrh5yb01', 'i7kztevb2v', 'mssq0svnbm', '6siirlnv6z', '5cm0lfzhxn', 'fqj0squ3lg', 'c6lgtotvsf', 'csxvwxuz6t', 'm5sbfrrsn7', 'yvo6q6w442', 'yerct4j244', 'uorxff0nfx', 'nufdgw9yev', '2okscwyohc', 'zahnewjri8', 'kx8cu4s8t1', 'yetagc2d8a', '100nd', 'zagbmlsf4h', 'zkgqspwyj3', '3vfkedgrso', '6m0ynjwbc9', 'jwxrx1lsqo', '7bevuje5ep', 'pu7c4hhbxj', '1665', 'r4wgxra59m', '4rtpjrhsqe', '6x0xhlbxji', '_301dc', 'x2', 'um3wtl5r7k', '2lqyxzq5dn', 'zevan9kjzl', 'uuzfs1l5kt', 'ny1', 'ny1burst', 'w7siidujoh', 'w2ixt1k0ab', 'm4jdzmgjow', 'n0uhasfkbv', 'hqod6v6dnc', '73rd', 'pgkbt3mbap', 'rp2dxfkhdq', 'akmihlris1', 'yr67ugesrm', 'sjoeing76t', 'bhsuxvq6nf', 'benkin97', 'mili_5499', 'ashes2ashes', 'xlfi7ovhfj', 'raq4zpdvke', 'uhxodsc7wi', 'fz8ytwqkwv', 'xxkhjysn0p', '2mwc9ywjzy', 'v57nugmgkt', 'vecmsiuuh1', 'p769eo49fj', 'cali74142290', '0802', 'i2el5acrrw', 'grlxurko8d', 'dobzc3pitm', '4e2gjmvrvi', 'zntg2wndmj', 'jlmicj6je5', 'gbay99', 'v0yrfh9dkc', '8pifutrb5u', '401', 'sholt87', 'eco11c', 'carlsbadbugkil1', '401ks', '23rd', 'mvsrjd4x3d', 'azl4xydvzk', 'ex4fnjjl6h', 'zdhwrn6czc', '1rockstar62', 'valdes1978', 'm2yuxnqlqy', 'v8gkkfmfxt', 'xrja0xpl40', 'psi35au3pc', 'xdt4vhfn7b', '6qc8whdizy', 'inezzaes5d', '11000', 'dchfpxgy2m', 'xcgzc45gys', 'k0y7xfxmxa', 'fjdm8qhyai', '6gldwx71da', 'gztolll5wo', 'yubkhf9iyh', 'us0qqqhqvj', '16550', 'l0b14sj7jb', '6craekc9wb', 'ypvvqz8jzt', 'yejt18sbm0', 'rcqacn91be', 'e14epzhoth', '22a9d5do6q', 'tammy_w1997', '0szwlwl9qu', 'fqmyprlg9g', '6pm', 'bptzamjl2k', 'tni92fea3u', 'czbamzq3gl', 'jab541hhk0', 'je6zjwh5ub', '0xh758onup', 'ccdx7cglqw', 'cwzhgezaj4', '815', 'zk69ugxmt8', '4cog0otiwn', '254', 'au5jwgt0ar', 'yhyy3o609u', 'werk9qibvv', 'y217ceeemd', 'ucudwiu3an', '4playthursdays', '1716', 'cq7jj6yjfz', '688', 'y7peto0dx2', 'opjwunuvg8', 'bti8jamfiu', 'rinkydnk2', 'neoprogressive1', 'push2left', 'qfjjdxes7g', 'fz1haej255', '290', '4yu5sy1cui', 'ps4', 'cozmo23', '10m', '2baxg1wdpp', 'rt_4_a_mention', 'ths9iqswp3', 'uoozxaus26', 'pw78nbljky', '924', 'hpzhe0cjvf', '20009', 'uhl0akfvsm', 'mj8rezoxlj', 'ppji1tcnml', '0h7oua1pns', '171', 'uhfm1r3tq5', '61st', 'f496d', '4virxkgmpc', 'mw9ambgafq', 'dl60ja06tw', 'fwup9yurzy', 'catwoman1775', 'g5do2x6226', 'tfcdronra6', '45cmaqf8ns', '2jr3yo55dr', 'p1wmkxa9d8', 'wwfacu6nft', 'yi30zgizsw', '2jgvhw7yzs', 'mfjxh4p51u', 'j4fsdpfa63', 'ujk0e5gbcc', '9newsbrisbane', '9newsgoldcoast', 'kd3qsakbi5', 'n6rbnhmtd4', '9y0paj8sxd', 'oldjsowky5', 'vjgr6liaxh', '55jr66plov', 'k2bzuatuks', 'setting4success', 'gam7otgisw', '1023', 'v8aftd9zez', 'kc5kh', 'ghmmuj7gbe', 'u9lvvlzhye', 'lyj57pq3yx', '5b7qt2yxda', 'dylanmcclure55', 'zw5jp46v5k', '2b', 'wox3vprixq', '22pm', 'rln09wke9g', 'tezltqeyw2', '92101', 'u52rw9ji2r', 'gx75w3q9ye', 'muf5czqjrl', 'sslt8esmhy', '20dncthr4d', '1970s', '1890', 'uilpg8i1ev', 'm9pxto2kww', '100000', '828', '864', '803', 'qaqqrjv9gu', 'sr14', '1700', 'qposkp3mwj', 'liveonk2', 'sequwmvfx4', 'qrhjei7grq', 'bitchl0vecannon', 'fz5ew4ihmb', 'yqhfio9xqm', 'jqso4fyzp4', 'f4xnplio5s', 'nh5pkfbfqm', 'vz640xoswj', 'm2hpnoak8b', 'nicolaclements4', '208', '267', '6773', 'ezeisasm0c', 'tzyhdbw9f5', '9nly2tovud', '4ssuyhkgrb', 'tderbtgz2k', '119000', '966', 'eu8jypizsd', 'v5ogr3f5n9', '501', 'pa5sslefec', '6ffylajwps', 'uyyyrkd6q3', '279', '00end', 'ftm4rkl8mn', 'eeenice221', 'swayoung01', '80m', 'ybe9jqoznr', '328szfletz', 'czwjw4uv7i', '660', 'bn7xpzqdm0', 'kpqk0c4g0m', 'xwn7rgvkzc', 'swpdq84boi', 'mvrsyu2ppk', 'njrjxqbjr4', 'q99', '724gq5ebqz', 'h01j9pirie', 'b231ul1o1k', 'mfckpvzfv8', 'sjh0hsrp4s', 'mattcohen4fake', 'h20', 'pe2d3hcsni', '1epiyenqyl', '3enyndxppm', 'gqpi7jmkan', 'oz1ds3xu0d', 'lcnw4ead8v', 'yvafi3zujx', '550', '5040', 'eejrmktj0r', '1979', 'yopeypjkb2', 'h09nydbzov', 'gaotrg4mtr', 'pspm3ahgkq', '5kfovovjso', 'coach_keith44', 'trpreston01', 'n3ow73oasw', 'gs9bmplbhh', 'dunmvj7itl', 'rgdrjv63hf', '17egmlni80', 'nz7ackrrji', 'tytpbc4gwi', 'qhwe5k7xuw', 'nigeltanner1', 'ashton5sos', 'luke5sos', 'zsnsar1tw1', 'lsmx2vwr3j', '6nqru2q5tz', '3460', '499212', '153', '011072', 'jszzqst3xs', '10news', 'paug7a68i0', 'alumrgl40e', '8h2kctfb8i', '5ng0fzpvds', '8000', '4m5uheyfdo', 'byj5dfa2rv', 'pwwpum6rbj', 'yspon4d6qo', 'cubc0nq6fd', 'ufo4ublogeurope', '1pxpoqktjo', 'cbps1gskvo', '7aze4iogme', 'x5yeuylt1x', '2ugrmd1z1n', 'ap9jbrpmqg', 'q9lxo4qkji', 'mmklapx2ok', 'x5xumtoeke', 'ybyp68ievn', 'ld5p1sia2n', '2006', 'gid6jqn8ug', '111020', 'aetgbxm1pl', 'bgaj2oax1p', '2500fps', '45twhj0l6m', 'vbffodtp6m', 'mzk5ujlfcv', 'ub3woz2ut1', '0yl3yt4ylh', 'arkmc7vcln', '17th', 'ficd5qbqwl', 'pqslug4jk5', 'beautiful_juic1', 'tkyonly1fmk', 'pvkgo79jni', 'apod4eivba', 'oc73x', 'nu0d3uannz', 'mariaf30', 'nljvp3vfyz', 'ttb9oil8r2', 'jk7npdpwro', '6xysdn2xz0', 'mjbiuvbmo6', 'i5cdtd8ftj', 'algtcn8baf', 'bz07c9wthx', 'asae15', 'r8ceprqxle', 'bbc5live', 'fp64yosjwx', 'rd10ex6hvt', '87efcbiczm', 'k8bexkgwr2', 'uqva3dfbca', '1yixfg1hdy', 'igz7v24ge9', 'm75dnf2xyg', 'ixfne5jlep', 'as10004', '6wadnmstov', 'uplfsqmr0c', 't5agps7t2b', 'zdpa4dbtsu', 'dmassa5', '2liwkjybe9', 'norge2040', 'cnyvvy4wat', 'iuh718kcy0', '9pqyx4xool', '0fs9ksv5xk', 'i580', 'in8lys7v5l', 'hrc3oxquik', 'wnptvbm5t7', '800', 'yxvmiflvc4', '3ife1zsop7', 'budmke3nnf', 'q2', '2y2wzk1frm', 'pc8bvuflfj', 'em5opytbpg', 'medic914', 'nervana_1', '7nagdsadwp', 'oskfyj8ck7', 'u3wao8asfg', 'hc6hzs4wsi', '0keh2treny', 'lci3pljx25', 'e2dbcpwd9u', 'cavb7pgepv', 'cgfzk8ha1r', 'borderlands2', 'qp6q8rs8on', 'owpd7vcfs6', 'prontouo91', 'sek6mq6njf', 'ik4len', '7k5shaiqiw', 'ej2ghnafhy', 'wvvgmeja7l', '0853', 'odmx36wdhm', 'ipgmf4ttdx', 'rqu5ub8plf', 'av2jsjfftc', 'zdtcw9fsx1', 'f5miuhqaby', '4ftzjk94dt', 'imawvmzs3a', '615', 'jrgj17oamt', '75vlsw85gi', 'txy3us2ejs', '3u6mdlk7di', '4arwwrzpsr', 'mkjq9yfmp8', 'ykuauov9jo', 'puxbc2loyk', 'lwlexxjus8', 'nux5xfpv2d', 'lgpne5hkao', 'jsuhupz6vp', 'n5vrffrbo3', 'jackperu1', 'ta1yqclpsc', 'xtohi1hexy', '704', 'hld5xlywbn', '7l9qazljvg', 'q0hsyfrwec', 'nosvu0zx4x', '5mjzjnkpfn', '3hoikdmocb', 'stw3pg3t0o', 'pqhq4jnztt', 'fx0w2sq05f', 'cdxe5vmzoj', '250000', 'lxjjgyv86a', 'u9x3perxco', 'lvbuw01yoh', 'pg4y3i5ciu', 'sgc72', 'h1xch54kd3', '4jno677zkv', 'silent0siris', 't4axz7kc3s', 'gan14pw9tg', '5n4husewly', 'mmiye1k8zz', 'fblnifda1c', '547', 'nf46paytvw', '67tjn9egyk', 'gyh00mrkjm', 'hxtupra5bc', '3ln8trhw6x', 'hgf52611', 'a3dsmbqkwu', 'gghfx8pzmh', '2lbtshxi3c', '0jmkdtcymj', 'ems1', '4oa6swlxmr', 'zwvyisyp2b', '8c3fploxcr', 'cbgz9xun2k', '5ydb4s13pf', 'oyogii97yh', 'jasminehuerta24', 'etyzy8gb2a', 'erws6ieldg', '631838', '79', '55807', 'vku3rtoz1j', 'tonycottee1986', 'lsqe7nu6kl', 'dn5buo7gsk', 'bgytmqj3oo', 'rm6cnzkszl', 'ihhrkg4v1s', 'aryu5qngjj', 'auezxza5ak', 'b0zwi0qptu', 'mesgcngaz0', '7zlsumiess', 'tdcch01n7q', 'yg32yb2jdy', 'ex6jzqj3ni', 'swvuzxi6gt', 'xrp0rtkffj', 'dcdecfv934', 'dwbc1duvdk', 'babmf0w2yw', 'eganator2000', '712c', 'gjbainqwn9', 'jphgpl1c5x', 'rqkk15uhey', 'easlgea1b7']\n",
            "With punctuation: ['hail_youtsey', 'û_', '_gaabyx', 'early__may', 'til_now', 'marc_holl', 'mathew_is_angry', 'z3ke_sk1', 'derailed_benchmark', 'chubbysquirrel_', 'hurricane_surge', 'aftershock_delo', 'how_fans', 'atl_events', '_edvinnn', 'dzafic_haris', 'aria_ahrary', 'ptsd_chat', 'onu_france', 'rockefeller_chi', 'noah_anyname', 'vì_a', 'camilla_33', 'lì_cke', 'chloe_bellx', 'jenniferarri_', 'luke_winkie', 'based_georgie', 'rubi_', 'adrian_peel', '_one', 'fnaf_talkmc', 'haji_hunter762', 's_casualty', 'ayhoka_', 'foxy__siren', 'adriasimon_', 'espì_rito', 'nemesisk_pes', 'kevr_7', 'michele_nfpa', 'yu_nita99', 'sport_en', 'lauren_miller_7', 'hough_jeff', 'vienna_butcher', '__scrambledeggs', 'runner_joy', 'david_cameron', 'helene_yancey', 'jessica_stclair', 'chelsea_dogs', 'heebsterrr_', 'louis_tomlinson', 'suny_orange', 'jt_ruff23', 'hail_zel', 'lwilliams_13', 'blazing_ben', 'allen_enbot', 'å_', 'ian_bartlett', 'matt_kroschel', 'tsunami_esh', 'brasì_lia', '_charleyisqueen', 'adanne___', 'voodoo_ben', 'king_naruto_', 'be_ram0s', 'siren_song21', 'bekah__w', 'stupid_niggr', 'tmid_', 'pete_r_knox', 'zacb_', '_explicitpretty', 'traplord_29', 'aida_de', 'i_electrocute', 'û_https', 'bre_morrow', 'fionagilbert_', 'battle_dom', 'paul_staubs', 'toxicsavior_', 'tim_a_roberts', 'lenn_len', '_ashj', 'tiara_marei', 'chambered_blood', 'ian_hellfire', 'ego_resolution', 'bill_roose', 'el_torro_loco', 'epic_insanity', 'o_o', 'local_arsonist', 'ter_ell', 'kiwi_karyn', 'earths_voice', 'vì_deo', '_pokemoncards_', 'neil_eastwood77', 'lightning_ooc', 'jake_adavis', 'fatality_us', 'û_ahhh', 'û_that', 'warlord_queen', 'tim_micallef', 'tianta_', 'fvck_casper', 'tiggr_', 'space_wolverine', 'siren_voice', 'grant_factory', 'scmp_news', 'james_justus', 'cameron_wate', 'û_1', 'û_one', 'û_you', 'chemical_babe', 'vivian_giang', '_stiiilo', 'dani_riot', 'zak_bagans', 'maddzz_babby', 'c_pinto001', '_minimehh', 'icc_realckt', 'kemal_atlay', 'newz_sacramento', 'afk_10', 'dr_johanfranzen', 'deals_uk', 'mark_argent', 'rt_america', 'rt_com', 'mayhem_114', 'smoak_queen', 'robot_rainstorm', 'tj_robertson2', 'matt_bez', 'weyrey_gidi', 'morning_joe', '_freemarketeer', 'themale_madonna', 'hrips_k', 'lobo_paranoico', 'time4me_sews', 'jishin_e', 'willie_am_i', 'benji_devos', 'trillac_', 'nsit_', 'soonermagic_', 'tony_burke', 'omar_molina036', 'milioooo_', '__', 'surf_photo', 'mind_mischief', 'tsunami_nopeach', 'real_liam_payne', 'david_hurn', 're_shrimplevy', 'po_st', 'atheistic_1', 'ritzy_jewels', 'barbi_twins', 'mutek_montreal', 'msf_sea', 'raabchar_28', 'no_periferico', 'leicester_merc', '_chelsdelong12', 'kendra_leigh13', '3_6_12', 'kennethbauer_', '_wildfire__', 'collideworship_', 'vì_sterì', 'faze_rain', 'chief__cg', 'savannahross_4', 'japì_n', 'cw_hoops', 'macdaddy_leo', 'iembot_hfo', 'ìøåàå_t', 'wild_lionx3', 'izi_garcia', 'brento_bento', 'û_turns', 'û_t', 'josh_lado', 'durban_knight', 'nosy_be', 'sincerely_tsunami', '_itsmegss_', 'queenwendy_', 'dr_baseball41', 'squibby_', 'sw_trains', 'gg_keeponrockin', 'lexi_purduee', 'hyider_ghost2', 'å_å_los', 'jones_luna', 'spencer_fearon', '__srajapakse__', 'captainn_morgan', 'hurricane_dame', 'art_brut_', 'gordon_r74', 'truly_stings', 'dead_dreamer15', 'moscow_ghost', 'sayed_ridha', 'amin_akh', 'k_matako_bot', 'molly_the_tanz', 'eeasterling_2', 'muazimus_prime', 'blizzard_fans', 'teena_797', 'darryl_brooks', 'blizzard_draco', 'alexis_sanchez', 'd_pagexxi', 'hurricane_dolce', 'anarchic_teapot', 't_t', 'bang_me_up_guk', 'lolly_knickers', 'mi_country_hick', 'samel_samel', 'demolition_d', 'dnj_com', 'la_siren', 'abran_caballero', 'casper_rmg', 'cm_nevalistis', 'nagel_ashley', 'frackfree_eu', 'tarleton_sophie', 'r_lauren83199', 'wsaz_brittany', 'mr_aamir_javaid', 'argus_99', '_bookofdaniel', 'peterdutton_mp', 'vitì_ria', 'eles_kaylee', 'steel_lord', 'lesley_mariiee', 'cyclone_reizei', 'itss_selenaluna', 'jolly_jinu', 'jason_floyd', 'dirk_trossen', '_itzsteven', 'whopper_jr_760', 'ou_wbball', 'kotolily_', 'angel_star39', '_keits', 'liva_gotta', 'frobeus_ns', 'hendy_21', '_asianshawtyy', 'dramaa_llama', 'yourboy_shawn', 'blizzard_gamin', 'godof_mischief_', 'justin_ling', '_301dc', 'cloudy_goldrush', 'mili_5499', 'zenande_mcfen', 'haley_whaley', 'ofentse_tsie', 'weapon_x_music', 'clnv_', 'bree_mars', 'kijima_matako', 'tammy_w1997', 'random_tourist', 'author_mike', 'rt_4_a_mention', 'jeddah_saudi', 'georgous__', 'devon_breneman', '_dangdaddy', 'billharris_tv', 'trillrebel_', 'coach_keith44', 'dw_english', 'guy_reginald', 'joonma_', 'beautiful_juic1', 'madisonpa_', 'aace_org', 'nervana_1', 'candace_dx', 'usatoday_nfl', 'robthier_en', 'hellfire_ev', 'groupon_uk', 'i_amtalia', 'ag_usa', 'thehammers_', '_dmerida']\n",
            "Hashtags:         []\n",
            "Mentions:         []\n"
          ]
        }
      ],
      "source": [
        "investigate_vocabulary(vectorizer.vocabulary_)"
      ]
    },
    {
      "cell_type": "markdown",
      "metadata": {
        "id": "bfNLaxX93HvM"
      },
      "source": [
        "## Задание 6 (0.5 балла)\n",
        "\n",
        "Вспомним, что на семинаре по текстам мы узнали, что в nltk есть специальный токенизатор для текстов - TweetTokenizer. Попробуем применить CountVectorizer с этим токенизатором. Ответьте на все вопросы из предыдущего пункта для TweetTokenizer и сравните результаты."
      ]
    },
    {
      "cell_type": "code",
      "execution_count": 620,
      "metadata": {
        "id": "xnlRoXUS3HvM"
      },
      "outputs": [],
      "source": [
        "from nltk.tokenize import TweetTokenizer\n",
        "# Чтобы узнать, какие параметры есть у этого токенайзера - используйте help(TweetTokenizer)\n",
        "# Для того, чтобы передать токенайзер в CountVectorizer используйте параметр tokenizer"
      ]
    },
    {
      "cell_type": "code",
      "execution_count": 621,
      "metadata": {},
      "outputs": [],
      "source": [
        "tweet_tokenizer = TweetTokenizer()"
      ]
    },
    {
      "cell_type": "code",
      "execution_count": 622,
      "metadata": {
        "id": "8lPMIf6UKccT"
      },
      "outputs": [],
      "source": [
        "vectorizer1 = CountVectorizer(tokenizer=tweet_tokenizer.tokenize)\n",
        "\n",
        "# обучите векторизатор на текстовых данных\n",
        "X_train = vectorizer1.fit_transform(train_new['text_all'])\n"
      ]
    },
    {
      "cell_type": "code",
      "execution_count": 623,
      "metadata": {
        "id": "7oR5kNKVLLpm"
      },
      "outputs": [
        {
          "name": "stdout",
          "output_type": "stream",
          "text": [
            "With digit:   ['20collapse', '2015', '60', 'http://t.co/t5trhjuau0', 'b1g', '@bmurph1019', '@termn8r13', 'http://t.co/oaskgki6qj', 'http://t.co/di8elzswnr', '20accident', 'http://t.co/tagzbcxfj0', 'http://t.co/xxfk4khbiw', 'https://t.co/mkx6ux4ozt', 'https://t.co/ma4ra7atql', 'http://t.co/cg579wldne', 'http://t.co/7xglah10zl', 'https://t.co/musbik7ejf', '2', '20bag', '35', '7.23', '419-3', 'http://t.co/hcdiwe5flc', '@roughdeal1', '65', '11', '20bombing', '@jackmulholland1', 'https://t.co/czdw8oowa2', 'http://t.co/zl7ojdaj3u', '6', 'http://t.co/lkjfabqzb3', '20burning', '@1acd4900c1424d1', '20fires', 'http://t.co/ns1aggfnxz', '2.0', '3m', 'http://t.co/od250zshfy', 'http://t.co/wd9odwjj9l', '20on', '20fire', '#tweetlikeitsseptember11th2001', '20spill', 'ks100', 'http://t.co/7o4lnfbe7k', '20responders', 'http://t.co/tl93aod3er', '20', 'http://t.co/obix79ncxn', 'http://t.co/z8r6r3nbtb', 'http://t.co/namffldh5h', '53inch', '300w', '4x4', 'http://t.co/o097vsotxk', 'http://t.co/i23xy7iejj', '5', '5:00', '06', 'http://t.co/thhjjw51pe', '01-06', '325ci', '2.5', 'http://t.co/c211hise0r', '10', 'http://t.co/xbznu0qkvs', 'http://t.co/jlczidz7vu', '@mylittlepwnies3', '80s', 'http://t.co/lhw4vtbhzg', 'http://t.co/yh5vetm0yz', 'http://t.co/17wgug8z0m', '1', 'http://t.co/073izwx0lb', '18', '3', 'http://t.co/e7fn5g5ruu', '75k', '52k', 'http://t.co/shhlv4dplz', '20storm', 'http://t.co/sf5jdnvdw9', '20wave', 'http://t.co/k9airfq3ql', '20reactor', 'http://t.co/ys3nmwwyvc', 'http://t.co/alpotnb7q3', 'http://t.co/wlmsq3mtho', 'http://t.co/gxq1auzb18', '40', 'http://t.co/uelz59wvom', '@z3ke_sk1', '20buildings', 'http://t.co/6ds67xai5e', 'http://t.co/y87gi3brlv', 'http://t.co/1zbhvdcxzs', '@raishimi33', 'http://t.co/yqjpn3quux', 'http://t.co/wk6b5z803o', 'http://t.co/kcrnmjkj73', 'https://t.co/gajtugaui7', 'http://t.co/mnkaji2q1n', '33333', 'http://t.co/9vw0uqqi1y', 'http://t.co/tyjxrfd3st', 'https://t.co/j3di85ist5', '@swb1192', '@ameenshaikh3', 'http://t.co/1ybe5mgzl4', 'http://t.co/7zog3dpdu9', 'http://t.co/tilgurkv7z', '405', 'http://t.co/91jvycxxvi', '50', 'http://t.co/saf9mosksn', 'http://t.co/qfrawln4ba', 'http://t.co/cd2ng2awql', 'http://t.co/2wbivkzjip', 'http://t.co/4mjyw7p7cf', 'http://t.co/vcq2icptki', 'http://t.co/a8jz5a26wi', '20murderer', 'https://t.co/ii2spvp89b', 'http://t.co/rodpt33xfm', 'http://t.co/0bvk5tub4j', 'https://t.co/nps3xpbkaq', 'xb1', 'http://t.co/vpvj5hrc1i', 'https://t.co/8tygo0kizz', '1st', '300', 'http://t.co/h1xigcen7f', 'http://t.co/pw3tzu0tay', '20up', 'http://t.co/9giaxd6jty', '19', 'http://t.co/oogoto76uz', '2013', 'http://t.co/xc96rwuszb', 'http://t.co/xm9stfzcpv', '@robertmeyer9', 'http://t.co/r1cnsjuayq', 'http://t.co/dq1ylcrf9k', 'https://t.co/ohcx3y8l4s', 'http://t.co/hfvnyft78c', 'http://t.co/8j4rdwyjwu', 'http://t.co/9mkzpzfkl2', '48.870833', '2.399227', '9000', '1800', 'http://t.co/x8i0mhyrmn', '20disaster', 'https://t.co/k4zomof319', 'https://t.co/s2kxvm0cba', 'http://t.co/qsheu3yf0w', '1943', 'http://t.co/sqfp6ecz0i', 'http://t.co/oef123l5rc', 'http://t.co/u2do2mc2ri', 'http://t.co/3om3xw6cz8', 'mh370', 'http://t.co/i1eeuxxz3a', '#wattys2015', 'http://t.co/g891m9gh4r', 'http://t.co/xq92x4bvg3', '@mirrorlady2', 'http://t.co/6hhmbdk9yo', 'http://t.co/m4tczaawpt', 's5', 'http://t.co/cas8xc2dfe', 'http://t.co/hpd3snm6oy', '#9973', '16.99', '0', 'http://t.co/gsmddmu9pu', 'http://t.co/1sgzgtgfw9', 'b4', '12hr', '4', 'http://t.co/l9fjpnszuo', '0.0', 'http://t.co/mskn6d3ekh', '21', 'http://t.co/2fs649qdwx', 'http://t.co/kltit88as3', 'http://t.co/x9mdhocpda', '616', 'https://t.co/wwu070tjej', 'b2', '8/', '5/2015', '6:52', '15000270364', 'http://t.co/nyv51681ue', 'http://t.co/9rfo9gy3ne', 'http://t.co/o82yvxbztv', 'http://t.co/n5kmxuverg', '1.50225', '103.7429', '92', '@vj44', 'http://t.co/uwobuuw2mk', '@eac4au', '9/15', 'http://t.co/fvp3wnid4l', 'http://t.co/qelroci7by', 'http://t.co/hy5pbe12tm', 'http://t.co/c1njpli5or', 'http://t.co/1qochspybw', 'http://t.co/kiildu8gpo', 'https://t.co/wudlkq7ncx', '11:00', 'http://t.co/fqv47ob8ge', 'http://t.co/cwm0ulqu3e', 'http://t.co/cx6aupnemu', '434', '400000', 'ûò800000', 'https://t.co/txzxcnudr8', 'http://t.co/b1bx0eruep', 'http://t.co/bgy4i47j70', 'http://t.co/ixjqg1sx6u', 'https://t.co/8owc41fmbr', 'http://t.co/ohbv7yvtl5', 'http://t.co/ymuti3nd9r', '74/75', '20murder', 'http://t.co/t7ge0j3cay', '@camilla_33', '304', '@wbcshirl2', '@rodarmer21', '20bomb', '16yr', 'http://t.co/zbzc8905gl', '2day', 'http://t.co/dno7qxcffh', 'http://t.co/ia1hngnhvb', '@marek1330', 'http://t.co/ffkcj8pfj2', '@music212', 'http://t.co/5v29w19tfx', 'http://t.co/enrjh5qkve', '#windows10', 'http://t.co/3fzidhqrk3', '@stankyboy88', 'http://t.co/acfi2rhz4n', 'http://t.co/pst5bbq0av', '495', '31', '97', '90', 'http://t.co/nkkctttsd9', 'http://t.co/cybksxhf7d', 'http://t.co/vcjcykq8b8', 'http://t.co/8qc8bcxoko', 'http://t.co/bytbz8s5ux', '#034', '8-p', '2.1', '5s', '5c', 'http://t.co/o3wvsclicx', '14', 'http://t.co/4evttqpeia', 'http://t.co/ue78c7egox', 'http://t.co/ap30pszkvx', 'http://t.co/9vd6x4wdoy', '70', 'http://t.co/ltvvpflsg8', 'http://t.co/3g79prayyc', 'http://t.co/isi1rllct0', 'sr37', '1141', 'http://t.co/mylieruxk1', 'http://t.co/kah1kmtrj7', '33.209923', '-87.545328', '9', 'http://t.co/qmo1txxdkj', '2usa', 'http://t.co/tngye2fklv', '20bags', 'http://t.co/y46isyzkc8', 'http://t.co/0xa6fcjyec', 'http://t.co/8cpcz2xohb', 'http://t.co/c5ggszugw1', 'http://t.co/2pimg9bice', '@glosblue66', '20plan', '20failure', 'https://t.co/sjkgjxff2r', 'http://t.co/m8ufjdtlsm', '48', 'http://t.co/a6ppegelox', '39', 'http://t.co/e0uusnpsq5', 'https://t.co/utc7pdidfo', '@haji_hunter762', 'http://t.co/oioecbsh1f', '@tomarse99', '20emergency', '24', '09', '#06', '#24', '#09', 'http://t.co/hxwfbpp1b3', '33.104393', '-96.628624', '08780923344', '2327564', 'http://t.co/t1mbw0ia3o', 'http://t.co/clfa0py5lm', 'o784', '4103', '@calum5sos', 'http://t.co/dih1tgqhej', 'http://t.co/jlwgshyy3n', '#round2', 'http://t.co/fqqi8gvlq4', '#hwy401', '8', 'http://t.co/aprensss3x', 'http://t.co/xizkjfff29', 'http://t.co/grzchkdf37', '10:15', 'http://t.co/n844h1aspj', 'https://t.co/sz2rvwpwhj', 'https://t.co/lajx578dru', 'http://t.co/p4doa5yyje', 'ep016', '2015.08', 'http://t.co/ejkrf8n8a8', 'http://t.co/sphwe6wfi5', '375', 'http://t.co/d7zxz42qw1', '@mort3mer', 'http://t.co/jcdd6sd6qn', 'http://t.co/9guckjghms', '55', 'http://t.co/8jcyxhq1az', '@kevr_7', 'http://t.co/wj7ujfs8fd', '20fall', 'http://t.co/tbqsqtmqv4', 'http://t.co/e1vkc2efst', 'http://t.co/beua507iug', '100', 'http://t.co/wvlah8jrxe', 'z10', 'http://t.co/sd7loww9nu', 'http://t.co/7hkavtvx81', '2pm', '2nd', 'http://t.co/ja3w1s3tmr', 'http://t.co/wqikqx9e3w', 'http://t.co/kncm9jc8i9', 'http://t.co/jvivt6zrv7', 'http://t.co/ss1zl36y9v', 'http://t.co/p3g3bqbczu', 'http://t.co/rpbxdfnx5k', '6615434', 'http://t.co/dmlj1agotw', 'http://t.co/qmif0blwoa', 'http://t.co/l6pif3lpen', '@chrisman528', 'http://t.co/enpjcfma8l', 'http://t.co/moa0q0aufa', 'http://t.co/nkou7zwwrt', '20zone', '17.beyonce', 'http://t.co/wvj39a3bgm', '@dieanpink95', '@yu_nita99', '20bomber', 'http://t.co/pioy1o54f4', 'http://t.co/e9yfe3p7p1', 'http://t.co/8gzbgmmaa1', '@lt3dave', 'https://t.co/orxdqfz0j0', 'http://t.co/vn0accf6d4', 'https://t.co/of3td6dglb', 'http://t.co/5ytiex55lh', 'https://t.co/ysxun5vceh', 'http://t.co/i7eskymoec', 'http://t.co/efcn9ivnfg', 'http://t.co/7cibxls55f', 'http://t.co/bbdpnj8xsx', 'http://t.co/s7vygenjuv', 'http://t.co/xfhh2xf9ga', '@joeybats19', 'https://t.co/rqwuoy1fm4', 'http://t.co/dili5jhmur', 'https://t.co/ndxrk2ncln', 'http://t.co/th9ywbbeet', '25', 'http://t.co/6sdtzsgelq', 'http://t.co/7npbfrzejl', 'http://t.co/y0kbyy8nce', 'l9udest', 'http://t.co/btpqdehl3p', '9pm', 'http://t.co/4hngtkdqmv', 'http://t.co/l1gh8064yv', 'http://t.co/k9fbtccu58', 'http://t.co/xyj0rpsai2', 'http://t.co/jkpjpch9i6', '@chrisdyson16', 'http://t.co/iylvzy3cob', '<3', 'http://t.co/teq7sri57p', 'http://t.co/pdehd1tcpk', 'http://t.co/targ56igbz', 'http://t.co/wz55nbyao3', 'http://t.co/l7pmdmejs1', 'http://t.co/mdp2ni1pqu', 'https://t.co/9cpwiecegv', 'http://t.co/rzlytnez2u', 'https://t.co/86v81dv00e', 'http://t.co/h132iul7mu', 'http://t.co/e1kbludwh5', 'http://t.co/nkaw9ezqgg', 'http://t.co/u4gsbnu8wc', '77', '8437150124', '#360wisenews', 'http://t.co/eatfro3d5x', '1.9', '5km', 'http://t.co/v3azwoamzk', 'http://t.co/rny4l3sr7a', 'http://t.co/igx8xfz8ko', 'http://t.co/gk4unpznhn', 'http://t.co/qr6btdcqcj', 'http://t.co/d1vjoyg52a', 'http://t.co/chorr2xovp', 'http://t.co/tqh5amoknd', 'http://t.co/bm0sxzbnke', 'http://t.co/92fwtobi3u', '4:8', 'http://t.co/12giqbvlys', 'http://t.co/jwfiilj8wr', 'https://t.co/czqr3ci9xw', 'http://t.co/b77t2qxdcs', 'http://t.co/25sy9y295l', 'http://t.co/q8reoevlue', 'http://t.co/jlzk2hdetg', '@judson1360', '@xtra1360', '3g', 'http://t.co/comuiok3mp', '@welshninja87', 'http://t.co/tuvbr4lep3', 'http://t.co/cpeqv52lna', 'http://t.co/72ix7vm87w', '@ageekyfangirl14', 'http://t.co/fs4y1c9mnf', '23', '60th', 'http://t.co/l8w30wfw3r', 'http://t.co/icrzi5tqc5', 'http://t.co/onxhkfhn2a', '8:', '16', 'http://t.co/hu5cxqnobf', 'http://t.co/uymxocfs33', '@lauren_miller_7', 'http://t.co/lgglf5yrme', 'http://t.co/s2wm8lh7oo', 'http://t.co/n00dvxega2', '#b2b', '#b2bagency', 'http://t.co/6vei1mhea4', '@samanthaturne19', 'http://t.co/n71hmvervv', 'http://t.co/u6isxv2f3v', '213-4678', 'http://t.co/o2jd4tbrwa', 'http://t.co/jfx6qiyivf', 'http://t.co/lma39zrwoy', '75', '7:15', '05', '9:12', '9:45', 'http://t.co/ayfdjeb7hy', 'https://t.co/vnni3zzuz6', 'http://t.co/28t3nwhdky', 'http://t.co/pdosrg8cf7', 'http://t.co/kpvymhm2ub', 'http://t.co/phixznv1yn', 'http://t.co/6tvvlg2fni', 'http://t.co/7mlcd0l0b8', 'http://t.co/nlbltynv36', 'http://t.co/cjvbqxw83s', 'https://t.co/ih8udz8mq3', 'http://t.co/uqnj6nk9y3', 'http://t.co/3og66nfsig', 'http://t.co/uhf7nyabsw', '15', 'http://t.co/nonm8c6l8p', 'http://t.co/st5fgblsye', 'http://t.co/0uk0h9hozn', '101', 'http://t.co/ujrx9kgawp', 'http://t.co/ja0wgp8spe', 'http://t.co/ryah8fni5q', 'http://t.co/26oo0fcl53', 'http://t.co/ipwysnik0g', '20services', 'http://t.co/gkye6gjtk5', '4.1', 'http://t.co/jejc9xctmp', '917-033', 'http://t.co/wxces39zte', 'http://t.co/4ryzmzsgdw', 'http://t.co/mgr809yc5a', 'http://t.co/uzwxjbg0zh', 'http://t.co/pbya7uv3v5', 'http://t.co/f1bakpnyn6åê', 'http://t.co/lzxwoaye4x', '6/2015', '@2', '2781', 'http://t.co/vckit6edev', 'http://t.co/6mbpvwitxf', '20bang', '@mmchale13', 'http://t.co/vbsj8tniv1', '20bagging', 'http://t.co/nf4iculoje', 'https://t.co/463p0ys0eb', 'http://t.co/fu1btuq1et', 'http://t.co/bp8bm8xsxw', 'http://t.co/p6cylz5lpt', 'http://t.co/jpu9gips9f', 'https://t.co/ndjja4d5o8', 'http://t.co/l7bjsq0y2o', 'http://t.co/blcbabm7a1', '30', 'http://t.co/u1fuwrgk5u', 'http://t.co/vg8hrbebda', 'http://t.co/x1xj0xvtj7', 'a1', '90blks', '8whts', 'http://t.co/dnu5hwsxo2', '27', '123', 'http://t.co/u66kyg11zd', 'http://t.co/defj7xekgx', 'http://t.co/kxewlhh7uw', 'http://t.co/qnvxj2palj', 'https://t.co/rqiuqxnm2x', 'http://t.co/rgyuakc0dr', 'http://t.co/ba2rrxugsg', '70years', 't.co/8vzl1ns2io', 'https://t.co/p5zicjudxo', 'http://t.co/kzhb8zx6yc', '302', '13', 'http://t.co/uz1yiz7n6m', 'http://t.co/ijwar15h16', '158-1017', 'http://t.co/lw9o2kdk18', '#ihave44episodesofgg', 'http://t.co/weudlkc4o4', 'http://t.co/trl1dskf81', 'http://t.co/qzvkpahsq7', '20truck', '180', '999', 'http://t.co/zdtz3rbs6w', '29pm', '9:15', 'http://t.co/o8x4m5er6b', '(415) 751-0880', 'http://t.co/5fhkxtrhyu', 'http://t.co/ioq051t5te', '#629', 'http://t.co/klxaucnp5i', 'http://t.co/lhdcpnzx6a', '88-92', '5th', 'http://t.co/3ugfpwmy2x', 'http://t.co/l2nmywrmq2', 'http://t.co/bozlwr716z', 'http://t.co/c9t2f6dltm', 'http://t.co/mzqq5pai8g', '1313', 'http://t.co/wj0u59mppb', '900037', 'http://t.co/6ime8kjacv', '70th', 'http://t.co/qreinwg0gs', '9am', 'http://t.co/c0slabbp7j', '7', 'http://t.co/ge0yd3mkav', '2015-16', '3:15', 'http://t.co/80dzgco6vc', 'http://t.co/qwo7q1amh8', 'http://t.co/esrkmazeq9', 'http://t.co/udkesj01ml', '05th', '20:29', 'http://t.co/yqyiwjn8ez', 'http://t.co/bqblwiw08g', '#osi2016', '10th', 'http://t.co/tbm9fqb8cw', 'http://t.co/mcsek4hx5s', 'http://t.co/iifgaz0fil', '@jt_ruff23', '25573', 'http://t.co/btjpeo0bto', 'http://t.co/clyj32l333', 'http://t.co/dlaub2nvtn', 'http://t.co/xpfmr368uf', 'http://t.co/nmaumydke1', 'http://t.co/jzprciqa9d', 'http://t.co/fj7kcrlir7', '2k13', 'https://t.co/7mlmsuzv1z', '32215', 'http://t.co/m5rjekvddp', '2pcs', '18w', '4wd', 'http://t.co/1qt51r5h98', 'http://t.co/oqh1jbuenl', 'http://t.co/bagef9lfgt', 'http://t.co/bvxqa3kfrx', 'http://t.co/emvohm9m6j', '17', '2/2', 'http://t.co/hhwv0eudfv', 'http://t.co/kmndkfa7me', 'http://t.co/emrzicb004', '@lwilliams_13', 'http://t.co/20b3pnqxmd', '6.4682', '3.18287', 'http://t.co/kee1tytz15', 'http://t.co/spe7u8t40k', 'http://t.co/ohyd7hhcpe', 'http://t.co/fqj5aga1pd', 'http://t.co/x8zqbwnfo1', 'http://t.co/f4lhfmehzh', '@pattyds50', '12', '72w', 'http://t.co/mjmwa72er6', 'http://t.co/adx9iyi246', 'http://t.co/x9ofv1kmv7', 'https://t.co/b19z8vi3td', 'http://t.co/yvv1rlghft', 'http://t.co/t81oayjowc', 'http://t.co/0dqjeretxu', 'http://t.co/ik7mgidvbm', 'http://t.co/af1yzus8ln', 'http://t.co/2ii3brc7nx', '@kshllcenterpri1', '@progress4ohio', 'https://t.co/4zmcqrmois', 'http://t.co/l9ekhnkbar', 'https://t.co/y3fo0ghg8t', 'http://t.co/layzba9y8h', '6th', 'http://t.co/orjb3j803f', 'http://t.co/cqyvfr4ucy', 'http://t.co/p9rymfjcux', 'http://t.co/yojkfqej6s', '8m', 'https://t.co/0ghk693egj', '#hs2', '178', 'http://t.co/lzml1xb2nh', 'http://t.co/1krpz3j1eu', 'http://t.co/g37hujx6et', '#msgdoing111welfareworks', '65000', 'http://t.co/5cgtqfk2ur', '3am', 'https://t.co/nmtlpo4b58', '360', 'http://t.co/y2jt1amyfj', '3rd', 'http://t.co/7nu7prxeul', 'http://t.co/rw8b50xz9m', 'http://t.co/2z8ubsy5m8', 'https://t.co/3kob7xbea0', 'http://t.co/7dyoglhmre', 'http://t.co/hkm3rtd4zf', 'http://t.co/mj2jq2psv6', 'http://t.co/swwylrk0fv', 'http://t.co/6sdgz5dxnt', 'https://t.co/bjzssw4tid', 'http://t.co/o207jyabyz', 'http://t.co/cjctb2ocxg', 'http://t.co/ugzu9iqprw', 'http://t.co/wc69xajis4', '@ledofficial1', '1/2', '412', 'http://t.co/a8nmdkd3rv', 'http://t.co/tq3j2qgtzq', 'http://t.co/igxrqpotm7', 'http://t.co/3kpbu6hgt5', 'http://t.co/gl4mcax0ny', 'http://t.co/3sicroaanz', 'http://t.co/i27oa0hisp', '143', '2007', 'http://t.co/f1tcbg1mki', 'https://t.co/is2idc3ubj', 'bb4sp', 'http://t.co/sayzt2oagm', 'http://t.co/u7vavyrgv9', 'https://t.co/zrzejpef5j', 'http://t.co/amea3lamdj', '911', 'http://t.co/yo3t8qho9h', 'http://t.co/8odtzmvqar', '64oz', 'http://t.co/9cntp3nq6o', 'http://t.co/qdf6asaelm', '@benjm1', '@b1grego', 'http://t.co/vbhu2t8wgb', 'http://t.co/n3yjb8tcpm', 'http://t.co/udj50j3mv4', '666', 'https://t.co/dhggxo7mcc', 'http://t.co/5ortb8p51c', '2012', '96355', '50-50', 'http://t.co/i8sj1kws1d', 'http://t.co/5bdrfu1duo', 'http://t.co/o61h2taae4', 'http://t.co/n95igskd3p', 'http://t.co/tzszmf2qxe', 'http://t.co/esemjrn5cc', 'http://t.co/pue5xnznqb', 'http://t.co/ecd7hizja1', 'http://t.co/gvj7slbelp', 'https://t.co/qadrkejz9t', 'http://t.co/5dujgypima', 'http://t.co/sywuel7yyx', 'http://t.co/lkz5cnynxx', 'http://t.co/mfsbwpj0ce', 'http://t.co/pnssia5e46', 'http://t.co/9v1rvcomh2', '11:30', 'http://t.co/e3l1jqjh2u', 'http://t.co/7vcezi6cbb', 'http://t.co/azovgv4sb6', 'http://t.co/qv7iydovx9', '312', 'https://t.co/ofecs6tcvc', 'http://t.co/q2eblokeve', 'http://t.co/encmhz6y34', 'x1441', 'http://t.co/cvjyml7krm', 'http://t.co/fph01u3eii\\x89û\\x9d', 'http://t.co/mcc76xowli', 'http://t.co/uqkx5vbium', '4000', 'http://t.co/igll3ph6o1', 'http://t.co/1xpw292tje', '21.462446', '-158.022017', 'http://t.co/9qpg0z3rh9', 'http://t.co/bjvfk1ete9', 'http://t.co/dzlense1gw', 'http://t.co/im2hdsklq5', 'http://t.co/iwsdbgd1zq', 'http://t.co/wpilp4mymf', 'http://t.co/8nhd9idajs', 'http://t.co/psbxl1hvu3', '@be_ram0s', 'http://t.co/dsb3ldfuxu', 'https://t.co/ttq9ilhp8w', 'http://t.co/lxvlqvbc8r', 'http://t.co/acmrm833zq', 'http://t.co/lzob8qoh1b', 'http://t.co/1pdjoq4jc1', '600', 'http://t.co/pjigxpvpl0', 'http://t.co/qyu8grorq1', 'http://t.co/nn6y0fd3l0', 'http://t.co/bz3ir4gmwj', 'http://t.co/7mzycu2iho', 'http://t.co/s0ktiliskq', 'http://t.co/olpbmy9xw9', 'http://t.co/on18cqgcoa', '22', 'http://t.co/2q3fuerey5', 'http://t.co/5bgcw3ezb5', 'http://t.co/tfan6qq2ys', '5/6', 'http://t.co/eujgu1hvvx', 'https://t.co/itfbbz9xyc', '130', '1980', 'http://t.co/6ioabsl6i7', '@ophiuchus2613', '9-11', '#1008pla', 'http://t.co/go0pkrfzmf', 'http://t.co/5hkgxzjlmx', '@siren_song21', '1200', '83', '2014', 'http://t.co/ek6kyhxpe9', 'http://t.co/yn6nxoucr1', 'http://t.co/wc8aqxedf7', 'http://t.co/iqj1z3jxx8', 'https://t.co/tm5hthfdo0', 'http://t.co/ik8m4yi9t4', 'http://t.co/dmb6xp966d', 'http://t.co/u2es0uk1u3', 'http://t.co/bgrab7lk8d', '@noahj456', 'http://t.co/xnto3jmmts', 'http://t.co/cfevtrsc1u', 'http://t.co/vfctrzaok2', 'http://t.co/acb0ryenuo', '205', '478', '5:36', '@michael5sos', 'http://t.co/lnzi7o166y', 'http://t.co/tmpfwjpi6i', 'http://t.co/qh5axvhwh5', 'http://t.co/1pdnlsp8xw', 'http://t.co/0wbecdmhqo', '253', 'http://t.co/a2ss7pr4gw', 'http://t.co/j2pykyo0en', 'http://t.co/14wh0pjj2c', 'http://t.co/xyi5fdacxo', '@georgefoster72', 'http://t.co/3brme6sn4t', 'https://t.co/sb3rjqqzix', '@tomdean86', 'http://t.co/m0dap5xlwo', 'http://t.co/ghghqm9e6d', 'http://t.co/5pmikavykl', 'https://t.co/sks5jccrj2', 'http://t.co/vsoxkbt6nq', '#tms7', 'http://t.co/985dwwpdet', 'http://t.co/wmdihdiz1r', '367', 'http://t.co/emdjnnltp0', 'http://t.co/fxdh3u8bq3', 'http://t.co/e9d9lk5fdw', 'http://t.co/3htj2pypsg', '53143', 'http://t.co/i9dspdkruk', 'http://t.co/nep5azwkna', 'http://t.co/xlq8g6vb2r', 'http://t.co/k5fijankjb', '@nicklee8', '25.5', '12.5', 'http://t.co/xy41z0o5ei', 'http://t.co/vg7jnah0iw', '08/3', 'https://t.co/7vsqqsvgni', '7supportph', 'https://t.co/cezhq7czll', '1620', 'http://t.co/ssn1mxsfoa', 'http://t.co/fw8elbnap7', '4500', 'http://t.co/vijfnhl630', 'http://t.co/9jxb3rx8mf', 'http://t.co/b5s5epj7um', 'http://t.co/hpa9gqrywa', '2011', 'http://t.co/qdmvtj4lzj', '@4tiles', 'http://t.co/2nip3d15dx', 'http://t.co/qpur3vd7hl', 'http://t.co/j5mkcbkcov', 'https://t.co/4yi4nuovbv', '@yahoo7', '1916', 'http://t.co/8ddijzynkf', 'http://t.co/52uus4tfn3', 'https://t.co/578gunp8t9', 'http://t.co/tatzfk63ch', 'http://t.co/jnromse1z2', 'http://t.co/w6yu7qs4cv', 'http://t.co/sqn4girdvz', 'http://t.co/wgwiqmicl1', '95', 'http://t.co/acc1z5q9zw', '@hdumpty39', 'http://t.co/pms4pmur0q', '89', \"#westgeorgia'18\", 'http://t.co/zhgu8ye1bj', 'http://t.co/x1onv3d5ux', 'http://t.co/wbogs8ejsj', '17000', 'http://t.co/n8ezfctfce', 'http://t.co/gknrp0e8qs', 'http://t.co/hz4lkffc59', '1945', 'http://t.co/ow4gexynbh', 'http://t.co/pme0hojvya', 'http://t.co/edyfo6e2pu', 'http://t.co/m5kxlpkfa1', 'http://t.co/k9cd0efvut', 'http://t.co/scghl0piq6', 'http://t.co/dm0uupqgwy', 'http://t.co/adz8kburt7', 'http://t.co/11juzhlgmt', '@20skyhawkmm20', '@traplord_29', '@fredosantana300', '@lilreese300', 'http://t.co/mtgfx3efiv', 'http://t.co/3a3fgzfmzh', 'http://t.co/g0q0bzbjli', 'http://t.co/exyr6c5qpu', '@danielkemp6', 'http://t.co/fel4qhwyfd', 'http://t.co/zg1yddywa5', 'https://t.co/dodxi41y1cåêis', 'https://t.co/hlmyaanrc9', 'http://t.co/k1tmlwvjmj', 't.co/64cymg1ltg', 'http://t.co/xssgedsbh4', '40mln', 'http://t.co/0dxvz7fdh3', 'http://t.co/cc7d0wxk0m', 'https://t.co/0fekgyby5f', 'https://t.co/t07qxp5cbe', 'http://t.co/mkqsvp8e0g', '6:30', '7a', '-7:30', 'http://t.co/fdiu44jldj', 'http://t.co/c0nkgp6w03åê', 'http://t.co/hworb1n6vn', 'http://t.co/rs22lj4qfp', 'http://t.co/ld0uniyw4k', 'http://t.co/66yvulizbk', 'http://t.co/sa5cdwvdxt', 'http://t.co/8eijdxapnp', '4kus', '@15moferadio', '@heavybag201', '@hughes1128', 'https://t.co/7spydy1csc', 'http://t.co/9wqixgmhfh', 'http://t.co/pm2tnnfdww', '59', 'http://t.co/t94lnfwf34', 'http://t.co/rocyyei2dm', 'http://t.co/9lpf4v4hmq', 'http://t.co/2ag9auabr3', 'http://t.co/qna4tubnwh', 'http://t.co/anp9g6njfd', 'http://t.co/gexhzu1vk8', '100mb', 'q1', 'http://t.co/avzsyie1nt', 'http://t.co/zdj2hyf6ro', '7:10', '00pm', 'http://t.co/semw5cq7dg', 'http://t.co/1hlvrkwgip', 'http://t.co/9f3rdn9n3d', '@rslm72254', '@115film', '2oakland', 'http://t.co/daalpenzp0', '030/6', '014', '032', '2030', '320', 'http://t.co/rhxmghspd7', '14028', 'http://t.co/yg697fcqgr', 'http://t.co/4e719w6m4v', '@drag0nking0201', 'http://t.co/sww0qsmxvm', 'http://t.co/bcdp4gkoka', 'http://t.co/u9cd0txe7z', 'https://t.co/vgzgok5k3s', 'http://t.co/ywkk26arag', 'm1', '94', '01:04', 'http://t.co/zdtoyd8ebj', '20k', 'http://t.co/sky9eokggb', 'http://t.co/5iyzsda6xb', 'http://t.co/xzv0lt9zzk', 'http://t.co/m2y9ym3if6', 'http://t.co/pty9hrcuzh', 'http://t.co/r7pvtsduma', 'http://t.co/ltyefjdm3a', 'http://t.co/0la1aw9uud', 'dh30000', 'http://t.co/y35qtvdsoh', 'https://t.co/qhujajctr5', 'http://t.co/8hgcbxukz0', 'http://t.co/4kopkcyvtt', 'http://t.co/dfyasvj7nf', 'http://t.co/avv6hpnpch', '0.75', 'http://t.co/auxsmdg1un', '26', 'http://t.co/qsipl1c9fa', 'http://t.co/3w0pxfyyri', 'http://t.co/yqg5pvw5gx', 'http://t.co/j6wseptxga', '#5sosfam', 'http://t.co/qwgiwc9w7z', '24/7', 'http://t.co/9lyx7zmthe', 'http://t.co/5pbc96rtmj', '1.3', '9km', '7x', '#roh3', '#alrasyid448iturasya', '#roh3smantibatam', 'https://t.co/yr8knephgu', 'http://t.co/6ezkoof2xt', 'http://t.co/facm78eg7k', 'http://t.co/l90dcpv9zu', '53', 'http://t.co/z8xiqngulc', 'http://t.co/uzsqzycb8x', '540', 'http://t.co/p18lzrlmy6', '@hollyorange8', '@bonn1egreer', 'http://t.co/v4br5gjmiy', 'https://t.co/4i0rkcbk1d', '124.13', '172.40', 'http://t.co/1fvootqnej', 'http://t.co/j43nwkx0x3', 'http://t.co/q4kgftc2am', 'http://t.co/6w6a2l4qae\\x89û\\x9d', 'http://t.co/rku0idm6aq', 'http://t.co/monijjth7v', 'http://t.co/0yxbb5dzw5', 'http://t.co/txg7k2do9v', '11th', '@notoriousd12', 'http://t.co/tube4nbqnz', '570', 'http://t.co/q0jhdcu6ly', '15th', 'https://t.co/kgswhsr7mn', '#zombiefunrun2014', 'http://t.co/latssuo4ws', 'http://t.co/hgdrk81sn4', '48/1', 'http://t.co/pfsryjs1pc', 'http://t.co/skdbot7tgf', '7-16', '@camilacabello97', 'http://t.co/ptq3zmgnck', 'http://t.co/ajpnebg803', 'http://t.co/dq3ddgvgbf', '3.4', '96km', '2015-08-', '10:34', '06:34', '-04:00', 'http://t.co/qew4c5m1xd', '4:28', 'http://t.co/d02sbm0ojs', '3934', 'http://t.co/grh7zlk979', 'http://t.co/cgdj3drso9', '@charstevens97', 'http://t.co/9wowps78vd', 'http://t.co/aknynpv461', 'http://t.co/hfzk09mcen', 'http://t.co/ndgpwyxu6h', 'https://t.co/8bhvxx2xl9', 'http://t.co/4ou8s82hxj', 'http://t.co/zsdvweglf5', '2008', 'http://t.co/njd1n5txxe', '1000', '12000', 'http://t.co/avwe1lbvhn', 'http://t.co/zweygphpf7', 'https://t.co/xuhmj098lq', 'http://t.co/y8h5v1j2y7', 'http://t.co/eysvvza7qm', 'https://t.co/j3cirxjfa6', 'http://t.co/amrox4y4nx', 'http://t.co/avvsoino8z', 'http://t.co/qcyqhvn2ha', '2005', 'http://t.co/jtxji7ygrl', 'https://t.co/2be7bwcmpl', '@legna989', 'http://t.co/dgelj8ryt9', 'http://t.co/a0ad8z5vsr', 'http://t.co/bqv3qttuxr', 'http://t.co/0drqlrsgy5', 'http://t.co/cp7c1ch0zu', 'http://t.co/0pamznyyuw', '3939', 'http://t.co/5qyczywkgg', 'http://t.co/ktd5ig9m5o', 'http://t.co/2jhtlwuey0', 'http://t.co/g0dn1chluo', '9:27', '24:1', 'https://t.co/4zqrsaqrrt', 'http://t.co/6ar3ukvsxw', 'https://t.co/wcfpznsn9u', 'http://t.co/vsvy1qe69t', 'http://t.co/eelex4ssvf', 'http://t.co/h6z7hxuqtu', '@hunterlove1995', '#usar2015', '#usar15', 'http://t.co/qhfqlui6ry', 'https://t.co/aomq1rykmj', '@annealiz1', 'http://t.co/rcburzsb2b', 'http://t.co/ehsfklgri3', 'http://t.co/5xrc0a76vd', '08/02', 'http://t.co/9ikhdyhvnc', '200000', '100bn', 'http://t.co/po19h8ycnd', 'http://t.co/bb7ttdvjwe', 'http://t.co/hpvodud7ip', 'http://t.co/ew5wzc07fo', 'http://t.co/9bliddngtf', 'http://t.co/yuo7jdnijx', '361', '#2a', 'http://t.co/eaaqumkkc9', '731', 'http://t.co/vvplfqv58p', 'http://t.co/l5awtundhm', 'http://t.co/bwe9kjcept', '@c7', 'http://t.co/i4aogcsoy5', 'http://t.co/djiwg9pxv4', 'http://t.co/2h0dpmv2ef', 'http://t.co/4zn0mdsrvp', '2:28', '2:17', 'http://t.co/rgpem2tqej', 'http://t.co/g03dkpoonp', 'http://t.co/go0hpi0b4c', 'http://t.co/yao1e0xngw', '@babysweet420', '420', '#17', 'i4', 'http://t.co/ksxto8nknl', '#homealone2', '#film4', '27w', 'http://t.co/d3p88xdlec', 'http://t.co/j2ddvh7fy0', 'http://t.co/bjycrgfh5y', '-6.152261', '106.7759', 'https://t.co/yilt1bb68k', 'https://t.co/n0tawgezjx', 'http://t.co/vmkexjtyg4', 'http://t.co/calk5nv5vc', '19th', '64', 'http://t.co/o2cdkpsdfp', '1.13', 'http://t.co/cwz37lndvk', 'http://t.co/4kdthctemv', 'http://t.co/thyzomvwu0', 'http://t.co/83joo0xk29', 'http://t.co/g1bwl3dqqk', 'http://t.co/kz35rgngjf', 'https://t.co/2azxdlcxga', 'http://t.co/axvq80rbyj', '@sophieingle01', '@angharadjames16', 'https://t.co/zpsnx5iyaj', '99', '29', 'http://t.co/qms8rressd', 'http://t.co/zla30jcssq', 'http://t.co/yu6nue7gfb', 'http://t.co/3gz5zqqthe', 'http://t.co/tn1ax1xmbb', 'http://t.co/4xb4zwyhct', 'http://t.co/bp6mfjhars', 'https://t.co/hukjz1wt36', 'https://t.co/dxwfx56pwh', '@gpaulista5', 'http://t.co/nq89drydbu', 'http://t.co/5ebpybfh4d', 'http://t.co/uo0aqk9kr8', 'http://t.co/n9c3i9v8go', 'http://t.co/mkwyvm3i8r', 'https://t.co/5hljucxi0s', '#fifa16', 'http://t.co/kgtxnnbj7y', 'http://t.co/1meeo3wjco', '852', 'https://t.co/giyaad7dcc', 'http://t.co/wgmzmj5imd', 'http://t.co/qvsp6b2qsu', 'http://t.co/0s6ydfrwdq', 'http://t.co/gne1fw0xhe', 'http://t.co/pfmn63vnam', 'http://t.co/natz5ipv1x', 'http://t.co/leaeby6cr2', '54.8', 'http://t.co/srslcxhc2t', 'http://t.co/pwd5l0glkv', 'http://t.co/h9fsiaxv3q', 'http://t.co/s7nbowa7tp', 'http://t.co/3f7owdecy7', 'https://t.co/hkbxxvd9iw', 'http://t.co/p6gqmctglj', 'http://t.co/zsykzj2bzg', 'http://t.co/fx7uzzxte4', 'http://t.co/ga14egplw9', 'http://t.co/ks7ln8hq8s', '@mauds99', 'https://t.co/ush59uq30j', 'http://t.co/ksawlyux02', 'http://t.co/rvkyj3yuvk', '#ww3', 'http://t.co/t344phnpy9', 'https://t.co/drno7okm21', '#allthekidneybeansandsorbet4misha', 'http://t.co/wmnb5ita5p', 'http://t.co/mflrvbh4qa', 'http://t.co/1mvsqg0xke', 'http://t.co/6uhih9pbru', 'http://t.co/mudgu1puns', '34', 'http://t.co/vbswhz4s2v', 'http://t.co/ingu6ztyg4', '@pcaldicott7', '#7newsadl', 'http://t.co/r1xwdnvb0g', 'http://t.co/quedv2xxxx', 'http://t.co/b6nphxorzg', '@bigburgerboi55', '1952', 'http://t.co/mcejzzxgh8', '42.910975', '-78.865828', 'http://t.co/jrdwyy0ax4', '1970the', 'b4federal', 'http://t.co/wgqkxmby3b', 'http://t.co/wk63tm34a0', 'http://t.co/9naw3qoqol', 'http://t.co/90l2lb5wmr', 'https://t.co/iggfnbixt5', 'pt1', 'http://t.co/9utqe9zfde', '@qpr1980', '@rorington95', 'https://t.co/b7omj7u3ei', 'http://t.co/mtmoia0oo0', 'http://t.co/nn4ztcmsru', 'http://t.co/s5nuegswyj', 'http://t.co/qdhxto57em', '19.600858', '-99.047821', '2,360', 'http://t.co/e0lugbl6pb', '40121', 'http://t.co/gskjqwyi2d', 'http://t.co/zzsee5hipm', '@j3lyon', 'http://t.co/pjlda9hd5v', 'http://t.co/3wnjauar7w', 'http://t.co/i2aag6lp6w', 'http://t.co/zr5rgbgh03', 'http://t.co/sbhhkkz01y', 'http://t.co/xpddwh5tem', 'http://t.co/2acrgdqhj0', 'http://t.co/of3q75fgeu', 'http://t.co/jbrk8zsry6', 'http://t.co/zz0cewew64', 'http://t.co/q5mp2q6hy8', 'http://t.co/y8wloctevc', '5:15', '7p', 'http://t.co/feikc9fxed', 'http://t.co/uhkxmxab9l', '@chr3lyc', '@iaff36', 'http://t.co/jyiegtnc6h', '1.00', '10:00', 'http://t.co/l1gfxgozvx', 'http://t.co/qr1l2jyuez', '3d', 'http://t.co/jtjofltms4', 'http://t.co/vplr5hka2u', 'http://t.co/sxhw2tnnlf', 'http://t.co/cxb55h37jn', '2015-2', 'http://t.co/h6tyysgr30', 'http://t.co/7hanpcr5rk', 'https://t.co/9zmwt9xydz', 'http://t.co/v4smaeslk5', '#365disasters', 'http://t.co/911f3ixrh0', 'http://t.co/eeewo207mx', '@writes4coffee', 'http://t.co/sto58qa94c', '#tw4rw', '544', 'http://t.co/t6seku4yvm', 'http://t.co/tjoz4u4txl', 'http://t.co/ph7wllkrfi', 'https://t.co/oxxrnab8un', 'http://t.co/5u5gakx2ch', '-26.695807', '27.837865', '@kg4vaal', 'http://t.co/ot3bjjhh8s', '260th', 'http://t.co/ay49mtyyl8', '#votejkt48id', '12news', '90th', 'http://t.co/g62txymzbv', '#140', 'http://t.co/sigeeq42cz', 'http://t.co/6acswzo7cw', 'http://t.co/3tnuaciv3c', 'http://t.co/ncjpgf6znv', 'http://t.co/gerjau74ey', '#summer2k15', '2002', 'http://t.co/81neizeknm', '01', '15:04', '-10:00', 'https://t.co/m4tui0p9nt', '20s', 'http://t.co/mt029qj4ig', 'http://t.co/rbmucurs2f', '7amdollela', '3la', '7aal', 'http://t.co/dhambp54ya', '17shawie', 'https://t.co/7paovyzttw', '5000', '1/2007', '33', 'http://t.co/tyyfg4qqvm', 'http://t.co/onvd9d4nkg', 'http://t.co/hhtwayt4yo', 'http://t.co/3ev07ppapn', 'http://t.co/xuzee2budv', 'http://t.co/mhl7pfr7kb', 'http://t.co/lou8lbla1f', 'http://t.co/8e7ry8ebmf', 'http://t.co/kacrlpjc0l', 'http://t.co/e84ifmcczn', 'http://t.co/gopsicp8bm', '@dacherryontop13', 'http://t.co/1elreh1jlj', 'http://t.co/q3dtoqo04c', 'http://t.co/t8sv2ai7sw', '@healthweekly1', 'http://t.co/pzeixi4xk7', '6/15', '1:04', 'http://t.co/njd28pg9xv', '#ashes2015', 'http://t.co/a7tjawwtj7', 'http://t.co/swq5lmydka', 'http://t.co/aauizggc9q', '@steph93065', 'http://t.co/jmawrlt7hb', 'http://t.co/l056yj2ioi', 'http://t.co/8ihuco4glw', 'https://t.co/dehmym5lpk', 'http://t.co/5qhqo6ejtu', '107', '410', 'http://t.co/bsmj2hvgwd', 'http://t.co/bxalnedy49', 'http://t.co/hddbmu2yca', 'http://t.co/sgxp1u5ol1', 'http://t.co/si02qrguka', 'http://t.co/0c1y8g7e9p', 'http://t.co/cgf61fpmr0', '#media420', 'http://t.co/jnn0krnxvy', 'http://t.co/5loiwuyv5r', 'http://t.co/zrtrpl77qv', '@dmac1043', '@bradleybrad47', 'https://t.co/fd9dzspugk', '1928', 'http://t.co/wpkl2qniqw', 'http://t.co/bd52fxdvhq', 'http://t.co/j5onxfwlao', 'http://t.co/6g49ywwsqj', 'http://t.co/bs6xaqhsim', 'http://t.co/y3zfqjsvpz', '107-18', '79th', 'http://t.co/xehwmsh7lv', 'http://t.co/a0v1ybysod', 'http://t.co/th2wlilbmo', 'http://t.co/vam5podgyw', 'http://t.co/za4axfjsvb', 'http://t.co/da9lzton1c', 'http://t.co/xgkyvf9t4f', 'http://t.co/u9bkqt6xhr', '300000', '1200000', '11000000', 'http://t.co/prci76howu', 'http://t.co/rtcufag0au', '905-877-8591', 'http://t.co/al28rvkqpq', 'http://t.co/ndwep6izdq', '5pm', 'http://t.co/zlco4ue5oq', 'http://t.co/1beegwrsis', 'http://t.co/drculiyp0t', 'http://t.co/bla42rdt1o', 'http://t.co/einsqs8tfq', '@neur0sis', 'http://t.co/zyrzx6dfki', 'http://t.co/6cx46e7qb7', 'http://t.co/tgcr5vofj3', 'http://t.co/e65v80fcus', '1:7', 'http://t.co/drbcrypj4p', 'http://t.co/jwiv6wyw6f', 'http://t.co/qvs7o10bg3', 'http://t.co/m19ivwrdkk', 'https://t.co/x2wn7o2a3w', 'http://t.co/7ad0l7cgee', 'http://t.co/hhzql9tznp', '#911', 'http://t.co/pkfv8lksld', 'http://t.co/0iyuntxduv', 'http://t.co/gn3whnsfib', 'http://t.co/fwpof5twoc', 'http://t.co/lvlh3w3awo', 'http://t.co/viwxy1xdyk', '4got', 'http://t.co/81g18wsauk', 'http://t.co/od2ratxrqs', 'û_1', '160', 'http://t.co/pnhpljho8e', 'http://t.co/64xr9ltnoh', 'http://t.co/s0eyq1wehe', 'http://t.co/c5jutfxbm9', 'http://t.co/uxp6poqjlb', 'x1392', '8015', 'http://t.co/oqw8jx6rts', 'http://t.co/bvckd9pdti', 'http://t.co/uonebahh3h', '@jasoncundy05', 'http://t.co/wkpzp1jcau', 'http://t.co/hzpx6vaqpz', 'http://t.co/l4w0pcorbs', 'https://t.co/z8ij8ktkyk', 'http://t.co/9nyxjndora', 'https://t.co/sg1ftkaegq', 'http://t.co/rkb7egkveb', 'http://t.co/knbv2ytnwc', '@ianokavo96', 'http://t.co/rvmmut3gvc', '58', 'https://t.co/ybdsljw7c1', 'http://t.co/u4bdy1w7d4', '@news4buffalo', 'http://t.co/gxqwd1qzbd', '2010', 'http://t.co/vve3usesgf', '370', 'http://t.co/gyqlaoz3l2', 'http://t.co/pckf0nl2yn', '@gayler1969', '@melissaross9847', '@mackinnon08', 'http://t.co/l0deocxu6o', '@aliveafter5', 'http://t.co/sc4twjkxr1', 'http://t.co/yn6duotimr', 'https://t.co/slc27emugm', '1862', 'http://t.co/iw7elszifz', '@montetjwitter11', '@nolesfan05', 'http://t.co/qv1rmzi3j1', 'http://t.co/7old5mjwph', '#offers2go', 'http://t.co/w9cd6offcj', 'http://t.co/6ndbfopk5m', 'http://t.co/dazqamoo0c', 'http://t.co/seshqn5dsk', '#bc19', 'm6x1', '00', 'http://t.co/sqpshaws0w', 'http://t.co/udlebh88uz', 'http://t.co/zoipkpbd6o', 'http://t.co/cj76k0yayj', 'http://t.co/lh9mrypdrj', 'mp3', 'http://t.co/pqhuthss3i', 'http://t.co/0iw6drf5x9', 'http://t.co/5qhoehe9hf', 'e1', '1.2', 'ch4', 'http://t.co/jgdlx4faw8', 'http://t.co/kmxzho5tfm', 'http://t.co/s0ctcqjvjx', 'http://t.co/leyjwnnah8', 'http://t.co/dlizfkk30y', 'http://t.co/wal4frtfka', 'http://t.co/0f8xa4ih1u', 'http://t.co/ngkrzpza45', 'http://t.co/v5yuualoqw', '#263chat', 'http://t.co/eug6zhciun', '263789f4', '30s', 'http://t.co/htez4z48od', 'http://t.co/eq4rxc9bb3', '@meganbee92', 'http://t.co/iywzallsn4', 'http://t.co/h3dch6fyaw', '10566', 'http://t.co/luigmhma1i', 'http://t.co/bumzvmwam3', 'http://t.co/jhc2rt0v9f', 'http://t.co/yzazf4ceoa', 'http://t.co/x5rc5nuamh', 'http://t.co/1k2phqcuw8', '7:12', 'http://t.co/dggm5b0w4l', 'http://t.co/eyr2xx5l1p', 'http://t.co/w0exzad5gc', 'http://t.co/eg1fskqbv6', 'http://t.co/ildbeje225', 'http://t.co/241cn8yxjq', '4fnet', 'ks94', 'http://t.co/ihphzckm41', 'http://t.co/ibype1kaz5', 'http://t.co/obp595w7tm', 'http://t.co/rv9dv6joew', 'http://t.co/5fcjvml520', 'http://t.co/fvyrwhux8p', 'http://t.co/dh0s4buuk7', '@c_pinto001', 'http://t.co/9pfeaqeski', 'http://t.co/fntg70rnkx', 'http://t.co/lk5uqkop1e', 'http://t.co/vgvjgr8zoo', '928', '9/11', '#renew911health', '40w', 'us70', '@flow397', '1/13', '/8', '15t', 'sa15t', 'http://t.co/2jbibeib9g', 'http://t.co/p5ktaqw5qg', '#mh370', 'http://t.co/x6asgrjswc', 'http://t.co/bfes5twbzt', 'http://t.co/kl4r1ccwct', 'http://t.co/myhhthsli3', 'https://t.co/9hkxxbb82o', '@joelsherman1', 'http://t.co/ijobz3mzp0', 'http://t.co/m9o08gurt4', 'http://t.co/ptc0xcragy', 'http://t.co/jkd7cti2iw', 'http://t.co/lajn2n5e2d', '@jasonpope2', 'http://t.co/p8yr2po6jn', 'http://t.co/vbqmz5apwj', 'http://t.co/c2eyjnybfn', 'http://t.co/gt7gf0fsex', 'http://t.co/v5gtunwohy', 'http://t.co/6peeip4y7w', 'http://t.co/5yl4dc1tqt', 'http://t.co/gllawb2fsk', 'http://t.co/3kaafuoztc', 'http://t.co/ldbao0rsuz', '#abc7eyewitness', '@abc7', 'http://t.co/q5q1x5vcqk', 'http://t.co/1osmiuxkhw', 'http://t.co/kp2lf4aute', 'http://t.co/hvbj30aj9s', 'http://t.co/lhpgxc4b8j', 'www.informationng.com/?p=309943', 'http://t.co/pol92mn8yz', 'http://t.co/s4srgrmqcz', '325', '10am', 'http://t.co/oa6b0z2h6y', '@afk_10', 'http://t.co/35jyap0ul9', '@jones94kyle', 'http://t.co/rg9yaybosa', '582', 'http://t.co/nvfkzv5fex', '10:38', 'http://t.co/epzgg4uqji', 'https://t.co/k5knnwugwt', 'http://t.co/ipxpi3me16', 'http://t.co/rv0fk7q4y5', 'ps1', 'http://t.co/0gknpy4lua', 'http://t.co/czpdn9obit', '6-0', '@jennife29916207', 'http://t.co/dmtab6g7j7', 'http://t.co/lbpx8bucnv', 'c720', '3/4', '3dc', 'http://t.co/3mtwh0jjns', 'http://t.co/bbqnk76qus', 'http://t.co/0blkwcupzq', 'http://t.co/6sy44kyysd', 'https://t.co/2lgtzkwmqw', 'https://t.co/s7xdxuudcy', 'http://t.co/lqjjy1ptwt', 'https://t.co/reffbkvg9r', 'http://t.co/qzdqrbr4lh', 'https://t.co/r4utnewlna', '12u', 'http://t.co/esk4yvzvap', 'http://t.co/imtygds5qo', 'http://t.co/l3w8mipvnt', 'http://t.co/o85m1bjfrw', 'http://t.co/i1vpkq9yag', 'http://t.co/ty5gavn7uk', 'http://t.co/1mgvd4x5oe', 'http://t.co/odydt9qpk1', 'http://t.co/q3xq8r658r', 'k3', 'http://t.co/norkxbrs6g', 'http://t.co/igm2fcmupm', 'http://t.co/uxcfbj3mzx', 'http://t.co/hmwhob7prs', '@modnao23', 'http://t.co/cihc8nrc9h', 'https://t.co/tui9uwbvvp', 'https://t.co/fc3bxrthpg', 'http://t.co/biu4kowglz', 'http://t.co/l4wjhz4aj6', 'http://t.co/kmgdv7vsaz', 'http://t.co/bytsfms7md', 'http://t.co/kxplyom9rr', 'http://t.co/xwnjysv9v9', '11.2', '46', 'http://t.co/7d7vweq3es', 'http://t.co/vdefmulx43', 'http://t.co/yqpaijsa5g', 'http://t.co/zsqm8ihe1k', 'https://t.co/cm9tve2vsq', 'http://t.co/hxdg254dho', 'https://t.co/407v1y4hhg', 'https://t.co/0vcsafx9by', 'http://t.co/gpbxrrdc07', 'http://t.co/nss5l64cvr', 'http://t.co/vf6cklmcsx', '459', 'http://t.co/2uvmq4vafq', '@mayhem_114', 'http://t.co/qi8qdw5dfg', 'http://t.co/tyewzf3hqa', 'http://t.co/eerkh8ljws', 'http://t.co/3glyoyf6oc', '45600', 'http://t.co/vmf5lnxvzc', 'http://t.co/uotpnsqpz5', 'http://t.co/4esbsa8int', 'http://t.co/fcfpijiqt5', 'http://t.co/kjsvw06gbv', 'http://t.co/bieyguqpb1', '1965', 'http://t.co/k9asktwxfl', '8550013', '21k', 'http://t.co/ezbtg81trz', '106.1', '@1061thetwister', 'http://t.co/xkonkz0zl6', 'http://t.co/dxvtgi1bvo', 'http://t.co/p4kofytkdx', 'http://t.co/nqxqyi70w4', 'http://t.co/gpvzv0249y', '@iafflocal4416', '@tj_robertson2', 'http://t.co/mqydxrlae7', 'http://t.co/epjjkb4be9', 'http://t.co/tu9cglmgvr', 'http://t.co/wvexjjrg6e', 'https://t.co/to0bpieyms', 'http://t.co/7l6bhexixv', 'http://t.co/o4xljnav8f', 'https://t.co/udp10frxrl', 'https://t.co/wblimlmt2x', 'http://t.co/fvlgu1nayr', 'http://t.co/r5bxzzhxkm', 'http://t.co/6lojoorouk', 'http://t.co/f7a66diiyk', 'http://t.co/xqiadg9h2w', '#22days', 'http://t.co/gw0cxoojyv', 'http://t.co/msdizftz2g', 'http://t.co/9zrqmd8ngz', '3942', '500th', '32', 'http://t.co/v9i4pfxo0c', 'http://t.co/7lvgcmyiyj', '109', 'http://t.co/g7s34sw2am', '107.9', '@95roots', '204', '555', 'http://t.co/14cicptkna', 'http://t.co/2m1gneaifl', 'http://t.co/uqh85mip0v', '#rio2016', 'http://t.co/9mtrq5jf4d', 'http://t.co/edznx6goud', 'http://t.co/rg3bndkxjx', 'http://t.co/bq90pfzmrp', '@envw98', '@jdabe80', 'http://t.co/btus5jejuy', 'http://t.co/zrtfxluk6r', 'http://t.co/6jjvcdn4ti', '4am', 'http://t.co/w56cf75mxe', 'http://t.co/vb3vfm76ke', '@silverstar58200', 'http://t.co/ogzjokd7sv', 'http://t.co/s43we7oe2i', 'http://t.co/kkeh8qcgc3', 'http://t.co/hbbgy2vzyt', 'cw500', 'http://t.co/jq9nj6gko3', 'http://t.co/vtp8i8qlen', '1d', 'https://t.co/p5jpjgiipw', '@your4state', 'http://t.co/aog5chjmvs', 'http://t.co/cln2sxzy1z', 'http://t.co/1tvlfrhm1m', 'http://t.co/flo8fgy35a', '150', 'http://t.co/pkuamxw6pm', 'http://t.co/pawvnj4sap', 'https://t.co/5yrbegzafx', 'http://t.co/x4ecggvnsn', 'http://t.co/jw3hn9ewft', 'http://t.co/nywrkrq7kn', 'http://t.co/uisnqiu3if', 'http://t.co/nnmqlz91o9', 'http://t.co/o91f3cyy0r', '72', 'http://t.co/4914njpio3', 'http://t.co/e7shtylbnl', 'http://t.co/0rokdutyun', 'http://t.co/65xr1p9soo', 'http://t.co/tk65ske0zm', 'http://t.co/br7gmmh5ek', 'http://t.co/dxfqou4kt2', 'http://t.co/twykzn4rlc', 'http://t.co/gusramzp1s', 'http://t.co/gl6eejyjky', 'http://t.co/wqtdnp3w5a', '521', '2009', 'http://t.co/xtf5dvgrvh', 'http://t.co/qkrltrd39b', 'http://t.co/r6jdj9kigm', 'https://t.co/nxs3z1kxid', 'http://t.co/y3dm9ulqxg', 'http://t.co/x2qsjod40u', 'http://t.co/kfkaosh0kh', 'https://t.co/zhrtcvu0ff', 'http://t.co/9r5fsts7bd', '1970', '429cj', 'http://t.co/wqul8pg5px', 'http://t.co/4ykxt3kd62', '7k', 'http://t.co/qbecjli7cx', 'http://t.co/fy0r9o7xsl', 'https://t.co/z4jyharrew', '8th', 'http://t.co/oqb7dasmvy', 'http://t.co/oqeq4uegf8', 'https://t.co/an3w16c8f6', 'https://t.co/yrfz5wj7r2', 'http://t.co/4q4zd7ou34', 'http://t.co/ixjjlp1lvo', '1pack', '2pack', '3pack', 'http://t.co/ag65u29sgo', 'http://t.co/hj26sfddfi', 'http://t.co/h9vmmdebdx', 'https://t.co/mrospd9878', 'http://t.co/0ajisa5531', '51', '46.950109', '7.439469', '@lovemywife1983', '4the', '@time4me_sews', 'http://t.co/cbxnhhz6kd', 'http://t.co/boygbp0jw9', 'http://t.co/bdotq8dsln', '8.4', 'http://t.co/wgl4lubnw1', 'http://t.co/yhqu5uv6ok', '3x', 'http://t.co/braoubgec2', 'http://t.co/mcwd37iof9', 'http://t.co/bp597yds2b', 'http://t.co/uvq41i3kx2', 'http://t.co/h31knuwzz5', 'http://t.co/zu9yydf5di', '@scotto519', '@heyot6', 'http://t.co/sqsyueh4yi', '#koin6news', 'http://t.co/199t7nd0pm', 'http://t.co/ly8x7rqbwn', 'http://t.co/unsayjdtu7', 'http://t.co/id667rlets', 'http://t.co/dadz5zfo1g', 'http://t.co/kfzvmxj9st', 'http://t.co/1vjalja1sx', 'http://t.co/j3rtf2dt3x', 'http://t.co/zl7fhucxhl', 'http://t.co/jlu2j5qs8u', '@praiz8', '@im2ad', 'http://t.co/fk1l4nozig', '120000', 'http://t.co/fcixk23xqh', 'https://t.co/4pqcmqchng', 'http://t.co/kk8cnppzmk', 'http://t.co/n08qluornx', 'http://t.co/toyu16mxbo', 'http://t.co/p10hndc0mm', '(8', 'http://t.co/x5jgkjv6ma', 'http://t.co/ljylxz1fbi', 'http://t.co/4bcqzqjrzn', 'http://t.co/fnpdjwvw1j', 'http://t.co/z3nevglufm', 'https://t.co/eltne5v1qn', '5sos', '57', 'https://t.co/ldjet9tfmk', 'http://t.co/1wopsgbvvv', '202', '4.0', 'http://t.co/c1xhizprad', '241487', 'http://t.co/yfy3nkkcoh', 'https://t.co/nv7rk63pgc', 'http://t.co/qwtk1b2fmc', '@alvinnelson07', 'http://t.co/2sgdofsmrq', 'http://t.co/xlegc6uora', 'http://t.co/o8xvtlp4mf', 'http://t.co/soea1ggbkj', 'http://t.co/cuvkf5ykax', 'http://t.co/hibdw7d7ja', 'http://t.co/h6pm1w7ell', 'http://t.co/pk8dgvripw', 'http://t.co/rz0adzursw', 'http://t.co/aqinavl1b6', 'co2', 'http://t.co/shrhkfj1bc', 'http://t.co/pvmr38lnva', '@seagull07', 'http://t.co/4c58ooavhy', '@libertygeek83', 'http://t.co/lej5onus9q', 'http://t.co/izjk6kpwiz', '363', '14000', 'http://t.co/vxjcx8ukmd', 'http://t.co/wwxbgubww5', 'm4', 'http://t.co/vzpkn23rx4', 'http://t.co/qegmrhsms2', 'https://t.co/b7zwevsrgo', 'http://t.co/tqwrw3jqwo', 'http://t.co/rzxqssun02', 'http://t.co/paobghv3c7', '10/3', '103', 'http://t.co/kbtzzzg2tp', 'https://t.co/rbrw8pwipj', 'http://t.co/l3gizrucy4', 'http://t.co/crcn8rwvkj', 'http://t.co/9qnq45zduw', 'http://t.co/2jxkmkpalp', 'https://t.co/ec46lyqqc6', 'http://t.co/kxy56fr8vm', 'ww1', 'http://t.co/f9j3l2yjl4', 'http://t.co/n6zflxigvr', 'http://t.co/obfd7e4qcp', 'http://t.co/yazje5owvk', 'http://t.co/di5arr6hq6', 'http://t.co/lec1vms7x2', '30min', 'http://t.co/uubovy9gqi', 'http://t.co/1xw0z8zeqw', 'http://t.co/3pcntczoxv', 'http://t.co/n0akjm1e4b', 'http://t.co/3nuih6pkui', 'http://t.co/2ufcc6gh3m', 'http://t.co/hep9k0xghb', 'http://t.co/80ebvglmra', 'http://t.co/mo7dbbdfvr', 'http://t.co/0scnwe8xbv', 'http://t.co/ke1zs6naml', '8.24', 'http://t.co/o7qogmoegu', '2hours', 'https://t.co/wactt18gda', 'http://t.co/9odqryjncf', 'https://t.co/0xouv7dhwz', 'http://t.co/ia44nczlif', 'http://t.co/ogtuv1plht', 'http://t.co/npoqlkqup9', 'x1386', 'http://t.co/xkmlq99sjy', 'http://t.co/a3rgqucugo', 'http://t.co/nb1e7mnce5', '@omar_molina036', 'http://t.co/zpxe3fmyng', 'http://t.co/im6m4xaen2', 'http://t.co/njlqrqcnl9', 'http://t.co/sbila2yqjq', '#452', 'http://t.co/ed32pbvio7', '10x', '12v', '24v', 'http://t.co/ifm6v6480p', '1:18', 'https://t.co/kp5dpoaf58', '295ss', 'http://t.co/a5iwus8evq', 'http://t.co/gi82n2juwn', 'http://t.co/wyokt0ftrw', '#c4news', 'http://t.co/sqgogj3s5r', '#2minutemix', 'http://t.co/wftcrlz32p', '95-03', '528', '530', '740', '20177-707', 'http://t.co/y8xknpqmnj', 'http://t.co/km8ucihrrn', '#addtexastonext1dtour', 'http://t.co/z4ilb9y9nu', 'http://t.co/j295md1sow', 'http://t.co/abyhrgss1s', 'http://t.co/rm50vcvjsh', 'http://t.co/73umw2igrz', 'http://t.co/fhkhcqpl7j', 'http://t.co/jdkqc12tid', 'http://t.co/d8awx2okke', '#g90', 'http://t.co/kxxnszp6nk', '@arizzo44', '@jlester34', 'http://t.co/xgnjgle9eq', '5-0', 'http://t.co/tcs2cd5y6y', '261', 'http://t.co/0usdi5jcho', 'http://t.co/xyg7jhrjof', 'http://t.co/7mepkbf9e8', 'http://t.co/exsqijf4ny', '#tedcruz2016', 'http://t.co/y7sipkb1kd', 'http://t.co/0yo2l38ozr', 'q13', 'http://t.co/e981dgskab', '@gunnersfan89', '2.99', 'http://t.co/5koho39oje', 'http://t.co/cnkvile7be', 'http://t.co/u9fcb8dz3h', 'http://t.co/mwmt3bdr5l', '@randerson62', 'http://t.co/wf8itk2kvx', 'http://t.co/x1x6d5enef', 'http://t.co/xhehjfft7g', 'http://t.co/jbjrg3ep1q', 'http://t.co/mnsy1qr7bq', 'http://t.co/1lk1eqwyuw', 'https://t.co/jb038rdfak', 'https://t.co/v6qxnfhrxf', '4k', '500', 'http://t.co/e61x9y65qd', 'http://t.co/ovlet0gdqm', 'http://t.co/ehklp12yip', 'u2', 'http://t.co/u8rgb51d22', 'http://t.co/2tnu95vgfe', '11/4', 'http://t.co/nx2d83a4du', '10:30', '34:22', '2.4', 'http://t.co/0wdazlcm90', 'http://t.co/vcirn1md8v', 'http://t.co/nruzhr5xqu', '#thexfiles201days', 'http://t.co/s7grbznwlr', '94123', '@limpar33', 'http://t.co/k2tbes65oa', 'http://t.co/2872j5d4hb', 'http://t.co/odv3rqs8ju', 'http://t.co/fce0k1ihti', 'http://t.co/gted6ldwho', 'http://t.co/yhaqa5wxok', '#pop2015', '36', 'https://t.co/9le0b19lvf', 'http://t.co/krsy54xmmc', 'http://t.co/zqmtrbkas0', 'https://t.co/yeqq3bzx3g', 'http://t.co/kmvrzasxy4', 'https://t.co/t2kk8fya77', 'http://t.co/xkurdr3yev', '@atheistic_1', 'http://t.co/ddhwori5w1', '#37592', 'http://t.co/zcvfc500yy', 'http://t.co/9e2f7bivle', 'http://t.co/zoepzsoky1', 'http://t.co/mjtn3qbgos', 'http://t.co/2kdq56xtws', 'http://t.co/dialta6t69', 'http://t.co/vgf41iupkn', '#du19', 'http://t.co/ykdsp0nrdq', 'http://t.co/vdgfxyx3bw', 'http://t.co/ubfr1urafc', 'https://t.co/alnv51d95x', '@katiecool447', '30th', '1986', '2016', '#gilbert23', 'https://t.co/e8dl1lncvu', 'http://t.co/qu1iug3e9r', '100s', 'http://t.co/vjbhxn9x1o', '#isea2015', 'http://t.co/rpneaj6fod', '573', '@dratomic420', 'http://t.co/g38y8h1tjt', 'http://t.co/kukmal605a', 'http://t.co/m0utldif77', 'http://t.co/2iafpmqjep', 'http://t.co/cs8myauna4', 'http://t.co/8nadrgr4xc', 'http://t.co/qchv3jqovk', 'http://t.co/gc0udfnfgg', 'ìñ1', '4/28', '@raabchar_28', 'http://t.co/aez3ak1lrn', 'http://t.co/cbaxcuba0h', 'http://t.co/9i6crcrq2m', 'http://t.co/sikkg0fphr', 'http://t.co/ayp6zvhm2a', '@emiliorivera48', 'http://t.co/tziolfte5i', '@aphiabeta1907', 'http://t.co/uan05tnksw', 'http://t.co/jn8s0drwbp', 'http://t.co/6cadrhioxp', '3lv', 'http://t.co/exdbcx4gcr', 'https://t.co/9jcibenckz', 'http://t.co/4i0kz2akly', 'http://t.co/m7na4skfwr', 'http://t.co/nmpn2mqzge', 'http://t.co/eyevziopg1', '2.9', 'http://t.co/6aimd1uway', 'http://t.co/9cgbjwmhii', '41.252426', '-96.072013', 'http://t.co/dan0gkx28l', 'http://t.co/khd99oz7u3', '@blutz10', 'http://t.co/nckogwjq61', 'http://t.co/xszx9mwxyp', 'http://t.co/nmfsgkf1za', '12m', 'https://t.co/tfgrayudc5', 'http://t.co/37dqvjhncv', 'http://t.co/7ijlz6bcsp', '1921', 'http://t.co/99mbyfl3id', 'http://t.co/4ddmtguzzs', 'https://t.co/you7wn9xvs', '@fa07af174a71408', 'http://t.co/ybjezkurw1', 'http://t.co/cgvuy3rcxo', 'http://t.co/yrvgykdbm6', 'http://t.co/y4y8fcljed', 'https://t.co/fw1ptaelgv', 'http://t.co/fkfa9vsssz', 'http://t.co/bs6pjt09tc', 'http://t.co/wxhmp5ppjq', 'http://t.co/ftunlh6ddg', 'http://t.co/aw23wxtyjb', 'http://t.co/abgct9vfua', 'http://t.co/nmhztb1ewm', 'http://t.co/rjebpib5rz', 'http://t.co/8j09zutxwt', 'http://t.co/gpcecp9khv', '@alexeivolkov1', 'http://t.co/anutoopkf4', 'http://t.co/vz1irh0nmm', '163', 'http://t.co/nyo1xuebfa', 'http://t.co/w0a1mjorhy', 'https://t.co/wzc5r4xoqz', '0.9', '01:50', 'http://t.co/mbo6oaniqi', 'http://t.co/r3pddjpiee', 'http://t.co/8kj1wdaigj', '@daniglasgow45', 'http://t.co/o9dzgzqemf', 'http://t.co/axk9xno6yz', 'https://t.co/6ce1vwovhs', 'http://t.co/pijg5w2l2u', '8,000', 'http://t.co/lknu8902je', '@_chelsdelong12', '@kendra_leigh13', 'http://t.co/8fvqrizoux', 'http://t.co/qqsmshaj3n', '#163', 'http://t.co/2z2htdjqzd', 'http://t.co/xuub2hbli5', 'http://t.co/h5epx2d1ga', 'http://t.co/suilzs2s95', 'rs40000cr', '3_6_12', 'https://t.co/jojnq2oopi', 'http://t.co/dskui6mmgl', 'http://t.co/rrq1ildkil', 'http://t.co/niv8x5tbe0', '1998', 'http://t.co/lpgfqnpjd3', '@m00nf00l', 'http://t.co/ibed3xg7fy', 'http://t.co/0yaxrjicrr', '66', 'http://t.co/jst5hauk35', '358', '#nbc15', 'http://t.co/pis0aivrbr', 'http://t.co/kea5l3b1ae', 'http://t.co/ffnzit7kgn', '2k15', 'ep18', 'http://t.co/mr5bi4kd82', 'm151a1', 'm416', 'http://t.co/9rryaylgyy', 'http://t.co/nm83johluu', 'https://t.co/drfkarlz1d', 'http://t.co/zkkn6mse1n', 'http://t.co/fzhjf8bxld', '911bombing', 'http://t.co/vn73o4sgzj', 'http://t.co/vdiliicyr5', 'http://t.co/pw5dst9roz', 'http://t.co/r4yzhxk7lw', '08/07', '07:30', 'http://t.co/fpkiqbus9r', 'http://t.co/a9bnlse6qb', 'https://t.co/wxela91juh', '234', 'http://t.co/sruj5zljgl', 'http://t.co/cy0ciu2u1c', 'http://t.co/aatt5amnmd', 'http://t.co/ysg9vsrt4g', 'http://t.co/9tg7a5oqfp', 's01e09', 'http://t.co/gxyivswki7', 'http://t.co/3ac5wuy1r0', 'http://t.co/3nkculgvmw', 'http://t.co/00cy9vxeff', '#tweet4taiji', 'https://t.co/jslxtq3nqs', 'http://t.co/3yu26v19zh', 'http://t.co/35qwnglkos', 'http://t.co/sxwjyr3k3l', '@kezi9', 'http://t.co/ee8rpoahpk', 'http://t.co/ha5boppejy', 'https://t.co/msuy4qtpk9', '@savannahross_4', '@chibi877', 'http://t.co/n6ahgfmudt', 'http://t.co/6exs23muy3', 'http://t.co/l9idherotj', 'http://t.co/9tb82zmr2x', '#039', '13000', 'http://t.co/aptap6yx1r', 'http://t.co/jilfbr0ufp', 'http://t.co/usvyhdg9og', 'http://t.co/8r5vpaoo5z', 'http://t.co/jvcxb75drj', 'http://t.co/qwsbvflpe1', '06:32', '43', '@laurathorne97', 'http://t.co/mesqtvdu63', '2am', 'http://t.co/tft1bb4xaz', '@colinhoffman29', '63rd', 'http://t.co/zz5udilrea', 'http://t.co/pkkcdwjyg0', '@dougmartin17', 'http://t.co/nvp6wrkl1e', '2:20', 'http://t.co/bdn2fdpdaz', 'http://t.co/k8ughv2aif\\x89û\\x9dmy', 'http://t.co/spt54kfa9q', 'http://t.co/q4q8xsyzob', 'http://t.co/f56v61ampt', 'http://t.co/h3sxfv5mtc', 'http://t.co/qj3pvgavn7', 'http://t.co/ad38kwoglh', 'http://t.co/ifqqpur99x', 'http://t.co/fk1vyh5qlk', '5/15', '12:00', 'http://t.co/lkwxu8qv7n', 'http://t.co/au3dbci7nf', 'http://t.co/bovjrf62t7', 'http://t.co/z6ee1jvhni', '097', 'http://t.co/kkimmbue04', 'http://t.co/owbujez3q4', 'http://t.co/wrb7xd8w5y', 'http://t.co/cilo9pmleb', 'http://t.co/0t9yd557ry', 'http://t.co/31tgtlz3ya', 'http://t.co/c7rco2emwf', 'http://t.co/scxfc5wi9t', 'http://t.co/gx1otoh8sj', 'https://t.co/my8q1uwijn', 'https://t.co/optps1lgkc', 'http://t.co/fb8snrg4hu', 'http://t.co/ao4ju9vmmf', 'http://t.co/oyy9mgw7hn', '060/5', '1028', 'http://t.co/pf8dxwibdp', 'https://t.co/p1amginsys', 'http://t.co/6pagjqfbzk', 'http://t.co/gix1gaynxz', 'http://t.co/p93s2rfhx6', 'g3', '6:08', '15000270653', 'http://t.co/kcoff6bmie', 'http://t.co/gbrnulp3fh', 'http://t.co/j2erzbmjqd', '@233liveonline', 'http://t.co/io7kuug1uq', '617', 'http://t.co/s0vgtkhw7v', 'http://t.co/qvx0vqtpz0', 'http://t.co/iys9xwpvmk', 'http://t.co/cykr4xaluh', 'http://t.co/o8y1sul4ow', 'http://t.co/4cpnbbzkzg', '956', 'g7', 'g20', '19.123127', '72.825133', 'http://t.co/8jxql8cv8z', 'http://t.co/egcv7ybjae', 'http://t.co/su4zvwadj7', 'http://t.co/wvtpuryx63', 'https://t.co/moll5vd8yd', '1976', 'http://t.co/y678xsnvj6', 'http://t.co/txetcysm1h', 'http://t.co/gg0dzsvbz7', 'http://t.co/kbe91arcdw', 'http://t.co/1q6ccffzv6', 'http://t.co/vxuftvt9au', 'http://t.co/3oionqlfql', '1/10', 'http://t.co/zy3hpdjnwg', 'http://t.co/gz27audyha', 'http://t.co/p4ekgc9sig', '40.736324', '-73.990062', 'https://t.co/1xssvgimvb', '06jst', '6aug', '12jst', '18jst', 'http://t.co/l6jbjaj8dm', 'n15b', 'http://t.co/lqgoe7psxp', '159', 'http://t.co/fjddx43ewj', 'http://t.co/vdukcv7yjy', 'http://t.co/8bqjtp6id5', 'http://t.co/8kjs7zqajs', 'http://t.co/k6uetsnlht', 'http://t.co/lwane9vupg', 'http://t.co/cpqgufzb28', 'http://t.co/to9viqoofv', '@wild_lionx3', 'http://t.co/tgtcru8jio', 'http://t.co/vbo1tjndps', 'http://t.co/21b6skpdur', 'http://t.co/wbcb3sytj7', 'http://t.co/qgyn2u1up3', 'http://t.co/wis3h9tqrm', 'http://t.co/cntwb6sczj', 'http://t.co/gvd7fcx8iz', 'http://t.co/ehlq3zsptd', 'http://t.co/djx5elbrv1', '1145', '11:45', 'http://t.co/mjstefggu5', 'http://t.co/q4l7dg56jm', 'http://t.co/fven1ex0ps', 'http://t.co/5oqhq8quqv', 'http://t.co/m9ig3wq8lq', 'http://t.co/u30n3ffx8y', 'twitch.tv/naturalemblem26', 'http://t.co/ud7xobyua1', 'http://t.co/ae9cpiexak', 'http://t.co/yi3oivk2x4', 'http://t.co/qtizcbww7g', 'http://t.co/77ciwxabva\\x89û_t-school-lands/', 'http://t.co/7cmf3noync', 'http://t.co/ymp0ginwza', 'http://t.co/j3x0doy7r3', '513', 'http://t.co/e4wk8uri8a', 'http://t.co/xtljz7bjgl', 'http://t.co/10muey8pxj', 'http://t.co/sahq5uoahw', 'http://t.co/7ennullkzm', '777', '239', 'http://t.co/j8tyt1xrrk', 'http://t.co/9d4nazoi94', 'http://t.co/hr88cwxpgz', 'http://t.co/rptouz2ijs', 'http://t.co/69mlhfefhr', 'https://t.co/abnzqwlig1', 'https://t.co/m8mvdspjp7', 'http://t.co/biuey7buts', 'http://t.co/jwqybe4ep1', 'http://t.co/qpwotugui9', '18:00', 'http://t.co/gvaipmlsl0', 'http://t.co/0r03c6njli', 'https://t.co/olnk1ti1nm', 'http://t.co/0btniwagt1', 'http://t.co/hhzy3oqela', 'https://t.co/mctjnzx4h8', 'http://t.co/6gsamy6mts', '140920-21', '150718-19', 'http://t.co/y7o55by36f', 'http://t.co/qycw5jjaj1', 'https://t.co/zvre6ffnyd', 'http://t.co/1he4ufawzm', '4.4', '73km', 'http://t.co/i6lmccclv5', 'http://t.co/bmxsndx14g', 'http://t.co/7zb9gm5z0h', '1843', 'http://t.co/458dtr3ulx', 'http://t.co/f7ljwxj5jp', 'http://t.co/nekm1rpohu', 'http://t.co/oi6cmagasi', 'https://t.co/oez7o9ab2c', 'https://t.co/1buf0xm53d', 'http://t.co/4k8olzv9bv', 'http://t.co/9lo0hzwjpz', 'http://t.co/5zdbtktww7', 'http://t.co/cwcvbubs01', '@ma3route', '@bonnieg434', 'http://t.co/cy1lfenyv8', '@volfan326', 'http://t.co/tmz6x1n2gq', '@hsjb215', 'https://t.co/e1wrvyzfkv', 'http://t.co/42mawzb8t9', 'http://t.co/o6onsjhcsd', '#p2', 'https://t.co/cyu8zxw1oh', 'http://t.co/93infxzhx0', '15901', 'http://t.co/k14q8chwkp', 'http://t.co/sjnyfszcu1', 'http://t.co/fzujg7sxjg', '15:41', '07', 'http://t.co/gmoul9zq2q', 'http://t.co/krnw0wxhe5', '30pcs', '12mm', 'http://t.co/znsvstgwx3', 'https://t.co/rpda60aoni', 'http://t.co/raf732vrtt', 'http://t.co/9z9hsmiavd', 'http://t.co/e2hltyyfak', 'http://t.co/pmxezuo4ay', 'http://t.co/1pflm532mg', 'http://t.co/58qrugzvg0', 'http://t.co/f8gvwkfqox', 's3xleak', 'ph0tos', '19yrs', '0sed', 'http://t.co/ixrehm05yq', 'http://t.co/snqfhpym3o', 'http://t.co/9viibxgjav', 'http://t.co/rvsyxwj9cp', '@tonyakappes11', 'http://t.co/xyav4t5n0o', 'https://t.co/rukjyjg9oq', 'http://t.co/xzlrwc0pik', 'http://t.co/o5xlxmkoyq', 'http://t.co/zzcbbqyj1q', 'http://t.co/bl59fw4sys', '30.307558', '-81.403118', 'http://t.co/2fenu1syu6', 'http://t.co/kavaovjz2v', 'http://t.co/jdtpirnm76', 'http://t.co/a2tiivnjdy', 'http://t.co/fw2xifj6ec', 'http://t.co/g2uimbekge', 'http://t.co/xh4dz1gpyw', 'http://t.co/g0hsyh7yav', 'http://t.co/fymp4i2wp5', 'https://t.co/2zgvslox5p', 'http://t.co/jkym9edofc', '39.982988', '-75.261624', '450', 'http://t.co/8gtrvece1n', 'http://t.co/7xq8jrtl7i', 'http://t.co/j90dt2qnxb', 'http://t.co/oer5hh41ew', 'http://t.co/93iaeec26t', 'http://t.co/612bsbvw8k', 'http://t.co/87h5mba3n1', 'http://t.co/qjuu0wcwpx', '10000', 'http://t.co/gv84wnhb7s', 'http://t.co/33fbr25t1o', 'https://t.co/lue3waegpi', 'http://t.co/9h0ym9ofsv', 'http://t.co/m9yda5k6jf', 'http://t.co/qwqnni7vmz', '@abc7chicago', 'http://t.co/6un7xc9sve', 'https://t.co/qyx5thkrbh', 'http://t.co/y9w0v6te9o', 'http://t.co/mul1j9aeux', 'http://t.co/6vja8r4yxa', 'http://t.co/bhzr9ugus2', 'http://t.co/ohndh2ri0v', 'http://t.co/p4zfxdnbch', 'http://t.co/guaj2t910b', 'http://t.co/i4fz75utnh', 'https://t.co/h6amecx5k7', 'http://t.co/b8iwrdxcm0', '1600', 'http://t.co/glpfu0uriz', '08:02', 'http://t.co/cf9e6tu3g7', 'http://t.co/macob5xlsu', '@666canberra', '#ww1', 'http://t.co/t4fvvnrpc5', 'http://t.co/0zznbvfuvo', 'http://t.co/vmjrtuvmh4', 'http://t.co/geu4h46csz', 'http://t.co/gzib0mawmn', '60:1', '138:8', 'http://t.co/rg4jishybs', 'http://t.co/r4kheh7iaf', 'http://t.co/gx9skuau9j', 'http://t.co/1w58ehv9s1', 'http://t.co/p8ih0hni3l', 'http://t.co/omb3os54tn', 'http://t.co/lqd1wefpqd', 'http://t.co/uml5jztmcb', '@dr_baseball41', '@granttamane8', '@dtop77', 'http://t.co/lq4lxgs2xu', 'http://t.co/tbx8cakdrw', 'https://t.co/fs012trudg', 'http://t.co/met4ytzmfb', 'http://t.co/avu9b4k2rv', 'http://t.co/p96rgbbayl', 'http://t.co/sje59u2nnm', 'http://t.co/tm9zbhjcyf', '69', 'http://t.co/jods9a32pi', 'http://t.co/e2wgreicmz', 'http://t.co/jans3fd4lf', 'http://t.co/2sdmichb2z', '@kerrykatona7', 'm27329', '1236', 'http://t.co/4d9cd4mnvh', 'http://t.co/unhqcq6bex', '925', 'r1354', 'http://t.co/d12r8xpshy', 'http://t.co/fftokd0vts', '5:30', 'http://t.co/ljxce1qw2p', '3945', 'http://t.co/dgbeh5l9ds', 'http://t.co/ndis8f1vzt', 'http://t.co/o1smuh2unn', 'http://t.co/xqj6wgiuqh', 'http://t.co/qd3dssfwue', '627', 'http://t.co/x8moyevjsj', '@steveycheese99', 'http://t.co/dwu8qqys0v', 'http://t.co/tu6scrsxvg', 'http://t.co/idhj4jbq05', '38', 'http://t.co/etkd58un8n', 'http://t.co/lrelvrm06w', '@8', '2ndabndiv', 'http://t.co/ugesklcn8m', 'http://t.co/kqpky7dthj', '44.414510', '8.942499', 'http://t.co/5zcje7arci', 'http://t.co/gl3c1vc88p', '#8392', 'http://t.co/so81ab3a1x', 'http://t.co/hvxu1zcvau', 'http://t.co/ijmccmhh5g', 'http://t.co/hbhx0dwkpc', 'http://t.co/zujwuiomb3', 'http://t.co/iap4lwvqsw', 'http://t.co/ur7fexszg4', 'http://t.co/wb8awoblcl', '3.28', '7.20', '7.25', 'http://t.co/umzkc9azwd', 'https://t.co/zqo6nuvytu', 'http://t.co/1fhrrhcimh', 'http://t.co/wgefbuk4jk', 'http://t.co/g5zsru0zvq', 'http://t.co/8t36hwgoqd', '03-08', '3.0', 'http://t.co/c8uxkizwm6', 'http://t.co/snxgh9r16u', '@thomasvissman22', '28', '1895', 'http://t.co/zckxtfc9pt', 'https://t.co/tuai0zwgxu', 'http://t.co/ef4swp9sxz', 'http://t.co/nb7maaaofs', 'http://t.co/j9lpdrxcde', 'http://t.co/itg84q7vii', 'http://t.co/sjxllzosw7', 'http://t.co/u2kwof3wtj', '@50shadezofgrey', '@p45perez', 'http://t.co/x9cuihib5n', 'http://t.co/mg5eajelul', 'http://t.co/pcxarbh9an', 'http://t.co/birkbje23e', 'http://t.co/buzwjmw49e', '650/559', '@957thegame', 'https://t.co/0yzgw9zbhr', 'https://t.co/rhtaqjvqn2', 'http://t.co/comlg0vdbv', 'http://t.co/aoesbvns45', 'https://t.co/jrkgyl7te5', '#breaking411', 'http://t.co/onlvf2fyoy', 'http://t.co/vaunps6wja', 'http://t.co/ioqm5bm1dg', '3-4', 'http://t.co/w6o0uizf8p', 'http://t.co/o0ltqdjbqe', 'http://t.co/mo9wptyqkp', '350', 'http://t.co/ko0oz3ryfg', 'http://t.co/lvkoemsq8m', 'http://t.co/cjirhhh4vj', 'http://t.co/ut7r2ixrjq', 'http://t.co/v3z96ydmvd', 'http://t.co/kxslftz2i5', 'http://t.co/taxuxp9qa2', '29-07-', 'http://t.co/p64xrvgjik', 'https://t.co/yx1ukbmtqb', 'http://t.co/fqcdphccg7', 'http://t.co/khf0ih05a9', 'http://t.co/he7q7h3nzf', 'http://t.co/k3pnnktlxh', 'http://t.co/dzlpnp399x', 'i5', '43rd', 'http://t.co/ct9ejxolpu', 'http://t.co/sb5r7shccj', '@widda16', 'http://t.co/qzrcinaf5z', 'http://t.co/iyjejop2wi', 'https://t.co/gi2p9tuvbi', 'db5', 'http://t.co/hgb1mc3irk', 'https://t.co/6ysxghc8gz', 'http://t.co/0t8vqkeari', 'http://t.co/byvubg0wye', 'https://t.co/g0r3zr1nqj', 'http://t.co/fl8gci84aj', 'http://t.co/dvonwiv3l1', '1999', 'http://t.co/aq5zlim7l4', 'http://t.co/fvr9jdq71a', 'http://t.co/qxxn6rksp6', 'http://t.co/b3x1wqzaor', 'http://t.co/4y4ytwhd74', '5.3', 'http://t.co/obky8pc89h', '210', '360 2011', 'http://t.co/ypbvs1ijya', 'http://t.co/9dflv6ynqr', 'http://t.co/muanfwcrw9', 'https://t.co/ols6qdi9um', 'http://t.co/uu64wfg17m', 'http://t.co/gxgm1t3w0j', 's2g', 'http://t.co/6jzcedayrg', 'http://t.co/n2bcf4m64v', 'http://t.co/wdueaj8q4j', 'http://t.co/carvv6gsrb', 'http://t.co/lan76zqkxg', '@kristenkoin6', 'http://t.co/81hvv3n3rs', '@tprimo24', 'https://t.co/mrv54fidfn', 'https://t.co/projeavg8t', '3p', '30a', 'http://t.co/xqrlewia4x', 'http://t.co/6fynermusg', '23km', '23:54', '16:54', '-07:0', 'http://t.co/kf0qybkzol', '@kaylak369', 'http://t.co/pgb2bmcfx8', 'http://t.co/7y2gnva2ev', 'a1a', 'http://t.co/9dwyjqvfy4', '@d1ff3r3nt1sg00d', 'http://t.co/cubze5mizm', 'http://t.co/vox99fwkcx', 'http://t.co/uavfrtlfs4', 'http://t.co/85g1pcccxg', 'http://t.co/8acdf4zui6', '@infinitegrace7', 'http://t.co/0tslqjokvh', '@gordon_r74', 'http://t.co/vl5tbr3wbr', 'http://t.co/0x8jaqtowm', 'http://t.co/m1rosi2wcs', '709', 'http://t.co/w3esx6ud8t', 'http://t.co/jlput7va3s', 'http://t.co/txrswi0efg', 'http://t.co/rlpttkbg4w', 'http://t.co/ozk1qhjvfh', '97343', 'http://t.co/p0gos5urxg', 'http://t.co/hk9yf72ova', 'http://t.co/k0qtl8aodh', 'http://t.co/zqbxe7x9y7', '400t', 'http://t.co/e0pi0c54ff', 'http://t.co/03l7nwqdje', 'http://t.co/y518jyrzav', 'http://t.co/pdkhbdg9ho', 'http://t.co/bsrerjby0i', '#hiroshima70', 'http://t.co/9ckgggyvou', 'http://t.co/u0vdbrxfia', 'http://t.co/2ppzgpxybi', 'http://t.co/ds9khkffwc', '@david5fernandez', 'http://t.co/ecmj18azai', 'http://t.co/dj1lwznieh', 'http://t.co/i9mxxkzhbl', 'http://t.co/m203ul6o7p', '@dead_dreamer15', 'https://t.co/dlvzaay7qr', 'http://t.co/gdrssjbh8q', '55436', '1950', 'http://t.co/xezbs3sq0y', 'http://t.co/c2x0qokgly', 'http://t.co/jvai5vkmsy', 'http://t.co/nr8jjmpmos', 'http://t.co/ekfaz6wvbz', 'http://t.co/sstj2bepqn', 'http://t.co/fnmje8gf7m', 'http://t.co/nye8ae2ifr', 'http://t.co/wq3wjsgphl', '96', 'i405', 'us101', 'http://t.co/js9ehp88wq', '@b24fowler', '@daewony0406', 'http://t.co/fprt7nwrot', 'http://t.co/bkh7z6cwwl', 'http://t.co/fe9hivfmxq', 'http://t.co/q8ivrzojzv', 'http://t.co/gnynjhne6j', 'http://t.co/1funemes7m', 'http://t.co/fqsk7qcawo', 'http://t.co/zct5cchoj0', '@badr58', '01:20', '0000', '#20150613', 'http://t.co/fgdeh56plo', 'http://t.co/kot9zvd2h7', 'http://t.co/1uo1atrbbj', '@vets78734', '1.43', '09:36', 'http://t.co/2xmdidgpnr', 'https://t.co/k44tl3rfmy', 'http://t.co/ipt0honoti', 'http://t.co/83bmprwh7w', '@eeasterling_2', 'http://t.co/ny3l1orzqb', 'http://t.co/rujv4vpnbv', 'http://t.co/ih0awv3l1o', 'http://t.co/awxr24zsqh', 'http://t.co/o9a26fn27y', 'http://t.co/f2tqmfh1yb', 'http://t.co/i6zqlk2puz', 'http://t.co/sxmlg3xdvx', 'http://t.co/ltmgdp6jaf', '@ryleedowns02', '@nevaehburton33', 'http://t.co/roi2nsmejj', 'http://t.co/3tj8zjin21', 'http://t.co/lxtjc87kls', '40.707762', '-74.014213', 'https://t.co/p1jlurgwbu', 'http://t.co/apwxs5mm44', 'http://t.co/ds76lozlsu', 'http://t.co/otsm38xmas', 'http://t.co/ceiao1texr', 'http://t.co/fmu0fnumxf', 'http://t.co/a5gnzbusqq', 'http://t.co/ixw2cutk1c', '@scynic1', '@ryanoss123', '35.223347', '-80.827834', 'http://t.co/d7m9kgmpji', 'http://t.co/8zy9n6fx9t', 'http://t.co/itz9masbvz', 'http://t.co/wveo9ed10e', 'http://t.co/mly7sdn6ev', 'http://t.co/37qpssnacv', 'http://t.co/92pk0hujd8', 'https://t.co/ecmujkkqx1', 'http://t.co/5wfxbaqmbk', 'http://t.co/rfb3jxbiej', 'http://t.co/gxe7nhwz3e', 'http://t.co/y2mt6v13e8', 'http://t.co/fyjwjdkm5i', 'http://t.co/anlhw2izkz', 'http://t.co/wamkre6ckd', '@pyramidhead76', '@calum36chambers', 'https://t.co/ztfead8gid', '01:02', 'm3', '10km', 'http://t.co/0w12pwpsfx', 'http://t.co/xwvw1sft4i', 'http://t.co/j7hukhwmal', 'http://t.co/1eb2dauyfn', '#38745', 'https://t.co/upgd2cy9il', 'http://t.co/mzrhfojt2j', '#pp15000266858', '17:26', '#pdx911', 'http://t.co/950xijhnvh', '#elxn42', 'http://t.co/48zg5ynebn', 'http://t.co/qu8s89pvvt', 'http://t.co/93dm6gnwwc', '@audreyp77', '@teena_797', 'http://t.co/z2vdgiyowf', 'http://t.co/lzasr05ljo', 'http://t.co/iemxgse2be', 'https://t.co/skq8oucm3r', 'http://t.co/t8nz6h9zz4', 'http://t.co/ojus08yzrq', '1.94', 'http://t.co/auf4j4owj1', 'http://t.co/mis0rjxuir', 'http://t.co/rsv9atj9vh', 'http://t.co/dly6ruusqk', 'http://t.co/uc4j4jhvgr', 'http://t.co/otfw5sekd7', 'http://t.co/ibsvy2r3ph', 'http://t.co/vsgqolr32g', 'http://t.co/p7uhcb13qx', '@libertybell1000', '60000', 'http://t.co/42gw2i2q41', 'http://t.co/gbepdi0wzt', 'http://t.co/gjfd85vuf2', 'http://t.co/hppld1jhtz', '10.614817868480726', '12.195582811791382', 'http://t.co/rteugb5tnv', 'http://t.co/z7phpjtqud', '1km', '23:40', '16:40', '-07:00', 'http://t.co/x6el3ysycn', 'http://t.co/nas3ipm5vh', 'ps2', '30pm', 'bo3', 'http://t.co/gedoxsppl9', 'http://t.co/wmmkirj0hw', '@darrylb1979', '2017', '2019', '@zeno001', '6c', 'http://t.co/qn4zyisspo', 'http://t.co/3vwp7wd56w', 'http://t.co/nv3uxv9imx', 'http://t.co/ej30ihrea9', 'http://t.co/jhscgda2g8', '@baseballquotes1', 'http://t.co/owje3i6ygn', 'http://t.co/vxsqpfe9na', 'http://t.co/4fxfllrien', 'http://t.co/i12nlsr8fk', '2099', 'ks111', 'http://t.co/xsgwm5zxpd', 'http://t.co/02elqlopfk', 'http://t.co/ojyw7jkuh5', '#ny35', 'http://t.co/tmzxopvs94', 'http://t.co/w192wkog1m', 'http://t.co/jmu5uyamdu', 'http://t.co/uea0txrhys', 'http://t.co/fkd1mbtb68', 'http://t.co/xwms1aww8m', 'http://t.co/te2yerugsi', 'http://t.co/e4qonkzndz', '@1', '08', '1500', 'http://t.co/dhgavw8bsw', 'http://t.co/0lmheaex9k', 'http://t.co/fuerk0gwui', 'http://t.co/mv7ggglmvc', '14th', 'http://t.co/yh4r7ug21a', '917-141', '18:22', '45', 'm5', '60km', '140', 'http://t.co/tbstk5vqu0', '#3novices', 'http://t.co/2i4eoggo5j', '7000', '#9newsmornings', 'http://t.co/gigw51izpk', '91å', '90225', '1:87', 'http://t.co/pp05etlk7t', 'http://t.co/3ol8mhhpma', '71st', 'http://t.co/kif7m3fqlx', 'http://t.co/oz6vlwwtnr', 'http://t.co/tj3ltpzfw1', 'http://t.co/jssmmlnaq7', '08/06', 'http://t.co/zm6vczqvwk', 'http://t.co/dknlznom6n', 'http://t.co/mqbyravk6h', '1.4', '4km', '00:52', '17:52', 'http://t.co/obsz45ybaj', 'http://t.co/t4pv0nroov', 'http://t.co/pseylyzck4', 'https://t.co/xb8nfxabum', '#jadehelm15', 'http://t.co/vt2aky5mgk', 'http://t.co/khsbzkfd6o', '@rhee1975', 'http://t.co/ba4pusvjln', 'http://t.co/wjljq3ya4g', 'http://t.co/ucy5fea9yu', 'http://t.co/dnwwo1ybrk', 'http://t.co/7qpg80ud7v', 'http://t.co/ajay0snplg', 'http://t.co/qxhowcv16r', '@demetae12', 'http://t.co/iidkc0jsbx', 'https://t.co/bptmlf4p10', 'http://t.co/micjnpuhg0', 'http://t.co/vddi5chktp', 'http://t.co/wx11d69gez', 'http://t.co/met0mtpr3s', 'http://t.co/z99pkjztrp', '01:01', '56', 'http://t.co/8jvqi9uspl', 'http://t.co/na2ey64vsg', 'http://t.co/gs50ddg1jy', '@antpips67', '4heed', '801', 'http://t.co/ydgmgbryl2', 'http://t.co/n6mcpgvwq2', 'http://t.co/s8oinfgxyx', 'http://t.co/n3vbtc6nca', 'http://t.co/5lnidvobff', 'http://t.co/m5djllxozp', '2500', 'http://t.co/6hkw5qlppt', '97-98', '250', '4.6', 'http://t.co/dkozymvy5l', 'http://t.co/xrdwr8cdvm', 'http://t.co/fxtffl4axy', 'https://t.co/2gljhvead9', 'http://t.co/cfe9huqn0h', 'http://t.co/cyv2zg935g', '@vicken52', '@goonc1ty', '11202', 'http://t.co/jsccx8k0ja', '09:13', 'http://t.co/ed1vpitswy', 'http://t.co/6xsbddlziy', 'http://t.co/7b2wf6ovfk', '11:03', '@cameronhigdon34', '@optich3cz', '#askh3cz', 'http://t.co/ph2xli8nve', 'http://t.co/22fuxhn7el', 'http://t.co/wmoyibwec1', 'http://t.co/0rsverlztm', '08.05', 'https://t.co/x17fubqbgg', 'http://t.co/jbodkm6rbu', 'http://t.co/tux0ypwzur', 'http://t.co/wbi7laq18e', 'http://t.co/phh1vmlfoo', '@susanj357', 'http://t.co/hrl4xnj9k7', '@sweet2young', '@r_lauren83199', '@xojademarie124', 'http://t.co/twpl0nl8cx', 'http://t.co/ltf6jl5keu', 'http://t.co/zlq8thctkw', '@indigo6e', 'http://t.co/4kbwpcmmbm', 'http://t.co/1rreo2jg9u', 'be4', 'http://t.co/a2e6dcsk88', 'http://t.co/9eh2lcqkxl', 'http://t.co/ki9ehjhl8y', 'http://t.co/i7ap1mes8m', 'https://t.co/2rtq9qmgpb', 'http://t.co/ohholj9vev', '4:00', '68', '87', '61', 'http://t.co/inkuv5dntx', 'http://t.co/1cvegtizog', 'http://t.co/mpoaefql6k', 'http://t.co/hbdo22nqpz', 'http://t.co/kgkz50q8tk', 'http://t.co/xv3d9bpjhi', 'http://t.co/hcwrk81p71', '876', 'http://t.co/biigd1leq3', '@argus_99', '@heidia1438', 'http://t.co/1erd2fpryp', 'https://t.co/fkqjy3ezyg', 'http://t.co/50vdq7a1m5', 'http://t.co/qh6oxft9ir', 'ng2x5', 'http://t.co/zfwmjh6slh', '@abcnews24', '54', '13,000', 'http://t.co/c5u9qsysej', '3967', 'http://t.co/gnpstnvi5g', 'https://t.co/uaodoquda1', 'http://t.co/blzt5zwose', '#trump2016', 'https://t.co/xvaoqo4egr', '@kaputt21', '@kasiadear33', 'http://t.co/bae0ap4g9y', 'http://t.co/6hkca1dsna', 'http://t.co/6agmkx2ww4', '@stallion150', 'http://t.co/os1wjrvx5c', 'https://t.co/hksbmijqz1', '10k', '11am', 'https://t.co/g1nw99yj8u', '90630', 'http://t.co/jvjalyg2n1', 'http://t.co/qxmweljbc0', 'http://t.co/gfs7usulgq', 'http://t.co/8picbkdjm0', '945hpa', '45m', '60m', 'http://t.co/nbd5ot9iew', 'http://t.co/1xhsuewqn4', 'http://t.co/uppwxda4yd', 'http://t.co/m6lvkxl9ii', 'http://t.co/je86vetdxh', 'http://t.co/1udz0nvoeh', '40hourfamine', 'http://t.co/xqdvghz8g6', '@jannellix0', '@kiro7seattle', 'r5live', 'http://t.co/itzzkwfhg5', '1940', 'http://t.co/jp9xyla3c5', 'http://t.co/sdxzhjco0x', 'https://t.co/wkmfdig3nt', 'http://t.co/z16dtoqhhg', 'x36', 'http://t.co/rczalru05o', 'http://t.co/36gccapaak', 'http://t.co/nqjzs6wkun', 'http://t.co/gbqtc7sp9c', 'http://t.co/hxox7o42rq', 'http://t.co/v6ijxccd2i', 'http://t.co/x3g2ox6k8r', 'youtube.com/channel/uchwtlc9b4zjugh7ydlb55iw', 'mh17', 'http://t.co/tt4kvmvujq', 'http://t.co/l0pmmtzlwp', 'http://t.co/sy2whxt0k5', 't1000s', 'xl61', '62', 'http://t.co/74yfqxvak0', 'http://t.co/kxrehvt6hl', 'http://t.co/tdeqwm8zxn', '78', 'http://t.co/kestuuyc4t', 'http://t.co/pzfbb1p1mj', 'http://t.co/njqv45nds2', 'http://t.co/ydjpoph1dw', 'http://t.co/4izfdyc3cg', 'http://t.co/q6oxzq45ve', 'http://t.co/kabk3tcjnl', 'http://t.co/epex4axg4b', 'http://t.co/etswuod3om', 'http://t.co/qgum9xheos', 'https://t.co/yl67dkf4tb', 'http://t.co/98o2kc3a1z', 'http://t.co/43sxg9z6xh', 'http://t.co/0wratka2jl', 'http://t.co/rkdzb0tgc3', 'https://t.co/xzvmzqus0x', 'http://t.co/xomi4zqzgp', 'http://t.co/0m1tw3datd', 'http://t.co/v1sfllowgh', '@wyattb23', 'https://t.co/rfvjh58ef2', 'http://t.co/sj57boksib', '0npzp', 'http://t.co/ixiybap8qa', 'http://t.co/zepzqydby4', 'http://t.co/cirtvml9vp', 'http://t.co/iovr4ymlkp', '786', 'http://t.co/u7bbenxwyk', 'http://t.co/kg5plkedhr', 'http://t.co/qeihvn3dnq', 'm8', 'http://t.co/jmbvpanxr3', '80', '125', 'http://t.co/gwnlhneku9', 'http://t.co/ai6kworbbt', '@codythompson25', 'https://t.co/txtpx4umqh', '@gilmanrocks7', 'http://t.co/1vi2rnbk2i', 'http://t.co/tdwprvb04y', 'http://t.co/hikdc1fm2f', '5/5', '#bb17', 'http://t.co/lvizo9cssr', 'http://t.co/6cz3bohrd4', '2.2', '#vra50', 'http://t.co/pc7s8nxj6q', 'http://t.co/9xohmmlmdy', '509', 'http://t.co/b2yvlmpepr', 's61', '231a', '#icd10', 'http://t.co/ei9x4h8thm', 'https://t.co/xyiwr9jetl', 'https://t.co/u8hsrtrxmm', 'http://t.co/eo2f96wxpz', 'http://t.co/3sth9lrbun', 'http://t.co/jqxm4gcqz3', '#nh1news', 'http://t.co/7jggqwbv6s', 'http://t.co/dydfvz7amj', 'http://t.co/fxux987vzx', 'http://t.co/nxttd9nrux', 'http://t.co/irqj3zkcuz', '0.6', '8km', '01:26', '18:26', 'http://t.co/3bwwnlsxhb', 'http://t.co/jb25fhke6q', '300m', 'https://t.co/lw2fglrgxb', 'http://t.co/hmrt98oydj', 'http://t.co/tdaktglu5p', '@imawesome7986', 'http://t.co/mrvxbzywd4', '@whopper_jr_760', 'http://t.co/i2hhviumtm', 'http://t.co/nyty7fcqo6', 'http://t.co/hyypspn0yq', 'http://t.co/drvm8isote', 'http://t.co/ub1jzskmrc', 'http://t.co/i5k3vjicmg', 'http://t.co/cizjafnm4e', '860', '757', 'http://t.co/2y5morpugt', 'http://t.co/wezjqc4cf2', 'http://t.co/eqdm2opybg', 'http://t.co/1i19cuov7l', '@jamiegriff97', 'http://t.co/k4h8cq7puo', 'http://t.co/yhh7x0maio', 'http://t.co/2y9dnp5vtg', 'https://t.co/6xul6dcosh', 'http://t.co/66obqmximb', 'https://t.co/rjju70rhyu', 'http://t.co/nxkum9h7wd', 'http://t.co/akzzoe5ce6', 'http://t.co/cplyrewfz3', '@angel_star39', 'http://t.co/xszicdwxq0', 'https://t.co/xn09mx6sxy', 'http://t.co/2oroyunym2', 'http://t.co/c9jnxz3dxc', '@zepp1978', '@olliebailey11', 'http://t.co/jpa6sajfe3', '@hendy_21', 'http://t.co/ii4ewe1qir', 'http://t.co/h3vusqzyqo', 'http://t.co/c1qxjweqqu', 'http://t.co/zhp0sowxry', 'http://t.co/flqxd3q5py', '60s', '610', 'ep03', '@j2bone', '8400', 'http://t.co/ft7orfa52y', 'http://t.co/dv4mmlso1i', 'http://t.co/nbcvbso9nm', 'http://t.co/pblvpm6c27', 'http://t.co/xe0ee1fzfh', 'http://t.co/idws2zgysa', 'http://t.co/ehgtzhkan4', 'http://t.co/cqlm9jojop', 'http://t.co/exil1bkzmp', 'http://t.co/ehomn68ojb', 'http://t.co/kaccpk85wf', 'http://t.co/tb8gzembxu', 'https://t.co/vcv73buacz', 'http://t.co/geqkdao4cv', 'http://t.co/dg0bgzecgm', 'http://t.co/dbaujp29ub', 'http://t.co/onpnbx0zex', 'http://t.co/um5icn5et2', 'http://t.co/dlp8kpkt2k', '@kombatfans33', 'http://t.co/4hcywrwn6l', 'http://t.co/2twxz6vxbx', 'http://t.co/ms8e8mnddb', 'http://t.co/tls40nqipn', 'http://t.co/6f9afql6wp', 'http://t.co/dyy7ml2nzj', 'http://t.co/p85nwcmkqu', 'https://t.co/ofan6dkoez', '@brianboru67', '@jimskiv92', '@hijinks1967', 'http://t.co/48tpnmbjvg', 'http://t.co/ccvcte3lcw', 'http://t.co/pz56zjssft', 'http://t.co/pq3ipugkuy', 'http://t.co/zt5ofbiwtd', 'http://t.co/ul5xdblmbk', 'http://t.co/mxz7yx8ld1', '2025', 'http://t.co/m9k08oazve', '29/20', 'sk398', 'http://t.co/ra2majpkq2', 'http://t.co/y7ghhyk05b', 'http://t.co/0ymf6txfch', 'http://t.co/3i3d2ngent', 'https://t.co/jyiekeo2he', 'ûª93', 'http://t.co/mfkqyxd8xg', 'http://t.co/hhpvpael4n', '4yygb', 'http://t.co/o7yyjlukfj', 'http://t.co/rjcaxjp4os', 'http://t.co/pq0d7mh3qr', 'http://t.co/a6ro9bmxcy', 'http://t.co/cxi82rfifs', '@emily4everever', 'http://t.co/flsa8mldsn', 'http://t.co/orovzfsku2', 'https://t.co/gvm70u2bpm', 'http://www.amazon.com/dp/b00hr', 'http://t.co/arzemsr7fq', 'http://t.co/a6wmbnr51s', 'h2o', 'http://t.co/8xixbspot8', 'http://t.co/nhxse3rthx', 'http://t.co/o1enhjrkjd', 'http://t.co/q5qcoao8jp', 'http://t.co/wmutcdg36b', 'http://t.co/rffpqbaz2f', 'http://t.co/z5grlrey6v', 'http://t.co/bnwygx6luh', 'https://t.co/olnfzb86zb', 'http://t.co/m1xykecrzr', 'http://t.co/0mnpcer9no', 'http://t.co/rb2s0jmlej', 'http://t.co/9asc1hhfnj', 'http://t.co/3snyoohseq', 'http://t.co/ddr0zjxvqn', 'http://t.co/ogxsy4gwd1', '1994', 'http://t.co/bxgnq57xvb', 'http://t.co/car5qeuvhh', 'http://t.co/lrtu8rwn2f', '@jannet2208', 'http://t.co/5uecmcv2pk', 'http://t.co/71vdjhjnwv', 'http://t.co/kkdx8zmv4g', 'http://t.co/11dvqjvxpo', 'http://t.co/lr4btvueom', '@cinla1964', '90s', 'http://t.co/urjwsvr311', 'http://t.co/7jfreteii4', '@dwilliams313', 'http://t.co/nu6wrp716d', 'http://t.co/dofrh5yb01', 'http://t.co/i7kztevb2v', 'http://t.co/mssq0svnbm', 'http://t.co/6siirlnv6z', 'http://t.co/5cm0lfzhxn', 'http://t.co/fqj0squ3lg', 'http://t.co/c6lgtotvsf', 'http://t.co/csxvwxuz6t', 'http://t.co/m5sbfrrsn7', 'http://t.co/yvo6q6w442', 'http://t.co/yerct4j244', 'http://t.co/uorxff0nfx', 'http://t.co/nufdgw9yev', 'http://t.co/2okscwyohc', 'http://t.co/zahnewjri8', 'http://t.co/kx8cu4s8t1', 'http://t.co/yetagc2d8a', '100nd', 'http://t.co/zagbmlsf4h', 'http://t.co/zkgqspwyj3', 'http://t.co/3vfkedgrso', 'http://t.co/6m0ynjwbc9', 'http://t.co/jwxrx1lsqo', 'http://t.co/7bevuje5ep', 'http://t.co/pu7c4hhbxj', '1665', 'http://t.co/r4wgxra59m', 'http://t.co/4rtpjrhsqe', 'http://t.co/6x0xhlbxji', '@_301dc', 'x2', 'http://t.co/um3wtl5r7k', 'http://t.co/2lqyxzq5dn', 'http://t.co/zevan9kjzl', 'http://t.co/uuzfs1l5kt', 'ny1', 'ny1burst', 'http://t.co/w7siidujoh', 'http://t.co/w2ixt1k0ab', 'http://t.co/m4jdzmgjow', 'http://t.co/n0uhasfkbv', 'http://t.co/hqod6v6dnc', '73rd', 'http://t.co/pgkbt3mbap', 'http://t.co/rp2dxfkhdq', 'https://t.co/akmihlris1', 'http://t.co/yr67ugesrm', 'https://t.co/sjoeing76t', 'http://t.co/bhsuxvq6nf', '@benkin97', '@mili_5499', '4-0', '#ashes2ashes', 'http://t.co/xlfi7ovhfj', 'http://t.co/raq4zpdvke', '375.000', 'http://t.co/uhxodsc7wi', 'http://t.co/fz8ytwqkwv', 'http://t.co/xxkhjysn0p', 'http://t.co/2mwc9ywjzy', 'http://t.co/v57nugmgkt', 'http://t.co/vecmsiuuh1', 'http://t.co/p769eo49fj', '@cali74142290', '0802', 'https://t.co/i2el5acrrw', 'http://t.co/grlxurko8d', 'http://t.co/dobzc3pitm', 'http://t.co/4e2gjmvrvi', 'https://t.co/zntg2wndmj', 'http://t.co/jlmicj6je5', '@gbay99', 'http://t.co/v0yrfh9dkc', 'http://t.co/8pifutrb5u', '401', '@sholt87', '@eco11c', '@carlsbadbugkil1', '401ks', '12:11', '23rd', 'http://t.co/mvsrjd4x3d', 'http://t.co/azl4xydvzk', 'http://t.co/ex4fnjjl6h', 'http://t.co/zdhwrn6czc', '@1rockstar62', '@valdes1978', 'http://t.co/m2yuxnqlqy', 'http://t.co/v8gkkfmfxt', 'http://t.co/xrja0xpl40', 'http://t.co/psi35au3pc', 'http://t.co/xdt4vhfn7b', 'http://t.co/6qc8whdizy', 'http://t.co/inezzaes5d', '11000', 'http://t.co/dchfpxgy2m', 'http://t.co/xcgzc45gys', 'http://t.co/k0y7xfxmxa', 'http://t.co/fjdm8qhyai', 'http://t.co/6gldwx71da', 'http://t.co/gztolll5wo\\x89û_', 'http://t.co/yubkhf9iyh', 'http://t.co/us0qqqhqvj', '16550', 'http://t.co/l0b14sj7jb', 'http://t.co/6craekc9wb', 'http://t.co/ypvvqz8jzt', '#1-1st', 'http://t.co/yejt18sbm0', 'http://t.co/rcqacn91be', 'http://t.co/e14epzhoth', 'http://t.co/22a9d5do6q', '@tammy_w1997', 'http://t.co/0szwlwl9qu', 'http://t.co/fqmyprlg9g', '4:30-', '6pm', 'http://t.co/bptzamjl2k', 'http://t.co/tni92fea3u', 'http://t.co/czbamzq3gl', 'http://t.co/jab541hhk0', 'http://t.co/je6zjwh5ub', 'http://t.co/0xh758onup', 'http://t.co/ccdx7cglqw', 'http://t.co/cwzhgezaj4', '815', 'http://t.co/zk69ugxmt8', 'https://t.co/4cog0otiwn', '254', 'http://t.co/au5jwgt0ar', 'http://t.co/yhyy3o609u', 'http://t.co/werk9qibvv', 'http://t.co/y217ceeemd', 'http://t.co/ucudwiu3an', '#4playthursdays', '1716', 'http://t.co/cq7jj6yjfz', '688', 'http://t.co/y7peto0dx2', 'https://t.co/opjwunuvg8', 'http://t.co/bti8jamfiu', '@rinkydnk2', '@neoprogressive1', '2left', 'http://t.co/qfjjdxes7g', 'https://t.co/fz1haej255', '4.5', '290', 'http://t.co/4yu5sy1cui', 'ps4', '@cozmo23', '10m', 'http://t.co/2baxg1wdpp', '#rt_4_a_mention', 'http://t.co/ths9iqswp3', 'http://t.co/uoozxaus26', 'http://t.co/pw78nbljky', '213-924', 'http://t.co/hpzhe0cjvf', '20009', 'http://t.co/uhl0akfvsm', 'https://t.co/mj8rezoxlj', 'http://t.co/ppji1tcnml', 'http://t.co/0h7oua1pns', '1998-99', '#171', 'http://t.co/uhfm1r3tq5', '61st', 'f496d', 'http://t.co/4virxkgmpc', 'http://t.co/mw9ambgafq', 'http://t.co/dl60ja06tw', 'http://t.co/fwup9yurzy', '@catwoman1775', 'http://t.co/g5do2x6226', 'http://t.co/tfcdronra6', 'http://t.co/45cmaqf8ns', 'http://t.co/2jr3yo55dr', 'http://t.co/p1wmkxa9d8', 'http://t.co/wwfacu6nft', 'http://t.co/yi30zgizsw', 'http://t.co/2jgvhw7yzs', 'http://t.co/mfjxh4p51u', 'https://t.co/j4fsdpfa63', 'https://t.co/ujk0e5gbcc', '@9newsbrisbane', '@9newsgoldcoast', 'http://t.co/kd3qsakbi5', 'http://t.co/n6rbnhmtd4', 'http://t.co/9y0paj8sxd', 'http://t.co/oldjsowky5', 'http://t.co/vjgr6liaxh', 'http://t.co/55jr66plov', 'http://t.co/k2bzuatuks', '#setting4success', 'http://t.co/gam7otgisw', '21:1023', 'http://t.co/v8aftd9zez', 'kc5kh', '1.5', 'http://t.co/ghmmuj7gbe', 'http://t.co/u9lvvlzhye', 'http://t.co/lyj57pq3yx', 'http://t.co/5b7qt2yxda', '@dylanmcclure55', 'http://t.co/zw5jp46v5k\\x89û\\x9d', '2b', 'http://t.co/wox3vprixq', '2:22', 'http://t.co/rln09wke9g', 'http://t.co/tezltqeyw2', '92101', 'http://t.co/u52rw9ji2r', 'http://t.co/gx75w3q9ye', 'http://t.co/muf5czqjrl', 'http://t.co/sslt8esmhy', 'http://t.co/20dncthr4d', '1970s', '1890', 'http://t.co/uilpg8i1ev', 'http://t.co/m9pxto2kww', '100000', '828', '864', '803', 'http://t.co/qaqqrjv9gu', '#sr14', '1700', 'http://t.co/qposkp3mwj', '#liveonk2', 'http://t.co/sequwmvfx4', 'http://t.co/qrhjei7grq', '@bitchl0vecannon', 'http://t.co/fz5ew4ihmb', 'http://t.co/yqhfio9xqm', 'http://t.co/jqso4fyzp4', 'http://t.co/f4xnplio5s', 'http://t.co/nh5pkfbfqm', 'http://t.co/vz640xoswj', 'http://t.co/m2hpnoak8b', '@nicolaclements4', '208-267-6773', 'http://t.co/ezeisasm0c', 'http://t.co/tzyhdbw9f5', 'http://t.co/9nly2tovud', 'http://t.co/4ssuyhkgrb', 'http://t.co/tderbtgz2k', '119000', '966', 'http://t.co/eu8jypizsd', 'http://t.co/v5ogr3f5n9', '501', 'http://t.co/pa5sslefec', 'http://t.co/6ffylajwps', 'http://t.co/uyyyrkd6q3', '279.00', 'http://t.co/ftm4rkl8mn', '@eeenice221', '@swayoung01', '80m', 'http://t.co/ybe9jqoznr', 'http://t.co/328szfletz', 'http://t.co/czwjw4uv7i', '660', 'http://t.co/bn7xpzqdm0', 'http://t.co/kpqk0c4g0m', 'http://t.co/xwn7rgvkzc', 'http://t.co/swpdq84boi', 'http://t.co/mvrsyu2ppk', 'http://t.co/njrjxqbjr4', '#q99', 'http://t.co/724gq5ebqz', 'http://t.co/h01j9pirie', 'http://t.co/b231ul1o1k', 'http://t.co/mfckpvzfv8', 'http://t.co/sjh0hsrp4s', '@mattcohen4fake', 'h20', 'http://t.co/pe2d3hcsni', 'http://t.co/1epiyenqyl', 'http://t.co/3enyndxppm', 'https://t.co/gqpi7jmkan', 'http://t.co/oz1ds3xu0d', 'http://t.co/lcnw4ead8v', 'http://t.co/yvafi3zujx', '550', '5040', '5/16', 'http://t.co/eejrmktj0r', '1979', 'http://t.co/yopeypjkb2', 'http://t.co/h09nydbzov', 'http://t.co/gaotrg4mtr', 'http://t.co/pspm3ahgkq', 'http://t.co/5kfovovjso', '@coach_keith44', '@trpreston01', 'http://t.co/n3ow73oasw', 'http://t.co/gs9bmplbhh', 'http://t.co/dunmvj7itl', 'http://t.co/rgdrjv63hf', '-4-15', 'http://t.co/17egmlni80', '08:00', 'http://t.co/nz7ackrrji', 'http://t.co/tytpbc4gwi', 'http://t.co/qhwe5k7xuw', '@nigeltanner1', '@5sos', '@ashton5sos', '@luke5sos', 'http://t.co/zsnsar1tw1', 'http://t.co/lsmx2vwr3j', 'http://t.co/6nqru2q5tz', '3460', '08/05', '19:36', '-27.499212', '153.0110', 'http://t.co/jszzqst3xs', '10news', 'http://t.co/paug7a68i0', 'http://t.co/alumrgl40e', 'http://t.co/8h2kctfb8i', 'http://t.co/5ng0fzpvds', '8000', 'http://t.co/4m5uheyfdo', 'http://t.co/byj5dfa2rv', 'http://t.co/pwwpum6rbj', 'http://t.co/yspon4d6qo', 'http://t.co/cubc0nq6fd', '#ufo4ublogeurope', 'http://t.co/1pxpoqktjo', 'http://t.co/cbps1gskvo', 'http://t.co/7aze4iogme', 'http://t.co/x5yeuylt1x', 'http://t.co/2ugrmd1z1n', 'http://t.co/ap9jbrpmqg', 'http://t.co/q9lxo4qkji', 'http://t.co/mmklapx2ok', 'http://t.co/x5xumtoeke', 'http://t.co/ybyp68ievn', 'http://t.co/ld5p1sia2n', '2006', 'http://t.co/gid6jqn8ug', '111020', 'http://t.co/aetgbxm1pl', 'http://t.co/bgaj2oax1p', '2500fps', 'http://t.co/45twhj0l6m', 'http://t.co/vbffodtp6m', 'http://t.co/mzk5ujlfcv', 'http://t.co/ub3woz2ut1', 'http://t.co/0yl3yt4ylh', 'http://t.co/arkmc7vcln', '17th', 'http://t.co/ficd5qbqwl', 'https://t.co/pqslug4jk5', '@beautiful_juic1', '1fmk', 'http://t.co/pvkgo79jni', '3-5', 'https://t.co/apod4eivba', 'oc73x', 'http://t.co/nu0d3uannz', '@mariaf30', 'https://t.co/nljvp3vfyz', 'http://t.co/ttb9oil8r2', 'http://t.co/jk7npdpwro', 'https://t.co/6xysdn2xz0', 'https://t.co/mjbiuvbmo6', 'http://t.co/i5cdtd8ftj', 'http://t.co/algtcn8baf', 'http://t.co/bz07c9wthx', '#asae15', 'http://t.co/r8ceprqxle', '@bbc5live', 'http://t.co/fp64yosjwx', 'https://t.co/rd10ex6hvt', 'http://t.co/87efcbiczm', 'http://t.co/k8bexkgwr2', 'http://t.co/uqva3dfbca', 'http://t.co/1yixfg1hdy', 'http://t.co/igz7v24ge9', 'http://t.co/m75dnf2xyg', 'http://t.co/ixfne5jlep', 'as10004', 'http://t.co/6wadnmstov', 'https://t.co/uplfsqmr0c', 'http://t.co/t5agps7t2b', '12:32', 'http://t.co/zdpa4dbtsu', '@dmassa5', 'https://t.co/2liwkjybe9', '#norge2040', 'http://t.co/cnyvvy4wat', 'http://t.co/iuh718kcy0', 'http://t.co/9pqyx4xool', 'http://t.co/0fs9ksv5xk', 'i580', 'http://t.co/in8lys7v5l', 'http://t.co/hrc3oxquik', 'http://t.co/wnptvbm5t7', '[8', 'http://t.co/yxvmiflvc4', 'http://t.co/3ife1zsop7', 'https://t.co/budmke3nnf', 'q2', 'http://t.co/2y2wzk1frm', 'http://t.co/pc8bvuflfj', 'http://t.co/em5opytbpg', '@medic914', '@nervana_1', 'http://t.co/7nagdsadwp', 'http://t.co/oskfyj8ck7', 'http://t.co/u3wao8asfg', 'http://t.co/hc6hzs4wsi', 'http://t.co/0keh2treny', 'http://t.co/lci3pljx25', 'http://t.co/e2dbcpwd9u', 'https://t.co/cavb7pgepv', 'http://t.co/cgfzk8ha1r', '#borderlands2', 'http://t.co/qp6q8rs8on', 'https://t.co/owpd7vcfs6', 'http://t.co/prontouo91', 'https://t.co/sek6mq6njf', '@ik4len', 'http://t.co/7k5shaiqiw', 'http://t.co/ej2ghnafhy', '9:35', 'http://t.co/wvvgmeja7l', '158-0853', 'http://t.co/odmx36wdhm', 'https://t.co/ipgmf4ttdx', 'http://t.co/rqu5ub8plf', 'http://t.co/av2jsjfftc', 'http://t.co/zdtcw9fsx1', 'http://t.co/f5miuhqaby', 'http://t.co/4ftzjk94dt', 'http://t.co/imawvmzs3a', '#615', 'http://t.co/jrgj17oamt', 'http://t.co/75vlsw85gi', 'http://t.co/txy3us2ejs', 'http://t.co/3u6mdlk7di', 'https://t.co/4arwwrzpsr', 'http://t.co/mkjq9yfmp8', 'http://t.co/ykuauov9jo', 'http://t.co/puxbc2loyk', 'http://t.co/lwlexxjus8', 'http://t.co/nux5xfpv2d', 'http://t.co/lgpne5hkao', 'http://t.co/jsuhupz6vp', 'http://t.co/n5vrffrbo3', '@jackperu1', 'http://t.co/ta1yqclpsc', 'http://t.co/xtohi1hexy', '828/704', '02', '03', 'http://t.co/hld5xlywbn', 'http://t.co/7l9qazljvg', 'http://t.co/q0hsyfrwec', 'http://t.co/nosvu0zx4x', 'http://t.co/5mjzjnkpfn', 'https://t.co/3hoikdmocb', 'http://t.co/stw3pg3t0o', 'https://t.co/pqhq4jnztt', 'https://t.co/fx0w2sq05f', 'http://t.co/cdxe5vmzoj', '250000', 'http://t.co/lxjjgyv86a', 'https://t.co/u9x3perxco', 'http://t.co/lvbuw01yoh', 'http://t.co/pg4y3i5ciu', '@sgc72', 'http://t.co/h1xch54kd3', 'http://t.co/4jno677zkv', '@silent0siris', 'http://t.co/t4axz7kc3s', 'http://t.co/gan14pw9tg', 'http://t.co/5n4husewly', 'http://t.co/mmiye1k8zz', 'http://t.co/fblnifda1c', '547', 'http://t.co/nf46paytvw', 'http://t.co/67tjn9egyk', 'http://t.co/gyh00mrkjm', 'http://t.co/hxtupra5bc', 'http://t.co/3ln8trhw6x', '@hgf52611', '3.1', '41', 'http://t.co/a3dsmbqkwu', 'http://t.co/gghfx8pzmh', 'http://t.co/2lbtshxi3c', 'http://t.co/0jmkdtcymj', 'http://t.co/4oa6swlxmr', 'https://t.co/zwvyisyp2b', 'http://t.co/8c3fploxcr', 'http://t.co/cbgz9xun2k', 'http://t.co/5ydb4s13pf', 'http://t.co/oyogii97yh', '@jasminehuerta24', 'http://t.co/etyzy8gb2a', 'http://t.co/erws6ieldg', '43.631838', '-79.55807', 'http://t.co/vku3rtoz1j', '@tonycottee1986', 'http://t.co/lsqe7nu6kl', 'http://t.co/dn5buo7gsk', 'http://t.co/bgytmqj3oo', 'http://t.co/rm6cnzkszl', 'http://t.co/ihhrkg4v1s', 'http://t.co/aryu5qngjj', 'http://t.co/auezxza5ak', 'http://t.co/b0zwi0qptu', 'http://t.co/mesgcngaz0', 'http://t.co/7zlsumiess', 'http://t.co/tdcch01n7q', 'http://t.co/yg32yb2jdy', 'http://t.co/ex6jzqj3ni', 'http://t.co/swvuzxi6gt', 'http://t.co/xrp0rtkffj', 'http://t.co/dcdecfv934', 'http://t.co/dwbc1duvdk', 'http://t.co/babmf0w2yw', '@eganator2000', '712c', 'http://t.co/gjbainqwn9', 'http://t.co/jphgpl1c5x', 'http://t.co/rqkk15uhey', 'http://t.co/easlgea1b7']\n",
            "With punctuation: ['%', ':', '...', 'http://t.co/t5trhjuau0', ',', '@bmurph1019', '@hail_youtsey', '.', '@termn8r13', '#goblue', '#wrestleon', 'http://t.co/oaskgki6qj', 'http://t.co/di8elzswnr', 'http://t.co/yaqrsximph', 'http://t.co/tagzbcxfj0', '#mlb', \"'\", 'http://t.co/fpjlwoxklg', '@johnsontionne', '?', \"it's\", '/', '(', ')', 'http://t.co/xxfk4khbiw', \"i'm\", 'https://t.co/mkx6ux4ozt', '!', 'sterling-scott', 'https://t.co/ma4ra7atql', 'http://t.co/cg579wldne', '@libertarianluke', 'http://t.co/7xglah10zl', 'http://t.co/thmblaatzp', 'https://t.co/musbik7ejf', 'pak.they', '&', 'attack.share', 'https://t.co/qiopbtiuvu', '7.23', '419-3', '-', 'û_', 'http://t.co/hcdiwe5flc', 'http://t.co/zlvebeoavg', '@roughdeal1', '@zhenghxn', '@rayquazaerk', \"don't\", '@jackmulholland1', \"charlie's\", \"dublin's\", 'https://t.co/czdw8oowa2', 'http://t.co/zl7ojdaj3u', 'http://t.co/lkjfabqzb3', \"drake's\", '@1acd4900c1424d1', '@foxnews', 'http://t.co/rbzomwgjee', '#bcpoli', '#canpoli', '#vanpoli', 'http://t.co/ns1aggfnxz', '#shoes', 'gt-ii', '2.0', 'http://t.co/od250zshfy', 'http://t.co/wd9odwjj9l', '#tweetlikeitsseptember11th2001', 'http://t.co/xwxbyhtuzc', 'http://t.co/wzedxefblg', '@_gaabyx', '@buffoonmike', '@toddstarnes', 'sensor-senso', 'http://t.co/7o4lnfbe7k', 'http://t.co/fvzsgjtbew', 'http://t.co/tl93aod3er', 'http://t.co/obix79ncxn', '#tomclancy', 'self-image', 'http://t.co/z8r6r3nbtb', 'http://t.co/namffldh5h', \"victoria's\", 'http://t.co/o097vsotxk', 'http://t.co/i23xy7iejj', '#hannaph', '5:00', 'http://t.co/thhjjw51pe', '01-06', '2.5', 'l-l', 'http://t.co/gbvdnczjou', 'http://t.co/c211hise0r', 'http://t.co/xbznu0qkvs', 'https://t.co/bejftygjil', '#news', '#bbc', '#cnn', '#islam', '#truth', '#god', '#isis', '#terrorism', '#quran', '#lies', 'http://t.co/jlczidz7vu', '@mylittlepwnies3', '@early__may', '@anathemazhiv', '@tonysandos', 'http://t.co/lhw4vtbhzg', '@dailykos', 'http://t.co/yh5vetm0yz', 'http://t.co/17wgug8z0m', '#dream', '#magic', '#linden', '#', 'http://t.co/073izwx0lb', 'http://t.co/okmlagvkjv', '|', 'http://t.co/e7fn5g5ruu', '@wwp', ';', 'http://t.co/shhlv4dplz', '#client', \"iger's\", \"disney's\", 'http://t.co/sf5jdnvdw9', '#til_now', '#cnbc', '@marc_holl', '@nennicook', '@aitchkaycee', '@vixstuart', '@benjbeckwith', '#disaster', '#gbbo', '#mudslide', \"i'd\", \"weren't\", '[', ']', 'http://t.co/kvpbybglsr', '@graysondolan', 'http://t.co/pfvzvpxqgr', '@startelegram', 'http://t.co/k9airfq3ql', 'http://t.co/jdbtlymehy', '#solar', '#japanese', '#fukushima', 'http://t.co/ys3nmwwyvc', 'http://t.co/alpotnb7q3', 'http://t.co/wlmsq3mtho', '#childhood', '#trauma', '@keithboykin', '@randallpinkston', '@pozarmy', 'http://t.co/gxq1auzb18', 'http://t.co/ctijdpxabk', '#newyork', 'http://t.co/uelz59wvom', ';)', '@freddiedeboer', '@thucydiplease', '@mathew_is_angry', '@z3ke_sk1', '@saladinahmed', \"magic's\", 'http://t.co/jiomnrcygt', '#paramedic', '#ems', '#world', 'http://t.co/6ds67xai5e', 'derailed_benchmark', 'http://t.co/y87gi3brlv', 'http://t.co/1zbhvdcxzs', '@raishimi33', ':)', 'http://t.co/yqjpn3quux', 'http://t.co/wk6b5z803o', '@marynmck', \"that's\", \"won't\", '@target', '@starbucks', '#momneedscoffee', '#asap', '#iwontmakeit', 'belly-bombed', '@teamstream', 'http://t.co/gbcvvevdty', '#allah', '#wealth', '#forever', '#hellfire', '#reflect', '@detkenlang', '#kindle', 'http://t.co/kcrnmjkj73', '#heartdisease', 'http://t.co/kzfigkeeva', '#sandrabland', 'https://t.co/gajtugaui7', '@youtube', '@itsjustinstuart', 'http://t.co/mnkaji2q1n', '#hungerarticles', 'http://t.co/lrouwjmbix', 'http://t.co/pzotpdgaki', '@chubbysquirrel_', '@hurricane_surge', '>', 'http://t.co/9vw0uqqi1y', '@rockbottomradfm', 'http://t.co/tyjxrfd3st', '+', 'https://t.co/j3di85ist5', '@swb1192', '@ameenshaikh3', '@sureshpprabhu', 'http://t.co/1ybe5mgzl4', 'http://t.co/7zog3dpdu9', 'http://t.co/tilgurkv7z', 'http://t.co/91jvycxxvi', '#kashmir', 'http://t.co/saf9mosksn', '#kashmirconflict', 'http://t.co/qfrawln4ba', \"reddit's\", 'http://t.co/cd2ng2awql', 'http://t.co/2wbivkzjip', '#abstorm', '#yyc', '#hail', '#hailstorm', '#haildamage', '#yycweather', '#calgary', '#captureyyc', '#alberta', '#sto', '#pieceofme', 'http://t.co/4mjyw7p7cf', \"elena's\", 'http://t.co/vcq2icptki', 'http://t.co/a8jz5a26wi', '#theatershooting', 'cross-exam', \"hasn't\", 'https://t.co/ii2spvp89b', 'http://t.co/rodpt33xfm', 'rush-hour', 'jumper-ca', 'http://t.co/0bvk5tub4j', \"siren's\", 'https://t.co/nps3xpbkaq', '@heyimginog', '@aftershock_delo', '#technology', '#cool', 'http://t.co/vpvj5hrc1i', '#tech', '@joegoodmanjr', '#copalibertadores', 'https://t.co/8tygo0kizz', 'http://t.co/mtmkimwiyy', \"group's\", 'https://t.co/phfoeozyps', 'http://t.co/fucoqhclad', '@chowtaxis', \"khan's\", '@lisavanderpump', 'http://t.co/h1xigcen7f', 'http://t.co/pw3tzu0tay', '@', '@iphooey', '@time', '#notgoingoutinthat', '@hellonwheelsamc', '@how_fans', '@talkinghell', 'http://t.co/9giaxd6jty', '#tampa', 'http://t.co/oogoto76uz', 'triple-digit', 'http://t.co/xc96rwuszb', 'http://t.co/xm9stfzcpv', '@robertmeyer9', '=', 'http://t.co/r1cnsjuayq', 'http://t.co/dq1ylcrf9k', 'https://t.co/ohcx3y8l4s', '@ciaramckendry', '#robertcalifornia', '#thereisonlysex', 'http://t.co/hfvnyft78c', 'http://t.co/8j4rdwyjwu', 'http://t.co/9mkzpzfkl2', \"you're\", '48.870833', '2.399227', 'http://t.co/x8i0mhyrmn', '#stlouis', '#caraccidentlawyer', 'https://t.co/k4zomof319', 'https://t.co/s2kxvm0cba', 'http://t.co/qsheu3yf0w', '@danhrothschild', 'self-destruction', '#takecare', '@bluejays', '@braves', '@angels', '#history', '#love', '@lesleychappelle', 'http://t.co/sqfp6ecz0i', 'http://t.co/oef123l5rc', '@sonoranrattler', '#writingtips', 'http://t.co/slttorrlhs', 'http://t.co/u2do2mc2ri', 'http://t.co/3om3xw6cz8', \"doesn't\", '#finsup', 'http://t.co/i1eeuxxz3a', '#wattys2015', '#wattpad', '#teenfiction', 'http://t.co/g891m9gh4r', 'http://t.co/xq92x4bvg3', '@sweetiebirks', '@mirrorlady2', '@slatukip', \"we've\", '#worldnews', \"we're\", '..', 'http://t.co/6hhmbdk9yo', '@atl_events', 'http://t.co/m4tczaawpt', '@thehighfessions', 'http://t.co/idqcfjycym', '#japan', 'http://t.co/cas8xc2dfe', '#handbag', '#fashion', '#style', 'http://t.co/hpd3snm6oy', '#9973', '$', '16.99', 'http://t.co/gsmddmu9pu', 'http://t.co/epabinczmj', 'http://t.co/1sgzgtgfw9', '@lonewolffur', '*', 'http://t.co/l9fjpnszuo', '0.0', 'http://t.co/mskn6d3ekh', 'http://t.co/2fs649qdwx', '#gabon', '#somalia', 'http://t.co/kltit88as3', 'http://t.co/x9mdhocpda', 'year-old', '@selmoooooo', '@_edvinnn', '@imtariik', '@dzafic_haris', \"i'll\", '@perkpearl', '#nativehuman', '#myreligion', 'https://t.co/wwu070tjej', '8/', '5/2015', '6:52', 'http://t.co/nyv51681ue', 'http://t.co/ydgiuydqgb', '@tareksocal', 'http://t.co/9rfo9gy3ne', '#weddings', '#otrakansascity', '@aria_ahrary', '@thetawniest', '@fevwarrior', \"you'd\", 'http://t.co/o82yvxbztv', 'http://t.co/n5kmxuverg', '1.50225', '103.7429', 'http://t.co/xrgpdlswfd', '@dccc', '@vj44', '@lawrence', '@jbouie', '@mmfa', '@cheetosarabia', '@crudes', 'http://t.co/uwobuuw2mk', '@eac4au', 'pre-order', '9/15', 'http://t.co/fvp3wnid4l', 'http://t.co/bwdhibtiks', 'http://t.co/qelroci7by', '@fiendnikki', '#emmerdale', '@gargron', 'co-founder', 'http://t.co/tdeukjzzii', 'http://t.co/hy5pbe12tm', 'http://t.co/c1njpli5or', 'http://t.co/1qochspybw', '#harleychick', '#pjnt', '#runbenrun', 'http://t.co/kiildu8gpo', '#animalrescue', 'https://t.co/wudlkq7ncx', '@taykreidler', '#loveyouuuu', '#aintsheperty', 'https://t.co/wemwdtfwic', '11:00', 'http://t.co/fqv47ob8ge', 'winston-salem', '@furiosoxv', \"can't\", 'http://t.co/cwm0ulqu3e', '#hot', 'http://t.co/cx6aupnemu', '#prebreak', '#best', '@messeymetoo', \"isn't\", 'https://t.co/txzxcnudr8', 'http://t.co/lhtvkcoiso', 'http://t.co/b1bx0eruep', 'http://t.co/bgy4i47j70', '@cristianinspire', 'http://t.co/ixjqg1sx6u', '@ptsd_chat', '#ptsdchat', \"bindle's\", '@autoames', '. .', '#strategicpatience', '#genocide', 'https://t.co/8owc41fmbr', 'http://t.co/ohbv7yvtl5', 'http://t.co/ymuti3nd9r', '@mets', '@erinmariefishy', '@onu_france', '74/75', '@rockefeller_chi', '@rockefelleruniv', '@harvardu', \"kidnap'g\", '@afp', '@noah_anyname', '@swellyjetevo', 'vì_a', 'http://t.co/t7ge0j3cay', \"mayweather's\", 'http://t.co/ijzcytbffo', '#boxing', '@camilla_33', '@craykain', '#gunsense', '@wbcshirl2', '@hollywarnexx', '@rodarmer21', 'http://t.co/lwdcrpehtn', '@lizhphoto', 'http://t.co/zbzc8905gl', '#shipping', '#logistics', 'http://t.co/dno7qxcffh', '#doping', '#latestnews', 'http://t.co/ia1hngnhvb', '@marek1330', 'http://t.co/ffkcj8pfj2', '@music212', 'http://t.co/5v29w19tfx', '#russia', 'http://t.co/vymouzjzre', 'http://t.co/enrjh5qkve', '#windows10', 'http://t.co/3fzidhqrk3', 'stretcher-bearer', '@stankyboy88', \"should've\", 'http://t.co/acfi2rhz4n', 'http://t.co/pst5bbq0av', 'lì_cke', '#gamergate', '@aphyr', 'chloe_bellx', \"rose's\", '#aoms', 'http://t.co/nkkctttsd9', '#ibooklove', '#bookboost', '@greenlacey', '#thanku', 'http://t.co/cybksxhf7d', 'http://t.co/vcjcykq8b8', '#writing', 'http://t.co/8qc8bcxoko', '@bettyfreedoms', '@abninfvet', '@drdrewhln', '@jenniferarri_', 'http://t.co/bytbz8s5ux', '#034', '8-p', '2.1', 'http://t.co/o3wvsclicx', 'http://t.co/4evttqpeia', '#makewaterwork', 'http://t.co/txrbdaubnn', 'http://t.co/ue78c7egox', '#westerncanadadrought', 'http://t.co/ap30pszkvx', '@joshsternberg', '@ictyosaur', 'http://t.co/9vd6x4wdoy', 'contactsimplenews@gmail.com', 'http://t.co/ltvvpflsg8', 'http://t.co/3g79prayyc', '#topnews', \"parley's\", 'http://t.co/yfavsuogvl', 'http://t.co/isi1rllct0', 'http://t.co/mylieruxk1', '@daborsch', ':(', '@urufusanragu', 'http://t.co/kah1kmtrj7', '33.209923', '-87.545328', '#pathogen', '#bioterrorism', '#infectious', '#ebola', 'http://t.co/qmo1txxdkj', '@wisdc', 'http://t.co/serarcnrby', '@troylercraft', 'http://t.co/tngye2fklv', 'http://t.co/zgjgghdurf', 'http://t.co/y46isyzkc8', 'https://t.co/iniqzfyioi', '@luke_winkie', 'http://t.co/0xa6fcjyec', '#amazon', '#foot', '#adjust', '#shape', '#shoe', 'http://t.co/8cpcz2xohb', '#raining', '#flooding', '#florida', '#tampabay', \"i've\", \"here's\", '#date', 'http://t.co/c5ggszugw1', 'http://t.co/2pimg9bice', '@glosblue66', '@based_georgie', 'top-down', 'http://t.co/gnorijnsva', '#soundcloud', 'https://t.co/sjkgjxff2r', '@rubi_', '@weloverobdyrdek', '@adrian_peel', 'http://t.co/m8ufjdtlsm', '@slone', '#auspol', 'http://t.co/a6ppegelox', '#wildfire', 'http://t.co/qcpmktgllr', '_one', 'http://t.co/leczolkmsv', 'week-old', 'http://t.co/e0uusnpsq5', '@fnaf_talkmc', 'https://t.co/utc7pdidfo', '@newsarama', '@haji_hunter762', '@middleeasteye', '@wocowae', 'http://t.co/oioecbsh1f', \"there's\", '@tomarse99', 'arena.none', '#radiation', '#emergency', '#procedures', '#06', '#24', '#09', 'http://t.co/hxwfbpp1b3', '33.104393', '-96.628624', '@mattmosley', '@cockerelshoes', 'http://t.co/t1mbw0ia3o', 'http://t.co/clfa0py5lm', '@calum5sos', '@s_casualty', '@bridgeportspeed', 'http://t.co/dih1tgqhej', '@ayhoka_', '@foxy__siren', 'http://t.co/xjkrxrnwnv', '#insubcontinent', '@insubcontinent', 'http://t.co/jlwgshyy3n', '@adriasimon_', '#round2', '#yycstorm', 'http://t.co/fqqi8gvlq4', '#hwy401', '#cambridge', '#opp', '^', 'http://t.co/aprensss3x', '@emmerdale', '#summerfate', '@mikeparractor', '@misscharleywebb', 'http://t.co/xizkjfff29', '#nowplaying', 'http://t.co/grzchkdf37', '10:15', 'http://t.co/n844h1aspj', 'https://t.co/sz2rvwpwhj', 'https://t.co/lajx578dru', 'http://t.co/p4doa5yyje', '@usagov', 'games.https', ':/', 't.co/apksnplxzj', 'espì_rito', '2015.08', 'http://t.co/ejkrf8n8a8', '#drum', '#heavy', '#nasty', 'http://t.co/sphwe6wfi5', 'http://t.co/d7zxz42qw1', '\\\\', '@mort3mer', \"ain't\", '#amssummer', 'http://t.co/jcdd6sd6qn', 'http://t.co/9guckjghms', 'http://t.co/irpssresrq', 'http://t.co/8jcyxhq1az', '@asimtanvir', '@nemesisk_pes', '@kevr_7', '@kiranahmedd', 'http://t.co/wj7ujfs8fd', '#humble', '@expirehc', \"ferguson's\", 'http://t.co/tbqsqtmqv4', 'http://t.co/e1vkc2efst', '#nb', 'http://t.co/beua507iug', \"billboard's\", 'social-media-driven', 'http://t.co/wvlah8jrxe', 'explosion-proof', 'http://t.co/sd7loww9nu', 'http://t.co/7hkavtvx81', '@greenbuildermag', '@nfpa', 'http://t.co/xmsvohkccp', '@firewise', '@michele_nfpa', 'http://t.co/ja3w1s3tmr', '@thesewphist', 'fuckface@wineisdumb.com', 'http://t.co/wqikqx9e3w', 'https://t.co/xmwodfmtui', 'http://t.co/kncm9jc8i9', 'http://t.co/swviazsphk', \"onåê'the\", 'http://t.co/iosthxlcyv', '@teafrystlik', 'http://t.co/jvivt6zrv7', '):', 'http://t.co/ss1zl36y9v', 'http://t.co/p3g3bqbczu', 'http://t.co/rpbxdfnx5k', 'robot-lvl', 'http://t.co/dmlj1agotw', '#robotcoingame', '#bitcoin', '#freebitcoin', 'australia-southafrica-cambodia', '#india', 'http://t.co/qmif0blwoa', 'http://t.co/l6pif3lpen', '@chrisman528', 'http://t.co/kjbxieypma', 'http://t.co/enpjcfma8l', 'http://t.co/moa0q0aufa', 'http://t.co/nkou7zwwrt', '#farrakhan', '#quote', '@gideonstrumpet', \"shouldn't\", '17.beyonce', 'http://t.co/thoyhrhkfj', '#beyhive', 'http://t.co/wvj39a3bgm', '@youngheroesid', '@dieanpink95', '@yu_nita99', '#pantherattack', 'http://t.co/pioy1o54f4', 'http://t.co/e9yfe3p7p1', 'http://t.co/8gzbgmmaa1', '@lt3dave', '@raniakhalek', 'https://t.co/orxdqfz0j0', 'http://t.co/huthxlkyxy', '@drvox', 'http://t.co/muwmfjgzyh', '@daretotaha', 'http://t.co/vn0accf6d4', 'https://t.co/of3td6dglb', 'http://t.co/5ytiex55lh', 'https://t.co/ysxun5vceh', 'http://t.co/i7eskymoec', 'http://t.co/efcn9ivnfg', 'http://t.co/7cibxls55f', '@swiftycommissh', '@taoistinsight', '@immortaltech', 'http://t.co/bbdpnj8xsx', 'http://t.co/s7vygenjuv', \"today's\", '#frontpage', '#bioterror', '#rickperry', 'http://t.co/xfhh2xf9ga', '@pyrbliss', '@joeybats19', 'play-offs', '#bluejays', 'https://t.co/rqwuoy1fm4', 'http://t.co/dili5jhmur', '#thomassmonson', '#lds', '#mormon', '@memenaar', \"let's\", 'https://t.co/ndxrk2ncln', '#uswarcrimes', 'http://t.co/th9ywbbeet', 'http://t.co/6sdtzsgelq', 'http://t.co/7npbfrzejl', 'http://t.co/y0kbyy8nce', 'non-compliant', 'http://t.co/btpqdehl3p', '@www', 'http://t.co/4hngtkdqmv', '#business', 'http://t.co/l1gh8064yv', '#scichat', '#science', '#hostages', '#libya', 'http://t.co/k9fbtccu58', '#africa', '#ap', '#ts', '#nri', '#trs', '#tdp', '#bjp', 'http://t.co/xyj0rpsai2', '#rossbarton', \"yesterday's\", 'http://t.co/jkpjpch9i6', '@chrisdyson16', '#mta', '#sorrybutitstrue', '#listen', '#live', 'http://t.co/iylvzy3cob', 'https://t.co/gevrmbvznb', 'usami-san', '<3', 'http://t.co/teq7sri57p', 'https://t.co/rosvxqelqj', '@iamrrsb', 'http://t.co/pdehd1tcpk', 'http://t.co/targ56igbz', '@sport_en', 'http://t.co/wz55nbyao3', 'http://t.co/l7pmdmejs1', 'http://t.co/mdp2ni1pqu', '#copped', 'https://t.co/9cpwiecegv', 'http://t.co/rzlytnez2u', '@czallstarwes', '#kneelbot', 'https://t.co/86v81dv00e', 'http://t.co/h132iul7mu', 'http://t.co/e1kbludwh5', 'http://t.co/nkaw9ezqgg', 'http://t.co/u4gsbnu8wc', '@sensanders', '@sapphirescallop', '#360wisenews', \"china's\", 'http://t.co/eatfro3d5x', '1.9', '#earthquake', '#iphone', 'http://t.co/v3azwoamzk', \"s'mores\", 'http://t.co/rny4l3sr7a', 'http://t.co/igx8xfz8ko', 'http://t.co/gk4unpznhn', '@willhillbet', '#tattoo', 'http://t.co/qr6btdcqcj', 'http://t.co/d1vjoyg52a', 'http://t.co/qsekoeubmd', '#cubstalk', 'http://t.co/chorr2xovp', '@atlbizchron', '@southridgelife', '#manchester', 'http://t.co/tqh5amoknd', 'http://t.co/bm0sxzbnke', 'http://t.co/92fwtobi3u', '4:8', '#cowboys', 'http://t.co/12giqbvlys', '@asterpuppet', 'http://t.co/jwfiilj8wr', 'http://t.co/ionwarvrfy', '@stretcher', '@invalid', '@grazed', '@rexyy', '@towel', '(:', 'https://t.co/czqr3ci9xw', '@jaydennotjared', \"canberra's\", 'http://t.co/b77t2qxdcs', 'http://t.co/25sy9y295l', '@newyorker', '@christycroley', 'http://t.co/q8reoevlue', 'http://t.co/jlzk2hdetg', '@judson1360', '@xtra1360', 'o-line', 'http://t.co/comuiok3mp', '@fantosex', '@stacedemon', '@tinyjecht', 'stand-user', \"fema's\", '@welshninja87', 'http://t.co/tuvbr4lep3', 'http://t.co/cpeqv52lna', 'http://t.co/72ix7vm87w', '@ariabrisard', '@leiaorganasolo', '@ageekyfangirl14', 'http://t.co/fs4y1c9mnf', '@emiiliexirwin', 'agree.she', '@reddit', \"you've\", 'http://t.co/l8w30wfw3r', 'http://t.co/icrzi5tqc5', 'http://t.co/onxhkfhn2a', '#shooting', '#police', '8:', 'http://t.co/hu5cxqnobf', 'http://t.co/uymxocfs33', '@lauren_miller_7', \"sister's\", 'http://t.co/lgglf5yrme', '#aerospace', '#exec', 'http://t.co/s2wm8lh7oo', '@weathernetwork', 'http://t.co/n00dvxega2', 'hough_jeff', '#b2b', '#b2bagency', 'http://t.co/enqgtbaxuj', '#contentmarketing', '#hitting', '#load', 'http://t.co/6vei1mhea4', '@samanthaturne19', 'http://t.co/n71hmvervv', 'http://t.co/u6isxv2f3v', '#photo', 'www.twitch.tv/pksparkxx', '213-4678', 'http://t.co/o2jd4tbrwa', 'http://t.co/jfx6qiyivf', '#montgomery', '@jennasjems', '@patrickwsls', 'http://t.co/lma39zrwoy', '<', '7:15', '9:12', '9:45', 'http://t.co/ayfdjeb7hy', '#arwx', \"summer's\", 'https://t.co/vnni3zzuz6', 'http://t.co/28t3nwhdky', 'http://t.co/pdosrg8cf7', 'http://t.co/icrgseagya', 'http://t.co/kpvymhm2ub', 'e-bike', 'non-life', '@vienna_butcher', 'http://t.co/phixznv1yn', 'http://t.co/6tvvlg2fni', 'http://t.co/7mlcd0l0b8', 'hate-violence', '@dviyer', '@colorlines', 'http://t.co/nlbltynv36', 'http://t.co/bjrrqhhohl', '#debatequestionswewanttohear', 'war-zone', \"#greece's\", '@guardian', '#bailout', 'http://t.co/cjvbqxw83s', 'https://t.co/ih8udz8mq3', 'http://t.co/uqnj6nk9y3', 'http://t.co/qlnnmxzfqk', '@furtrix', \"they're\", 'iamdigitalent.com', 'http://t.co/3og66nfsig', 'http://t.co/uhf7nyabsw', 'everydaynigerian@gmail.com', '#everydaynaija', 'http://t.co/nonm8c6l8p', 'http://t.co/st5fgblsye', '#course', 'http://t.co/0uk0h9hozn', '@__scrambledeggs', \"month's\", 'http://t.co/ujrx9kgawp', '@runner_joy', \"didn't\", '#bombed', 'http://t.co/ja0wgp8spe', 'http://t.co/ryah8fni5q', 'http://t.co/26oo0fcl53', 'http://t.co/ipwysnik0g', '#pbban', '@glenstannard', '@essexweather', 'all-pro', 'http://t.co/gkye6gjtk5', '#personalinjury', '#solicitor', '#otleyhour', '4.1', 'http://t.co/wwfqgcqyii', 'http://t.co/gscswyuupa', 'http://t.co/jejc9xctmp', '917-033', 'http://t.co/wxces39zte', 'http://t.co/pygkssscfr', 'http://t.co/4ryzmzsgdw', '#lwb', 'http://t.co/mgr809yc5a', 'http://t.co/uzwxjbg0zh', 'http://t.co/pbya7uv3v5', 'http://t.co/umjprrwruu', 'http://t.co/f1bakpnyn6åê', 'http://t.co/lzxwoaye4x', '@viralspell', '6/2015', '@2', 'http://t.co/vckit6edev', '#eyewitness', '#uk', '@emhub', '#ugc', 'http://t.co/6mbpvwitxf', '@newyorkcity', '#international', '#drjustinmazur', '@kamkasteiiano', '@bluntedjayt', \"neighbour's\", '@ollymursaus', '@mmchale13', '@satanaofhell', 'http://t.co/vbsj8tniv1', 'body-bagging', 'http://t.co/nf4iculoje', 'brother-n-law', 'https://t.co/463p0ys0eb', 'http://t.co/fu1btuq1et', '#squad', '#revitup', '#pizzarev', 'http://t.co/bp8bm8xsxw', 'http://t.co/p6cylz5lpt', 'http://t.co/jpu9gips9f', \"other's\", '@david_cameron', '#savebees', 'https://t.co/ndjja4d5o8', 'http://t.co/l7bjsq0y2o', 'no-passenger', 'http://t.co/blcbabm7a1', 'http://t.co/u1fuwrgk5u', 'cross-london', 'http://t.co/vg8hrbebda', \"he's\", '@cncpts', '@solelinks', '@nasahurricane', 'http://t.co/igcetumkcw', 'http://t.co/x1xj0xvtj7', '@dauntedpsyche', 'a-huh', 'www.aprylpooley.com', \"couldn't\", '#gravitychat', '@helene_yancey', '@aelinrhee', '@howardu', 'http://t.co/dnu5hwsxo2', '#irandeal', 'http://t.co/u66kyg11zd', '#southampton', 'http://t.co/defj7xekgx', '#sun', '#earth', 'http://t.co/kxewlhh7uw', 'http://t.co/qnvxj2palj', '#np', 'https://t.co/rqiuqxnm2x', '#snowden', 'http://t.co/jaawuiovdc', 'http://t.co/rgyuakc0dr', '#orchardalley', '#les', '#nyc', '@abcnorio', '#gardens', 'http://t.co/ba2rrxugsg', 'day.http', 't.co/8vzl1ns2io', '@cranboonitz', '@hereticofethics', '#tvjnews', 'https://t.co/p5zicjudxo', 'http://t.co/kzhb8zx6yc', 'http://t.co/uz1yiz7n6m', 'http://t.co/ijwar15h16', '158-1017', 'http://t.co/ryobyqjfce', 'http://t.co/lw9o2kdk18', '@lennonparham', '@jessica_stclair', '@gilmoreguysshow', '#ihave44episodesofgg', '#nojoke', '#tna', '#destinationimpact', 'http://t.co/weudlkc4o4', 'http://t.co/trl1dskf81', '@lordbrathwaite', '#growingupincolorado', 'car-induced', '@chelsea_dogs', '#pets', '#dogs', '#animals', '#puppy', 'http://t.co/qzvkpahsq7', 'http://t.co/kmpfhglhoo', '@angusmacneilsnp', '@apollobrown', 'http://t.co/zdtz3rbs6w', '9:15', 'http://t.co/o8x4m5er6b', '#okwx', \"women's\", '(415) 751-0880', 'non-english', 'http://t.co/sbgirvqvzb', '@savagenation', \"stalin's\", 'http://t.co/5fhkxtrhyu', 'http://t.co/jblrrnmdsm', '#plague', '#health', '#publichealth', 'windwaker-style', 'http://t.co/ioq051t5te', '#629', 'http://t.co/klxaucnp5i', 'http://t.co/lhdcpnzx6a', '@drrichardbesser', '88-92', 'http://t.co/3ugfpwmy2x', '@detroitnews', '@sexydragonmagic', '@heebsterrr_', '@louis_tomlinson', '@cia', \"guy's\", '#bookmobile', '#libraries', '#reading', 'http://t.co/l2nmywrmq2', 'http://t.co/kurqlxfihl', 'global-nolocation', '#flood', 'http://t.co/bozlwr716z', 'http://t.co/c9t2f6dltm', 'hip-hop', '@tidalhifi', 'http://t.co/mzqq5pai8g', 'w.patrick', 'http://t.co/wj0u59mppb', 'http://t.co/6ime8kjacv', '#hiroshima', '@ap', 'http://t.co/qreinwg0gs', \"we'll\", '#refugees', '#forbes', '#europe', 'http://t.co/c0slabbp7j', 'boston-london', '@raynbowaffair', '@diamondkesawn', 'http://t.co/ge0yd3mkav', '#ramag', '#models', '#mayhem', '2015-16', '@suny_orange', '3:15', 'http://t.co/80dzgco6vc', 'six-meter', 'http://t.co/qwo7q1amh8', 'http://t.co/esrkmazeq9', 'http://t.co/udkesj01ml', '20:29', 'http://t.co/yqyiwjn8ez', 'http://t.co/bqblwiw08g', '#roimentor', '#yycwalks', 'http://t.co/zqihnhdwpv', '#osi2016', 'http://t.co/jtzefipdbo', '#wisdomwed', '#lifehacks', 'http://t.co/tbm9fqb8cw', 'http://t.co/mcsek4hx5s', 'http://t.co/iifgaz0fil', '@jt_ruff23', '@cameronhacker', 'http://t.co/btjpeo0bto', 'http://t.co/clyj32l333', 'http://t.co/dlaub2nvtn', 'http://t.co/rtfirzcpoc', 'http://t.co/xpfmr368uf', 'http://t.co/nmaumydke1', '#vivaargentina', 'plant-covered', '#ocnj', 'http://t.co/jzprciqa9d', 'http://t.co/fj7kcrlir7', '@petchary', '#reggaeboyz', 'https://t.co/7mlmsuzv1z', \"neil's\", 'http://t.co/m5rjekvddp', '@hail_zel', 'http://t.co/1qt51r5h98', 'http://t.co/oqh1jbuenl', 'http://t.co/bagef9lfgt', 'http://t.co/bvxqa3kfrx', 'http://t.co/emvohm9m6j', '#listenlive', '@creationsbykole', '@coloiccarnality', '2/2', 'http://t.co/hhwv0eudfv', 'meat-loving', 'http://t.co/kmndkfa7me', '#art', '#michelebachman', '#globalwarming', 'http://t.co/emrzicb004', '@lwilliams_13', '@detroitpls', 'http://t.co/20b3pnqxmd', '6.4682', '3.18287', 'http://t.co/kee1tytz15', '#semasirtalks', \"would've\", '#butgod', 'eighty-nine', 'http://t.co/spe7u8t40k', 'http://t.co/ohyd7hhcpe', 'http://t.co/fqj5aga1pd', 'http://t.co/x8zqbwnfo1', 'http://t.co/aknbtuyaef', '#pt', 'http://t.co/f4lhfmehzh', '@blazing_ben', '@pattyds50', '@gwfrazee', '@joshuaassaraf', 'http://t.co/mjmwa72er6', 'http://t.co/adx9iyi246', 'http://t.co/tkeoaedqkq', '#trucking', 'http://t.co/x9ofv1kmv7', '@markwschaefer', '@alexhammerstone', '@kttape', '#remymarcel', '#frofrofro', 'https://t.co/b19z8vi3td', 'http://t.co/yvv1rlghft', '#smartnews', '#oklahoma', '#thunder', '#nba', '#durant', 'http://t.co/t81oayjowc', 'cbc.ca', 'http://t.co/0dqjeretxu', '@shantaeskyy', 'http://t.co/ik7mgidvbm', 'http://t.co/af1yzus8ln', 'http://t.co/2ii3brc7nx', '@kshllcenterpri1', '@progress4ohio', '@allen_enbot', '@syringetoanger', 'cartoony-like', 'https://t.co/4zmcqrmois', 'http://t.co/l9ekhnkbar', 'http://t.co/dbdwtocgxf', 'å_', '@catsandsyrup', 'https://t.co/y3fo0ghg8t', 'http://t.co/layzba9y8h', '@princessduck', 'http://t.co/orjb3j803f', 'http://t.co/mwdhxyfrag', 'http://t.co/xspqdoriqj', 'http://t.co/cqyvfr4ucy', '@tremblayeh', '#sirmixalot', '#bluebell', 'http://t.co/p9rymfjcux', \"delmont's\", 'http://t.co/yojkfqej6s', '#nashvilletraffic', 'https://t.co/0ghk693egj', '#vancouver', '#drought', '#deadgrassandflowers', '#wildfires', '@ian_bartlett', '#hs2', '@lovelylikelaura', '@halloikbenwill', 'http://t.co/kctigymahl', '#security', 'http://t.co/lzml1xb2nh', 'http://t.co/1krpz3j1eu', 'http://t.co/g37hujx6et', '@mickinyman', '@theatlantic', '@gurmeetramrahim', '#msgdoing111welfareworks', '@atchisonsean', '@princeoffencing', \"it'sllikely\", 'http://t.co/gzmoblsjxu', 'http://t.co/5cgtqfk2ur', \"someone's\", '@fullscreen', 'https://t.co/nmtlpo4b58', '@setzorah', 'http://t.co/y2jt1amyfj', 'http://t.co/7nu7prxeul', '@att', '#goodbye', '#mtvsummerstar', '#videoveranomtv', '#mtvhottest', '#pandemonium', 'http://t.co/rw8b50xz9m', '@vzwsupport', \"what's\", 'http://t.co/2z8ubsy5m8', 'https://t.co/3kob7xbea0', 'water-resistant', 'http://t.co/7dyoglhmre', 'http://t.co/hkm3rtd4zf', 'http://t.co/mj2jq2psv6', '@matt_kroschel', '#vail', 'http://t.co/swwylrk0fv', 'http://t.co/6sdgz5dxnt', 'http://t.co/cvhygwcbzv', '@arizonadot', '@stevenontwatter', '@pussyxdestroyer', 'http://t.co/mwzqcjhzpb', 'https://t.co/bjzssw4tid', '#boy', '#mix', '#preparedness', 'http://t.co/o207jyabyz', 'http://t.co/cjctb2ocxg', 'http://t.co/ugzu9iqprw', '#weather', '#cawx', '@nwsbayarea', 'co-pilot', 'http://t.co/wc69xajis4', '@ledofficial1', \"we'd\", '1/2', 'http://t.co/a8nmdkd3rv', 'http://t.co/tq3j2qgtzq', 'http://t.co/igxrqpotm7', 'http://t.co/3kpbu6hgt5', '#peritoengrafoscopia', '~', 'http://t.co/gl4mcax0ny', '#stormchase', 'http://t.co/3sicroaanz', 'http://t.co/i27oa0hisp', '@tsunami_esh', '#protectdenaliwolves', '@alaska', '@adndotcom', 'http://t.co/f1tcbg1mki', 'https://t.co/is2idc3ubj', 'http://t.co/sayzt2oagm', '#tookitlikeaman', '#lovemydentist', '#sore', 'http://t.co/u7vavyrgv9', 'http://t.co/kbstrxnhup', 'cross-sectarian', 'https://t.co/zrzejpef5j', 'http://t.co/amea3lamdj', 'http://t.co/yo3t8qho9h', '@nkulw', 'http://t.co/8odtzmvqar', 'http://t.co/9cntp3nq6o', 'http://t.co/qdf6asaelm', 'brasì_lia', '@benjm1', '@tourofutah', '@b1grego', 'http://t.co/vbhu2t8wgb', 'http://t.co/n3yjb8tcpm', '#nwo', 'cross-border', 'red-handed', 'http://t.co/udj50j3mv4', 'https://t.co/dhggxo7mcc', 'http://t.co/5ortb8p51c', 'chemical-weapons', '#syria', \"benitez's\", '50-50', '#wmata', 'http://t.co/i8sj1kws1d', '#kisii', 'http://t.co/5bdrfu1duo', '#countynews', 'http://t.co/rlftjmhhvt', '@reuters', '#video', '@hopefulbatgirl', '@_charleyisqueen', \"wouldn't\", '@thebuffshow', '@thetwisterokc', '@shaniatwain', '#twisterlovesshania', 'http://t.co/o61h2taae4', 'http://t.co/n95igskd3p', 'http://t.co/thrhkhogcuåê', 'http://t.co/tzszmf2qxe', 'http://t.co/fcujsioyqo', 'http://t.co/bcjylerryx', 'http://t.co/esemjrn5cc', 'trois-rivieres', '#legionstrackandfield', 'http://t.co/pue5xnznqb', 'http://t.co/ecd7hizja1', 'wherever-the-fuck', '@flickershowell', 'http://t.co/zzpojgngaj', '@dailytimesngr', 'http://t.co/gvj7slbelp', 'http://t.co/sbfglqjzfs', 'http://t.co/napviygkyk', '@itsqueenbaby', '@adanne___', '@robbiewilliams', 'https://t.co/qadrkejz9t', \"floyd's\", 'http://t.co/5dujgypima', '#nfl', '#playoffs', \"alaska's\", '#wolves', '#savedenaliwolves', 'http://t.co/sywuel7yyx', '#anchorage', '#jobs', 'http://t.co/lkz5cnynxx', 'http://t.co/mfsbwpj0ce', '::', 'ex-president', 'http://t.co/hashgqafic', 'http://t.co/pmggavtokp', 'http://t.co/pnssia5e46', 'http://t.co/lsvsyspdxx', '#welovela', '#nhlducks', 'http://t.co/9v1rvcomh2', '#sportsroadhouse', '#wrecked', 'http://t.co/sijnbmczij', '11:30', 'areas-minor', '#hunwx', 'http://t.co/e3l1jqjh2u', 'http://t.co/7vcezi6cbb', 'http://t.co/azovgv4sb6', 'http://t.co/wrnpywyalj', 'http://t.co/qv7iydovx9', '@countermoonbat', '@voodoo_ben', 'https://t.co/ofecs6tcvc', 'http://t.co/q2eblokeve', '#directioners', 'http://t.co/encmhz6y34', \"cousin's\", 'http://t.co/lsjowgyvqh', '@bbcwomanshour', 'http://t.co/cvjyml7krm', 'http://t.co/fph01u3eii\\x89û\\x9d', \"demi's\", 'http://t.co/mcc76xowli', 'http://t.co/imilsfxntf', '#filipino', 'storm-free', 'http://t.co/huzrhgmksy', '#eventspalmbeach', 'http://t.co/uqkx5vbium', '@sonisoner', 'https://t.co/devffptcvj', 'http://t.co/igll3ph6o1', 'http://t.co/1xpw292tje', '21.462446', '-158.022017', \"world's\", 'http://t.co/9qpg0z3rh9', 'http://t.co/bjvfk1ete9', 'http://t.co/dzlense1gw', 'http://t.co/im2hdsklq5', 'http://t.co/dfyrppzkpu', 'http://t.co/iwsdbgd1zq', 'http://t.co/wpilp4mymf', 'http://t.co/8nhd9idajs', '@king_naruto_', '@mockingpanems', '@cuddlesforjen', '@scalpium', 'http://t.co/psbxl1hvu3', '#military', '#veterans', '#environment', 'ivano-frankivsk', '#win', '@be_ram0s', '#bbloggers', 'http://t.co/dsb3ldfuxu', 'https://t.co/ttq9ilhp8w', 'http://t.co/lxvlqvbc8r', 'http://t.co/acmrm833zq', 'http://t.co/lzob8qoh1b', 'http://t.co/1pdjoq4jc1', 'http://t.co/pjigxpvpl0', \"hadn't\", 'http://t.co/qyu8grorq1', 'http://t.co/nn6y0fd3l0', 'http://t.co/bkpfpogysi', 'http://t.co/bz3ir4gmwj', 'http://t.co/7mzycu2iho', 'http://t.co/s0ktiliskq', '#wcw', 'http://t.co/olpbmy9xw9', 'http://t.co/on18cqgcoa', '#cochrane', '@cityofcalgary', '#tory', 'wafer-thin', 'http://t.co/2q3fuerey5', 'http://t.co/5bgcw3ezb5', 'http://t.co/tfan6qq2ys', 'http://t.co/rakwwritpo', 'http://t.co/yllqjljiiq', '5/6', \"wednesday's\", 'day-to-day', 'http://t.co/eujgu1hvvx', 'https://t.co/itfbbz9xyc', 'http://t.co/6ioabsl6i7', '@ophiuchus2613', '#truelove', '#romance', '#voodoo', '#seduction', '#astrology', '#rtrrt', '#lotz', '9-11', '#apocalypse', '#armageddon', '#1008pla', '@accionempresa', 'http://t.co/go0pkrfzmf', '@gerenciatodos', 'http://t.co/dmtzmgyrik', 'http://t.co/5hkgxzjlmx', '@davidolszak', '@siren_song21', \"wasn't\", '@lauradeholanda', \"haven't\", 'http://t.co/ek6kyhxpe9', 'http://t.co/yn6nxoucr1', 'ago.chicago', 'http://t.co/uwitvbsbnc', 'http://t.co/wc8aqxedf7', 'http://t.co/iqj1z3jxx8', '@editaxohaze', \"body's\", 'chicago-area', 'http://t.co/myhohvrhil', '#lgbt', 'https://t.co/tm5hthfdo0', 'http://t.co/ik8m4yi9t4', 'http://t.co/dmb6xp966d', 'http://t.co/u2es0uk1u3', 'http://t.co/bgrab7lk8d', '@noahj456', 'http://t.co/xnto3jmmts', '#nashsnewvideo', 'http://t.co/epzwaseyky', 'http://t.co/cfevtrsc1u', 'http://t.co/vfctrzaok2', \"men's\", 'http://t.co/acb0ryenuo', '#catfishmtv', '@bekah__w', 'http://t.co/hwnyxxkczz', '@rachelrofe', '5:36', '@michael5sos', 'http://t.co/lnzi7o166y', '#oil', '#investing', '#money', '#trading', '#forex', '#gold', '#silver', 'http://t.co/tmpfwjpi6i', '#global', '#ayekoradio', 'http://t.co/qh5axvhwh5', '#radio', '#netlabel', '#electronicmusic', '#ccmusic', '@kylewappler', '@thisishavehope', 'http://t.co/1pdnlsp8xw', \"america's\", 'http://t.co/0wbecdmhqo', '@stupid_niggr', 'http://t.co/a2ss7pr4gw', 'http://t.co/j2pykyo0en', '#wildhorses', '-->', 'http://t.co/14wh0pjj2c', '@cnn', '@cbc', '#sbnation', '#flames', 'http://t.co/xyi5fdacxo', 'http://t.co/sjtvzggcxu', '@georgefoster72', 'http://t.co/3brme6sn4t', 'https://t.co/sb3rjqqzix', '@tomdean86', 'http://t.co/mdnugvubwn', '#yugvani', 'http://t.co/qltwhojqya', 'http://t.co/m0dap5xlwo', 'http://t.co/ghghqm9e6d', 'tampa-st', 'http://t.co/5pmikavykl', 'https://t.co/sks5jccrj2', 'http://t.co/vsoxkbt6nq', '#nomorehandouts', '#tms7', 'http://t.co/985dwwpdet', 'http://t.co/wmdihdiz1r', '#palestine', '@sonofbobbob', '@shimmyfab', '@trickxie', 'http://t.co/cedcugeuws', '@panic', 'http://t.co/emdjnnltp0', '_', '@nikistitz', 'http://t.co/hkxyzhvmqe', 'http://t.co/fxdh3u8bq3', 'http://t.co/yzhvobgocq', 'http://t.co/e9d9lk5fdw', 'http://t.co/3htj2pypsg', '#check', '#follow', 'http://t.co/i9dspdkruk', 'http://t.co/nep5azwkna', 'http://t.co/xlq8g6vb2r', '#reno', 'http://t.co/k5fijankjb', '@nicklee8', '#landslide', '25.5', '12.5', 'http://t.co/xy41z0o5ei', '@pollster', '@realdonaldtrump', 'colombie-britannique', '#body', '#shop', 'http://t.co/vg7jnah0iw', 'http://t.co/kshsgwghfj', \"it'll\", '@batfanuk', '08/3', 'layang-layang', 'https://t.co/7vsqqsvgni', '@pete_r_knox', '@gemmasterful', '#man', '#airport', '#airplane', '#aircraft', '#aeroplane', '#runway', '#accident', '#freaky', 'https://t.co/cezhq7czll', 'bob-lo', '#onthisday', '@laphamsquart', 'http://t.co/ssn1mxsfoa', 'http://t.co/fw8elbnap7', 'http://t.co/jxhazebnqk', 'http://t.co/vijfnhl630', 'http://t.co/9jxb3rx8mf', 'http://t.co/b5s5epj7um', 'http://t.co/hpa9gqrywa', 'http://t.co/qdmvtj4lzj', '@4tiles', '@zacb_', 'http://t.co/2nip3d15dx', 'http://t.co/egyfnlaoqv', 'http://t.co/qpur3vd7hl', '#zionist', '#terrorist', '#palestinians', 'http://t.co/j5mkcbkcov', 'https://t.co/4yi4nuovbv', '@yahoo7', 'non-hazardous', 'eco-friendly', 'http://t.co/8ddijzynkf', '#ns', 'http://t.co/52uus4tfn3', '@timkaine', 'https://t.co/578gunp8t9', '#weloveyoulouis', '@disneyirh', 'http://t.co/tatzfk63ch', '@marksmaponyane', 'celtic.indeed', '@barackobama', 'http://t.co/jnromse1z2', '@acmilan', 'http://t.co/w6yu7qs4cv', 'up---ah', 'http://t.co/sqn4girdvz', 'http://t.co/wgwiqmicl1', '#raheelsharif', 'dark-stormy-tidal-sea', '@thomashcrown', 'http://t.co/acc1z5q9zw', '@alanhahn', '@hdumpty39', 'http://t.co/pms4pmur0q', \"#westgeorgia'18\", '@_explicitpretty', 'http://t.co/eqjcpwilvn', '#prophetmuhammad', 'http://t.co/zhgu8ye1bj', '#wod', 'http://t.co/x1onv3d5ux', 'http://t.co/wbogs8ejsj', '#columbus', 'http://t.co/n8ezfctfce', 'http://t.co/gknrp0e8qs', '#fitness', 'http://t.co/pumbrnebje', 'http://t.co/hz4lkffc59', '@worldnetdaily', '#homosexuality', 'http://t.co/ow4gexynbh', 'life-threatening', 'http://t.co/ajtxuafoem', '#benews', 'http://t.co/pme0hojvya', '#mets', 'tri-cities', 'http://t.co/edyfo6e2pu', 'http://t.co/m5kxlpkfa1', \"you'll\", 'http://t.co/tbbobvcotj', '@wordpressdotcom', '@ohyayyyyay', 'http://t.co/k9cd0efvut', 'http://t.co/wtafaepukz', 'http://t.co/scghl0piq6', 'http://t.co/dm0uupqgwy', 'http://t.co/adz8kburt7', 'http://t.co/11juzhlgmt', '@20skyhawkmm20', '@traplord_29', '@fredosantana300', '@lilreese300', 'http://t.co/mtgfx3efiv', '#denver', '#billings', '#rapidcity', '#seattle', '#cheyenne', '@toiindianews', '#losdelsonido', 'typhoon-devastated', '#ivanberroa', '#golf', 'http://t.co/dcyyjvmxhr', '@honeybunzgem', '@primalkitchen', 'pull-up', '@tuicruises', '@aida_de', '#faroe', 'http://t.co/3a3fgzfmzh', 'http://t.co/g0q0bzbjli', 'http://t.co/exyr6c5qpu', '@militarydotcom', '@danielkemp6', 'http://t.co/fel4qhwyfd', '@i_electrocute', '@cunayyh', '@taufikcj', 'http://t.co/zg1yddywa5', 'https://t.co/dodxi41y1cåêis', 'https://t.co/hlmyaanrc9', 'http://t.co/k1tmlwvjmj', 'û_https', 't.co/64cymg1ltg', 'http://t.co/xssgedsbh4', ':d', 'http://t.co/0dxvz7fdh3', 'http://t.co/cc7d0wxk0m', '@cllrraymogford', 'https://t.co/0fekgyby5f', '@change', '#dcubecrafts', '#greetingcards', 'https://t.co/t07qxp5cbe', \"california's\", 'http://t.co/mkqsvp8e0g', '@bre_morrow', '6:30', '#rn', '-7:30', '#henderson', 'http://t.co/fdiu44jldj', 'http://t.co/c0nkgp6w03åê', 'http://t.co/imwmfdjssn', 'http://t.co/hworb1n6vn', \"who's\", 'https://t.co/tuzacdwfqd', '@fionagilbert_', '#truckcrash', '#fortworth', 'http://t.co/rs22lj4qfp', 'http://t.co/ld0uniyw4k', 'http://t.co/66yvulizbk', 'http://t.co/sa5cdwvdxt', '@darkreading', 'http://t.co/8eijdxapnp', '@15moferadio', '@heavybag201', '@battle_dom', '@qotring', '@battlerapchris', '@hughes1128', 'https://t.co/7spydy1csc', '#subs', 'http://t.co/9wqixgmhfh', 'http://t.co/pm2tnnfdww', '#washingtonpost', 'http://t.co/t94lnfwf34', 'http://t.co/rocyyei2dm', '@coldmpress', 'http://t.co/9lpf4v4hmq', 'http://t.co/2ag9auabr3', 'http://t.co/qna4tubnwh', 'http://t.co/anp9g6njfd', 'http://t.co/gexhzu1vk8', '@bellalinn', '@scegnews', 'http://t.co/avzsyie1nt', 'http://t.co/zdj2hyf6ro', '7:10', 'http://t.co/semw5cq7dg', 'http://t.co/1hlvrkwgip', '#megaquake', 'http://t.co/9f3rdn9n3d', '@annajhm', '@jcomanse', '@paul_staubs', '@rslm72254', '@blanktgt', \"must've\", '#fartanxiety', '@115film', '@irishspy', '#nagasaki', '#otd', 'http://t.co/daalpenzp0', '030/6', 'http://t.co/ynxnvvkcda', '@djicemoon', '#dubstep', '#trapmusic', '#dnb', '#edm', '#dance', '#ices', 'http://t.co/weqpesenku', 'http://t.co/rhxmghspd7', '@enews', '#eonlinechat', 'http://t.co/lfnippnoto', 'http://t.co/yg697fcqgr', 'http://t.co/4e719w6m4v', '#wx', '@drag0nking0201', 'http://t.co/sww0qsmxvm', 'http://t.co/bcdp4gkoka', '@breachgamingorg', 'http://t.co/nvzdilrfgj', 'http://t.co/u9cd0txe7z', 'http://t.co/artumhmbhh', 'https://t.co/vgzgok5k3s', 'nairobi-kenya', 'http://t.co/ywkk26arag', 'https://t.co/xrrlnhelap', '#sinkhole', '#avalanche', '#usa', '#france', '#usgs', '#emsc', '01:04', 'http://t.co/zdtoyd8ebj', 'facebook.com/tradcatknights', 'http://t.co/sky9eokggb', 'http://t.co/5iyzsda6xb', 'http://t.co/xzv0lt9zzk', '@smh', 'http://t.co/m2y9ym3if6', '#otrametlife', 'http://t.co/pty9hrcuzh', 'http://t.co/r7pvtsduma', 'http://t.co/ltyefjdm3a', '#indiatv', 'http://t.co/0la1aw9uud', 'http://t.co/y35qtvdsoh', 'https://t.co/qhujajctr5', \"god's\", \"gov't\", 'http://t.co/8hgcbxukz0', 'http://t.co/4kopkcyvtt', '@mythgriy', 'http://t.co/ujnrgfangj', 'http://t.co/tmipegqyev', 'grande-ms', 'http://t.co/dfyasvj7nf', '{', '}', '@toxicsavior_', 'http://t.co/oobscfoktq', '@meetkakarotto', 'http://t.co/avv6hpnpch', '0.75', 'http://t.co/auxsmdg1un', '@tim_a_roberts', 'http://t.co/qsipl1c9fa', 'http://t.co/pwjjimrfly', '#nlccollide', 'http://t.co/3w0pxfyyri', '#routecomplex', 'http://t.co/yqg5pvw5gx', 'http://t.co/j6wseptxga', '#5sosfam', 'http://t.co/qwgiwc9w7z', '24/7', 'http://t.co/9lyx7zmthe', 'http://t.co/5pbc96rtmj', '1.3', '@jakegint', 'muse-a', '#roh3', '#jfb', '#tfb', '#alrasyid448iturasya', 'http://t.co/izjtoojzkp', '#us', '#roh3smantibatam', '@lenn_len', '@lindasocvat', '@tflbusalerts', 'pre-dynastic', '#king', '#deluge', 'https://t.co/yr8knephgu', '#dumuzid', \"ferrell's\", '#kerricktrial', '#twcnewsclt', 'http://t.co/nnbexhklhr', '@theghostparty', '@so', '@sorry', 'http://t.co/6ezkoof2xt', 'http://t.co/facm78eg7k', 'http://t.co/l90dcpv9zu', '#philippines', \"monroe's\", 'http://t.co/z8xiqngulc', 'http://t.co/uzsqzycb8x', '@csaresu', 'http://t.co/sdmrzgeryx', 'http://t.co/p18lzrlmy6', 'http://t.co/likwqhshhx', '@nbcnews', '@jaureguiswisdom', '@hollyorange8', '@bonn1egreer', 'ashxjonespr@gmail.com', '@_ashj', 'http://t.co/v4br5gjmiy', 'https://t.co/4i0rkcbk1d', '124.13', '172.40', 'streamyx-home-southern', 'http://t.co/1fvootqnej', '@nikostar', \"y'all\", 'http://t.co/j43nwkx0x3', '@bbcengland', 'http://t.co/q4kgftc2am', 'http://t.co/6w6a2l4qae\\x89û\\x9d', 'http://t.co/rku0idm6aq', '#northerncalifornia', 'http://t.co/monijjth7v', '#zippednews', 'http://t.co/0yxbb5dzw5', 'http://t.co/txg7k2do9v', '@notoriousd12', 'http://t.co/tube4nbqnz', '@whedonesque', 'http://t.co/q0jhdcu6ly', 'https://t.co/kgswhsr7mn', '#teamsurvivors', '#zombiefunrun2014', '@attackonstiles', 'a-punk', 'http://t.co/latssuo4ws', 'http://t.co/hgdrk81sn4', '48/1', 'http://t.co/pfsryjs1pc', '#chelsea', '#hazard', 'http://t.co/skdbot7tgf', '7-16', '#obliteration', '@camilacabello97', '@suryaray', 'http://t.co/ptq3zmgnck', '#suryaray', '@alcoholandmetal', '@xeni', 'http://t.co/vlaiuvtomm', 'http://t.co/ajpnebg803', '#skyrim', 'us-pr', '@treyarch', '@davidvonderhaar', \"army's\", '#tn', 'http://t.co/jhpdssvhve', \"australia's\", 'http://t.co/dq3ddgvgbf', '#cricket', 'http://t.co/wspuxorewb', '@cindynoonan', '#baltimore', '#rioting', '#yahistorical', '#undergroundrailraod', '3.4', '2015-08-', '10:34', '06:34', '-04:00', 'http://t.co/sdzrrfzhmy', 'http://t.co/qew4c5m1xd', '4:28', 'http://t.co/d02sbm0ojs', '#wxky', 'http://t.co/grh7zlk979', '@aphl', 'http://t.co/cgdj3drso9', '#arrestpastornganga', '`', '@pageparkescorp', '@chloeunguyen', '@laurensicle', '@charstevens97', '@tiara_marei', '#gemma', '#bowe', 'http://t.co/9wowps78vd', '@chambered_blood', '#speakingfromexperience', '@klavierstuk', 'st.louis', '@awadgolf', '@gop', '@thejenmorillo', '#alllivesmatter', 'http://t.co/ucbfgibfor', '#muhamadjabal', 'http://t.co/aknynpv461', 'http://t.co/hfzk09mcen', 'http://t.co/wmnonhxeir', '#bannukes', 'http://t.co/ndgpwyxu6h', '@ian_hellfire', 'http://t.co/caneyttwev', 'https://t.co/8bhvxx2xl9', 'http://t.co/4ou8s82hxj', 'http://t.co/zsdvweglf5', 'http://t.co/njd1n5txxe', '@business', '@ego_resolution', \"sheriff's\", 'http://t.co/eruzbuqzyu', 'http://t.co/avwe1lbvhn', '@bill_roose', 'http://t.co/zweygphpf7', '@kasiakosek', '#trees', '#deep', '#lake', '#forest', 'https://t.co/xuhmj098lq', 'http://t.co/y8h5v1j2y7', '#shoalstraffic', 'http://t.co/eysvvza7qm', 'https://t.co/j3cirxjfa6', 'http://t.co/amrox4y4nx', 'http://t.co/avvsoino8z', 'http://t.co/voyruxcrin', 'http://t.co/qcyqhvn2ha', '#gadget', 'http://t.co/jtxji7ygrl', 'https://t.co/2be7bwcmpl', '@ahhtheenikki', '@legna989', \"chief's\", 'http://t.co/dgelj8ryt9', 'http://t.co/a0ad8z5vsr', 'http://t.co/bqv3qttuxr', 'http://t.co/0drqlrsgy5', 'http://t.co/cp7c1ch0zu', 'http://t.co/0pamznyyuw', 'http://t.co/5qyczywkgg', 'http://t.co/ktd5ig9m5o', 'http://t.co/2jhtlwuey0', 'http://t.co/g0dn1chluo', '9:27', '24:1', 'https://t.co/4zqrsaqrrt', 'http://t.co/6ar3ukvsxw', 'creativity-balance-longevity', 'https://t.co/wcfpznsn9u', 'http://t.co/vsvy1qe69t', '#pbs', '#iraq', '@el_torro_loco', '@epic_insanity', 'http://t.co/wplrhbfhee', 'http://t.co/eelex4ssvf', 'http://t.co/h6z7hxuqtu', '@yahoonews', '@christopherszen', '@hunterlove1995', '@tblack', 'http://t.co/hsdbgciyrs', '#usar2015', '#usar15', '#ruor', 'http://t.co/ggtmdquddo', 'http://t.co/qhfqlui6ry', '@reshareworthy', 'https://t.co/aomq1rykmj', \"veteran's\", '#followme', '@annealiz1', 'o_o', 'red-head', '@local_arsonist', 'http://t.co/rcburzsb2b', 'http://t.co/ehsfklgri3', '@spinningbot', '@jorrynja', '@ter_ell', '@nprfreshair', '@mccainenl', \"aren't\", 'http://t.co/5xrc0a76vd', '#gif', '#funny', '#lol', '#comedy', '#ifunny', '#image', '#rt', 'http://t.co/xiydyfptru', '08/02', 'http://t.co/9ikhdyhvnc', 'a-bombed', '@elisagxrcia', '@skynews', '#usmnt', 'http://t.co/po19h8ycnd', 'http://t.co/bb7ttdvjwe', '@kiwi_karyn', 'http://t.co/hpvodud7ip', '@darrellissa', 'http://t.co/ew5wzc07fo', '@earths_voice', '#tigers', '#china', 'http://t.co/jlwhaowfqa', '#saveti', '#priceless', 'http://t.co/9bliddngtf', '#hopeinchrist', '@lifelettercafe', '#newyear', 'http://t.co/yuo7jdnijx', '@cacheadvance', '#preppers', '#doomsday', '#shtf', '#preppertalk', '#survival', '#2a', '#prepper', 'http://t.co/vpqtgeqlma', '@ebay', 'http://t.co/eaaqumkkc9', '@stfxuniversity', 'http://t.co/vvplfqv58p', 'http://t.co/l5awtundhm', 'vì_deo', '@christinartnd', 'http://t.co/bwe9kjcept', '@mwnhappy', '@shakjn', '@c7', '@magnums', 'http://t.co/i4aogcsoy5', 'http://t.co/djiwg9pxv4', 'http://t.co/2h0dpmv2ef', 'http://t.co/jixscpmdud', '#palmoil', '#indonesia', 'http://t.co/4zn0mdsrvp', '2:28', '2:17', 'http://t.co/rgpem2tqej', '@fouseytube', '@zaynmalik', 'http://t.co/g03dkpoonp', 'http://t.co/go0hpi0b4c', '#metal', 'http://t.co/yao1e0xngw', '@babysweet420', '#17', '@doctordryadma', \"pacific's\", 'http://t.co/ksxto8nknl', '#homealone2', '#film4', 'off-road', 'http://t.co/d3p88xdlec', 'http://t.co/j2ddvh7fy0', \"mum's\", '#muppet', 'http://t.co/bjycrgfh5y', '-6.152261', '106.7759', '#yagitudeh', 'https://t.co/yilt1bb68k', 'https://t.co/n0tawgezjx', '#socialnews', 'http://t.co/vmkexjtyg4', '@_pokemoncards_', '@icequeenfroslas', 'http://t.co/calk5nv5vc', 'http://t.co/o2cdkpsdfp', '1.13', 'http://t.co/cwz37lndvk', '#hiring', 'http://t.co/4kdthctemv', '#nursing', '#job', 'http://t.co/thyzomvwu0', 'http://t.co/83joo0xk29', 'demolish-deep', 'http://t.co/g1bwl3dqqk', 'http://t.co/kz35rgngjf', '@funkflex', 'https://t.co/2azxdlcxga', 'http://t.co/axvq80rbyj', '#funnydadcoach', 'https://t.co/lnpscadaxr', '@sophieingle01', '@angharadjames16', '#worm', 'http://t.co/ciwwuqthin', \"kennedy's\", '#socal', '@ybtheprophet', '#realhiphop', 'https://t.co/zpsnx5iyaj', 'http://t.co/qms8rressd', 'http://t.co/zla30jcssq', '#olympia', 'http://t.co/yu6nue7gfb', 'http://t.co/3gz5zqqthe', 'http://t.co/tn1ax1xmbb', 'neil_eastwood', 'http://t.co/duvuzhmvut', 'http://t.co/4xb4zwyhct', 'http://t.co/bp6mfjhars', 'https://t.co/hukjz1wt36', 'https://t.co/dxwfx56pwh', '@gpaulista5', '@jackwilshere', '#afc', '@jeromekem', 'http://t.co/nq89drydbu', '@nalathekoala', 'http://t.co/5ebpybfh4d', '#deai', 'http://t.co/sqydkslfzp', 'hara-kiri', 'http://t.co/uo0aqk9kr8', 'http://t.co/n9c3i9v8go', '#chemical', '#dependency', 'http://t.co/skqpwsnoin', 'http://t.co/mkwyvm3i8r', 'https://t.co/5hljucxi0s', '#fifa16', '#whocares', '@rvacchianonydn', '#queens', '@billboard', '#fanarmyfaceoff', 'http://t.co/kgtxnnbj7y', '@robdelaney', ':-)', '@kaiseiw', 'http://t.co/1meeo3wjco', 'https://t.co/giyaad7dcc', 'http://t.co/wgmzmj5imd', 'http://t.co/qvsp6b2qsu', 'http://t.co/0s6ydfrwdq', '#bbsnews', '#israel', 'http://t.co/gne1fw0xhe', '@victoriagittins', 'http://t.co/pfmn63vnam', 'http://t.co/vkwqbojfjc', 'http://t.co/natz5ipv1x', 'http://t.co/leaeby6cr2', '54.8', 'http://t.co/srslcxhc2t', '#qew', '#niagara', '#crush', 'http://t.co/pwd5l0glkv', 'm-city', 'http://t.co/h9fsiaxv3q', '@livingsafely', '#nws', '#thunderstorm', '#ar', '#nc', '#ok', 'http://t.co/fwqfckncqw', '#jsunnews', 'http://t.co/s7nbowa7tp', 'http://t.co/3f7owdecy7', 'field-wide', '@travelelixir', 'https://t.co/hkbxxvd9iw', '@djryanwolf', '@djcoreygrand', '@djknyce', '@djoneplustwo', '@officialcoredjs', '#family', '#cleveland', '#standup', '@iamtonyneal', 'http://t.co/p6gqmctglj', '@spookyfob', '@feelslikefob', 'http://t.co/zsykzj2bzg', 'http://t.co/fx7uzzxte4', '#afterhaiyan', 'http://t.co/ga14egplw9', '#haiyan', '#yolandaph', '#livelihood', '#disasterrecovery', 'http://t.co/ks7ln8hq8s', '@mauds99', '@jagexsupport', 'https://t.co/ush59uq30j', 'http://t.co/hbpnfoawii', '#bestnaijamade', 'http://t.co/ksawlyux02', 'three-alarm', 'http://t.co/rvkyj3yuvk', '#ww3', '#demonization', 'http://t.co/t344phnpy9', 'world.lets', '#spain', 'https://t.co/drno7okm21', 'https://t.co/dlvyfvnqee', '#fn', '@kessily', '@mishacollins', '#allthekidneybeansandsorbet4misha', '#yes', '@ajabrown', 'http://t.co/wmnb5ita5p', 'http://t.co/ranefihbuk', 'http://t.co/mflrvbh4qa', 'http://t.co/vymnrnsthg', 'http://t.co/1mvsqg0xke', 'collision-no', 'http://t.co/6uhih9pbru', 'http://t.co/mudgu1puns', 'http://t.co/aqxwolbcfq', 'http://t.co/vbswhz4s2v', 'l.victoria', 'http://t.co/ingu6ztyg4', '@potus', '@pcaldicott7', '#7newsadl', 'http://t.co/r1xwdnvb0g', 'http://t.co/quedv2xxxx', '#life', 'single-car', 'http://t.co/b6nphxorzg', \"ballew's\", '@bigburgerboi55', '@sammysosita', '#thegame', '@tomcatarts', 'http://t.co/mcejzzxgh8', '#childsexabuse', 'cover-up', '@tonymcguinness', '#mainstage', 'http://t.co/kpivxgjnqt', '#sacramento', '42.910975', '-78.865828', 'pre-sinkhole', 'http://t.co/heiekfchdm', 'http://t.co/jrdwyy0ax4', 'http://t.co/wgqkxmby3b', '@muttatek', 'http://t.co/wk63tm34a0', ':-(', 'http://t.co/9naw3qoqol', '#skardu', 'https://t.co/nqnwktrhsa', '@kamunt', 'http://t.co/90l2lb5wmr', 'https://t.co/iggfnbixt5', 'http://t.co/gfdhfmpcel', 'http://t.co/9utqe9zfde', '@qpr1980', '@rorington95', 'https://t.co/b7omj7u3ei', 'http://t.co/mtmoia0oo0', 'http://t.co/nn4ztcmsru', 'http://t.co/s5nuegswyj', 'http://t.co/qdhxto57em', '19.600858', '-99.047821', 'http://t.co/yvvpznzmxg', '@gorpuazikinak', '2,360', '#obama', 'http://t.co/e0lugbl6pb', '@upi', '#iran', '#nuclear', '#irannucleardeal', '@sakhalintribune', 'http://t.co/gskjqwyi2d', '@slsandpet', '@resigninshame', 'http://t.co/yzzxxknism', 'http://t.co/zzsee5hipm', '#freesikhpoliticalprisnors', '@bapusuratsingh', '@gerryconnolly', '@repdonbeyer', '#metro', 'non-passenger', '@soyeh', '@j3lyon', '@radioriffrocks', 'http://t.co/pjlda9hd5v', 'http://t.co/3wnjauar7w', '@whitehouse', 'pre-emptive', 'http://t.co/i2aag6lp6w', 'http://t.co/uclvihwoec', '@lightning_ooc', 'http://t.co/eydapaupvg', 'http://t.co/zpqwkhfhnf', '@stvmlly', '@safferoonicle', 'http://t.co/rqbspucjdf', '@supernovalester', 'http://t.co/zr5rgbgh03', '#englewood', '#borrowers', '#interest', '#catastrophe', 'http://t.co/sbhhkkz01y', '@jake_adavis', '@fatality_us', 'http://t.co/xpddwh5tem', 'http://t.co/2acrgdqhj0', '#bangalore', 'http://t.co/of3q75fgeu', '#startups', '#in', 'http://t.co/jbrk8zsry6', '@baileysmsteach', 'û_ahhh', 'û_that', '#perrychat', 'https://youtu', 'http://t.co/zz0cewew64', 'https://t.co/sbzwruwufh', '#uknews', 'http://t.co/q5mp2q6hy8', 'http://t.co/y8wloctevc', '5:15', 'http://t.co/feikc9fxed', '#onlinecommunities', '#reddit', '@wired', '@masochisticmage', '->', 'http://t.co/uhkxmxab9l', 'http://t.co/zisuwlqrhf', '@chr3lyc', '@iaff36', 'full-back', 'http://t.co/jyiegtnc6h', '1.00', '10:00', 'http://t.co/l1gfxgozvx', 'http://t.co/tkjybjjskl', '#mandela', 'http://t.co/qr1l2jyuez', '@chromsucks', 'http://t.co/jtjofltms4', 'http://t.co/vplr5hka2u', 'http://t.co/sxhw2tnnlf', '@warlord_queen', 'http://t.co/cxb55h37jn', 'concert-august', '2015-2', 'http://t.co/h6tyysgr30', 'http://t.co/7hanpcr5rk', 'https://t.co/9zmwt9xydz', '@tim_micallef', '#troubleonmymind', 'http://t.co/v4smaeslk5', '#flashflood', '#pakistan', '#365disasters', 'http://t.co/911f3ixrh0', 'http://t.co/eeewo207mx', 'all-in', 'http://t.co/cjuighbxyn', '#fairie', ';-)', '@writes4coffee', 'http://t.co/sto58qa94c', '#iartg', '#rwa', '#tw4rw', '#rrbc', '@chriscesq', 'big-tent', 'http://t.co/t6seku4yvm', 'http://t.co/tjoz4u4txl', '@gemmahentsch', '@megynkelly', '@dloesch', 'http://t.co/ph7wllkrfi', '#lancaster', '#uglypeople', 'https://t.co/oxxrnab8un', 'http://t.co/5u5gakx2ch', '-26.695807', '27.837865', '@kg4vaal', '#dead', 'http://t.co/jzwrwlvlsj', 'http://t.co/ot3bjjhh8s', '@titortau', 'hi-larious', 'fact-checking', 'http://t.co/gzgpwsqymw', '#firenews', '#wa', 'http://t.co/ay49mtyyl8', '#kca', '#votejkt48id', 'fvck_casper', 'http://t.co/g62txymzbv', 'ode-ekiti', '@booktubeathon', '@lemairelee', '@danharmon', '#140', '#benediction', '#sanelesstheory', 'http://t.co/sigeeq42cz', 'http://t.co/6acswzo7cw', 'http://t.co/3tnuaciv3c', 'http://t.co/sakorgdqul', '#premonitions', 'http://t.co/iikssjgbdn', 'http://t.co/ncjpgf6znv', 'http://t.co/gerjau74ey', '#summer2k15', '#download', '#watch', 'http://t.co/81neizeknm', '#movie', '15:04', '-10:00', 'http://t.co/disrwhqgym', '#sm', 'https://t.co/m4tui0p9nt', '@thedailyshow', '#jonvoyage', '#holomua', 'http://t.co/tbpqlyfyot', 'http://t.co/hdckeposqc', 'http://t.co/mt029qj4ig', 'http://t.co/rbmucurs2f', '#udhampur', '@modelbubbles', 'http://t.co/dhambp54ya', 'https://t.co/7paovyzttw', 'http://t.co/behfhsppud', '@adamtuss', '1/2007', 'http://t.co/tyyfg4qqvm', '#elderly', '#companionship', '#care', '#chester', '@chestertweetsuk', 'http://t.co/onvd9d4nkg', 'http://t.co/hhtwayt4yo', 'http://t.co/3ev07ppapn', 'http://t.co/xuzee2budv', '#glaucoma', '#eye', '#eyefacts', 'http://t.co/mhl7pfr7kb', 'http://t.co/lou8lbla1f', '#iwk', 'http://t.co/earonlwifh', 'http://t.co/8e7ry8ebmf', 'http://t.co/kacrlpjc0l', 'http://t.co/yjjbntcazy', 'https://t.co/yxnagsqvbm', 'http://t.co/e84ifmcczn', 'http://t.co/gopsicp8bm', '@dacherryontop13', '@arsonistmusic', 'http://t.co/1elreh1jlj', '@kathrynschulz', \"man's\", 'http://t.co/q3dtoqo04c', 'http://t.co/t8sv2ai7sw', '@acebabes', '@healthweekly1', '@amateurnester', 'http://t.co/pzeixi4xk7', 'http://t.co/huriivfdkc', '6/15', '1:04', 'http://t.co/njd28pg9xv', '#quake', '#ashes2015', '#engvaus', 'http://t.co/a7tjawwtj7', 'http://t.co/swq5lmydka', '@dannyonpc', 'http://t.co/aauizggc9q', '@defendbutera', '@calfreedommom', '@steph93065', 'http://t.co/jmawrlt7hb', 'http://t.co/l056yj2ioi', 'http://t.co/utmwmjirty', 'http://t.co/8ihuco4glw', '@jwalkerlyle', '@nickcannon', '@realmandyrain', '#riot', '@itunesmusic', '@itunes', 'https://t.co/dehmym5lpk', '#blowmandyup', 'http://t.co/5qhqo6ejtu', '@tiggr_', '@heyitsepark', 'suicide-by-cop', 'hatchet-wielding', 'connector-connecto', 'http://t.co/bsmj2hvgwd', 'http://t.co/bxalnedy49', 'http://t.co/hddbmu2yca', 'http://t.co/sgxp1u5ol1', 'http://t.co/si02qrguka', 'http://t.co/0c1y8g7e9p', '#myanmar', '#rohingya', '#sittwe', 'http://t.co/cgf61fpmr0', '#prison', '#media420', '#papicongress', '@pragnik', \"pelosi's\", 'http://t.co/jnn0krnxvy', 'http://t.co/5loiwuyv5r', 'lightning-caused', 'http://t.co/zrtrpl77qv', '@dmac1043', '@space_wolverine', \"reid's\", 'http://t.co/amymwwcpym', '#tcot', 'http://t.co/cgmjlseylo', '@mikecroninwmur', '@bradleybrad47', '@kakajambori', 'sub-tornado', 'https://t.co/fd9dzspugk', '#tbt', 'http://t.co/wpkl2qniqw', 'http://t.co/bd52fxdvhq', \"they've\", 'http://t.co/j5onxfwlao', '#banthebomb', 'http://t.co/6g49ywwsqj', 'http://t.co/bs6xaqhsim', 'http://t.co/y3zfqjsvpz', '107-18', '#nosurrender', 'http://t.co/xehwmsh7lv', '|:', 'full-blown', 'http://t.co/a0v1ybysod', '@siren_voice', '#liveonstreamate', 'grant_factory', '#grants', '#funds', 'http://t.co/th2wlilbmo', 'http://t.co/vam5podgyw', 'http://t.co/zevakjapcz', 'http://t.co/za4axfjsvb', 'http://t.co/da9lzton1c', 'http://t.co/xgkyvf9t4f', 'http://t.co/u9bkqt6xhr', 'http://t.co/prci76howu', '#canada', 'http://t.co/rtcufag0au', '@reds', '#preventative', '905-877-8591', '#cts', 'http://t.co/al28rvkqpq', 'http://t.co/ndwep6izdq', 'https://t.co/snaymldiun', 'http://t.co/zlco4ue5oq', '@lordrsbiscuits', 'http://t.co/afzqvotutj', 'http://t.co/dudairbbpo', 'http://t.co/padosfyxnm', 'http://t.co/1beegwrsis', '@scmp_news', 'http://t.co/drculiyp0t', '#russian', '#cossack', '#ushanka', 'http://t.co/bla42rdt1o', 'http://t.co/einsqs8tfq', '@eytay', '@neur0sis', 'http://t.co/zyrzx6dfki', \"old's\", '#respect', 'http://t.co/6cx46e7qb7', '@tayiorrmade', '@megatronafc', 'http://t.co/tgcr5vofj3', 'http://t.co/e65v80fcus', '1:7', '@crowdtappers', '@joinvroom', '#tangletalk', 'http://t.co/drbcrypj4p', 'http://t.co/jwiv6wyw6f', 'http://t.co/qvs7o10bg3', 'http://t.co/m19ivwrdkk', 'https://t.co/x2wn7o2a3w', '#australia', 'http://t.co/7ad0l7cgee', 'http://t.co/hhzql9tznp', '#fire', '#firemen', '#firetruck', '#rescue', '#911', '#summertime', '#sirens', 'http://t.co/hcyajsacfj', 'http://t.co/pkfv8lksld', '@ellenfromnowon', 'http://t.co/rjpjbwvfck', 'long-lasting', 'http://t.co/ejymkzpeex', 'http://t.co/0iyuntxduv', 'http://t.co/gn3whnsfib', 'http://t.co/fwpof5twoc', '@audacityjamesta', '@james_justus', ':p', '@cameron_wate', 'http://t.co/lvlh3w3awo', '#antioch', 'http://t.co/viwxy1xdyk', 'http://t.co/81g18wsauk', 'http://t.co/od2ratxrqs', '@codemew', 'û_1', 'û_one', 'û_you', 'http://t.co/ahvymsqhqc', 'http://t.co/pnhpljho8e', '@jmcwrites', '#pitchwars', 'http://t.co/64xr9ltnoh', 'http://t.co/s0eyq1wehe', 'http://t.co/c5jutfxbm9', 'http://t.co/uqssnaattu', \"greece's\", 'http://t.co/uxp6poqjlb', '#becarefulharry', 'http://t.co/vmwtouyohm', '@crobscarla', '@bryansinger', '#storm', '@rupaul', '@alexshipppp', 'http://t.co/oqw8jx6rts', '@chemical_babe', 'http://t.co/bvckd9pdti', 'http://t.co/uonebahh3h', '@jasoncundy05', '#yonews', 'http://t.co/wkpzp1jcau', 'http://t.co/hzpx6vaqpz', 'http://t.co/l4w0pcorbs', 'quot-television', 'quot-operations', 'https://t.co/z8ij8ktkyk', '@rjkrraj', '@karnakarank', '@vimvith', 'http://t.co/9nyxjndora', 'https://t.co/sg1ftkaegq', 'http://t.co/rkb7egkveb', 'http://t.co/knbv2ytnwc', '@qz', '@taraswart', '@vivian_giang', '@ianokavo96', 'alger-new', 'york-san', '#sandiego', 'http://t.co/rvmmut3gvc', '#algeria', 'https://t.co/ybdsljw7c1', 'http://t.co/u4bdy1w7d4', '@news4buffalo', '#identitytheft', '#taxreturn', '#cri', 'http://t.co/gxqwd1qzbd', '@realhotcullen', 'http://t.co/vve3usesgf', 'http://t.co/gyqlaoz3l2', 'http://t.co/pckf0nl2yn', '#menswear', '#urbanfashion', 'https://t.co/ccwzdtfbus', '@melrises', '@gayler1969', '@wwwbigbaldhead', '@jessienojoke', '@melissaross9847', '@_stiiilo', 'http://t.co/oegfqbiqiq', '#aogashima', '#photography', '#volcano', '@bbctms', '@kevinedwardsjr', 'http://t.co/ncjlkqasuk', 'x-rays', 'http://t.co/gqskwqzuul', 'record-high', 'http://t.co/ymczyvkfme', '@mackinnon08', 'http://t.co/l0deocxu6o', '@aliveafter5', 'http://t.co/sc4twjkxr1', 'http://t.co/yn6duotimr', 'https://t.co/slc27emugm', 'https://t.co/isbtzujfbm', '#thisdayinhistory', 'http://t.co/iw7elszifz', '@history', '@montetjwitter11', '@nolesfan05', '@nutsandboltssp', \"country's\", 'http://t.co/qv1rmzi3j1', 'http://t.co/7old5mjwph', '#foodscare', '#offers2go', '#nestleindia', '#magginoodle', '#ban', '#humanconsumption', 'tongue-twister', 'horrormovies.ca', '#horror', 'http://t.co/w9cd6offcj', '@doylech', '@wonderousallure', 'h-hello', \"sweetpea's\", 'http://t.co/6ndbfopk5m', '#orcot', '#orpol', 'http://t.co/dazqamoo0c', '#foxdebatequestions', \"obama's\", '#teen', '#nsfw', '#porn', '#milf', 'http://t.co/faogxkwdpg', 'http://t.co/rmucfjcazr', '@acaciapenn', 'http://t.co/seshqn5dsk', '#amsterdam', 'http://t.co/zuqgvjneqa', '#bc19', ':-d', 'http://t.co/sqpshaws0w', 'http://t.co/udlebh88uz', 'http://t.co/zoipkpbd6o', '@frautrapani', 'http://t.co/cj76k0yayj', 'http://t.co/lh9mrypdrj', 'http://t.co/pqhuthss3i', 'http://t.co/0iw6drf5x9', '@soonergrunt', '@maatmhi', '#scwx', 'http://t.co/tsaletftkt', '#hamont', 'http://t.co/5qhoehe9hf', '@michaelwestbiz', '1.2', '=p', '@jeannathomas', '@bldrcosheriff', \"they'll\", '@cbsdenver', '@misfitrarity', 'http://t.co/jgdlx4faw8', 'http://t.co/ivwtynoujk', 'officer-related', 'http://t.co/kmxzho5tfm', 'http://t.co/albvdnwjtg', 'http://t.co/s0ctcqjvjx', 'http://t.co/leyjwnnah8', \"harm's\", 'http://t.co/dlizfkk30y', '#thestrain', 'http://t.co/wal4frtfka', 'http://t.co/0f8xa4ih1u', 'http://t.co/ngkrzpza45', 'http://t.co/v5yuualoqw', '#263chat', '#twimbos', '@untameddirewolf', 'http://t.co/eug6zhciun', 'åèmgn-africaå', 'http://t.co/fdjuyvzmrv', '@wizkidayo', 'http://t.co/htez4z48od', 'http://t.co/eq4rxc9bb3', '@meganbee92', '@kadiegrr', 'http://t.co/bjjoifzuhl', 'http://t.co/iywzallsn4', '@ushiocomics', 'http://t.co/dqtmtpqmbr', '#drones', '#privacy', 'http://t.co/dmsnyptscy', \"cruise's\", 'http://t.co/h3dch6fyaw', 'http://t.co/luigmhma1i', '@dani_riot', 'http://t.co/bumzvmwam3', '@fotofill', 'http://t.co/jhc2rt0v9f', 'http://t.co/yzazf4ceoa', 'http://t.co/x5rc5nuamh', '@zak_bagans', 'http://t.co/1k2phqcuw8', '7:12', 'low-lying', '@rrusa', 'https://t.co/cubdnsnuvt', 'http://t.co/dggm5b0w4l', 'http://t.co/eyr2xx5l1p', '@erker', 'http://t.co/w0exzad5gc', '@universityoflaw', 'http://t.co/eg1fskqbv6', 'http://t.co/ildbeje225', '#indiannews', 'http://t.co/241cn8yxjq', '@kierannicholson', 'http://t.co/vxxmvgtzvg', '#phone', '#gaming', '#tv', 'http://t.co/ihphzckm41', 'http://t.co/wuicdttuhf', 'http://t.co/ibype1kaz5', 'http://t.co/obp595w7tm', 'http://t.co/rv9dv6joew', 'http://t.co/5fcjvml520', 'http://t.co/fvyrwhux8p', 'maddzz_babby', '#crazyideascollege', 'http://t.co/dh0s4buuk7', '@c_pinto001', 'http://t.co/zfivvxydzy', 'http://t.co/9pfeaqeski', 'http://t.co/fntg70rnkx', '#emsne', 'http://t.co/lk5uqkop1e', 'http://t.co/vgvjgr8zoo', '@jimmyfallon', '#worstsummerjob', '@wearethenews', '9/11', '#renew911health', '@akcsl', '@justinbieber', '@arianagrande', '@attjcdemos', '@folieacat', '@teamvodg', '@flow397', '#parkchat', '@unsuckdcmetro', '1/13', '/8', 'http://t.co/2jbibeib9g', 'http://t.co/p5ktaqw5qg', '#mh370', '@_minimehh', '@cjoyner', '#blacklivesmatter', '@icc_realckt', 'http://t.co/x6asgrjswc', 'http://t.co/bfes5twbzt', '#dna', '@hebrooon', 'http://t.co/kl4r1ccwct', 'http://t.co/myhhthsli3', 'https://t.co/9hkxxbb82o', '@joelsherman1', 'http://t.co/ijobz3mzp0', '@twoptwips', '#generalnews', 'http://t.co/m9o08gurt4', 'http://t.co/ptc0xcragy', '@kemal_atlay', 'http://t.co/jkd7cti2iw', 'http://t.co/lajn2n5e2d', '@jasonpope2', '@johnfugelsang', 'http://t.co/p8yr2po6jn', '#nghlth', '@envyseven', 'overtures.please', 'http://t.co/vbqmz5apwj', 'http://t.co/c2eyjnybfn', 'http://t.co/gt7gf0fsex', '#fireman', 'http://t.co/v5gtunwohy', '--->', 'http://t.co/6peeip4y7w', 'patient-reported', 'long-term', 'http://t.co/5yl4dc1tqt', 'http://t.co/gllawb2fsk', 'http://t.co/3kaafuoztc', 'http://t.co/ldbao0rsuz', '@amazon', '#abc7eyewitness', '@abc7', '#hometownglory', 'http://t.co/tpoaprjudp', '@newz_sacramento', '@mzmandilynn', 'http://t.co/q5q1x5vcqk', 'http://t.co/1osmiuxkhw', 'http://t.co/kp2lf4aute', 'http://t.co/hvbj30aj9s', 'http://t.co/lhpgxc4b8j', 'www.informationng.com/?p=309943', '@mommyisbomb', 'http://t.co/pol92mn8yz', 'http://t.co/s4srgrmqcz', 'http://t.co/oa6b0z2h6y', '@afk_10', '@dr_johanfranzen', 'man-made', 'http://t.co/35jyap0ul9', '@jones94kyle', '@jmastrodonato', 'http://t.co/rg9yaybosa', \"tonight's\", '#gopdebate', 'http://t.co/nvfkzv5fex', '#brics', '#roberts', '#usnwsgov', '10:38', 'http://t.co/epzgg4uqji', 'https://t.co/k5knnwugwt', 'http://t.co/ipxpi3me16', 'http://t.co/rv0fk7q4y5', 'http://t.co/pmhmmkspaq', '#deals_uk', 'http://t.co/0gknpy4lua', '#climatechange', 'http://t.co/czpdn9obit', '#anarchy', '6-0', '@jennife29916207', \"one's\", '#atk', '#letsfootball', 'http://t.co/dmtab6g7j7', 'http://t.co/lbpx8bucnv', '3/4', '#thisispublichealth', '@mark_argent', 'http://t.co/3mtwh0jjns', 'http://t.co/bbqnk76qus', 'http://t.co/0blkwcupzq', '@ft', 'http://t.co/6sy44kyysd', '#professional', '#help', 'https://t.co/2lgtzkwmqw', '@gotriangle', 'https://t.co/s7xdxuudcy', 'http://t.co/lqjjy1ptwt', 'https://t.co/reffbkvg9r', 'http://t.co/zdpvqmeezs', \"paul's\", 'http://t.co/qzdqrbr4lh', 'https://t.co/r4utnewlna', '#joestrong', '#gokitgo', 'http://t.co/esk4yvzvap', 'http://t.co/imtygds5qo', 'wed.aug', 'http://t.co/aurugjegiq', 'http://t.co/l3w8mipvnt', 'http://t.co/o85m1bjfrw', 'http://t.co/shkimonmlw', 'http://t.\\x89û_', 'http://t.co/i1vpkq9yag', 'http://t.co/ty5gavn7uk', 'http://t.co/1mgvd4x5oe', '#taiwan', 'http://t.co/odydt9qpk1', 'http://t.co/q3xq8r658r', \"everyone's\", '#prayforsaipan', 'http://t.co/vjsaqpxngn', '#buffalo', 'http://t.co/norkxbrs6g', 'loved-up', 'http://t.co/igm2fcmupm', 'http://t.co/uxcfbj3mzx', '#britishbakeoff', '#paulhollywood', 'http://t.co/kqjevyqzlv', 'http://t.co/hmwhob7prs', '@modnao23', 'http://t.co/cihc8nrc9h', 'https://t.co/tui9uwbvvp', 'rt_america', 'rt_com', 'time-lapse', 'https://t.co/fc3bxrthpg', 'http://t.co/biu4kowglz', 'http://t.co/l4wjhz4aj6', 'http://t.co/kmgdv7vsaz', 'http://t.co/bytsfms7md', '#islamophobe', '#vegetarian', '#vegan', 'http://t.co/kxplyom9rr', '#govegan', '#uniteblue', '@robpulsenews', '@huyovoetripolye', 'ldnr-terrorists', 'http://t.co/xwnjysv9v9', '11.2', '#nikeplus', 'http://t.co/7d7vweq3es', '#toosoon', 'http://t.co/vdefmulx43', 'http://t.co/yqpaijsa5g', '#education', '#econom', 'http://t.co/zsqm8ihe1k', 'opa-locka', '#galvnews', 'https://t.co/cm9tve2vsq', '#standwithpp', 'http://t.co/hxdg254dho', 'https://t.co/407v1y4hhg', 'https://t.co/0vcsafx9by', '#njturnpike', 'http://t.co/oabjztbvyz', 'http://t.co/gpbxrrdc07', 'http://t.co/nss5l64cvr', 'uk-france', 'http://t.co/vf6cklmcsx', 'http://t.co/fdsaooiskj', 'http://t.co/2uvmq4vafq', '@mayhem_114', 'http://t.co/qi8qdw5dfg', 'http://t.co/tyewzf3hqa', 'http://t.co/eerkh8ljws', 'http://t.co/3glyoyf6oc', '@basildudin', '#meditationbymsg', 'http://t.co/vmf5lnxvzc', '#glanders', 'http://t.co/uotpnsqpz5', '@horsetalknz', 'http://t.co/4esbsa8int', '#utfire', 'http://t.co/fcfpijiqt5', 'http://t.co/kjsvw06gbv', 'http://t.co/bieyguqpb1', '@smoak_queen', \"japan's\", 'http://t.co/iucpcsfbmt', '#android', 'http://t.co/pbclfsxrld', '#androidgames', '#gameinsight', 'http://t.co/yvsjyzwxjr', 'http://t.co/k9asktwxfl', 'http://t.co/sfakqnveta', 'http://t.co/hrdwgfbfyq', 'http://t.co/nuohkmpzfj', 'http://t.co/ezbtg81trz', '106.1', '@1061thetwister', '#oktxduo', 'http://t.co/xkonkz0zl6', 'http://t.co/dxvtgi1bvo', '@lucysforsale', 'http://t.co/p4kofytkdx', '@robot_rainstorm', '@brrookkllyynnr', '@mithitennis', '@crackedgem', 'http://t.co/nqxqyi70w4', '#travel', 'early-exit', 'http://t.co/gpvzv0249y', '@iafflocal4416', '@tj_robertson2', 'http://t.co/mqydxrlae7', 'http://t.co/epjjkb4be9', '@matt_bez', \"she's\", 'http://t.co/tu9cglmgvr', '#rochdale', '#heywood', 'http://t.co/wvexjjrg6e', 'https://t.co/to0bpieyms', 'http://t.co/7l6bhexixv', 'https://t.co/emosrmuvqa', '@cspan', '#prez', '@seismicsoftware', 'http://t.co/kwmrcekvtf', 'http://t.co/zonnqgsxyw', 'http://t.co/nnylxhinpx', 'http://t.co/wvobvvtxkg', 'http://t.co/o4xljnav8f', '#natural', '#japanjapan', '#anonymous', '#nytimes', 'https://t.co/udp10frxrl', '@jetixrestored', 'https://t.co/wblimlmt2x', \"people's\", 'http://t.co/fvlgu1nayr', 'http://t.co/plmiwofpom', 'http://t.co/r5bxzzhxkm', 'http://t.co/6lojoorouk', 'http://t.co/f7a66diiyk', 'http://t.co/xqiadg9h2w', 'http://t.co/ypeelmjdzy', '#idols', '#22days', '#wdym', 'http://t.co/gw0cxoojyv', '#california', 'http://t.co/msdizftz2g', '@weyrey_gidi', '#floods', '#ukfloods', 'http://t.co/nsfzkfgznj', 'http://t.co/9zrqmd8ngz', '@meinlcymbals', '#savioursquadåç', '@duststormfilm', '@flunkie', 'http://t.co/v9i4pfxo0c', '@vgbootcamp', 'http://t.co/7lvgcmyiyj', '@x', '#stoponesounds', '#airwaves', 'http://t.co/g7s34sw2am', '107.9', '@stickynyc', '@95roots', '#anthrax', 'http://t.co/bclqpwfdod', 'http://t.co/14cicptkna', 'http://t.co/2m1gneaifl', 'http://t.co/uqh85mip0v', '#rio2016', 'http://t.co/9mtrq5jf4d', 'http://t.co/rorktmpqns', '#liveonkbak', 'http://t.co/edznx6goud', '#palestinian', 'http://t.co/rg3bndkxjx', 'http://t.co/bq90pfzmrp', '@envw98', '@nickcocofree', '@juliedicaro', '@jdabe80', 'melbourne-ish', '#fantasticfour', \"o'cuana\", 'bloody-minded', '@morning_joe', '@reince', '@presssec', \"u'd\", 'http://t.co/btus5jejuy', 'http://t.co/zrtfxluk6r', '@kurtschlichter', '@_freemarketeer', '@dibang', 'suicide-bombing', 'http://t.co/6jjvcdn4ti', '@firstpostin', 'http://t.co/cznxhutasx', 'http://t.co/w56cf75mxe', '#badotweet', 'http://t.co/vb3vfm76ke', '#breakingnews', '@aaronthefm', '@silverstar58200', 'http://t.co/ogzjokd7sv', '#elections', '#achedin', '#rubybot', '#modiministry', 'http://t.co/s43we7oe2i', '#difficultpeople', '@damidnighter', 'http://t.co/kkeh8qcgc3', 'head-on', 'http://t.co/hbbgy2vzyt', 'http://t.co/jq9nj6gko3', '@themale_madonna', '#gh', '@rahulkanwal', '#manhood', 'http://t.co/vtp8i8qlen', '@rohnertparkdps', 'https://t.co/p5jpjgiipw', 'http://t.co/uxqkieqdyf', '#breaking', '#hagerstown', '@your4state', '#whag', 'http://t.co/aog5chjmvs', 'http://t.co/cln2sxzy1z', 'http://t.co/bnrdkgxavr', '@chrisdanielshow', 'nearly-fatal', 'http://t.co/1tvlfrhm1m', \"sega's\", 'http://t.co/flo8fgy35a', 'http://t.co/pkuamxw6pm', '#amageddon', '#freespeech', 'http://t.co/pawvnj4sap', 'https://t.co/5yrbegzafx', 'http://t.co/x4ecggvnsn', 'internally-displaced', 'http://t.co/jw3hn9ewft', '@presstv', 'http://t.co/nywrkrq7kn', '@hrips_k', \"busey's\", 'post-battle', '@jusstdoitgirl', 'http://t.co/uisnqiu3if', '@mogacola', '@zamtriossu', '@banditregina', 'http://t.co/nnmqlz91o9', 'http://t.co/o91f3cyy0r', 'http://t.co/4914njpio3', 'http://t.co/e7shtylbnl', 'two-vehicle', 'http://t.co/0rokdutyun', 'http://t.co/65xr1p9soo', 'heat-wave', 'http://t.co/tk65ske0zm', '#picthis', 'http://t.co/br7gmmh5ek', '#toronto', '@thetimepast', '@saalon', 'self-delusion', 'self-seeking', 'self-pity', 'http://t.co/dxfqou4kt2', 'http://t.co/pyvrprnhop', '#nuclearweapons', 'http://t.co/twykzn4rlc', 'http://t.co/gusramzp1s', '#ashes', 'http://t.co/gl6eejyjky', 'http://t.co/wqtdnp3w5a', '@kinkyconnors', '#civilian', '@washingtonpost', 'http://t.co/xtf5dvgrvh', 'http://t.co/qkrltrd39b', '#gawx', '#kaumelite', '#smofc', '@byuwnbeki', '@lobo_paranoico', 'multi-racial', 'http://t.co/r6jdj9kigm', 'https://t.co/nxs3z1kxid', 'http://t.co/udkmadkuzy', '@tcgreno', 'http://t.co/y3dm9ulqxg', 'http://t.co/x2qsjod40u', 'http://t.co/kfkaosh0kh', 'https://t.co/zhrtcvu0ff', 'http://t.co/cimubweyib', 'http://t.co/9r5fsts7bd', '#digitalhealth', '#hcsm', 'http://t.co/vxegcmmvbv', 'http://t.co/wqul8pg5px', 'http://t.co/4ykxt3kd62', 'http://t.co/xdxdprcpns', '#freegucci', '@lilithsaintcrow', 'http://t.co/eswnsetftf', '@yelllowheather', \"rock'n\", '#wave', '#casualty', '#aids', 'http://t.co/qbecjli7cx', '@bentossell', '@producthunt', 'http://t.co/fy0r9o7xsl', 'https://t.co/z4jyharrew', 'http://t.co/oqb7dasmvy', '#newbeginningsanimalrescue', 'nyc-la-miami', 'http://t.co/oqeq4uegf8', \"dave's\", 'https://t.co/an3w16c8f6', '#lolla', 'https://t.co/yrfz5wj7r2', 'http://t.co/wwgadpffkw', '@teamatowinner', '@thetshirtkid', '@hfxstanfield', '@beelievedc', '@discoverycntr', '@greenharvard', \"change's\", 'http://t.co/4q4zd7ou34', 'http://t.co/ixjjlp1lvo', 'http://t.co/ag65u29sgo', \"bhavana's\", 'http://t.co/hj26sfddfi', 'http://t.co/h9vmmdebdx', '#anti-terrorism', '#act', 'https://t.co/mrospd9878', '#nz', 'http://t.co/0ajisa5531', '#hugomatz', '@bubblycuteone', 'http://t.co/hhllqckcep', '@azimel', '46.950109', '7.439469', 'http://t.co/pnnunrnqja', '@lovemywife1983', \"bush's\", '@time4me_sews', 'http://t.co/ylhayfaoou', \"mcdonald's\", 'http://t.co/cbxnhhz6kd', 'http://t.co/boygbp0jw9', 'http://t.co/bdotq8dsln', '8.4', 'http://t.co/sqmtkkjimj', 'infp-t', '@minsuwoongs', 'left-leaning', 'http://t.co/wgl4lubnw1', '#iminchina', 'http://t.co/yhqu5uv6ok', 'http://t.co/braoubgec2', '#tootrue', 'http://t.co/mcwd37iof9', 'http://t.co/bp597yds2b', 'http://t.co/uvq41i3kx2', 'http://t.co/h31knuwzz5', 'http://t.co/zu9yydf5di', '@scotto519', '#trump', '#hardball', '@heyot6', 'http://t.co/sqsyueh4yi', '#koin6news', 'http://t.co/199t7nd0pm', 'http://t.co/ly8x7rqbwn', 'http://t.co/unsayjdtu7', 'http://t.co/id667rlets', '@parentsacrossam', '@billgates', 'http://t.co/dadz5zfo1g', '@asburyparkpress', 'http://t.co/kfzvmxj9st', 'http://t.co/paztdblgyk', 'https://t.co/efkcoegjck', 'http://t.co/daplllfuqk', 'http://t.co/1vjalja1sx', 'hit-and-run', 'http://t.co/j3rtf2dt3x', '@khqa', '#nhl', \"league's\", '@pioneerpress', 'http://t.co/zl7fhucxhl', '@benaffleck', 'mr.affleck', 'http://t.co/gwesgeszxv', 'payday-prison', 'sinking-fund', 'http://t.co/jlu2j5qs8u', '@praiz8', \":'(\", '@blizzheroes', '@dustinbrowder', '@im2ad', '@brokenscnecal', '@lasvegaslocally', '@vitalvegas', 'falling-off-stool', '#food', '#fun', 'http://t.co/fk1l4nozig', 'mid-day', 'https://t.co/osuoivnigo', 'http://t.co/fcixk23xqh', '@iamhorsefly', 'https://t.co/4pqcmqchng', '@grtvnews', 'http://t.co/kk8cnppzmk', 'http://t.co/n08qluornx', 'http://t.co/toyu16mxbo', 'http://t.co/p10hndc0mm', '@scottwalker', '(8', 'http://t.co/x5jgkjv6ma', '#jishin_e', '#minamisoma', 'http://t.co/ljylxz1fbi', 'http://t.co/4bcqzqjrzn', 'http://t.co/fnpdjwvw1j', 'l-drago', 'http://t.co/z3nevglufm', '@lizbon', '@kidicalmassdc', '@netkicorp', 'https://t.co/eltne5v1qn', 'http://t.co/pramklrmhz', 'https://t.co/ldjet9tfmk', '#grindhouse', '#texaschainsawmassacre', 'http://t.co/1wopsgbvvv', '@morbidmovies', 'http://t.co/ptkrxtzjtv', '4.0', '#myfitnesspal', 'http://t.co/c1xhizprad', 'http://t.co/yfy3nkkcoh', 'http://t.co/knehvvohvk', 'https://t.co/nv7rk63pgc', '#lomasvisto', 'http://t.co/qwtk1b2fmc', '#cadenadeseguidores', '@alvinnelson07', \"off's\", \"dorret's\", 'http://t.co/2sgdofsmrq', 'http://t.co/xlegc6uora', '@officialtjonez', 'http://t.co/o8xvtlp4mf', '#appreciativeinquiry', 'http://t.co/soea1ggbkj', 'http://t.co/cuvkf5ykax', '@seanhannity', 'http://t.co/hibdw7d7ja', 'http://t.co/h6pm1w7ell', 'http://t.co/ipfzwwnxxp', '@heyseto', \"anne's\", '#warmbodies', 'http://t.co/eqccrtlnbd', '#afterlife', '#bokoharam', 'http://t.co/pk8dgvripw', 'http://t.co/rz0adzursw', '@khalidkkazi', 'todaysbigstock.com', 'http://t.co/aqinavl1b6', '@willie_am_i', '@justthebottle', '#winechat', 'http://t.co/shrhkfj1bc', '@usatoday', 'http://t.co/pvmr38lnva', '@benji_devos', '#partsunknown', 'http://t.co/dgatkrdyny', '@seagull07', '@aleisstokes', '@intelligencebar', 'http://t.co/modqnalwsb', 'http://t.co/4c58ooavhy', '@libertygeek83', 'http://t.co/lej5onus9q', 'http://t.co/izjk6kpwiz', '#kelbytomlinson', 'http://t.co/hujvgsflus', '@cstsmith', 'flood--rainstorm', '@abbyairshow', 'http://t.co/vxjcx8ukmd', '@pmharper', '#calwildfires', 'http://t.co/wwxbgubww5', '@danryckert', '@drewscanlon', '@trillac_', 'http://t.co/vzpkn23rx4', 'http://t.co/blppzaiboe', 'http://t.co/qegmrhsms2', '@ihhen', '@msf', '@refugees', '@kristyleemusic', 'https://t.co/b7zwevsrgo', '#naturaldisasters', 'http://t.co/tqwrw3jqwo', '@schelbertgeorg', 'http://t.co/rzxqssun02', \"salvi's\", 'http://t.co/paobghv3c7', '10/3', 'http://t.co/kbtzzzg2tp', 'https://t.co/rbrw8pwipj', 'http://t.co/kqvevuutdj', 'http://t.co/l3gizrucy4', '#wishlist', 'http://t.co/hgedwxtdjn', 'http://t.co/crcn8rwvkj', '@daorcey', '@nsit_', '@bizzlemahomie', 'hamptonroadsfor.me', 'http://t.co/9qnq45zduw', 'http://t.co/dhyljllrhl', 'http://t.co/2jxkmkpalp', 'https://t.co/ec46lyqqc6', 'http://t.co/kxy56fr8vm', 'http://t.co/f9j3l2yjl4', 'http://t.co/mwwwowcayo', 'http://t.co/n6zflxigvr', 'swinfo@dot.state.al.us', 'http://t.co/obfd7e4qcp', 'http://t.co/yazje5owvk', 'www.facebook.com/stuntfm', 'http://t.co/di5arr6hq6', 'http://t.co/lec1vms7x2', 'http://t.co/uubovy9gqi', '#saudi', '#abha', 'http://t.co/1xw0z8zeqw', 'http://t.co/3pcntczoxv', 'http://t.co/n0akjm1e4b', 'e-shop', 'http://t.co/3nuih6pkui', 'http://t.co/2ufcc6gh3m', '@soonermagic_', 'http://t.co/hep9k0xghb', 'http://t.co/80ebvglmra', 'http://t.co/mo7dbbdfvr', 'http://t.co/0scnwe8xbv', '@brittanypetko', 'http://t.co/ke1zs6naml', '8.24', 'http://t.co/o7qogmoegu', '@daisycuttertz', '@grogparty', '@tony_burke', 'https://t.co/wactt18gda', '#danger', '@yahooschwab', 'http://t.co/9odqryjncf', 'https://t.co/0xouv7dhwz', '#sing', '#tsunami', '#computer', 'http://t.co/ia44nczlif', 'http://t.co/ogtuv1plht', '@brobread', 'http://t.co/npoqlkqup9', '@meshnewsdesk', 'http://t.co/xkmlq99sjy', 'http://t.co/a3rgqucugo', 'http://t.co/nb1e7mnce5', '@omar_molina036', '@milioooo_', '@lawsonofficial', '#thankyou', 'http://t.co/zpxe3fmyng', 'http://t.co/im6m4xaen2', '@itsnasb', '__', 'http://t.co/njlqrqcnl9', '@surf_photo', '<-', 'http://t.co/sbila2yqjq', '#452', 'http://t.co/ed32pbvio7', 'http://t.co/ifm6v6480p', '1:18', \"amazon's\", '#christianvalues', 'https://t.co/kp5dpoaf58', 'http://t.co/khztevedja', '#banking', '#bitcoing', '#blockchain', '@briannafrost', 'http://t.co/a5iwus8evq', 'http://t.co/gi82n2juwn', '@ashberxo', '@mind_mischief', 'http://t.co/wyokt0ftrw', 'http://t.co/ouylwuixcs', '@jimmozel', '@nashhmu', '@witter', '#c4news', '#arsonist', '#headlines', 'http://t.co/sqgogj3s5r', '#nightbeat', '@veronicadlcruz', '#2minutemix', 'http://t.co/wftcrlz32p', '@junsuisengen', '95-03', '20177-707', 'http://t.co/kvnahthuwz', 'http://t.co/y8xknpqmnj', 'http://t.co/km8ucihrrn', '#odu', '@tsunami_nopeach', '@real_liam_payne', '#addtexastonext1dtour', 'http://t.co/z4ilb9y9nu', 'http://t.co/j295md1sow', 'http://t.co/hdvmhsqxhm', 'http://t.co/abyhrgss1s', '#bakeofffriends', '#rockyfire', '#udhampuragain', 'http://t.co/rm50vcvjsh', '@david_hurn', '@tokteacher', 'http://t.co/73umw2igrz', 'http://t.co/tvyqczgjdy', \"death's\", 'http://t.co/fhkhcqpl7j', 'http://t.co/ledmvezcol', 'http://t.co/jdkqc12tid', 'http://t.co/d8awx2okke', 'http://t.co/vzcvadkcqp', '#omg', '#rip', '#jetengine', '#turbojet', '#boing', '#g90', 'http://t.co/kxxnszp6nk', '#cubs', '@arizzo44', '@jlester34', '@cubs', 'http://t.co/xgnjgle9eq', '5-0', 'http://t.co/mligpuhvoh', '#snooker', 'http://t.co/tcs2cd5y6y', 'http://t.co/0usdi5jcho', 'http://t.co/xyg7jhrjof', 'https://t.co/biexwdldwc', '@re_shrimplevy', 'http://t.co/7mepkbf9e8', 'http://t.co/exsqijf4ny', '#noirandeal', '#tedcruz2016', 'http://t.co/y7sipkb1kd', \"x'mas\", 'http://t.co/0yo2l38ozr', 'http://t.co/exitlxgisj', 'http://t.co/e981dgskab', '#earthquakenews', '@piprhys', '@thetxi', '@gunnersfan89', '2.99', 'http://t.co/5koho39oje', '#datingtips', '#goodreads', 'http://t.co/cnkvile7be', 'http://t.co/u9fcb8dz3h', 'http://t.co/szeapueuvy', '@devinjoslyn', '@ashayo', '@msmiggi', 'http://t.co/mwmt3bdr5l', '@randerson62', 'http://t.co/wf8itk2kvx', '@huffpostrelig', 'http://t.co/x1x6d5enef', 'http://t.co/xhehjfft7g', '@arobotlegion', 'http://t.co/jbjrg3ep1q', 'http://t.co/mnsy1qr7bq', '#insas', 'http://t.co/1lk1eqwyuw', '@etribune', '@acebreakingnews', 'https://t.co/jb038rdfak', '#rewatchingthepilot', '#teamscorpion', '#cyclone', '#hinatobot', '#helicopter', '#firefighting', '#oregon', '#easternoregon', 'https://t.co/v6qxnfhrxf', '@mccauleysdesign', '@abysmaljoiner', '@dyamiplotke', 'http://t.co/e61x9y65qd', 'http://t.co/ovlet0gdqm', 'http://t.co/ehklp12yip', '@rickybonessxm', 'http://t.co/u8rgb51d22', '@po_st', 'http://t.co/2tnu95vgfe', '11/4', 'http://t.co/nx2d83a4du', '10:30', '34:22', '#sismo', '2.4', 'http://t.co/0wdazlcm90', '#cs', 'http://t.co/vcirn1md8v', 'http://t.co/nruzhr5xqu', 'x-files', '#thexfiles201days', 'http://t.co/dilyvrowyj', 'highest-ranking', 'http://t.co/sihqpluidw', '@wews', 'http://t.co/s7grbznwlr', \"#slab's\", '#labour', '#labourleadership', 'http://t.co/oxrwrjzmnu', '@limpar33', '#phoenix', '#arizona', 'http://t.co/k2tbes65oa', 'http://t.co/2872j5d4hb', '@sirbrandonknt', 'http://t.co/odv3rqs8ju', 'http://t.co/fce0k1ihti', 'http://t.co/gted6ldwho', '<p>', 'http://t.co/yhaqa5wxok', '#artectura', '#pop2015', '#nå', 'https://t.co/9le0b19lvf', '#music', '#playlist', '#youtube', '@andygilder', '@connormidd', 'http://t.co/krsy54xmmc', 'http://t.co/zqmtrbkas0', 'https://t.co/yeqq3bzx3g', 'http://t.co/kmvrzasxy4', 'https://t.co/t2kk8fya77', 'nuclear-deal', 'indo-japan', 'reactor-based', 'http://t.co/xkurdr3yev', 'aix-en-provence', '@creationmin', '@rwrabbit', '@gooneratheist', '@atheistic_1', '@lolatjesus', 'http://t.co/ddhwori5w1', '#37592', 'http://t.co/zcvfc500yy', 'http://t.co/vscpgmsjxy', 'http://t.co/9e2f7bivle', '##youtube', 'http://t.co/zoepzsoky1', 'http://t.co/mjtn3qbgos', '@yahoofinance', '#hope', 'http://t.co/2kdq56xtws', 'http://t.co/dialta6t69', \"tuesday's\", 'http://t.co/vgf41iupkn', '#du19', \"camila's\", 'http://t.co/ykdsp0nrdq', '@rvfriedmann', '@lodisilverado', '@ritzy_jewels', 'http://t.co/vdgfxyx3bw', '@homeworldgym', '@thisisperidot', 'd:', 'http://t.co/ubfr1urafc', 'https://t.co/alnv51d95x', '@scriptettesar', '@katiecool447', '@barbi_twins', 'help-horses', '#gilbert23', 'https://t.co/e8dl1lncvu', 'http://t.co/qu1iug3e9r', 'http://t.co/xaermbmvlv', '@mutek_montreal', 'http://t.co/vjbhxn9x1o', '#isea2015', '#newswatch', '#ptbo', 'http://t.co/rpneaj6fod', 'disaster-related', '@leejasper', '#interestraterise', '@dratomic420', 'http://t.co/g38y8h1tjt', 'http://t.co/kukmal605a', '@msf_sea', '#mediterranean', 'http://t.co/m0utldif77', '#colorado', 'http://t.co/2iafpmqjep', 'http://t.co/cs8myauna4', 'http://t.co/8nadrgr4xc', '@harveymaine', '@iateyourfood', 'http://t.co/qchv3jqovk', 'http://t.co/gc0udfnfgg', 'http://t.co/dtfswnjzil', '4/28', '@raabchar_28', '@drphil', '@morganlawgrp', 'self-inflict', 'http://t.co/aez3ak1lrn', 'http://t.co/cbaxcuba0h', 'http://t.co/9i6crcrq2m', '#destroy', '#free', 'http://t.co/sikkg0fphr', 'http://t.co/jfyfzddlrn', 'https://t.co/jywfygclhm', 'http://t.co/ayp6zvhm2a', \"she'd\", '@mrsbinker', '@emiliorivera48', '@davidlabrava', 'same-sex', 'http://t.co/tziolfte5i', '@aphiabeta1907', '@amesocialaction', \"frat's\", \"bioterrorismi'm\", '@fbi', \"tolewant'g\", '@abc', '@binellithresa', 'http://t.co/uan05tnksw', 'http://t.co/jn8s0drwbp', '#hhbu', 'http://t.co/6cadrhioxp', 'red-light', 'http://t.co/exdbcx4gcr', 'https://t.co/9jcibenckz', '#survivors', '@ohmygoshi', 'http://t.co/atcmrjzjtp', 'http://t.co/4i0kz2akly', '@no_periferico', 'http://t.co/m7na4skfwr', '#orapinforma', 'http://t.co/nmpn2mqzge', 'http://t.co/eyevziopg1', '#otratmetlife', 'flood-zone', '2.9', 'http://t.co/6aimd1uway', 'http://t.co/9cgbjwmhii', 'http://t.co/kpmyqujsue', 'http://t.co/edekrmqtpq', '41.252426', '-96.072013', 'http://t.co/dan0gkx28l', 'http://t.co/khd99oz7u3', '@blutz10', 'http://t.co/nckogwjq61', 'http://t.co/xszx9mwxyp', 'http://t.co/nmfsgkf1za', 'over-saturated', '#explodingkittens', 'https://t.co/tfgrayudc5', 'http://t.co/37dqvjhncv', 'http://t.co/7ijlz6bcsp', 'http://t.co/99mbyfl3id', 'http://t.co/4ddmtguzzs', 'https://t.co/you7wn9xvs', '@fa07af174a71408', 'http://t.co/ybjezkurw1', '@mnpdnashville', '@montalbanony', 'http://t.co/cgvuy3rcxo', '#goingdownthetoilet', 'http://t.co/yrvgykdbm6', 'leicester_merc', 'http://t.co/hqewmreyso', 'http://t.co/y4y8fcljed', '#abomb', '#survived', 'http://t.co/dlgnuuuuyn', '#cnv', 'http://t.co/jvkyzndtja', '#africansinsf', '#beyondgps', 'https://t.co/etdgpiwxti', 'https://t.co/fw1ptaelgv', 'http://t.co/yeljpqhmed', 'http://t.co/fkfa9vsssz', 'http://t.co/bs6pjt09tc', 'http://t.co/wxhmp5ppjq', 'http://t.co/ftunlh6ddg', '#paraguay', 'http://t.co/aw23wxtyjb', 'http://t.co/abgct9vfua', '#thinkpink', '#magichairbump', 'http://t.co/nmhztb1ewm', 'http://t.co/rjebpib5rz', '#besttalkradio', 'http://t.co/8j09zutxwt', 'http://t.co/gpcecp9khv', '@themagickidraps', '@cyhitheprynce', '#elephantintheroom', '@alexeivolkov1', '@mcfaul', '#autismawareness', 'http://t.co/anutoopkf4', 'http://t.co/vz1irh0nmm', '@rightwaystan', '@usnoaagov', \"#nevada's\", '#nv', 'http://t.co/nyo1xuebfa', '@droughtgov', 'http://t.co/w0a1mjorhy', 'empty-pated', 'http://t.co/cnshlnjuqx', '#ppsellsbabyparts', 'https://t.co/wzc5r4xoqz', '#pugprobs', '@szmnextdoor', '@appleofficlal', '0.9', '01:50', 'http://t.co/mbo6oaniqi', '#earthtwerk', 'http://t.co/r3pddjpiee', '@latechwatch', '@carneross', 'post-capitalism', '@pxnatosil', '@renunciedilma', '@audaciousspunk', 'raptors.beg', 'goodlook.running', '#healthcare', '#kodiak', 'http://t.co/8kj1wdaigj', '@daniglasgow45', 'http://t.co/cfouwpbrcg', '@blossominglilac', '#after', '@bobbyofhomewood', '@joxroundtable', 'no-sports', 'http://t.co/o9dzgzqemf', 'http://t.co/axk9xno6yz', '#mercados', '@runjewels', '@bbc', '#loveislove', 'https://t.co/6ce1vwovhs', \"s'pore\", 'http://t.co/pijg5w2l2u', 'http://t.co/fkxcsztezb', '8,000', 'http://t.co/lknu8902je', 'http://t.co/bekrpjnyhs', 'low-cal', '@kuualohax', \"monday's\", '@_chelsdelong12', '@kendra_leigh13', '#laos', 'http://t.co/8fvqrizoux', 'http://t.co/qqsmshaj3n', '#163', 'http://t.co/2z2htdjqzd', \"church's\", 'http://t.co/xuub2hbli5', 'http://t.co/h5epx2d1ga', 'http://t.co/suilzs2s95', '@healthandsafety', '@trombonetristan', '3_6_12', '@kennethbauer_', \"burundi's\", 'https://t.co/jojnq2oopi', 'http://t.co/dskui6mmgl', '@pmarca', 'http://t.co/rrq1ildkil', '#hotnewscake', '@drfriedencdc', 'http://t.co/niv8x5tbe0', '#adiossuperbacterias', '@_wildfire__', 'www.youtube.com', '@gassymexican', 'http://t.co/lpgfqnpjd3', '@edfringe', '@m00nf00l', '#titania', '@summerhallery', \"shakespeare's\", 'https://t.co/iiaigzkbnj', '@collideworship_', 'http://t.co/vnzybfgzcm', 'just-married', 'http://t.co/ibed3xg7fy', 'http://t.co/0yaxrjicrr', \"else's\", '@pattonoswalt', '@alamodc', 'https://t.co/pmxlezjbrc', '@snazzychipz', '@alexalltimelow', '@animallogic', 'http://t.co/jst5hauk35', '#flavorchargedtea', '@nytimes', \"#rome's\", '@rebeccaforreal', '@govwalker', '#nbc15', 'http://t.co/pis0aivrbr', 'http://t.co/kea5l3b1ae', 'http://t.co/ffnzit7kgn', 'http://t.co/gbluhrrlto', 'http://t.co/mr5bi4kd82', 'http://t.co/9rryaylgyy', 'http://t.co/nm83johluu', '@stury', 'https://t.co/drfkarlz1d', 'http://t.co/zkkn6mse1n', 'http://t.co/fzhjf8bxld', '@nbcpolitics', 'voluntary-inciweb', 'http://t.co/vn73o4sgzj', '#calfires', 'http://t.co/vrpmplczcy', 'http://t.co/fijapxykrq', 'http://t.co/nqiobczkrt', 'http://t.co/vdiliicyr5', 'mum-del', '#traintragedy', 'http://t.co/jthusynjah', 'hundred-odd', 'http://t.co/pw5dst9roz', 'http://t.co/r4yzhxk7lw', '@awickedassassin', '08/07', '07:30', 'http://t.co/fpkiqbus9r', '#concert', \"party's\", 'http://t.co/a9bnlse6qb', 'https://t.co/wxela91juh', 'http://t.co/sruj5zljgl', '@missleylaha', 'http://t.co/cy0ciu2u1c', '@beckyfeigin', 'http://t.co/aatt5amnmd', \"africa's\", 'http://t.co/ysg9vsrt4g', 'http://t.co/9tg7a5oqfp', 'http://t.co/vrpthvpymt', '#bloodymonday', '#tvshowtime', 'http://t.co/nkkvknbvoz', 'vì_sterì', '@whvholst', '@leashless', 'http://t.co/gxyivswki7', '@faze_rain', 'http://t.co/3ac5wuy1r0', 'hint-devastation', '#beyondthebomb', 'http://t.co/3nkculgvmw', '#theashes', 'http://t.co/00cy9vxeff', '#tweet4taiji', 'https://t.co/jslxtq3nqs', 'http://t.co/prmtxjjdue', 'http://t.co/3yu26v19zh', '@chief__cg', '#ovofest', '#ziphimup', 'http://t.co/35qwnglkos', 'http://t.co/sxwjyr3k3l', 'http://t.co/aewglvqreh', '@kezi9', 'http://t.co/sahbhlxssh', 'http://t.co/ee8rpoahpk', '@msnbc', 'http://t.co/ha5boppejy', \"delany's\", 'https://t.co/msuy4qtpk9', 'http://t.co/aqcsusqbdy', '@charlesadler', \"lee's\", '@savannahross_4', '@chibi877', '#escorts', '#gfe', '#dubai', 'http://t.co/n6ahgfmudt', 'never-ending', 'whack-a-mole', 'http://t.co/6exs23muy3', 'http://t.co/l9idherotj', 'http://t.co/9tb82zmr2x', '#039', 'http://t.co/aptap6yx1r', 'http://t.co/jilfbr0ufp', '#kidscompany', 'http://t.co/bcpmvylsih', 'http://t.co/usvyhdg9og', '#ika', '#tuning', '#diet', 'http://t.co/8r5vpaoo5z', 'http://t.co/jvcxb75drj', \"#ferguson's\", 'http://t.co/qwsbvflpe1', 't-ville', '@wkrn', '@ohmyloz', '@rondarousey', '#japì_n', '06:32', '@megancoopy', '@laurathorne97', 'http://t.co/mesqtvdu63', '@pllolz', 'http://t.co/tft1bb4xaz', '@colinhoffman29', 'http://t.co/zz5udilrea', 'http://t.co/pkkcdwjyg0', '@cw_hoops', '@dougmartin17', '@longbreastyat', 'http://t.co/rnqebaycvm', 'http://t.co/nvp6wrkl1e', '2:20', \"jenna's\", 'http://t.co/bdn2fdpdaz', '@macdaddy_leo', 'http://t.co/k8ughv2aif\\x89û\\x9dmy', 'http://t.co/spt54kfa9q', 'http://t.co/q4q8xsyzob', 'http://t.co/hvwkjqxxyt', '#theneeds', '#recipes', 'http://t.co/f56v61ampt', 'http://t.co/h3sxfv5mtc', 'http://t.co/iewdrenauk', 'http://t.co/qj3pvgavn7', 'http://t.co/ad38kwoglh', 'http://t.co/ykvsttvdwo', 'http://t.co/ifqqpur99x', 'http://t.co/fk1vyh5qlk', '#newsdict', '#chile', 'river-siskiyou', '5/15', '12:00', 'http://t.co/lkwxu8qv7n', 'http://t.co/au3dbci7nf', 'http://t.co/bovjrf62t7', 'shevlin-hixon', 'http://t.co/z6ee1jvhni', \"human's\", '#sciencefiction', 'game-day', 'http://t.co/kkimmbue04', 'http://t.co/owbujez3q4', 'http://t.co/wrb7xd8w5y', '@drake', 'http://t.co/cilo9pmleb', 'http://t.co/0t9yd557ry', '#gisuserpr', '#geotech', 'http://t.co/31tgtlz3ya', 'http://t.co/c7rco2emwf', 'http://t.co/scxfc5wi9t', 'http://t.co/gx1otoh8sj', '#dutton', '#presser', 'https://t.co/my8q1uwijn', 'https://t.co/optps1lgkc', 'http://t.co/fb8snrg4hu', 'http://t.co/ao4ju9vmmf', 'http://t.co/oyy9mgw7hn', '@hinterestin', '060/5', 'http://t.co/pf8dxwibdp', '#facebook', '#socialmedia', '#strategy', 'https://t.co/p1amginsys', 'amsterdam-virtual', '#dvd', 'http://t.co/6pagjqfbzk', 'http://t.co/qzizelxbyr', 'http://t.co/gix1gaynxz', 'http://t.co/p93s2rfhx6', '6:08', 'http://t.co/kcoff6bmie', 'http://t.co/gbrnulp3fh', 'http://t.co/j2erzbmjqd', \"åê'demolition\", '@233liveonline', 'http://t.co/io7kuug1uq', 'btown-beatdown', 'http://t.co/s0vgtkhw7v', 'http://t.co/qvx0vqtpz0', 'http://t.co/vuwbsrsnry', 'http://t.co/iys9xwpvmk', \"mind's\", 'http://t.co/cykr4xaluh', '@fedex', 'http://t.co/iadlslqdpd', '#newsintweets', 'http://t.co/o8y1sul4ow', 'http://t.co/4cpnbbzkzg', '@justintrudeau', '19.123127', '72.825133', 'https://t.co/ztyzhbvzqp', 'http://t.co/pyehwodwun', 'http://t.co/8jxql8cv8z', 'http://t.co/egcv7ybjae', '#age', '@okgooner', 'http://t.co/su4zvwadj7', 'http://t.co/wvtpuryx63', 'jayankondacholapuram.tamilnadu', '@nuggets', '#fettilootch', '#slanglucci', 'https://t.co/moll5vd8yd', 'http://t.co/glwoakppjq', 'http://t.co/wllflfndgg', 'http://t.co/y678xsnvj6', 'http://t.co/txetcysm1h', '@bluebirddenver', 'iembot_hfo', 'http://t.co/gg0dzsvbz7', 'http://t.co/kbe91arcdw', '@annmarieronan', '@niamhosullivanx', '#traumatised', 'http://t.co/1q6ccffzv6', 'http://t.co/vxuftvt9au', \"#smarttek's\", 'gps-based', '#mpers', '#safety', 'http://t.co/3oionqlfql', '1/10', '#arsenal', '#we', '@taaylordarr', 'http://t.co/zy3hpdjnwg', '#defendant', '#catastrophic', 'http://t.co/gz27audyha', 'http://t.co/p4ekgc9sig', 'ìøåàå_t', '40.736324', '-73.990062', \"took'em\", 'c-list', 'https://t.co/1xssvgimvb', '@mistresspip', 'http://t.co/l6jbjaj8dm', 'http://t.co/lqgoe7psxp', 'http://t.co/fjddx43ewj', '@messnermatthew', '@newcity', 'http://t.co/vdukcv7yjy', '@myrtlegroggins', '<gasp!>', '@theemobrago', 'http://t.co/8bqjtp6id5', 'http://t.co/8kjs7zqajs', 'http://t.co/k6uetsnlht', 'http://t.co/shaznlmsfe', '#saudiarabia', 'http://t.co/lwane9vupg', 'http://t.co/cpqgufzb28', '@cowgirllawyer', 'https://t.co/wdvqlewybs', 'http://t.co/to9viqoofv', '@wild_lionx3', 'http://t.co/tgtcru8jio', \"#gfz's\", 'https://t.co/qeopmcjbcz', 'http://t.co/hszjafxrvi', '@ladyfleur', '@destinythegame', '@bungie', '@playstation', 'http://t.co/vbo1tjndps', '@northbayhealth', 'multi-casualty', 'http://t.co/21b6skpdur', 'http://t.co/wbcb3sytj7', 'http://t.co/qgyn2u1up3', 'http://t.co/wis3h9tqrm', 'http://t.co/cntwb6sczj', 'http://t.co/gvd7fcx8iz', '@questergirl', '#turkish', '#syrian', '#wedding', 'http://t.co/ehlq3zsptd', 'http://t.co/djx5elbrv1', '11:45', 'http://t.co/mjstefggu5', '@sarahmcpants', '@justjon', 'http://t.co/q4l7dg56jm', 'http://t.co/mjoeebdlxn', 'http://t.co/fven1ex0ps', 'http://t.co/5oqhq8quqv', 'http://t.co/m9ig3wq8lq', '@grabakahitman', '@izi_garcia', 'http://t.co/u30n3ffx8y', 'twitch.tv/naturalemblem26', 'http://t.co/geeknwjjsz', '@councilscc', 'http://t.co/ud7xobyua1', '@cleverbot', '@katiekatcubs', '@yahoocare', 'http://t.co/ae9cpiexak', '@capicapricapri', '@brento_bento', 'http://t.co/yi3oivk2x4', '#flightcity', '#doublecups', 'https://t.co/lfkmtzaekk', '@trubgme', '@thisizbwright', 'nouvelle-ìäcosse', '#demolition', '#workers', '#halifax', 'http://t.co/qtizcbww7g', 'û_turns', 'http://t.co/77ciwxabva\\x89û_t-school-lands/', 'strong-minded', 'http://t.co/7cmf3noync', 'bki-kua', '@lightumupbeast', '#oomf', 'http://t.co/ymp0ginwza', 'http://t.co/fyioqvioif', '#sejorg', '#hyperbole', '#saintsfc', 'mid-south', 'http://t.co/uzwlgjqzns', 'drive-by', 'http://t.co/j3x0doy7r3', '#cdcwhistleblower', '#boston', 'auto-body', '@peterhowenecn', '@necn', \"pam's\", '@gigagil', 'morality-zionism', 'http://t.co/e4wk8uri8a', 'http://t.co/xtljz7bjgl', 'http://t.co/10muey8pxj', '#lesbian', 'http://t.co/sahq5uoahw', '#fx', 'http://t.co/7ennullkzm', 'first-ever', 'http://t.co/j8tyt1xrrk', 'http://t.co/9d4nazoi94', 'http://t.co/hr88cwxpgz', '#newsarama', 'http://t.co/rptouz2ijs', 'http://t.co/69mlhfefhr', '#allthenews', 'https://t.co/abnzqwlig1', 'https://t.co/m8mvdspjp7', 'http://t.co/biuey7buts', 'http://t.co/jwqybe4ep1', 'police-run', 'http://t.co/qpwotugui9', '18:00', 'http://t.co/gvaipmlsl0', 'http://t.co/0r03c6njli', '@ibeyiofficial', 'https://t.co/olnk1ti1nm', 'http://t.co/0btniwagt1', '#realestate', 'http://t.co/hhzy3oqela', 'https://t.co/mctjnzx4h8', 'http://t.co/6gsamy6mts', 'http://t.co/daqszzubub', '@radychildrens', 'http://t.co/igwstttkwk', '140920-21', '150718-19', 'http://t.co/y7o55by36f', '@emaaalay', 'http://t.co/qycw5jjaj1', '@ogtomd', 'https://t.co/zvre6ffnyd', '#spotlight', '#wniagospel', 'http://t.co/1he4ufawzm', 'http://t.co/bnhtxaezmm', 'http://t.co/rpmtropsvr', '#scseestapreparando', '4.4', 'http://t.co/i6lmccclv5', '@volcanodiscover', '@josh_lado', 'http://t.co/bmxsndx14g', '@glassanimals', 'http://t.co/7zb9gm5z0h', '#novalismi', 'http://t.co/458dtr3ulx', 'http://t.co/f7ljwxj5jp', 'http://t.co/nekm1rpohu', 'http://t.co/oi6cmagasi', '#displaced', '#refugeesmatter', 'https://t.co/oez7o9ab2c', 'http://t.co/nzrwddlntp', 'https://t.co/1buf0xm53d', 'http://t.co/4k8olzv9bv', '#blessed', '#tnn', 'http://t.co/9lo0hzwjpz', 'http://t.co/5zdbtktww7', '@durban_knight', 'http://t.co/cwcvbubs01', '@nosy_be', \"could've\", 'http://t.co/giesomgwtr', '@ma3route', 'ambulance.we', '@bonnieg434', 'http://t.co/cy1lfenyv8', '@volfan326', '@tneazzy', \"muschamp's\", '#kuwait', 'http://t.co/tmz6x1n2gq', '@danisnotonfire', '@turnedonfetaboo', '@hsjb215', '#rockin', '@claytonbryant', 'https://t.co/e1wrvyzfkv', '#artistsunited', '@vickybrush', 'http://t.co/42mawzb8t9', 'http://t.co/o6onsjhcsd', '#p2', '@jamesmelville', 'https://t.co/cyu8zxw1oh', 'http://t.co/93infxzhx0', 'run-in', 'roadway-property', \"firefighter's\", 'http://t.co/k14q8chwkp', 'http://t.co/sjnyfszcu1', 'http://t.co/okvsimogic', 'http://t.co/fzujg7sxjg', '15:41', 'http://t.co/gmoul9zq2q', 'http://t.co/gzekqwzijq', 'http://t.co/krnw0wxhe5', 't-shirt', 'http://t.co/znsvstgwx3', '#hockey', '@missjadebrown', 'mid-morning', 'https://t.co/rpda60aoni', 'http://t.co/raf732vrtt', '@catovitch', 'http://t.co/9z9hsmiavd', 'http://t.co/e2hltyyfak', 'http://t.co/pmxezuo4ay', 'http://t.co/1pflm532mg', 'http://t.co/58qrugzvg0', 'http://t.co/f8gvwkfqox', 'http://t.co/raqupzfkjy', '#weddinghour', 'http://t.co/qunxocxcga', '@kainyusanagi', '@grummz', '@pixelcanuck', '@wo', 'http://t.co/ixrehm05yq', 'http://t.co/snqfhpym3o', '#ggindependencmessage', 'http://t.co/wukcalnqms', 'http://t.co/9viibxgjav', 'http://t.co/rvsyxwj9cp', '@tonyakappes11', 'http://t.co/xyav4t5n0o', '#mystery', '#paranormal', '@macbreck', 'means.it', 'pres.bad', '@marvel', '@dccomics', '@imagecomics', '@darkhorsecomics', '@idwpublishing', 'https://t.co/rukjyjg9oq', 'anti-blight', 'http://t.co/xzlrwc0pik', 'http://t.co/o5xlxmkoyq', 'http://t.co/zzcbbqyj1q', 'http://t.co/kksghsblfh', '#kyee', '@kasitaroch', '@vivianunhcr', '#southline', 'http://t.co/bl59fw4sys', '30.307558', '-81.403118', \"kash's\", \"magazine's\", 'http://t.co/2fenu1syu6', '@proudgreenhome', 'http://t.co/kavaovjz2v', '@toddyrockstar', 'http://t.co/jdtpirnm76', 'http://t.co/a2tiivnjdy', 'http://t.co/fw2xifj6ec', 'http://t.co/g2uimbekge', 'http://t.co/xh4dz1gpyw', 'http://t.co/g0hsyh7yav', '@classycolkett', 'http://t.co/fymp4i2wp5', '#tornadogiveaway', '#thebookclub', 'http://t.co/ljomctuzfy', 'https://t.co/2zgvslox5p', 'suginami-ku', 'http://t.co/jkym9edofc', '39.982988', '-75.261624', '@fuckyeahcarey', '@bornverified', 'sincerely_tsunami', '#rfp', 'http://t.co/8gtrvece1n', 'http://t.co/7xq8jrtl7i', 'http://t.co/j90dt2qnxb', 'http://t.co/oer5hh41ew', '#alaska', '@akgovbillwalker', \"calgary's\", 'http://t.co/93iaeec26t', 'http://t.co/612bsbvw8k', '@myfriendmina', '@peterjukes', 'http://t.co/cdohgnjmst', 'http://t.co/87h5mba3n1', \"dimitri's\", '@mageavexis', 'http://t.co/qjuu0wcwpx', '@flgovscott', 'http://t.co/gv84wnhb7s', '#diversification', 'property-casualty', 'http://t.co/33fbr25t1o', 'https://t.co/lue3waegpi', '#crimes', 'http://t.co/9h0ym9ofsv', '#justice', '#courts', '@bilsko', '@humofthecity', 'http://t.co/m9yda5k6jf', 'in-game', 'http://t.co/qwqnni7vmz', '#duststorm', 'http://t.co/njmidysxof', '@abc7chicago', '@_itsmegss_', 'http://t.co/6un7xc9sve', \"l'enfant\", 'https://t.co/qyx5thkrbh', '#thisiswhywecanthavenicethings', 'http://t.co/kgxnwziuxd', 'http://t.co/y9w0v6te9o', '#cumshot', '#sex', '#porno', 'http://t.co/mul1j9aeux', 'http://t.co/6vja8r4yxa', 'http://t.co/bhzr9ugus2', '@mentalhealthgov', 'https://t.co/qejedwsfdg', '@senfeinstein', 'http://t.co/ohndh2ri0v', '#cutekitten', '#catsofinstagram', '#summerinsweden', '#katt', '#katterpì', '#dumle', '#dagens', 'http://t.co/p4zfxdnbch', 'http://t.co/guaj2t910b', 'http://t.co/i4fz75utnh', 'https://t.co/h6amecx5k7', 'http://t.co/b8iwrdxcm0', 'http://t.co/glpfu0uriz', '08:02', 'http://t.co/cf9e6tu3g7', '#internetradio', '#collegeradi', '#chernobyl', 'http://t.co/macob5xlsu', \"moore's\", 'http://t.co/octnpyueei', 'me.is', '@gloriavelez', '#lonepine', '@666canberra', '#gallipoli', '#ww1', 'http://t.co/t4fvvnrpc5', 'http://t.co/0zznbvfuvo', 'http://t.co/vmjrtuvmh4', '@tweetinglew', '@tersestuff', '@dalailama', 'high-rise', 'http://t.co/wfseaobato', 'http://t.co/geu4h46csz', '@hoodedu', 'http://t.co/gzib0mawmn', '60:1', '138:8', 'http://t.co/rg4jishybs', \"#whereveri'mat\", 'http://t.co/r4kheh7iaf', 'http://t.co/qszgjfuutu', 'http://t.co/gx9skuau9j', 'http://t.co/1w58ehv9s1', 'http://t.co/p8ih0hni3l', '@pbohanna', '#justaguess', '@queenwendy_', \"britain's\", 'http://t.co/omb3os54tn', '@people', 'http://t.co/lqd1wefpqd', 'http://t.co/ggnbvzohwu', '#thebargain', 'http://t.co/uml5jztmcb', '@dr_baseball41', '@granttamane8', '@drewwtaylor', '@dtop77', 'http://t.co/lq4lxgs2xu', 'http://t.co/tbx8cakdrw', 'x-men', 'https://t.co/fs012trudg', '@yahootv', 'http://t.co/met4ytzmfb', '@deezercolombia', 'http://t.co/avu9b4k2rv', '#pussy', '#ass', '#boobs', '#asian', '#nude', 'http://t.co/p96rgbbayl', '#apple', '#mobile', '#adani', '#modi', 'india-backed', 'http://t.co/sje59u2nnm', '#palermo', '#shipwreck', '#children', '#deaths', 'http://t.co/tm9zbhjcyf', 'http://t.co/jods9a32pi', 'http://t.co/e2wgreicmz', '@squibby_', 'http://t.co/jans3fd4lf', 'http://t.co/2sdmichb2z', '@kerrykatona7', '@sw_trains', '#wimbledon', 'http://t.co/4d9cd4mnvh', 'http://t.co/unhqcq6bex', 'http://t.co/hhpvsatqxn', 'http://t.co/d12r8xpshy', 'http://t.co/hfgjgfgfel', 'http://t.co/fftokd0vts', '5:30', 'http://t.co/ljxce1qw2p', '#twcnews', '#ncwx', 'http://t.co/dgbeh5l9ds', '@strickskin', '@nickscomics', 'http://t.co/cyzlshlqhg', 'http://t.co/ndis8f1vzt', '#tubestrike', '#coya', '#london', 'http://t.co/ppekbqdcnc', '@gg_keeponrockin', '@strawberrysoryu', 'http://t.co/gdjtzkpchk', 'http://t.co/o1smuh2unn', 'http://t.co/xqj6wgiuqh', 'http://t.co/qd3dssfwue', '@lexi_purduee', '@mayoroflondon', '#notrocketscience', 'hyider_ghost', 'å_å_los', 'http://t.co/x8moyevjsj', '@steveycheese99', '@mapmyrun', 'http://t.co/dwu8qqys0v', 'self-esteem', 'http://t.co/tu6scrsxvg', 'http://t.co/idhj4jbq05', 'http://t.co/etkd58un8n', 'http://t.co/lrelvrm06w', '@8', 'http://t.co/ugesklcn8m', 'http://t.co/kqpky7dthj', '44.414510', '8.942499', 'http://t.co/5zcje7arci', 'http://t.co/havxobcsvu', '@phdsquares', '#mufc', 'http://t.co/gl3c1vc88p', '#8392', 'http://t.co/vihdoksccc', '@chxrmingprince', '@jones_luna', 'http://t.co/awtscucbbv', 'http://t.co/so81ab3a1x', '#vietnam', 'http://t.co/hvxu1zcvau', 'http://t.co/ijmccmhh5g', '@elielcruz', '#iamdowntown', 'http://t.co/hbhx0dwkpc', '#womens', 'http://t.co/zujwuiomb3', 'http://t.co/iap4lwvqsw', 'http://t.co/ur7fexszg4', 'http://t.co/wb8awoblcl', '3.28', '7.20', '7.25', 'http://t.co/umzkc9azwd', '#francisunderwood', '#hoc', 'https://t.co/zqo6nuvytu', '@dannyjohnjules', '@spencer_fearon', '@christielinford', '#jamaicaplain', 'http://t.co/1fhrrhcimh', 'http://t.co/ntswuayeji', 'http://t.co/wgefbuk4jk', 'http://t.co/g5zsru0zvq', '@wfaaweather', \"dragon's\", 'http://t.co/8t36hwgoqd', '@danagould', '@waynesteratl', '03-08', '3.0', 'l-v', 'http://t.co/c8uxkizwm6', 'http://t.co/snxgh9r16u', '@thomasvissman22', '@keithyyl', 'http://t.co/dlkuftlqnf', '@babybackreeve', 'http://t.co/zckxtfc9pt', '@scotrail', \"cos'its\", 'https://t.co/tuai0zwgxu', 'http://t.co/ef4swp9sxz', 'http://t.co/nb7maaaofs', 'http://t.co/gzxipmoknb', '#stephenking', '#thedarktower', 'http://t.co/j9lpdrxcde', '@bdisgusting', '@blairmcdougall', \"taylor's\", '#straightfire', '@waseembadami', 'http://t.co/itg84q7vii', 'http://t.co/cufgvupkzi', '#georgecole', 'http://t.co/sjxllzosw7', 'http://t.co/u2kwof3wtj', '@thecomedyquote', '@50shadezofgrey', '@p45perez', '#sizewell', 'http://t.co/x9cuihib5n', '#worldwatchesferguson', '@govjaynixon', '@clairecmc', '@kristindavis', '@un', 'https://t.co/ypvjgzqqqb', 'http://t.co/mg5eajelul', 'http://t.co/pcxarbh9an', 'http://t.co/birkbje23e', 'http://t.co/buzwjmw49e', '650/559', '@kelworldpeace', '@taxstone', '@raidersreporter', '@957thegame', 'https://t.co/0yzgw9zbhr', 'https://t.co/rhtaqjvqn2', 'http://t.co/comlg0vdbv', 'http://t.co/iglnqpgbnw', 'http://t.co/aoesbvns45', 'http://t.co/ubvevuuach', 'https://t.co/jrkgyl7te5', '#breaking411', 'http://t.co/onlvf2fyoy', 'http://t.co/vaunps6wja', '@onegreenplanet', '@neanderrebel', 'mass-murderer', 'http://t.co/ioqm5bm1dg', '3-4', 'http://t.co/w6o0uizf8p', 'http://t.co/o0ltqdjbqe', '#pjnet', '#tcotåê', '#ccot', 'http://t.co/mo9wptyqkp', '@anellatulip', '@worstoverdose', 'http://t.co/ko0oz3ryfg', 'http://t.co/lvkoemsq8m', 'http://t.co/cjirhhh4vj', 'http://t.co/ut7r2ixrjq', 'http://t.co/v3z96ydmvd', 'http://t.co/kxslftz2i5', '@__srajapakse__', 'yee-haw', 'http://t.co/taxuxp9qa2', '#horrible', '29-07-', '#watchthevideo', 'http://t.co/p64xrvgjik', 'https://t.co/yx1ukbmtqb', '#grupdates', 'http://t.co/fqcdphccg7', 'http://t.co/khf0ih05a9', \"khrone's\", 'http://t.co/he7q7h3nzf', 'http://t.co/rpvzbesuqj', 'http://t.co/bmsedzofsv', '#putin', 'russia-ukraine', '@independent', 'http://t.co/k3pnnktlxh', '#yazidis', 'http://t.co/baqocmcjqc', '@evahanderek', '@marleyknysh', '#cantwaittoplayinminneapolis', '@sundercr', 'between-song', 'http://t.co/dzlpnp399x', '@okcfox', 'http://t.co/ct9ejxolpu', 'https://t.co/yrqgnblkac', 'http://t.co/sb5r7shccj', '#newcastleupontyne', '@widda16', '#whoops', 'http://t.co/qzrcinaf5z', '@londonfire', 'http://t.co/iyjejop2wi', 'https://t.co/gi2p9tuvbi', '@jrlallo', 'http://t.co/hgb1mc3irk', 'https://t.co/6ysxghc8gz', 'http://t.co/0t8vqkeari', '@nashvillefd', '#insurance', 'http://t.co/byvubg0wye', 'https://t.co/g0r3zr1nqj', '@captainn_morgan', 'http://t.co/fl8gci84aj', 'http://t.co/dvonwiv3l1', 'http://t.co/aq5zlim7l4', 'http://t.co/fvr9jdq71a', 'http://t.co/qxxn6rksp6', 'http://t.co/b3x1wqzaor', 'http://t.co/4y4ytwhd74', '5.3', 'http://t.co/obky8pc89h', 'http://t.co/dxirntdsrd', '#trafficalert', '@burberryant', 'http://t.co/ypbvs1ijya', 'http://t.co/9dflv6ynqr', 'http://t.co/muanfwcrw9', 'http://t.co/zyssobxntc', '#gloucester', '#capeann', '#seagulls', '#triciaoneill', '#triciaoneillphoto', 'https://t.co/ols6qdi9um', 'http://t.co/uu64wfg17m', 'http://t.co/gxgm1t3w0j', 'http://t.co/pumxlvlsgm', '@papcrdoll', 'http://t.co/6jzcedayrg', 'http://t.co/n2bcf4m64v', '@slopeofhope', '#bridgetown', 'http://t.co/wdueaj8q4j', 'http://t.co/carvv6gsrb', 'http://t.co/lan76zqkxg', '@kristenkoin6', 'http://t.co/81hvv3n3rs', '#teamhennessy', '#nj', '@tprimo24', '@djeddygnj', 'https://t.co/mrv54fidfn', 'https://t.co/projeavg8t', '\\\\:', 'http://t.co/xqrlewia4x', 'http://t.co/6fynermusg', '@argentaelite', '@cagov', '@vp', '@hurricane_dame', '23:54', '16:54', '-07:0', 'http://t.co/kf0qybkzol', '@kaylak369', 'http://t.co/pgb2bmcfx8', '#tepco', 'http://t.co/7y2gnva2ev', '@mustachemurse', '@dateswhitecoats', '#nissannews', \"bing's\", 'http://t.co/9dwyjqvfy4', '@d1ff3r3nt1sg00d', '@riceechrispies', \"tomorrow's\", 'http://t.co/cubze5mizm', '#gravitymovie', '#dw', 'http://t.co/vox99fwkcx', '@stationcdrkelly', 'http://t.co/nzifztcugl', \"patrick's\", '@tadhgtgmtel', 'http://t.co/uavfrtlfs4', 'http://t.co/85g1pcccxg', 'http://t.co/8acdf4zui6', '@infinitegrace7', 'iii.xii.mmxi', 'http://t.co/0tslqjokvh', '@theadvocatemag', '@art_brut_', '@stunckle', '@gordon_r74', '@crazydoctorlady', 'http://t.co/xppqnyhiwc', 'http://t.co/vl5tbr3wbr', '#psychrewatch', '#fires', 'http://t.co/0x8jaqtowm', 'http://t.co/m1rosi2wcs', 'caserta-roma', 'http://t.co/w3esx6ud8t', 'http://t.co/jlput7va3s', 'pro-american', '#occupy', 'http://t.co/txrswi0efg', 'http://t.co/rlpttkbg4w', 'http://t.co/ozk1qhjvfh', \"oregon's\", 'http://t.co/p0gos5urxg', '@katunews', 'http://t.co/hk9yf72ova', '#winter', '#southdowns', '#hampshire', '#tree', '#treeporn', 'http://t.co/k0qtl8aodh', 'http://t.co/zqbxe7x9y7', '#insanelimits', '#plugin', 'http://t.co/e0pi0c54ff', '@truly_stings', 'http://t.co/03l7nwqdje', 'http://t.co/y518jyrzav', 'http://t.co/pdkhbdg9ho', 'hiroshima-sized', 'http://t.co/bsrerjby0i', '#hiroshima70', '@karnythia', '@retiredfilth', 'http://t.co/9ckgggyvou', 'http://t.co/u0vdbrxfia', 'http://t.co/2ppzgpxybi', 'http://t.co/ds9khkffwc', '@david5fernandez', '@theblaze', \"arsenal's\", 'http://t.co/ecmj18azai', 'http://t.co/dj1lwznieh', 'http://t.co/i9mxxkzhbl', '@mixify', 'http://t.co/m203ul6o7p', '#rodkiai', \"dil's\", '@dead_dreamer15', \"that'd\", 'http://t.co/spymiqnecj', 'https://t.co/dlvzaay7qr', 'http://t.co/gdrssjbh8q', 'magne-traction', 'http://t.co/xezbs3sq0y', 'http://t.co/c2x0qokgly', 'http://t.co/jvai5vkmsy', '#sportinggoods', 'http://t.co/nr8jjmpmos', 'http://t.co/ekfaz6wvbz', 'http://t.co/lamsdzkcuz', 'http://t.co/frkodestuk', 'http://t.co/qwrrfdgxcc', 'http://t.co/sstj2bepqn', '#cecilthelion', 'http://t.co/fnmje8gf7m', 'http://t.co/nye8ae2ifr', 'http://t.co/wq3wjsgphl', \"lou's\", '@robertbenglund', 'collision-unkn', 'http://t.co/js9ehp88wq', '@b24fowler', '@daewony0406', 'http://t.co/fprt7nwrot', '@atljw', '@cnnbrk', '@icrc', 'http://t.co/bkh7z6cwwl', '@thatpersianguy', '@youngsafe', 'http://t.co/fe9hivfmxq', 'http://t.co/q8ivrzojzv', '@moscow_ghost', '@sayed_ridha', '@amin_akh', 'http://t.co/gnynjhne6j', 'http://t.co/1funemes7m', 'http://t.co/fqsk7qcawo', '#binladen', \"airplane's\", 'http://t.co/zct5cchoj0', '@kabarmesir', '@badr58', '#rememberrabaa', '01:20', '#millcityio', '#20150613', 'http://t.co/devybnvxgq', '@todayng', 'http://t.co/eudwnfyuem', 'http://t.co/fgdeh56plo', '@rosemarytravale', '#ultimalucha', '#luchaunderground', 'http://t.co/kot9zvd2h7', '@irishtimesworld', 'http://t.co/1uo1atrbbj', '@crazyindapeg', '@vets78734', 'k_matako_bot', '1.43', '09:36', 'http://t.co/2xmdidgpnr', '@jlabuz', 'https://t.co/k44tl3rfmy', 'http://t.co/ipt0honoti', '@molly_the_tanz', 'http://t.co/83bmprwh7w', '@eeasterling_2', 'http://t.co/ny3l1orzqb', '@alfapedia', 'http://t.co/rujv4vpnbv', '#jackson', '#ms', 'http://t.co/ih0awv3l1o', \"how's\", \"sky's\", '#askcharley', '@forest', 'http://t.co/awxr24zsqh', 'http://t.co/o9a26fn27y', 'http://t.co/f2tqmfh1yb', 'http://t.co/i6zqlk2puz', 'http://t.co/sxmlg3xdvx', 'http://t.co/ltmgdp6jaf', '@ryleedowns02', '@nevaehburton33', 'http://t.co/roi2nsmejj', 'http://t.co/3tj8zjin21', 'http://t.co/yduixefipe', 'http://t.co/lxtjc87kls', '40.707762', '-74.014213', 'https://t.co/p1jlurgwbu', 'http://t.co/apwxs5mm44', 'http://t.co/ds76lozlsu', 'http://t.co/otsm38xmas', '@abandonedpics', \"victim's\", 'http://t.co/carmqivkwu', '#jtw', 'http://t.co/ceiao1texr', '#retail', 'http://t.co/fmu0fnumxf', 'http://t.co/aggryhvxkr', 'http://t.co/a5gnzbusqq', 'http://t.co/ixw2cutk1c', '@aubilenon', '@markkriegsman', '@carolinagutierr', '@anonchimp', '@stacdemon', 'http://t.co/nmrvthkvah', '#sjubb', '@sirtophamhat', '@scynic1', '@nafeezahmed', '@jeremyduns', '@ryanoss123', '35.223347', '-80.827834', '#pft', 'http://t.co/d7m9kgmpji', '@calestous', 'http://t.co/8zy9n6fx9t', 'http://t.co/itz9masbvz', 'http://t.co/vfbbchwrfd', 'http://t.co/wveo9ed10e', '#thorium', 'http://t.co/mly7sdn6ev', 'http://t.co/37qpssnacv', 'http://t.co/92pk0hujd8', 'https://t.co/ecmujkkqx1', '@screamqueens', \"katherine's\", 'http://t.co/5wfxbaqmbk', 'all-time', 'http://t.co/rfb3jxbiej', 'http://t.co/gxe7nhwz3e', 'http://t.co/srbqlmuwbv', 'http://t.co/y2mt6v13e8', '@mprnews', '#tribe', '#chronicillness', '#mylifestory', 'http://t.co/fyjwjdkm5i', 'http://t.co/anlhw2izkz', 'http://t.co/iapvtqxlht', 'http://t.co/wamkre6ckd', 'http://t.co/pqrjvgvgxg', '@laevantine', '@pyramidhead76', '@calum36chambers', '@mrmikeeaton', '@muazimus_prime', '#wahhabism', '#zionism', 'https://t.co/ztfead8gid', '01:02', 'http://t.co/0w12pwpsfx', '@huffpostcomedy', 'http://t.co/xwvw1sft4i', 'http://t.co/j7hukhwmal', 'http://t.co/1eb2dauyfn', '@bluewestlo', '#38745', 'https://t.co/upgd2cy9il', 'http://t.co/mzrhfojt2j', '#pp15000266858', '17:26', '#pdx911', 'http://t.co/950xijhnvh', '#harperanetflixshow', '#elxn42', '#stopharper', 'http://t.co/48zg5ynebn', '@kalinandmyles', '@kalinwhite', '#givebackkalinwhiteaccount', '@blizzard_fans', '#overwatch', '#greatbritishbakeoff', 'http://t.co/qu8s89pvvt', 'http://t.co/fphfesemyj', '#frvrgrateful', 'http://t.co/93dm6gnwwc', \"necro's\", '@theevilolives', '@comcastcares', '@audreyp77', '@teena_797', '@darryl_brooks', '@elitesportsny', '@lopezandthelion', '#natsnation', 'http://t.co/z2vdgiyowf', 'http://t.co/lzasr05ljo', 'http://t.co/iemxgse2be', 'https://t.co/skq8oucm3r', '#entertainment', '#brucewillis', '#ebay', '#auction', 'http://t.co/cxdjapzxmp', 'http://t.co/hvjmuualxv', 'http://t.co/t8nz6h9zz4', '@corleonedaboss', 'http://t.co/ojus08yzrq', '@estellasrevenge', '1.94', 'http://t.co/auf4j4owj1', 'http://t.co/mis0rjxuir', '@blizzard_draco', \"he'll\", 'http://t.co/rsv9atj9vh', '#playingnow', '#bloodbound', 'http://t.co/dly6ruusqk', 'el-bestia', '@alexis_sanchez', 'http://t.co/uc4j4jhvgr', 'http://t.co/otfw5sekd7', 'http://t.co/ibsvy2r3ph', '#spark', '#song', 'http://t.co/vsgqolr32g', 'http://t.co/p7uhcb13qx', '@benignovito', '@libertybell1000', 'life-rebooting', 'mind-blowing', 'http://t.co/42gw2i2q41', '#miami', '#atlanta', '#casper', 'http://t.co/gbepdi0wzt', '@alexbelloli', '@orbette', 'http://t.co/gjfd85vuf2', 'http://t.co/hppld1jhtz', '10.614817868480726', '12.195582811791382', 'http://t.co/rteugb5tnv', '#nonucleariran', '#badirandeal', '@jebbush', 'http://t.co/z7phpjtqud', '23:40', '16:40', '-07:00', 'http://t.co/x6el3ysycn', 'http://t.co/nas3ipm5vh', '@d_pagexxi', '#hangout', 'http://t.co/qkahxwlwxa', '@hurricane_dolce', 'http://t.co/gedoxsppl9', 'http://t.co/aczruorytd', 'http://t.co/wmmkirj0hw', '@darrylb1979', '@anarchic_teapot', '@boironusa', '@zeno001', '@narendramodi', '@bjpsamvad', 'http://t.co/qn4zyisspo', 'http://t.co/3vwp7wd56w', '@meekmill', '#trollingtilmeekdiss', 'http://t.co/nv3uxv9imx', '#houston', 'http://t.co/ej30ihrea9', '#innovation', '#gadgets', 'http://t.co/sxqtyduvul', 'http://t.co/jhscgda2g8', '#treescape', \"wilson's\", 'http://t.co/aqbljcomln', 'http://t.co/ljmgdpdlvs', \"satan's\", '@horiikawa', 'http://t.co/vhcxtvcinr', '@phnotf', 'http://t.co/paqanences', '@baseballquotes1', 'http://t.co/owje3i6ygn', '@silverhusky', 't_t', 'http://t.co/vxsqpfe9na', 'http://t.co/4fxfllrien', 'http://t.co/i12nlsr8fk', '@dwarfonjetpack', 'www.tmgcgart.com', '@romeocrow', 'http://t.co/nxleiijfgs', 'http://t.co/xsgwm5zxpd', 'two-out', '#afp', '#guardian', '#wps', '@haydnexists', 'http://t.co/02elqlopfk', 'http://t.co/fjeafgbzfj', '@bang_me_up_guk', 'http://t.co/ojyw7jkuh5', '#ny35', 'http://t.co/tmzxopvs94', 'http://t.co/w192wkog1m', 'http://t.co/jmu5uyamdu', '@senatemajldr', \"weapon's\", '@hazelannmac', '@freefromwolves', 'http://t.co/uea0txrhys', '#guillermo', 'http://t.co/lgpgajgomy', 'http://t.co/fkd1mbtb68', 'http://t.co/xwms1aww8m', 'http://t.co/te2yerugsi', 'http://t.co/ximpnczxth', 'http://t.co/e4qonkzndz', '#entretenimento', '@1', 'http://t.co/dduxthvvnr', 'http://t.co/dhgavw8bsw', 'http://t.co/0lmheaex9k', 'http://t.co/fuerk0gwui', 'http://t.co/mv7ggglmvc', 'http://t.co/yh4r7ug21a', '917-141', 'http://t.co/rfjzexqgxt', 'http://t.co/wqgsmioimx', '18:22', '@lolly_knickers', '#vaginaorcake', '@mi_country_hick', 'samel_samel', 'http://t.co/tbstk5vqu0', '#3novices', 'http://t.co/2i4eoggo5j', \"tasmania's\", '#9newsmornings', '@durrellb', 'http://t.co/gigw51izpk', '#incident', 'http://t.co/hqdczzdmbn', '1:87', 'http://t.co/faqnfupegn', 'http://t.co/mqfofkxtyh', '@veldfest', \"two's\", 'http://t.co/pp05etlk7t', 'http://t.co/3ol8mhhpma', 'http://t.co/kif7m3fqlx', 'http://t.co/oz6vlwwtnr', 'http://t.co/tj3ltpzfw1', '@originalfunko', '@spencers', 'http://t.co/jssmmlnaq7', '08/06', 'http://t.co/zm6vczqvwk', 'http://t.co/dknlznom6n', 'http://t.co/mqbyravk6h', '1.4', '00:52', '17:52', 'http://t.co/zqrcptlrum', '#metrofmtalk', 'http://t.co/obsz45ybaj', 'http://t.co/t4pv0nroov', 'http://t.co/pseylyzck4', '#bayonets', '@randpaul', 'https://t.co/xb8nfxabum', '#evilempire', '#jadehelm15', 'http://t.co/vt2aky5mgk', 'https://t.co/qgqlpmrfjd', 'http://t.co/khsbzkfd6o', '#oneheartonemindonecss', '@rhee1975', '@deliciousvomit', 'http://t.co/ba4pusvjln', 'http://t.co/fctrawjcyl', '#ndtv', '#indiakomuntorjawabdo', 'http://t.co/wjljq3ya4g', '@demolition_d', 'http://t.co/ucy5fea9yu', 'http://t.co/dnwwo1ybrk', 'http://t.co/7qpg80ud7v', '@blackparavde', '@tyleroakley', '#murfreesboro', '#walmart', '@dnj_com', '@calgaryfringe', '#mothernature', '#rain', '#yycfringe', '#killhard', 'http://t.co/ajay0snplg', 'http://t.co/qxhowcv16r', '@breitbartnews', '@demetae12', 'http://t.co/iidkc0jsbx', '#najibrazak', '#malaysiaairlines', 'https://t.co/bptmlf4p10', '#dam', '#gms', 'http://t.co/micjnpuhg0', 'http://t.co/vddi5chktp', '@bv', '#coppednews', 'http://t.co/wx11d69gez', 'http://t.co/met0mtpr3s', 'http://t.co/z99pkjztrp', '@la_siren', '@vvorm', \"monica's\", '01:01', 'http://t.co/8jvqi9uspl', 'http://t.co/na2ey64vsg', '#mrrobinson', '#thesteveharveyshow', '@abran_caballero', '@adamrubinespn', 'http://t.co/gs50ddg1jy', '@thewesterngaz', 'well-adjusted', '#burnaby', '#changefortheworse', '@thebriankrause', '#piperwearsthepants', '#charmed', '@antpips67', '@johnejefferson', '@casper_rmg', 'http://t.co/qufwxrjiql', 'http://t.co/ydgmgbryl2', '@therealrittz', '@cloydrivers', '@fewmoretweets', 'megadeth-symphony', 'http://t.co/xzfxrglalp', 'http://t.co/n6mcpgvwq2', 'http://t.co/s8oinfgxyx', 'ga-matsepe', 'http://t.co/n3vbtc6nca', '#rowysolouisville', 'http://t.co/hxvfmouhdm', '#blackpool', 'http://t.co/5lnidvobff', '#beclearoncancer', 'http://t.co/m5djllxozp', 'http://twitch.tv/jcmonkey', '@drothvader', '@cm_nevalistis', '@icymagistrate', 'http://t.co/6hkw5qlppt', '#albany', '#ny', 'http://t.co/mgyvglenks', '97-98', '4.6', 'http://t.co/cudkryuuan', 'http://t.co/dkozymvy5l', '@broseidonrex', '@dapurplesharpie', '#kamindoz', '#reuters', 'http://t.co/xrdwr8cdvm', 'http://t.co/fxtffl4axy', '@sonyprousa', '@lumixusa', '@djiglobal', '@profbriancox', '@rt_america', 'https://t.co/2gljhvead9', \"xiumin's\", 'http://t.co/cfe9huqn0h', '@daughterofnai', \"yuki's\", 'http://t.co/cyv2zg935g', '@nagel_ashley', '@vicken52', '@basedlarock', '@goonc1ty', \"friday's\", 'https://t.co/zvobmdxhgp', '@frackfreelancs', '@deccgovuk', '@frackfree_eu', '@tarleton_sophie', 'http://t.co/jsccx8k0ja', \"tae's\", \"namjoon's\", '#redsoxnation', '@juliechen', '@oliviaapalmerr', '#thatswhatfriendsarefor', '09:13', 'http://t.co/ed1vpitswy', 'http://t.co/6xsbddlziy', 'http://t.co/7b2wf6ovfk', '11:03', '@cameronhigdon34', '@optich3cz', '#askh3cz', '#bethlehem', 'http://t.co/ph2xli8nve', 'http://t.co/22fuxhn7el', '@gilderoy', 'http://t.co/thnexicgqe', 'http://t.co/wmoyibwec1', '@lucymayofficial', '#whirlwind', 'http://t.co/0rsverlztm', '08.05', 'https://t.co/x17fubqbgg', 'http://t.co/jbodkm6rbu', '@cameronciletti', '@tigersjostun', 'no-go', 'http://t.co/tux0ypwzur', 'http://t.co/wbi7laq18e', 'http://t.co/phh1vmlfoo', '@susanj357', '@allinwithchris', '@lawfulsurvivor', 't-dog', '@threatconnect', 'http://t.co/hrl4xnj9k7', '#infosec', '#dfir', '#threatintel', '@sweet2young', 'http://t.co/jzwrisxepf', '@r_lauren83199', '@xojademarie124', \"student's\", 'http://t.co/ekwtihlwuf', 'http://t.co/twpl0nl8cx', 'http://t.co/ltf6jl5keu', 'http://t.co/zlq8thctkw', 'http://t.co/mwcnvtcxvu', 'http://t.co/clolmorpld', '@indigo6e', '@the', \"hood's\", '#mumbai', 'http://t.co/4kbwpcmmbm', \"tsunami's\", 'http://t.co/1rreo2jg9u', \"hero's\", '#startrek', '#tos', 'http://t.co/a2e6dcsk88', 'http://t.co/9eh2lcqkxl', '#blackinamerica', '#growingupblack', 'http://t.co/ki9ehjhl8y', 'http://t.co/i7ap1mes8m', 'https://t.co/2rtq9qmgpb', '#oilandgas', 'http://t.co/ohholj9vev', '4:00', '@riverroaming', '@mrtophypup', 'http://t.co/inkuv5dntx', 'http://t.co/1cvegtizog', 'http://t.co/mpoaefql6k', '@josephjett', 'sign-up', 'http://t.co/hbdo22nqpz', '@theblackshag', '@dannyoneil', '@michelleellle', 'http://t.co/kgkz50q8tk', 'http://t.co/xv3d9bpjhi', 'http://t.co/hcwrk81p71', 'sorry-i', '@irishirr', '@mchapmanwsaz', '@wsaz_brittany', '@kellyannwx', '@bcfcticketlady', '@mr_aamir_javaid', '#kro', \"s'thing\", \"law's\", 'http://t.co/hxvihdushp', '@dantmatrafajlo', '@violentfeminazi', '@coreyashe', '#pearlharbor', 'http://t.co/biigd1leq3', '#quotes', '@buckmasonusa', '@argus_99', '@heidia1438', 'http://t.co/1erd2fpryp', '@_bookofdaniel', 'https://t.co/fkqjy3ezyg', 'http://t.co/50vdq7a1m5', 'http://t.co/qh6oxft9ir', 'meme-baiting', 'http://t.co/zfwmjh6slh', '@abcnews24', '@peterdutton_mp', 'no-one', '@kjfordays', '@shayoly', '13,000', '@wwexdreamer', \"notley's\", \"harper's\", \"alberta's\", 'http://t.co/rzsulzmokx', '#ableg', '#cdnpoli', '#cafire', 'fort-worth', 'http://t.co/c5u9qsysej', '@ezralevant', \"daughter's\", '@freemurphy', \"canada's\", 'garbage-bot', '@dreamoforgonon', '@teeess', '=/', 'http://t.co/ojhcgzxlst', '#lgm', '@officialmqm', 'vitì_ria', '@prosyn', '#oped', 'http://t.co/gnpstnvi5g', 'https://t.co/uaodoquda1', '#deltachildren', '#instaquote', '#quoteoftheday', '#disney', '#waltdisney', 'http://t.co/blzt5zwose', '#donzilla', '#trump2016', 'https://t.co/xvaoqo4egr', '@kaputt21', '@sarniamakchris', '@hromadske', '@kasiadear33', 'http://t.co/bae0ap4g9y', 'http://t.co/6hkca1dsna', 'http://t.co/6agmkx2ww4', '@stallion150', '@kbeastx', 'http://t.co/os1wjrvx5c', '@weebly', 'https://t.co/hksbmijqz1', '#charity', '#run', '@doningtondash', 'https://t.co/g1nw99yj8u', 'http://t.co/jvjalyg2n1', 'http://t.co/qxmweljbc0', \"diageo's\", 'http://t.co/gfs7usulgq', 'http://t.co/8picbkdjm0', 'http://t.co/nbd5ot9iew', 'http://t.co/njaffyjarz', 'http://t.co/1xhsuewqn4', 'http://t.co/uppwxda4yd', 'http://t.co/m6lvkxl9ii', '@fadelurker', '@dalinthanelan', 'http://t.co/je86vetdxh', '@cta', '@ctafails', 'http://t.co/1udz0nvoeh', '#bangladesh', '#worldvision', 'http://t.co/xqdvghz8g6', '@eles_kaylee', '@jannellix0', '@kiro7seattle', '#scraptrident', 'http://t.co/itzzkwfhg5', 'http://t.co/jp9xyla3c5', '#oneborn', '@stormbeard', '@steel_lord', '@ablaze', '#talkradio', 'http://t.co/sdxzhjco0x', '@raychielovesu', 'https://t.co/wkmfdig3nt', '@phillipten', 'http://t.co/oazghozgya', '#gunfail', '#nra', '@lesley_mariiee', 'http://t.co/z16dtoqhhg', 'http://t.co/rczalru05o', '#painting', 'http://t.co/36gccapaak', 'http://t.co/nqjzs6wkun', '@cyclone_reizei', 'cyclone-sama', '@blakeschmidt', 'http://t.co/gbqtc7sp9c', '@imsushickoflove', '@alekalicante', 'http://t.co/hxox7o42rq', '@lightseraphs', ':\\\\', 'http://t.co/v6ijxccd2i', 'http://t.co/ysxhfwmgod', 'http://t.co/x3g2ox6k8r', '@itss_selenaluna', 'youtube.com/channel/uchwtlc9b4zjugh7ydlb55iw', '@nbc', 'bel-air', \"ukraine's\", 'http://t.co/tt4kvmvujq', 'http://t.co/l0pmmtzlwp', 'http://t.co/guvtizyche', 'defensenews.comus', 'http://t.co/sy2whxt0k5', '#navy', 'http://t.co/74yfqxvak0', 'http://t.co/kxrehvt6hl', 'http://t.co/msgnndxoek', 'tita-dom', 'http://t.co/tdeqwm8zxn', 'http://t.co/bgerljamte', '#ca', '#ut', '#co', '#or', 'http://t.co/spuhuvgasy', '#vaxshill', 'http://t.co/kestuuyc4t', 'http://t.co/pzfbb1p1mj', 'http://t.co/njqv45nds2', 'http://t.co/ydjpoph1dw', '#kurds', '#diyala', 'http://t.co/4izfdyc3cg', 'http://t.co/q6oxzq45ve', '@cdcgov', 'live-action', 'http://t.co/kabk3tcjnl', '@forbes', 'photo-op', 'http://t.co/epex4axg4b', 'http://t.co/etswuod3om', 'http://t.co/qgum9xheos', 'https://t.co/yl67dkf4tb', 'http://t.co/98o2kc3a1z', 'http://t.co/tgdonttkty', 'http://t.co/43sxg9z6xh', 'x-ray', '@leedsrouge', 'http://t.co/0wratka2jl', 'drought-fueled', 'http://t.co/rkdzb0tgc3', 'https://t.co/xzvmzqus0x', 'http://t.co/xomi4zqzgp', 'http://t.co/0m1tw3datd', '@mariomaraczi', 'http://t.co/v1sfllowgh', 'little-death', '@atgrannyshouse', '@toocodtodd', '@wyattb23', '@jolly_jinu', '#babri', '#fierce', 'http://t.co/kefxtjtakb', '@soundcloud', '#byebyesoundcloud', '#kurokobot', 'https://t.co/rfvjh58ef2', 'http://t.co/sj57boksib', '@seanpeconi', '@jason_floyd', '@lynchonsports', '@criscyborg', '@abcnews', 'de-railing', 'http://t.co/ixiybap8qa', 'http://t.co/zepzqydby4', 'oklahoma-ok', 'http://t.co/cirtvml9vp', '#comdev', '#asia', '#programs', '#komen', 'http://t.co/iovr4ymlkp', '@uabstephenlong', '@courtlizcamp', 'http://t.co/nbizatlsmv', 'http://t.co/u7bbenxwyk', 'http://t.co/kg5plkedhr', 'http://t.co/qeihvn3dnq', 'http://t.co/jmbvpanxr3', '#alameda', '#coke', '@hannahkauthor', '#freeamirnow', '#freeallfour', 'http://t.co/gwnlhneku9', '#maps', 'http://t.co/btdjgwekqx', 'http://t.co/ai6kworbbt', '#politics', '#txlege', '#twia', 'http://t.co/qymalttvzp', '@codythompson25', '#lakeeffect', '#snowstorm', 'https://t.co/txtpx4umqh', '@gilmanrocks7', 'high-tech', 'http://t.co/1vi2rnbk2i', 'http://t.co/tdwprvb04y', 'http://t.co/hikdc1fm2f', '@lifeaintfairkid', '5/5', '#shelli', '#bb17', \"goodell's\", 'http://t.co/ucnckrnlow', '@brandonmulcahy', '@fpine', 'http://t.co/tgxutuoyhl', 'http://t.co/tmmorvxswz', 'http://t.co/lvizo9cssr', 'http://t.co/6cz3bohrd4', 'http://t.co/exznmxbinj', '@lolgop', '2.2', '#vra50', 'http://t.co/pc7s8nxj6q', 'http://t.co/9xohmmlmdy', '#wcvb', '@klarajoelsson', 'http://t.co/b2yvlmpepr', '#icd10', 'http://t.co/zmwecbwvao', \"they'd\", '@dirk_trossen', 'http://t.co/ei9x4h8thm', '@gregorysanders', '@usdot', 'https://t.co/xyiwr9jetl', \"ari's\", 'https://t.co/u8hsrtrxmm', 'http://t.co/eo2f96wxpz', 'http://t.co/3sth9lrbun', 'http://t.co/jqxm4gcqz3', '#nh1news', '#tanzania', 'http://t.co/yxtzbtvmhm', 'http://t.co/7jggqwbv6s', 'http://t.co/dydfvz7amj', '@gofundme', 'http://t.co/fxux987vzx', '@vannuyscouncil', 'http://t.co/nxttd9nrux', 'http://t.co/irqj3zkcuz', '0.6', '01:26', '18:26', 'http://t.co/3bwwnlsxhb', '#enolagay', 'http://t.co/jb25fhke6q', '#allover', 'https://t.co/lw2fglrgxb', 'http://t.co/hmrt98oydj', 'http://t.co/tdaktglu5p', '@imawesome7986', 'http://t.co/mrvxbzywd4', 'http://t.co/lxmdiseucn', '#yug', '@_itzsteven', '@xdojjjj', '@whopper_jr_760', 'http://t.co/i2hhviumtm', '@ou_wbball', '@alexjacobsonpfs', 'http://t.co/nyty7fcqo6', 'http://t.co/hyypspn0yq', 'co.down', '@johndcgow', \"xi'an\", '@yahoonewsdigest', 'http://t.co/drvm8isote', 'http://t.co/ub1jzskmrc', \"jupiter's\", 'http://t.co/i5k3vjicmg', 'http://t.co/cizjafnm4e', '#gladiator', 'http://t.co/2y5morpugt', 'http://t.co/wezjqc4cf2', '#plannedparenthood', 'http://t.co/eqdm2opybg', 'http://t.co/1i19cuov7l', '@ruddyyyyyy', '@jamiegriff97', 'http://t.co/vzgslepkkh', '@stavernise', 'http://t.co/k4h8cq7puo', '@himeruisu', '@ssssnell', '@jamienye', '#riders', '#injury', 'http://t.co/yhh7x0maio', 'http://t.co/2y9dnp5vtg', 'https://t.co/6xul6dcosh', 'http://t.co/66obqmximb', '@boyinahorsemask', '@highqualitybird', 'https://t.co/rjju70rhyu', 'http://t.co/nxkum9h7wd', 'http://t.co/akzzoe5ce6', '@hellotybeeren', 'http://t.co/cplyrewfz3', '@angel_star39', '@tinybaby', '@adultblackmale', '@mattytalks', 'http://t.co/xszicdwxq0', '@_keits', '@liva_gotta', 'sure-god', 'https://t.co/xn09mx6sxy', 'http://t.co/2oroyunym2', 'http://t.co/c9jnxz3dxc', '@texansdc', '@kylekrenek', '@zepp1978', '@frobeus_ns', '@olliebailey11', 'http://t.co/okamsczbwg', 'http://t.co/jpa6sajfe3', \"mammy's\", '@hendy_21', 'http://t.co/ii4ewe1qir', 'http://t.co/h3vusqzyqo', 'http://t.co/c1qxjweqqu', 'http://t.co/zhp0sowxry', '#childhooddefined', 'http://t.co/flqxd3q5py', '@ashghebranious', 'trans-generational', '@janiethekillr', \"how're\", '@ticklemeshawn', '@evebrigid', '#alt', '#electro', '#rock', '#comingsoon', '@j2bone', \"niall's\", '@shipsxanchors', 'http://t.co/qzlpfhpwdo', 'http://t.co/ft7orfa52y', 'http://t.co/dv4mmlso1i', 'http://t.co/nbcvbso9nm', 'http://t.co/pblvpm6c27', '@wesleylowery', 'http://t.co/xe0ee1fzfh', 'http://t.co/ukqybhxmqi', 'http://t.co/idws2zgysa', '#content', '#policy', 'http://t.co/ehgtzhkan4', 'http://t.co/cqlm9jojop', '@robertharding', '@repjohnkatko', 'http://t.co/exil1bkzmp', 'http://t.co/ehomn68ojb', '@djjohnblaze', '@legacyofthesith', '@sagacioussaber', '@lordofbetrayal', 'http://t.co/kaccpk85wf', 'http://t.co/nnixodhigc', 'http://t.co/tb8gzembxu', 'portoviejo-manabi-ecuador', 'https://t.co/vcv73buacz', 'http://t.co/geqkdao4cv', 'http://t.co/dg0bgzecgm', 'http://t.co/dbaujp29ub', 'http://t.co/onpnbx0zex', 'http://t.co/um5icn5et2', \"#appy's\", '@salon', 'http://t.co/dlp8kpkt2k', '@kombatfans33', 'https://t.co/umajwsnluf', 'http://t.co/4hcywrwn6l', 'http://t.co/2twxz6vxbx', '@_asianshawtyy', '@dramaa_llama', 'http://t.co/gthddzavhg', '#losangelestimes', '#latimes', 'http://t.co/ms8e8mnddb', '@thedailybeast', 'http://t.co/tls40nqipn', '@todayngr', 'http://t.co/6f9afql6wp', 'http://t.co/dyy7ml2nzj', 'http://t.co/p85nwcmkqu', '@bbcintroducing', '@purpleturtlerdg', '@giantgiantsound', 'https://t.co/ofan6dkoez', '#rdg', '@jasalhad', '@brianboru67', '@jimskiv92', '@hijinks1967', 'http://t.co/48tpnmbjvg', '@god', '@symbolicjensen', 'http://t.co/ccvcte3lcw', '@martynwaites', 'well-known', \"valentine's\", 'oompah-period', '@yourboy_shawn', '#stretcher', 'http://t.co/fhvokmphed', \"salvador's\", 'http://t.co/pz56zjssft', '@kellkane', 'http://t.co/pq3ipugkuy', '#entrepreneur', '#management', '#leadership', '#smallbiz', '#startup', 'http://t.co/zt5ofbiwtd', '@blizzard_gamin', '@badastronomer', 'nuclear-biological-chemical', 'http://t.co/ul5xdblmbk', 'http://t.co/vjhpvlnbaw', 'http://t.co/mxz7yx8ld1', '@shekhargupta', '@mihirssharma', 'ads.it', '#royals', 'http://t.co/emtwirknyq', 'http://t.co/m9k08oazve', '29/20', 'http://t.co/ra2majpkq2', 'http://t.co/y7ghhyk05b', 'http://t.co/0ymf6txfch', 'http://t.co/3i3d2ngent', '@jamaicaobserver', '@cnewslive', 'https://t.co/jyiekeo2he', '@tradcatknight', '#masterchef', 'http://t.co/mfkqyxd8xg', 'heart-warming', 'http://t.co/hhpvpael4n', 'http://t.co/o7yyjlukfj', 'http://t.co/rjcaxjp4os', 'http://t.co/pq0d7mh3qr', \"city's\", 'http://t.co/hlyhdfwsqb', 'http://t.co/gwsnbmmcqf', 'http://t.co/a6ro9bmxcy', '#jonathanferrell', '@phiddleface', 'half-naked', \"legionnaire's\", 'http://t.co/cxi82rfifs', \"r'lyeh\", '@emily4everever', \"huebel's\", 'http://t.co/flsa8mldsn', 'guo-qiang', 'http://t.co/orovzfsku2', 'https://t.co/gvm70u2bpm', 'http://www.amazon.com/dp/b00hr', 'http://t.co/arzemsr7fq', 'http://t.co/a6wmbnr51s', 'http://t.co/8xixbspot8', 'http://t.co/nhxse3rthx', 'http://t.co/o1enhjrkjd', 'http://t.co/q5qcoao8jp', '#choosegod', '#restoringpaths', 'http://t.co/wmutcdg36b', 'http://t.co/rffpqbaz2f', '#missionhills', 'http://t.co/z5grlrey6v', 'http://t.co/bnwygx6luh', 'https://t.co/olnfzb86zb', 'http://t.co/m1xykecrzr', 'http://t.co/0mnpcer9no', 'http://t.co/rb2s0jmlej', 'http://t.co/9asc1hhfnj', 'http://t.co/skvnmtzgeg', 'http://t.co/3snyoohseq', '#nazis', 'http://t.co/blaawhysct', 'http://t.co/ddr0zjxvqn', 'http://t.co/ogxsy4gwd1', 'http://t.co/bxgnq57xvb', 'http://t.co/car5qeuvhh', 'http://t.co/lrtu8rwn2f', '@jannet2208', '/:', '#la', 'http://t.co/5uecmcv2pk', 'http://t.co/piveupirky', '@chubychux', 'http://t.co/71vdjhjnwv', '#islamic', '#state', '#brochure', '#bomb', 'http://t.co/kkdx8zmv4g', 'http://t.co/11dvqjvxpo', 'http://t.co/lr4btvueom', '@cinla1964', '@windowgatribble', \"england's\", 'http://t.co/urjwsvr311', 'http://t.co/7jfreteii4', '@dwilliams313', '@ieansquad', 'http://t.co/nu6wrp716d', 'http://t.co/dofrh5yb01', '#archipelagowolves', '#extinction', '#standforwolves', 'http://t.co/hbwoivjqkd', '@ymcglaun', 'http://t.co/i7kztevb2v', 'http://t.co/mssq0svnbm', 'http://t.co/6siirlnv6z', 'http://t.co/5cm0lfzhxn', '#jakartapost', 'http://t.co/fqj0squ3lg', 'http://t.co/c6lgtotvsf', 'hijacker-turned-sat-tutor', 'http://t.co/csxvwxuz6t', '@slate', '@malistkiss', 'http://t.co/m5sbfrrsn7', 'http://t.co/yvo6q6w442', 'stretcher-bearers', 'http://t.co/yerct4j244', '#idfire', 'http://t.co/uorxff0nfx', 'http://t.co/rjopjkbydr', 'http://t.co/nufdgw9yev', 'http://t.co/2okscwyohc', '@charlieputh', 'http://t.co/zahnewjri8', '#homeimprovement', 'http://t.co/kx8cu4s8t1', '@godof_mischief_', \"loki's\", \"mina's\", \"nathan's\", \"where's\", 'http://t.co/imullbvued', '@justin_ling', '@brandonskeie', '@samsmithworld', 'http://t.co/yetagc2d8a', 'http://t.co/zagbmlsf4h', 'http://t.co/hvyxehxbmq', 'http://t.co/zkgqspwyj3', 'http://t.co/3vfkedgrso', 'http://t.co/6m0ynjwbc9', '@devpeace', 'http://t.co/jwxrx1lsqo', 'http://t.co/sdgoutwntb', 'http://t.co/bmwmpoydig', \"west's\", 'https://t.co/dvieablofz', '#icymi', '#annoucement', 'http://t.co/7bevuje5ep', 'http://t.co/pu7c4hhbxj', 'http://t.co/r4wgxra59m', 'http://t.co/4rtpjrhsqe', 'http://t.co/6x0xhlbxji', '@_301dc', '@cloudy_goldrush', 'http://t.co/qvlxpyyycd', 'http://t.co/um3wtl5r7k', '#arts', 'http://t.co/2lqyxzq5dn', 'http://t.co/zevan9kjzl', 'http://t.co/uuzfs1l5kt', 'http://t.co/w7siidujoh', 'http://t.co/w2ixt1k0ab', '#virus', '#infectiousdiseases', 'http://t.co/m4jdzmgjow', 'http://t.co/n0uhasfkbv', 'http://t.co/mmgsyahdzb', 'http://t.co/hqod6v6dnc', 'http://t.co/pgkbt3mbap', 'http://t.co/rp2dxfkhdq', 'https://t.co/akmihlris1', '@chaboyyhd', 'http://t.co/yr67ugesrm', 'https://t.co/sjoeing76t', 'u.s.pacific', 'http://t.co/bhsuxvq6nf', '@benkin97', '@mili_5499', '4-0', \"rebahe's\", '@zenande_mcfen', '@ndzedze', '#ashes2ashes', '@themaine', 'http://t.co/xlfi7ovhfj', 'http://t.co/raq4zpdvke', '@haley_whaley', '375.000', 'http://t.co/uhxodsc7wi', 'http://t.co/fz8ytwqkwv', '#fresno', 'http://t.co/xxkhjysn0p', 'http://t.co/jevhknjgbx', 'http://t.co/2mwc9ywjzy', 'http://t.co/v57nugmgkt', 'http://t.co/vecmsiuuh1', 'http://t.co/vlnmklwwby', 'http://t.co/p769eo49fj', '@argentings', '@cali74142290', '@casewrites', '@wmata', 'https://t.co/i2el5acrrw', 'http://t.co/grlxurko8d', '#abcnews', 'http://t.co/dobzc3pitm', 'http://t.co/4e2gjmvrvi', \"janet's\", 'https://t.co/zntg2wndmj', '@ofentse_tsie', '#insomnia', 'http://t.co/jlmicj6je5', '@hienshi', '@gbay99', '@samihonkonen', 'http://t.co/v0yrfh9dkc', \"exum's\", \"jazz's\", 'hoped-for', 'http://t.co/8pifutrb5u', '@mofanon', '@sholt87', '@mtgrotto', '@eco11c', '@carlsbadbugkil1', '12:11', '@kushwush', 'http://t.co/mvsrjd4x3d', 'http://t.co/azl4xydvzk', '#bhusa', 'http://t.co/brctmnybjy', '@gailsimone', '#iwasdisappointedby', \"telltale's\", 'http://t.co/ex4fnjjl6h', 'http://t.co/zdhwrn6czc', '@beauscoven', '@organicallyrude', '@1rockstar62', '#wish', \"safari's\", 'https://t.co/qwiihnmchr', '@adamnibloe', '@valdes1978', 'http://t.co/m2yuxnqlqy', 'http://t.co/v8gkkfmfxt', '@hashtagteaclub', '@weapon_x_music', '@darchambau', '@clnv_', 'http://t.co/xrja0xpl40', 'http://t.co/psi35au3pc', '@mailonline', '@breakingnewslh', '@bree_mars', \"cnn's\", '@roguewatson', '@nycdivorcelaw', '#morevoices', 'http://t.co/xdt4vhfn7b', 'http://t.co/6qc8whdizy', 'http://t.co/inezzaes5d', '@rawfoodbliss', 'http://t.co/dchfpxgy2m', 'http://t.co/ughptzjulk', 'http://t.co/xcgzc45gys', '@elianaraquel', 'http://t.co/k0y7xfxmxa', 'kijima_matako', 'http://t.co/lswsitnkuk', 'http://t.co/fjdm8qhyai', '#sebee', 'http://t.co/6gldwx71da', '#gop', '#disabledveterans', '#thepartyofmeanness', 'http://t.co/gztolll5wo\\x89û_', '@tellyfckngo', '@jaycootchi', \"son'd\", '@cbsbigbrother', 'old-timey', '@laurenjauregui', '@cityofhummus', '@ilnewsflash', 'http://t.co/yubkhf9iyh', 'http://t.co/us0qqqhqvj', 'http://t.co/l0b14sj7jb', '@collapsed', 'http://t.co/6craekc9wb', '@reddakushgodd', '@snapharmony', 'http://t.co/ypvvqz8jzt', '#1-1st', 'http://t.co/yejt18sbm0', 'http://t.co/rcqacn91be', 'http://t.co/e14epzhoth', 'http://t.co/22a9d5do6q', '@tammy_w1997', '@elijahmallari', '@cnni', '@prisonplanet', 'http://t.co/0szwlwl9qu', 'http://t.co/fqmyprlg9g', '@bardissimo', '4:30-', '@random_tourist', '@thatrussianman', 'http://t.co/bptzamjl2k', '@cspanwj', 'http://t.co/tni92fea3u', 'http://t.co/czbamzq3gl', 'http://t.co/jab541hhk0', 'http://t.co/je6zjwh5ub', 'http://t.co/fdxgmiwaeh', 'http://t.co/0xh758onup', '@author_mike', 'http://t.co/ccdx7cglqw', 'http://t.co/cwzhgezaj4', '@yankees', '#rolandonabeats', 'http://t.co/zk69ugxmt8', 'https://t.co/4cog0otiwn', 'http://t.co/lfbdhtgqwg', 'http://t.co/ikuggvbyei', 'http://t.co/au5jwgt0ar', 'http://t.co/yhyy3o609u', 'http://t.co/werk9qibvv', 'south-western', 'http://t.co/pmtqhivsxx', 'http://t.co/y217ceeemd', 'run-down', 'http://t.co/ucudwiu3an', '#4playthursdays', 'http://t.co/cq7jj6yjfz', 'http://t.co/y7peto0dx2', 'https://t.co/opjwunuvg8', 'http://t.co/bti8jamfiu', 'toronto-citizen', '@rinkydnk2', '@zaibatsunews', '@neoprogressive1', 'http://t.co/qfjjdxes7g', 'https://t.co/fz1haej255', '4.5', 'http://t.co/4yu5sy1cui', 'http://t.co/mzmxmyklxv', '@thelegendblue', '@cozmo23', 'http://t.co/2baxg1wdpp', '@ganseyman', '#rt_4_a_mention', '#ty', \"aia's\", 'http://t.co/ths9iqswp3', '@huffpostarts', 'jeddah_saudi', 'http://t.co/uoozxaus26', 'http://t.co/pw78nbljky', '213-924', 'http://t.co/hpzhe0cjvf', 'http://t.co/saohvjktqc', '#traitor', \"ig's\", 'http://t.co/uhl0akfvsm', '#sms', '#summer', '#crazyweather', 'http://t.co/xqbwnlbbiu', '#actionmoviestaughtus', 'https://t.co/mj8rezoxlj', 'http://t.co/ppji1tcnml', 'http://t.co/0h7oua1pns', '1998-99', '#171', 'http://t.co/uhfm1r3tq5', 'http://t.co/qulgakebhb', 'http://t.co/4virxkgmpc', '@amznfavorites', '#thriller', 'http://t.co/mw9ambgafq', '#scifi', '@georgous__', 'http://t.co/dl60ja06tw', 'http://t.co/fwup9yurzy', '@catwoman1775', 'http://t.co/g5do2x6226', 'http://t.co/tfcdronra6', 'http://t.co/45cmaqf8ns', '@tackettdc', 'http://t.co/2jr3yo55dr', 'http://t.co/p1wmkxa9d8', 'http://t.co/wwfacu6nft', '#harrybecareful', 'http://t.co/yi30zgizsw', 'http://t.co/2jgvhw7yzs', 'http://t.co/mfjxh4p51u', 'https://t.co/j4fsdpfa63', '#now', '#wdyouth', '#biblestudy', 'https://t.co/ujk0e5gbcc', '#feelingmanly', '@9newsbrisbane', '@9newsgoldcoast', 'http://t.co/kd3qsakbi5', 'http://t.co/n6rbnhmtd4', '@sinkingshipindy', '@stonebrewingco', 'http://t.co/9y0paj8sxd', 'http://t.co/oldjsowky5', 'http://t.co/vjgr6liaxh', 'http://t.co/55jr66plov', 'http://t.co/k2bzuatuks', 'http://t.co/fcqmkffflw', 'http://t.co/vayaymbngu', '#setting4success', '#smallbusiness', 'http://t.co/gam7otgisw', \"sun's\", 'http://t.co/hrqcjdovjz', '@startide', '21:1023', 'http://t.co/v8aftd9zez', '@deniseromano', '1.5', 'http://t.co/ghmmuj7gbe', 'http://t.co/u9lvvlzhye', 'http://t.co/lyj57pq3yx', '#bishopfred', '#beconfident', 'http://t.co/5b7qt2yxda', '@dylanmcclure55', 'http://t.co/zw5jp46v5k\\x89û\\x9d', \"daniel's\", 'http://t.co/wox3vprixq', '#baking', '#cakes', '#kenya', '#langata', '2:22', 'http://t.co/rln09wke9g', '@assassinkpg', 'friendship-you', \"mineral's\", 'http://t.co/tezltqeyw2', '@devon_breneman', '@vixmeldrew', 'http://t.co/u52rw9ji2r', 'http://t.co/gx75w3q9ye', 'http://t.co/muf5czqjrl', 'http://t.co/sslt8esmhy', 'http://t.co/20dncthr4d', 're-occur', 'http://t.co/uilpg8i1ev', 'http://t.co/m9pxto2kww', '@_dangdaddy', 'http://t.co/qaqqrjv9gu', '#sr14', 'http://t.co/qposkp3mwj', '#liveonk2', 'http://t.co/mtqjsvupwy', 'http://t.co/sequwmvfx4', 'http://t.co/qrhjei7grq', '#warcraft', '@crimsonfuckingv', '@bitchl0vecannon', 'http://t.co/fz5ew4ihmb', '#thedoolinggroup', 'http://t.co/yqhfio9xqm', '@malabamiandsons', 'http://t.co/jqso4fyzp4', 'http://t.co/f4xnplio5s', 'http://t.co/lspnycvolo', 'http://t.co/nh5pkfbfqm', '#republicans', 'http://t.co/vz640xoswj', 'http://t.co/m2hpnoak8b', '@nicolaclements4', '208-267-6773', 'http://t.co/ezeisasm0c', '@epcotexplorer', 'http://t.co/tzyhdbw9f5', 'http://t.co/9nly2tovud', '@eyecuts', '@erasuterism', 'http://t.co/4ssuyhkgrb', 'http://t.co/tderbtgz2k', 'http://t.co/eu8jypizsd', 'http://t.co/v5ogr3f5n9', '#nopower', 'http://t.co/pa5sslefec', '@offtrackhorse', 'http://t.co/6ffylajwps', 'http://t.co/uyyyrkd6q3', '#nffc', \"#don'tpanic\", '279.00', 'http://t.co/ftm4rkl8mn', '@eeenice221', '@swayoung01', '#droughtmonitor', 'http://t.co/ybe9jqoznr', 'http://t.co/328szfletz', 'http://t.co/czwjw4uv7i', '@dustpiggies', '@flowri', '@rangerkaitimay', '#yiayplan', 'http://t.co/kfbjvjivqb', 'http://t.co/bn7xpzqdm0', 'http://t.co/kpqk0c4g0m', 'http://t.co/xwn7rgvkzc', 'http://t.co/swpdq84boi', \"best's\", 'http://t.co/mvrsyu2ppk', \"doe's\", 'http://t.co/njrjxqbjr4', '#q99', 'http://t.co/724gq5ebqz', 'http://t.co/h01j9pirie', '@madonnamking', '#biztip', 'http://t.co/b231ul1o1k', '@lavapixcom', '#hurricane', '#meteoearth', 'http://t.co/mfckpvzfv8', 'http://t.co/lgrocbxpqo', 'http://t.co/sjh0hsrp4s', '@mattcohen4fake', 'http://t.co/dywwnbbyvj', 'http://t.co/pe2d3hcsni', '#kotaweather', 'http://t.co/1epiyenqyl', 'http://t.co/3enyndxppm', 'https://t.co/gqpi7jmkan', '@sharethis', '@scottdpierce', '@billharris_tv', '@harrisgle', '@beezersun', 'http://t.co/oz1ds3xu0d', '#tripoli', 'http://t.co/lcnw4ead8v', \"soudelor's\", 'http://t.co/yvafi3zujx', 'mil-c', '5/16', 'http://t.co/eejrmktj0r', 'bite-related', 'http://t.co/yopeypjkb2', '@meyerbjoern', '@thelonevirologi', '@mackayim', 'http://t.co/h09nydbzov', 'http://t.co/gaotrg4mtr', '@whippenz', 'http://t.co/pspm3ahgkq', '@markoturner', '@annaciclismo', 'http://t.co/5kfovovjso', 'http://t.co/vhrlswvzql', '@coach_keith44', '@hannomottola', '@trpreston01', '@mlrydalch', 'http://t.co/n3ow73oasw', 'http://t.co/gs9bmplbhh', 'http://t.co/dunmvj7itl', 'http://t.co/rgdrjv63hf', '-4-15', 'http://t.co/17egmlni80', '08:00', 'http://t.co/nz7ackrrji', '#tnwx', 'http://t.co/xyxtuaczvb', 'http://t.co/tytpbc4gwi', 'http://t.co/qhwe5k7xuw', '@nigeltanner1', '#skh', '@5sos', '@ashton5sos', '@luke5sos', 'http://t.co/zsnsar1tw1', 'http://t.co/lsmx2vwr3j', 'http://t.co/6nqru2q5tz', '08/05', '19:36', '-27.499212', '153.0110', '@marcoarment', 'http://t.co/jszzqst3xs', 'http://t.co/paug7a68i0', 'http://t.co/alumrgl40e', 'http://t.co/8h2kctfb8i', 'http://t.co/5ng0fzpvds', '#desolation', '#theconspiracytheory', '#newep', 'http://t.co/ytkxwpyihg', 'http://t.co/jzgxwrgfqg', 'http://t.co/4m5uheyfdo', '#phantrash', '#snapchatselfie', '#wrongperson', 'http://t.co/qyccvuubkr', '@emmychappy', \"o'clock\", 'http://t.co/byj5dfa2rv', 'http://t.co/pwwpum6rbj', 'http://t.co/yspon4d6qo', '@dw_english', 'http://t.co/cubc0nq6fd', '#ufo4ublogeurope', 'http://t.co/1pxpoqktjo', 'http://t.co/cbps1gskvo', '@guy_reginald', 'http://t.co/7aze4iogme', '#sustainable', '#literarycakes', 'http://t.co/x5yeuylt1x', 'http://t.co/2ugrmd1z1n', 'http://t.co/ap9jbrpmqg', 'http://t.co/q9lxo4qkji', 'http://t.co/mmklapx2ok', 'http://t.co/x5xumtoeke', 'http://t.co/ybyp68ievn', '#bhramabull', 'http://t.co/ld5p1sia2n', 'http://t.co/gid6jqn8ug', 'http://t.co/aetgbxm1pl', \"jesus's\", 'http://t.co/osjurfddkt', '@sarahksilverman', 'http://t.co/bgaj2oax1p', 'http://t.co/45twhj0l6m', 'http://t.co/vbffodtp6m', '#seaworld', '#opseaworld', 'http://t.co/mzk5ujlfcv', 'http://t.co/ub3woz2ut1', 'http://t.co/0yl3yt4ylh', '#drained', 'zboyer@washingtontimes.com', '@hronlinetweets', '@fedporn', 'http://t.co/arkmc7vcln', 'truths-of', \"hyuk's\", '@joonma_', 'live-streaming', 'ah-mazing', 'http://t.co/ficd5qbqwl', 'https://t.co/pqslug4jk5', 'mo.city', '@beautiful_juic1', 'santanico-pandemonium', 'http://t.co/pvkgo79jni', '3-5', 'one-man', '#shakeology', 'https://t.co/apod4eivba', 'http://t.co/nu0d3uannz', '@funkylilshack', '@mariaf30', 'https://t.co/nljvp3vfyz', '#fiya', 'http://t.co/ttb9oil8r2', '#topstories', 'http://t.co/jk7npdpwro', '#babies', 'https://t.co/6xysdn2xz0', 'https://t.co/mjbiuvbmo6', 'http://t.co/i5cdtd8ftj', 'http://t.co/algtcn8baf', 'http://t.co/bz07c9wthx', '@ijournal', '#asae15', 'http://t.co/r8ceprqxle', '#assnchat', '@petereallen', '@huffpostuk', '@bbc5live', \"florida's\", 'http://t.co/fp64yosjwx', '#st', '#illinois', 'https://t.co/rd10ex6hvt', '#hazmat', 'http://t.co/87efcbiczm', 'http://t.co/k8bexkgwr2', 'http://t.co/uqva3dfbca', 'http://t.co/1yixfg1hdy', 'http://t.co/igz7v24ge9', 'http://t.co/m75dnf2xyg', 'http://t.co/ixfne5jlep', 'http://t.co/pztbqimpuw', '@eileenmfl', 'sensor-knock', 'http://t.co/lmrkgporcf', 'http://t.co/6wadnmstov', '#keepthefaith', 'https://t.co/uplfsqmr0c', '@leonalewis', \"#she's\", '#back', 'http://t.co/t5agps7t2b', '12:32', 'treasure-house', 'take-home', 'http://t.co/zdpa4dbtsu', '@dmassa5', 'https://t.co/2liwkjybe9', '#norge2040', '@seattledot', '@seattletimes', 'http://t.co/ldgwsyowss', 'http://t.co/cnyvvy4wat', '@madisonpa_', '@wrongdejavu', 'http://t.co/iuh718kcy0', 'http://t.co/9pqyx4xool', 'http://t.co/0fs9ksv5xk', 'http://t.co/in8lys7v5l', 'http://t.co/hmrtqeykyi', 'https://t.co/rbbnjkoqud', \"#ge's\", '#robot', 'http://t.co/hrc3oxquik', 'http://t.co/wnptvbm5t7', '[8', 'http://t.co/yxvmiflvc4', 'http://t.co/3ife1zsop7', 'https://t.co/budmke3nnf', '#decisionsondecisions', '@aiginsurance', '#results', 'http://t.co/2y2wzk1frm', 'http://t.co/pc8bvuflfj', 'http://t.co/em5opytbpg', '@medic914', '@aace_org', '@nervana_1', '@astros', '@eggalie', '#varagesale', '@candace_dx', 'http://t.co/7nagdsadwp', '#windstorm', 'http://t.co/oskfyj8ck7', '#besafe', 'http://t.co/u3wao8asfg', 'http://t.co/hc6hzs4wsi', 'http://t.co/0keh2treny', '#arkansas', '#nola', '#funnynews', 'http://t.co/lci3pljx25', 'http://t.co/e2dbcpwd9u', 'http://t.co/pnaqxprweg', '@parksboardfacts', '#zippoline', '#moveit', '#visionzero', 'https://t.co/cavb7pgepv', 'usatoday_nfl', 'http://t.co/dgkmueoaxz', 'http://t.co/cgfzk8ha1r', '#borderlands', '#borderlands2', '#oocvg', '#ftw', 'http://t.co/qp6q8rs8on', 'https://t.co/owpd7vcfs6', 'http://t.co/prontouo91', 'https://t.co/sek6mq6njf', '@johngreen', '@robthier_en', 'http://t.co/frpbnhvpyi', '@ik4len', '#littlewomenla', 'http://t.co/7k5shaiqiw', 'http://t.co/sgecnkfthu', '@minhazmerchant', 'http://t.co/etitgpsrun', '@vinustrip', 'http://t.co/ej2ghnafhy', '9:35', '#retweet', 'http://t.co/wvvgmeja7l', '#ojoubot', '@untmdoutdoors', '#real', '158-0853', 'http://t.co/odmx36wdhm', 'http://t.co/gaheujruju', '@dyannbridges', '@yeshayad', 'https://t.co/ipgmf4ttdx', 'http://t.co/rqu5ub8plf', '@slosheriff', 'http://t.co/av2jsjfftc', 'http://t.co/zdtcw9fsx1', '@salmanmydarling', 'http://t.co/f5miuhqaby', 'http://t.co/imhfdaowrd', 'http://t.co/4ftzjk94dt', 'http://t.co/imawvmzs3a', '#movietheatre', 'wanna-be', '#615', 'http://t.co/jrgj17oamt', 'http://t.co/75vlsw85gi', 'http://t.co/txy3us2ejs', 'http://t.co/3u6mdlk7di', '@anthxvy', '#christians', '#cufi', 'https://t.co/4arwwrzpsr', 'http://t.co/mkjq9yfmp8', 'http://t.co/uvaojzcycz', '#loseit', 'http://t.co/ykuauov9jo', 'http://t.co/puxbc2loyk', 'http://t.co/lwlexxjus8', 'http://t.co/nux5xfpv2d', 'http://t.co/lgpne5hkao', 'http://t.co/afssgpnzwi', '#ootd', '#doubleghats', 'http://t.co/jsuhupz6vp', 'http://t.co/n5vrffrbo3', '@hellfire_ev', '@jackperu1', '@tennoatax', '@uchicago', 'http://t.co/ta1yqclpsc', 'http://t.co/xtohi1hexy', 'catastrophic-fallen-angel', 'http://t.co/diobzghfju', \"fine'-me\", '828/704', 'http://t.co/hld5xlywbn', 'http://t.co/7l9qazljvg', 'http://t.co/q0hsyfrwec', 'http://t.co/nosvu0zx4x', 'http://t.co/5mjzjnkpfn', 'https://t.co/3hoikdmocb', 'http://t.co/stw3pg3t0o', 'https://t.co/pqhq4jnztt', 'https://t.co/fx0w2sq05f', '@careemergencies', 'http://t.co/cdxe5vmzoj', 'http://t.co/lxjjgyv86a', 'https://t.co/u9x3perxco', '@beyonce', '@nicolekidman', '@oprah', '#pixelsmovie', 'http://t.co/lvbuw01yoh', 'http://t.co/enrpgrgtts', 'http://t.co/pg4y3i5ciu', '#cc', '@groupon_uk', 'patra-greece', 'http://t.co/tydxauuenq', '@i_amtalia', '@sgc72', '@uber', '#nonprofit', 'http://t.co/h1xch54kd3', 'happy-hour', 'http://t.co/4jno677zkv', '@silent0siris', 'http://t.co/t4axz7kc3s', 'http://t.co/gan14pw9tg', 'http://t.co/5n4husewly', 'texas-usa', 'http://t.co/mmiye1k8zz', 'http://t.co/fblnifda1c', '@karijobe', '@codycarnes', '@ag_usa', 'http://t.co/nf46paytvw', 'http://t.co/67tjn9egyk', 'http://t.co/gyh00mrkjm', 'http://t.co/hxtupra5bc', 'http://t.co/dqxkjibbky', 'http://t.co/3ln8trhw6x', '@hgf52611', '#redsox', '3.1', 'http://t.co/a3dsmbqkwu', 'http://t.co/gghfx8pzmh', '@nasasolarsystem', 'http://t.co/2lbtshxi3c', 'http://t.co/0jmkdtcymj', 'http://t.co/4oa6swlxmr', '#paramedics', '#ambulance', 'https://t.co/zwvyisyp2b', 'http://t.co/8c3fploxcr', 'http://t.co/cbgz9xun2k', '#luck', 'http://t.co/zildpvknxp', 'http://t.co/5ydb4s13pf', '#kardashianempire', '@carajdeievingnc', 'http://t.co/oyogii97yh', '@jasminehuerta24', 'http://t.co/etyzy8gb2a', 'http://t.co/erws6ieldg', '43.631838', '-79.55807', 'http://t.co/vku3rtoz1j', '#trc', '@torontorc', '@thehammers_', '@tonycottee1986', 'http://t.co/lsqe7nu6kl', 'http://t.co/dn5buo7gsk', 'http://t.co/bgytmqj3oo', 'http://t.co/rm6cnzkszl', 'pro-democracy', '@nypdnews', 'http://t.co/ihhrkg4v1s', 'http://t.co/aryu5qngjj', '#bbshelli', '@engineshed', 'http://t.co/omnbatjeao', 'http://t.co/auezxza5ak', 'http://t.co/b0zwi0qptu', '#catfish', 'pratt-on-wye', 'http://t.co/mesgcngaz0', '@onfireanders', '@_dmerida', '@emergencymgtmag', 'http://t.co/7zlsumiess', 'http://t.co/tdcch01n7q', 'http://t.co/yg32yb2jdy', 'http://t.co/ex6jzqj3ni', 'http://t.co/swvuzxi6gt', 'http://t.co/xrp0rtkffj', '#volleyball', 'http://t.co/dcdecfv934', 'http://t.co/dwbc1duvdk', 'http://t.co/babmf0w2yw', '@eganator2000', 'http://t.co/gjbainqwn9', 'http://t.co/jphgpl1c5x', 'http://t.co/rqkk15uhey', 'http://t.co/easlgea1b7']\n",
            "Hashtags:         ['#goblue', '#wrestleon', '#mlb', '#bcpoli', '#canpoli', '#vanpoli', '#shoes', '#tweetlikeitsseptember11th2001', '#tomclancy', '#hannaph', '#news', '#bbc', '#cnn', '#islam', '#truth', '#god', '#isis', '#terrorism', '#quran', '#lies', '#dream', '#magic', '#linden', '#', '#client', '#til_now', '#cnbc', '#disaster', '#gbbo', '#mudslide', '#solar', '#japanese', '#fukushima', '#childhood', '#trauma', '#newyork', '#paramedic', '#ems', '#world', '#momneedscoffee', '#asap', '#iwontmakeit', '#allah', '#wealth', '#forever', '#hellfire', '#reflect', '#kindle', '#heartdisease', '#sandrabland', '#hungerarticles', '#kashmir', '#kashmirconflict', '#abstorm', '#yyc', '#hail', '#hailstorm', '#haildamage', '#yycweather', '#calgary', '#captureyyc', '#alberta', '#sto', '#pieceofme', '#theatershooting', '#technology', '#cool', '#tech', '#copalibertadores', '#notgoingoutinthat', '#tampa', '#robertcalifornia', '#thereisonlysex', '#stlouis', '#caraccidentlawyer', '#takecare', '#history', '#love', '#writingtips', '#finsup', '#wattys2015', '#wattpad', '#teenfiction', '#worldnews', '#japan', '#handbag', '#fashion', '#style', '#9973', '#gabon', '#somalia', '#nativehuman', '#myreligion', '#weddings', '#otrakansascity', '#emmerdale', '#harleychick', '#pjnt', '#runbenrun', '#animalrescue', '#loveyouuuu', '#aintsheperty', '#hot', '#prebreak', '#best', '#ptsdchat', '#strategicpatience', '#genocide', '#boxing', '#gunsense', '#shipping', '#logistics', '#doping', '#latestnews', '#russia', '#windows10', '#gamergate', '#aoms', '#ibooklove', '#bookboost', '#thanku', '#writing', '#034', '#makewaterwork', '#westerncanadadrought', '#topnews', '#pathogen', '#bioterrorism', '#infectious', '#ebola', '#amazon', '#foot', '#adjust', '#shape', '#shoe', '#raining', '#flooding', '#florida', '#tampabay', '#date', '#soundcloud', '#auspol', '#wildfire', '#radiation', '#emergency', '#procedures', '#06', '#24', '#09', '#insubcontinent', '#round2', '#yycstorm', '#hwy401', '#cambridge', '#opp', '#summerfate', '#nowplaying', '#drum', '#heavy', '#nasty', '#amssummer', '#humble', '#nb', '#robotcoingame', '#bitcoin', '#freebitcoin', '#india', '#farrakhan', '#quote', '#beyhive', '#pantherattack', '#frontpage', '#bioterror', '#rickperry', '#bluejays', '#thomassmonson', '#lds', '#mormon', '#uswarcrimes', '#business', '#scichat', '#science', '#hostages', '#libya', '#africa', '#ap', '#ts', '#nri', '#trs', '#tdp', '#bjp', '#rossbarton', '#mta', '#sorrybutitstrue', '#listen', '#live', '#copped', '#kneelbot', '#360wisenews', '#earthquake', '#iphone', '#tattoo', '#cubstalk', '#manchester', '#cowboys', '#shooting', '#police', '#aerospace', '#exec', '#b2b', '#b2bagency', '#contentmarketing', '#hitting', '#load', '#photo', '#montgomery', '#arwx', '#debatequestionswewanttohear', \"#greece's\", '#bailout', '#everydaynaija', '#course', '#bombed', '#pbban', '#personalinjury', '#solicitor', '#otleyhour', '#lwb', '#eyewitness', '#uk', '#ugc', '#international', '#drjustinmazur', '#squad', '#revitup', '#pizzarev', '#savebees', '#gravitychat', '#irandeal', '#southampton', '#sun', '#earth', '#np', '#snowden', '#orchardalley', '#les', '#nyc', '#gardens', '#tvjnews', '#ihave44episodesofgg', '#nojoke', '#tna', '#destinationimpact', '#growingupincolorado', '#pets', '#dogs', '#animals', '#puppy', '#okwx', '#plague', '#health', '#publichealth', '#629', '#bookmobile', '#libraries', '#reading', '#flood', '#hiroshima', '#refugees', '#forbes', '#europe', '#ramag', '#models', '#mayhem', '#roimentor', '#yycwalks', '#osi2016', '#wisdomwed', '#lifehacks', '#vivaargentina', '#ocnj', '#reggaeboyz', '#listenlive', '#art', '#michelebachman', '#globalwarming', '#semasirtalks', '#butgod', '#pt', '#trucking', '#remymarcel', '#frofrofro', '#smartnews', '#oklahoma', '#thunder', '#nba', '#durant', '#sirmixalot', '#bluebell', '#nashvilletraffic', '#vancouver', '#drought', '#deadgrassandflowers', '#wildfires', '#hs2', '#security', '#msgdoing111welfareworks', '#goodbye', '#mtvsummerstar', '#videoveranomtv', '#mtvhottest', '#pandemonium', '#vail', '#boy', '#mix', '#preparedness', '#weather', '#cawx', '#peritoengrafoscopia', '#stormchase', '#protectdenaliwolves', '#tookitlikeaman', '#lovemydentist', '#sore', '#nwo', '#syria', '#wmata', '#kisii', '#countynews', '#video', '#twisterlovesshania', '#legionstrackandfield', '#nfl', '#playoffs', '#wolves', '#savedenaliwolves', '#anchorage', '#jobs', '#welovela', '#nhlducks', '#sportsroadhouse', '#wrecked', '#hunwx', '#directioners', '#filipino', '#eventspalmbeach', '#military', '#veterans', '#environment', '#win', '#bbloggers', '#wcw', '#cochrane', '#tory', '#truelove', '#romance', '#voodoo', '#seduction', '#astrology', '#rtrrt', '#lotz', '#apocalypse', '#armageddon', '#1008pla', '#lgbt', '#nashsnewvideo', '#catfishmtv', '#oil', '#investing', '#money', '#trading', '#forex', '#gold', '#silver', '#global', '#ayekoradio', '#radio', '#netlabel', '#electronicmusic', '#ccmusic', '#wildhorses', '#sbnation', '#flames', '#yugvani', '#nomorehandouts', '#tms7', '#palestine', '#check', '#follow', '#reno', '#landslide', '#body', '#shop', '#man', '#airport', '#airplane', '#aircraft', '#aeroplane', '#runway', '#accident', '#freaky', '#onthisday', '#zionist', '#terrorist', '#palestinians', '#ns', '#weloveyoulouis', '#raheelsharif', \"#westgeorgia'18\", '#prophetmuhammad', '#wod', '#columbus', '#fitness', '#homosexuality', '#benews', '#mets', '#denver', '#billings', '#rapidcity', '#seattle', '#cheyenne', '#losdelsonido', '#ivanberroa', '#golf', '#faroe', '#dcubecrafts', '#greetingcards', '#rn', '#henderson', '#truckcrash', '#fortworth', '#subs', '#washingtonpost', '#megaquake', '#fartanxiety', '#nagasaki', '#otd', '#dubstep', '#trapmusic', '#dnb', '#edm', '#dance', '#ices', '#eonlinechat', '#wx', '#sinkhole', '#avalanche', '#usa', '#france', '#usgs', '#emsc', '#otrametlife', '#indiatv', '#nlccollide', '#routecomplex', '#5sosfam', '#roh3', '#jfb', '#tfb', '#alrasyid448iturasya', '#us', '#roh3smantibatam', '#king', '#deluge', '#dumuzid', '#kerricktrial', '#twcnewsclt', '#philippines', '#northerncalifornia', '#zippednews', '#teamsurvivors', '#zombiefunrun2014', '#chelsea', '#hazard', '#obliteration', '#suryaray', '#skyrim', '#tn', '#cricket', '#baltimore', '#rioting', '#yahistorical', '#undergroundrailraod', '#wxky', '#arrestpastornganga', '#gemma', '#bowe', '#speakingfromexperience', '#alllivesmatter', '#muhamadjabal', '#bannukes', '#trees', '#deep', '#lake', '#forest', '#shoalstraffic', '#gadget', '#pbs', '#iraq', '#usar2015', '#usar15', '#ruor', '#followme', '#gif', '#funny', '#lol', '#comedy', '#ifunny', '#image', '#rt', '#usmnt', '#tigers', '#china', '#saveti', '#priceless', '#hopeinchrist', '#newyear', '#preppers', '#doomsday', '#shtf', '#preppertalk', '#survival', '#2a', '#prepper', '#palmoil', '#indonesia', '#metal', '#17', '#homealone2', '#film4', '#muppet', '#yagitudeh', '#socialnews', '#hiring', '#nursing', '#job', '#funnydadcoach', '#worm', '#socal', '#realhiphop', '#olympia', '#afc', '#deai', '#chemical', '#dependency', '#fifa16', '#whocares', '#queens', '#fanarmyfaceoff', '#bbsnews', '#israel', '#qew', '#niagara', '#crush', '#nws', '#thunderstorm', '#ar', '#nc', '#ok', '#jsunnews', '#family', '#cleveland', '#standup', '#afterhaiyan', '#haiyan', '#yolandaph', '#livelihood', '#disasterrecovery', '#bestnaijamade', '#ww3', '#demonization', '#spain', '#fn', '#allthekidneybeansandsorbet4misha', '#yes', '#7newsadl', '#life', '#thegame', '#childsexabuse', '#mainstage', '#sacramento', '#skardu', '#obama', '#iran', '#nuclear', '#irannucleardeal', '#freesikhpoliticalprisnors', '#metro', '#englewood', '#borrowers', '#interest', '#catastrophe', '#bangalore', '#startups', '#in', '#perrychat', '#uknews', '#onlinecommunities', '#reddit', '#mandela', '#troubleonmymind', '#flashflood', '#pakistan', '#365disasters', '#fairie', '#iartg', '#rwa', '#tw4rw', '#rrbc', '#lancaster', '#uglypeople', '#dead', '#firenews', '#wa', '#kca', '#votejkt48id', '#140', '#benediction', '#sanelesstheory', '#premonitions', '#summer2k15', '#download', '#watch', '#movie', '#sm', '#jonvoyage', '#holomua', '#udhampur', '#elderly', '#companionship', '#care', '#chester', '#glaucoma', '#eye', '#eyefacts', '#iwk', '#quake', '#ashes2015', '#engvaus', '#riot', '#blowmandyup', '#myanmar', '#rohingya', '#sittwe', '#prison', '#media420', '#papicongress', '#tcot', '#tbt', '#banthebomb', '#nosurrender', '#liveonstreamate', '#grants', '#funds', '#canada', '#preventative', '#cts', '#russian', '#cossack', '#ushanka', '#respect', '#tangletalk', '#australia', '#fire', '#firemen', '#firetruck', '#rescue', '#911', '#summertime', '#sirens', '#antioch', '#pitchwars', '#becarefulharry', '#storm', '#yonews', '#sandiego', '#algeria', '#identitytheft', '#taxreturn', '#cri', '#menswear', '#urbanfashion', '#aogashima', '#photography', '#volcano', '#thisdayinhistory', '#foodscare', '#offers2go', '#nestleindia', '#magginoodle', '#ban', '#humanconsumption', '#horror', '#orcot', '#orpol', '#foxdebatequestions', '#teen', '#nsfw', '#porn', '#milf', '#amsterdam', '#bc19', '#scwx', '#hamont', '#thestrain', '#263chat', '#twimbos', '#drones', '#privacy', '#indiannews', '#phone', '#gaming', '#tv', '#crazyideascollege', '#emsne', '#worstsummerjob', '#renew911health', '#parkchat', '#mh370', '#blacklivesmatter', '#dna', '#generalnews', '#nghlth', '#fireman', '#abc7eyewitness', '#hometownglory', '#gopdebate', '#brics', '#roberts', '#usnwsgov', '#deals_uk', '#climatechange', '#anarchy', '#atk', '#letsfootball', '#thisispublichealth', '#professional', '#help', '#joestrong', '#gokitgo', '#taiwan', '#prayforsaipan', '#buffalo', '#britishbakeoff', '#paulhollywood', '#islamophobe', '#vegetarian', '#vegan', '#govegan', '#uniteblue', '#nikeplus', '#toosoon', '#education', '#econom', '#galvnews', '#standwithpp', '#njturnpike', '#meditationbymsg', '#glanders', '#utfire', '#android', '#androidgames', '#gameinsight', '#oktxduo', '#travel', '#rochdale', '#heywood', '#prez', '#natural', '#japanjapan', '#anonymous', '#nytimes', '#idols', '#22days', '#wdym', '#california', '#floods', '#ukfloods', '#savioursquadåç', '#stoponesounds', '#airwaves', '#anthrax', '#rio2016', '#liveonkbak', '#palestinian', '#fantasticfour', '#badotweet', '#breakingnews', '#elections', '#achedin', '#rubybot', '#modiministry', '#difficultpeople', '#gh', '#manhood', '#breaking', '#hagerstown', '#whag', '#amageddon', '#freespeech', '#picthis', '#toronto', '#nuclearweapons', '#ashes', '#civilian', '#gawx', '#kaumelite', '#smofc', '#digitalhealth', '#hcsm', '#freegucci', '#wave', '#casualty', '#aids', '#newbeginningsanimalrescue', '#lolla', '#anti-terrorism', '#act', '#nz', '#hugomatz', '#iminchina', '#tootrue', '#trump', '#hardball', '#koin6news', '#nhl', '#food', '#fun', '#jishin_e', '#minamisoma', '#grindhouse', '#texaschainsawmassacre', '#myfitnesspal', '#lomasvisto', '#cadenadeseguidores', '#appreciativeinquiry', '#warmbodies', '#afterlife', '#bokoharam', '#winechat', '#partsunknown', '#kelbytomlinson', '#calwildfires', '#naturaldisasters', '#wishlist', '#saudi', '#abha', '#danger', '#sing', '#tsunami', '#computer', '#thankyou', '#452', '#christianvalues', '#banking', '#bitcoing', '#blockchain', '#c4news', '#arsonist', '#headlines', '#nightbeat', '#2minutemix', '#odu', '#addtexastonext1dtour', '#bakeofffriends', '#rockyfire', '#udhampuragain', '#omg', '#rip', '#jetengine', '#turbojet', '#boing', '#g90', '#cubs', '#snooker', '#noirandeal', '#tedcruz2016', '#earthquakenews', '#datingtips', '#goodreads', '#insas', '#rewatchingthepilot', '#teamscorpion', '#cyclone', '#hinatobot', '#helicopter', '#firefighting', '#oregon', '#easternoregon', '#sismo', '#cs', '#thexfiles201days', \"#slab's\", '#labour', '#labourleadership', '#phoenix', '#arizona', '#artectura', '#pop2015', '#nå', '#music', '#playlist', '#youtube', '#37592', '##youtube', '#hope', '#du19', '#gilbert23', '#isea2015', '#newswatch', '#ptbo', '#interestraterise', '#mediterranean', '#colorado', '#destroy', '#free', '#hhbu', '#survivors', '#orapinforma', '#otratmetlife', '#explodingkittens', '#goingdownthetoilet', '#abomb', '#survived', '#cnv', '#africansinsf', '#beyondgps', '#paraguay', '#thinkpink', '#magichairbump', '#besttalkradio', '#elephantintheroom', '#autismawareness', \"#nevada's\", '#nv', '#ppsellsbabyparts', '#pugprobs', '#earthtwerk', '#healthcare', '#kodiak', '#after', '#mercados', '#loveislove', '#laos', '#163', '#hotnewscake', '#adiossuperbacterias', '#titania', '#flavorchargedtea', \"#rome's\", '#nbc15', '#calfires', '#traintragedy', '#concert', '#bloodymonday', '#tvshowtime', '#beyondthebomb', '#theashes', '#tweet4taiji', '#ovofest', '#ziphimup', '#escorts', '#gfe', '#dubai', '#039', '#kidscompany', '#ika', '#tuning', '#diet', \"#ferguson's\", '#japì_n', '#theneeds', '#recipes', '#newsdict', '#chile', '#sciencefiction', '#gisuserpr', '#geotech', '#dutton', '#presser', '#facebook', '#socialmedia', '#strategy', '#dvd', '#newsintweets', '#age', '#fettilootch', '#slanglucci', '#traumatised', \"#smarttek's\", '#mpers', '#safety', '#arsenal', '#we', '#defendant', '#catastrophic', '#saudiarabia', \"#gfz's\", '#turkish', '#syrian', '#wedding', '#flightcity', '#doublecups', '#demolition', '#workers', '#halifax', '#oomf', '#sejorg', '#hyperbole', '#saintsfc', '#cdcwhistleblower', '#boston', '#lesbian', '#fx', '#newsarama', '#allthenews', '#realestate', '#spotlight', '#wniagospel', '#scseestapreparando', '#novalismi', '#displaced', '#refugeesmatter', '#blessed', '#tnn', '#kuwait', '#rockin', '#artistsunited', '#p2', '#hockey', '#weddinghour', '#ggindependencmessage', '#mystery', '#paranormal', '#kyee', '#southline', '#tornadogiveaway', '#thebookclub', '#rfp', '#alaska', '#diversification', '#crimes', '#justice', '#courts', '#duststorm', '#thisiswhywecanthavenicethings', '#cumshot', '#sex', '#porno', '#cutekitten', '#catsofinstagram', '#summerinsweden', '#katt', '#katterpì', '#dumle', '#dagens', '#internetradio', '#collegeradi', '#chernobyl', '#lonepine', '#gallipoli', '#ww1', \"#whereveri'mat\", '#justaguess', '#thebargain', '#pussy', '#ass', '#boobs', '#asian', '#nude', '#apple', '#mobile', '#adani', '#modi', '#palermo', '#shipwreck', '#children', '#deaths', '#wimbledon', '#twcnews', '#ncwx', '#tubestrike', '#coya', '#london', '#notrocketscience', '#mufc', '#8392', '#vietnam', '#iamdowntown', '#womens', '#francisunderwood', '#hoc', '#jamaicaplain', '#stephenking', '#thedarktower', '#straightfire', '#georgecole', '#sizewell', '#worldwatchesferguson', '#breaking411', '#pjnet', '#tcotåê', '#ccot', '#horrible', '#watchthevideo', '#grupdates', '#putin', '#yazidis', '#cantwaittoplayinminneapolis', '#newcastleupontyne', '#whoops', '#insurance', '#trafficalert', '#gloucester', '#capeann', '#seagulls', '#triciaoneill', '#triciaoneillphoto', '#bridgetown', '#teamhennessy', '#nj', '#tepco', '#nissannews', '#gravitymovie', '#dw', '#psychrewatch', '#fires', '#occupy', '#winter', '#southdowns', '#hampshire', '#tree', '#treeporn', '#insanelimits', '#plugin', '#hiroshima70', '#rodkiai', '#sportinggoods', '#cecilthelion', '#binladen', '#rememberrabaa', '#millcityio', '#20150613', '#ultimalucha', '#luchaunderground', '#jackson', '#ms', '#askcharley', '#jtw', '#retail', '#sjubb', '#pft', '#thorium', '#tribe', '#chronicillness', '#mylifestory', '#wahhabism', '#zionism', '#38745', '#pp15000266858', '#pdx911', '#harperanetflixshow', '#elxn42', '#stopharper', '#givebackkalinwhiteaccount', '#overwatch', '#greatbritishbakeoff', '#frvrgrateful', '#natsnation', '#entertainment', '#brucewillis', '#ebay', '#auction', '#playingnow', '#bloodbound', '#spark', '#song', '#miami', '#atlanta', '#casper', '#nonucleariran', '#badirandeal', '#hangout', '#trollingtilmeekdiss', '#houston', '#innovation', '#gadgets', '#treescape', '#afp', '#guardian', '#wps', '#ny35', '#guillermo', '#entretenimento', '#vaginaorcake', '#3novices', '#9newsmornings', '#incident', '#metrofmtalk', '#bayonets', '#evilempire', '#jadehelm15', '#oneheartonemindonecss', '#ndtv', '#indiakomuntorjawabdo', '#murfreesboro', '#walmart', '#mothernature', '#rain', '#yycfringe', '#killhard', '#najibrazak', '#malaysiaairlines', '#dam', '#gms', '#coppednews', '#mrrobinson', '#thesteveharveyshow', '#burnaby', '#changefortheworse', '#piperwearsthepants', '#charmed', '#rowysolouisville', '#blackpool', '#beclearoncancer', '#albany', '#ny', '#kamindoz', '#reuters', '#redsoxnation', '#thatswhatfriendsarefor', '#askh3cz', '#bethlehem', '#whirlwind', '#infosec', '#dfir', '#threatintel', '#mumbai', '#startrek', '#tos', '#blackinamerica', '#growingupblack', '#oilandgas', '#kro', '#pearlharbor', '#quotes', '#ableg', '#cdnpoli', '#cafire', '#lgm', '#oped', '#deltachildren', '#instaquote', '#quoteoftheday', '#disney', '#waltdisney', '#donzilla', '#trump2016', '#charity', '#run', '#bangladesh', '#worldvision', '#scraptrident', '#oneborn', '#talkradio', '#gunfail', '#nra', '#painting', '#navy', '#ca', '#ut', '#co', '#or', '#vaxshill', '#kurds', '#diyala', '#babri', '#fierce', '#byebyesoundcloud', '#kurokobot', '#comdev', '#asia', '#programs', '#komen', '#alameda', '#coke', '#freeamirnow', '#freeallfour', '#maps', '#politics', '#txlege', '#twia', '#lakeeffect', '#snowstorm', '#shelli', '#bb17', '#vra50', '#wcvb', '#icd10', '#nh1news', '#tanzania', '#enolagay', '#allover', '#yug', '#gladiator', '#plannedparenthood', '#riders', '#injury', '#childhooddefined', '#alt', '#electro', '#rock', '#comingsoon', '#content', '#policy', \"#appy's\", '#losangelestimes', '#latimes', '#rdg', '#stretcher', '#entrepreneur', '#management', '#leadership', '#smallbiz', '#startup', '#royals', '#masterchef', '#jonathanferrell', '#choosegod', '#restoringpaths', '#missionhills', '#nazis', '#la', '#islamic', '#state', '#brochure', '#bomb', '#archipelagowolves', '#extinction', '#standforwolves', '#jakartapost', '#idfire', '#homeimprovement', '#icymi', '#annoucement', '#arts', '#virus', '#infectiousdiseases', '#ashes2ashes', '#fresno', '#abcnews', '#insomnia', '#bhusa', '#iwasdisappointedby', '#wish', '#morevoices', '#sebee', '#gop', '#disabledveterans', '#thepartyofmeanness', '#1-1st', '#rolandonabeats', '#4playthursdays', '#rt_4_a_mention', '#ty', '#traitor', '#sms', '#summer', '#crazyweather', '#actionmoviestaughtus', '#171', '#thriller', '#scifi', '#harrybecareful', '#now', '#wdyouth', '#biblestudy', '#feelingmanly', '#setting4success', '#smallbusiness', '#bishopfred', '#beconfident', '#baking', '#cakes', '#kenya', '#langata', '#sr14', '#liveonk2', '#warcraft', '#thedoolinggroup', '#republicans', '#nopower', '#nffc', \"#don'tpanic\", '#droughtmonitor', '#yiayplan', '#q99', '#biztip', '#hurricane', '#meteoearth', '#kotaweather', '#tripoli', '#tnwx', '#skh', '#desolation', '#theconspiracytheory', '#newep', '#phantrash', '#snapchatselfie', '#wrongperson', '#ufo4ublogeurope', '#sustainable', '#literarycakes', '#bhramabull', '#seaworld', '#opseaworld', '#drained', '#shakeology', '#fiya', '#topstories', '#babies', '#asae15', '#assnchat', '#st', '#illinois', '#hazmat', '#keepthefaith', \"#she's\", '#back', '#norge2040', \"#ge's\", '#robot', '#decisionsondecisions', '#results', '#varagesale', '#windstorm', '#besafe', '#arkansas', '#nola', '#funnynews', '#zippoline', '#moveit', '#visionzero', '#borderlands', '#borderlands2', '#oocvg', '#ftw', '#littlewomenla', '#retweet', '#ojoubot', '#real', '#movietheatre', '#615', '#christians', '#cufi', '#loseit', '#ootd', '#doubleghats', '#pixelsmovie', '#cc', '#nonprofit', '#redsox', '#paramedics', '#ambulance', '#luck', '#kardashianempire', '#trc', '#bbshelli', '#catfish', '#volleyball']\n",
            "Mentions:         ['@bmurph1019', '@hail_youtsey', '@termn8r13', '@johnsontionne', '@libertarianluke', '@roughdeal1', '@zhenghxn', '@rayquazaerk', '@jackmulholland1', '@1acd4900c1424d1', '@foxnews', '@_gaabyx', '@buffoonmike', '@toddstarnes', '@mylittlepwnies3', '@early__may', '@anathemazhiv', '@tonysandos', '@dailykos', '@wwp', '@marc_holl', '@nennicook', '@aitchkaycee', '@vixstuart', '@benjbeckwith', '@graysondolan', '@startelegram', '@keithboykin', '@randallpinkston', '@pozarmy', '@freddiedeboer', '@thucydiplease', '@mathew_is_angry', '@z3ke_sk1', '@saladinahmed', '@raishimi33', '@marynmck', '@target', '@starbucks', '@teamstream', '@detkenlang', '@youtube', '@itsjustinstuart', '@chubbysquirrel_', '@hurricane_surge', '@rockbottomradfm', '@swb1192', '@ameenshaikh3', '@sureshpprabhu', '@heyimginog', '@aftershock_delo', '@joegoodmanjr', '@chowtaxis', '@lisavanderpump', '@', '@iphooey', '@time', '@hellonwheelsamc', '@how_fans', '@talkinghell', '@robertmeyer9', '@ciaramckendry', '@danhrothschild', '@bluejays', '@braves', '@angels', '@lesleychappelle', '@sonoranrattler', '@sweetiebirks', '@mirrorlady2', '@slatukip', '@atl_events', '@thehighfessions', '@lonewolffur', '@selmoooooo', '@_edvinnn', '@imtariik', '@dzafic_haris', '@perkpearl', '@tareksocal', '@aria_ahrary', '@thetawniest', '@fevwarrior', '@dccc', '@vj44', '@lawrence', '@jbouie', '@mmfa', '@cheetosarabia', '@crudes', '@eac4au', '@fiendnikki', '@gargron', '@taykreidler', '@furiosoxv', '@messeymetoo', '@cristianinspire', '@ptsd_chat', '@autoames', '@mets', '@erinmariefishy', '@onu_france', '@rockefeller_chi', '@rockefelleruniv', '@harvardu', '@afp', '@noah_anyname', '@swellyjetevo', '@camilla_33', '@craykain', '@wbcshirl2', '@hollywarnexx', '@rodarmer21', '@lizhphoto', '@marek1330', '@music212', '@stankyboy88', '@aphyr', '@greenlacey', '@bettyfreedoms', '@abninfvet', '@drdrewhln', '@jenniferarri_', '@joshsternberg', '@ictyosaur', '@daborsch', '@urufusanragu', '@wisdc', '@troylercraft', '@luke_winkie', '@glosblue66', '@based_georgie', '@rubi_', '@weloverobdyrdek', '@adrian_peel', '@slone', '@fnaf_talkmc', '@newsarama', '@haji_hunter762', '@middleeasteye', '@wocowae', '@tomarse99', '@mattmosley', '@cockerelshoes', '@calum5sos', '@s_casualty', '@bridgeportspeed', '@ayhoka_', '@foxy__siren', '@insubcontinent', '@adriasimon_', '@emmerdale', '@mikeparractor', '@misscharleywebb', '@usagov', '@mort3mer', '@asimtanvir', '@nemesisk_pes', '@kevr_7', '@kiranahmedd', '@expirehc', '@greenbuildermag', '@nfpa', '@firewise', '@michele_nfpa', '@thesewphist', '@teafrystlik', '@chrisman528', '@gideonstrumpet', '@youngheroesid', '@dieanpink95', '@yu_nita99', '@lt3dave', '@raniakhalek', '@drvox', '@daretotaha', '@swiftycommissh', '@taoistinsight', '@immortaltech', '@pyrbliss', '@joeybats19', '@memenaar', '@www', '@chrisdyson16', '@iamrrsb', '@sport_en', '@czallstarwes', '@sensanders', '@sapphirescallop', '@willhillbet', '@atlbizchron', '@southridgelife', '@asterpuppet', '@stretcher', '@invalid', '@grazed', '@rexyy', '@towel', '@jaydennotjared', '@newyorker', '@christycroley', '@judson1360', '@xtra1360', '@fantosex', '@stacedemon', '@tinyjecht', '@welshninja87', '@ariabrisard', '@leiaorganasolo', '@ageekyfangirl14', '@emiiliexirwin', '@reddit', '@lauren_miller_7', '@weathernetwork', '@samanthaturne19', '@jennasjems', '@patrickwsls', '@vienna_butcher', '@dviyer', '@colorlines', '@guardian', '@furtrix', '@__scrambledeggs', '@runner_joy', '@glenstannard', '@essexweather', '@viralspell', '@2', '@emhub', '@newyorkcity', '@kamkasteiiano', '@bluntedjayt', '@ollymursaus', '@mmchale13', '@satanaofhell', '@david_cameron', '@cncpts', '@solelinks', '@nasahurricane', '@dauntedpsyche', '@helene_yancey', '@aelinrhee', '@howardu', '@abcnorio', '@cranboonitz', '@hereticofethics', '@lennonparham', '@jessica_stclair', '@gilmoreguysshow', '@lordbrathwaite', '@chelsea_dogs', '@angusmacneilsnp', '@apollobrown', '@savagenation', '@drrichardbesser', '@detroitnews', '@sexydragonmagic', '@heebsterrr_', '@louis_tomlinson', '@cia', '@tidalhifi', '@ap', '@raynbowaffair', '@diamondkesawn', '@suny_orange', '@jt_ruff23', '@cameronhacker', '@petchary', '@hail_zel', '@creationsbykole', '@coloiccarnality', '@lwilliams_13', '@detroitpls', '@blazing_ben', '@pattyds50', '@gwfrazee', '@joshuaassaraf', '@markwschaefer', '@alexhammerstone', '@kttape', '@shantaeskyy', '@kshllcenterpri1', '@progress4ohio', '@allen_enbot', '@syringetoanger', '@catsandsyrup', '@princessduck', '@tremblayeh', '@ian_bartlett', '@lovelylikelaura', '@halloikbenwill', '@mickinyman', '@theatlantic', '@gurmeetramrahim', '@atchisonsean', '@princeoffencing', '@fullscreen', '@setzorah', '@att', '@vzwsupport', '@matt_kroschel', '@arizonadot', '@stevenontwatter', '@pussyxdestroyer', '@nwsbayarea', '@ledofficial1', '@tsunami_esh', '@alaska', '@adndotcom', '@nkulw', '@benjm1', '@tourofutah', '@b1grego', '@reuters', '@hopefulbatgirl', '@_charleyisqueen', '@thebuffshow', '@thetwisterokc', '@shaniatwain', '@flickershowell', '@dailytimesngr', '@itsqueenbaby', '@adanne___', '@robbiewilliams', '@countermoonbat', '@voodoo_ben', '@bbcwomanshour', '@sonisoner', '@king_naruto_', '@mockingpanems', '@cuddlesforjen', '@scalpium', '@be_ram0s', '@cityofcalgary', '@ophiuchus2613', '@accionempresa', '@gerenciatodos', '@davidolszak', '@siren_song21', '@lauradeholanda', '@editaxohaze', '@noahj456', '@bekah__w', '@rachelrofe', '@michael5sos', '@kylewappler', '@thisishavehope', '@stupid_niggr', '@cnn', '@cbc', '@georgefoster72', '@tomdean86', '@sonofbobbob', '@shimmyfab', '@trickxie', '@panic', '@nikistitz', '@nicklee8', '@pollster', '@realdonaldtrump', '@batfanuk', '@pete_r_knox', '@gemmasterful', '@laphamsquart', '@4tiles', '@zacb_', '@yahoo7', '@timkaine', '@disneyirh', '@marksmaponyane', '@barackobama', '@acmilan', '@thomashcrown', '@alanhahn', '@hdumpty39', '@_explicitpretty', '@worldnetdaily', '@wordpressdotcom', '@ohyayyyyay', '@20skyhawkmm20', '@traplord_29', '@fredosantana300', '@lilreese300', '@toiindianews', '@honeybunzgem', '@primalkitchen', '@tuicruises', '@aida_de', '@militarydotcom', '@danielkemp6', '@i_electrocute', '@cunayyh', '@taufikcj', '@cllrraymogford', '@change', '@bre_morrow', '@fionagilbert_', '@darkreading', '@15moferadio', '@heavybag201', '@battle_dom', '@qotring', '@battlerapchris', '@hughes1128', '@coldmpress', '@bellalinn', '@scegnews', '@annajhm', '@jcomanse', '@paul_staubs', '@rslm72254', '@blanktgt', '@115film', '@irishspy', '@djicemoon', '@enews', '@drag0nking0201', '@breachgamingorg', '@smh', '@mythgriy', '@toxicsavior_', '@meetkakarotto', '@tim_a_roberts', '@jakegint', '@lenn_len', '@lindasocvat', '@tflbusalerts', '@theghostparty', '@so', '@sorry', '@csaresu', '@nbcnews', '@jaureguiswisdom', '@hollyorange8', '@bonn1egreer', '@_ashj', '@nikostar', '@bbcengland', '@notoriousd12', '@whedonesque', '@attackonstiles', '@camilacabello97', '@suryaray', '@alcoholandmetal', '@xeni', '@treyarch', '@davidvonderhaar', '@cindynoonan', '@aphl', '@pageparkescorp', '@chloeunguyen', '@laurensicle', '@charstevens97', '@tiara_marei', '@chambered_blood', '@klavierstuk', '@awadgolf', '@gop', '@thejenmorillo', '@ian_hellfire', '@business', '@ego_resolution', '@bill_roose', '@kasiakosek', '@ahhtheenikki', '@legna989', '@el_torro_loco', '@epic_insanity', '@yahoonews', '@christopherszen', '@hunterlove1995', '@tblack', '@reshareworthy', '@annealiz1', '@local_arsonist', '@spinningbot', '@jorrynja', '@ter_ell', '@nprfreshair', '@mccainenl', '@elisagxrcia', '@skynews', '@kiwi_karyn', '@darrellissa', '@earths_voice', '@lifelettercafe', '@cacheadvance', '@ebay', '@stfxuniversity', '@christinartnd', '@mwnhappy', '@shakjn', '@c7', '@magnums', '@fouseytube', '@zaynmalik', '@babysweet420', '@doctordryadma', '@_pokemoncards_', '@icequeenfroslas', '@funkflex', '@sophieingle01', '@angharadjames16', '@ybtheprophet', '@gpaulista5', '@jackwilshere', '@jeromekem', '@nalathekoala', '@rvacchianonydn', '@billboard', '@robdelaney', '@kaiseiw', '@victoriagittins', '@livingsafely', '@travelelixir', '@djryanwolf', '@djcoreygrand', '@djknyce', '@djoneplustwo', '@officialcoredjs', '@iamtonyneal', '@spookyfob', '@feelslikefob', '@mauds99', '@jagexsupport', '@kessily', '@mishacollins', '@ajabrown', '@potus', '@pcaldicott7', '@bigburgerboi55', '@sammysosita', '@tomcatarts', '@tonymcguinness', '@muttatek', '@kamunt', '@qpr1980', '@rorington95', '@gorpuazikinak', '@upi', '@sakhalintribune', '@slsandpet', '@resigninshame', '@bapusuratsingh', '@gerryconnolly', '@repdonbeyer', '@soyeh', '@j3lyon', '@radioriffrocks', '@whitehouse', '@lightning_ooc', '@stvmlly', '@safferoonicle', '@supernovalester', '@jake_adavis', '@fatality_us', '@baileysmsteach', '@wired', '@masochisticmage', '@chr3lyc', '@iaff36', '@chromsucks', '@warlord_queen', '@tim_micallef', '@writes4coffee', '@chriscesq', '@gemmahentsch', '@megynkelly', '@dloesch', '@kg4vaal', '@titortau', '@booktubeathon', '@lemairelee', '@danharmon', '@thedailyshow', '@modelbubbles', '@adamtuss', '@chestertweetsuk', '@dacherryontop13', '@arsonistmusic', '@kathrynschulz', '@acebabes', '@healthweekly1', '@amateurnester', '@dannyonpc', '@defendbutera', '@calfreedommom', '@steph93065', '@jwalkerlyle', '@nickcannon', '@realmandyrain', '@itunesmusic', '@itunes', '@tiggr_', '@heyitsepark', '@pragnik', '@dmac1043', '@space_wolverine', '@mikecroninwmur', '@bradleybrad47', '@kakajambori', '@siren_voice', '@reds', '@lordrsbiscuits', '@scmp_news', '@eytay', '@neur0sis', '@tayiorrmade', '@megatronafc', '@crowdtappers', '@joinvroom', '@ellenfromnowon', '@audacityjamesta', '@james_justus', '@cameron_wate', '@codemew', '@jmcwrites', '@crobscarla', '@bryansinger', '@rupaul', '@alexshipppp', '@chemical_babe', '@jasoncundy05', '@rjkrraj', '@karnakarank', '@vimvith', '@qz', '@taraswart', '@vivian_giang', '@ianokavo96', '@news4buffalo', '@realhotcullen', '@melrises', '@gayler1969', '@wwwbigbaldhead', '@jessienojoke', '@melissaross9847', '@_stiiilo', '@bbctms', '@kevinedwardsjr', '@mackinnon08', '@aliveafter5', '@history', '@montetjwitter11', '@nolesfan05', '@nutsandboltssp', '@doylech', '@wonderousallure', '@acaciapenn', '@frautrapani', '@soonergrunt', '@maatmhi', '@michaelwestbiz', '@jeannathomas', '@bldrcosheriff', '@cbsdenver', '@misfitrarity', '@untameddirewolf', '@wizkidayo', '@meganbee92', '@kadiegrr', '@ushiocomics', '@dani_riot', '@fotofill', '@zak_bagans', '@rrusa', '@erker', '@universityoflaw', '@kierannicholson', '@c_pinto001', '@jimmyfallon', '@wearethenews', '@akcsl', '@justinbieber', '@arianagrande', '@attjcdemos', '@folieacat', '@teamvodg', '@flow397', '@unsuckdcmetro', '@_minimehh', '@cjoyner', '@icc_realckt', '@hebrooon', '@joelsherman1', '@twoptwips', '@kemal_atlay', '@jasonpope2', '@johnfugelsang', '@envyseven', '@amazon', '@abc7', '@newz_sacramento', '@mzmandilynn', '@mommyisbomb', '@afk_10', '@dr_johanfranzen', '@jones94kyle', '@jmastrodonato', '@jennife29916207', '@mark_argent', '@ft', '@gotriangle', '@modnao23', '@robpulsenews', '@huyovoetripolye', '@mayhem_114', '@basildudin', '@horsetalknz', '@smoak_queen', '@1061thetwister', '@lucysforsale', '@robot_rainstorm', '@brrookkllyynnr', '@mithitennis', '@crackedgem', '@iafflocal4416', '@tj_robertson2', '@matt_bez', '@cspan', '@seismicsoftware', '@jetixrestored', '@weyrey_gidi', '@meinlcymbals', '@duststormfilm', '@flunkie', '@vgbootcamp', '@x', '@stickynyc', '@95roots', '@envw98', '@nickcocofree', '@juliedicaro', '@jdabe80', '@morning_joe', '@reince', '@presssec', '@kurtschlichter', '@_freemarketeer', '@dibang', '@firstpostin', '@aaronthefm', '@silverstar58200', '@damidnighter', '@themale_madonna', '@rahulkanwal', '@rohnertparkdps', '@your4state', '@chrisdanielshow', '@presstv', '@hrips_k', '@jusstdoitgirl', '@mogacola', '@zamtriossu', '@banditregina', '@thetimepast', '@saalon', '@kinkyconnors', '@washingtonpost', '@byuwnbeki', '@lobo_paranoico', '@tcgreno', '@lilithsaintcrow', '@yelllowheather', '@bentossell', '@producthunt', '@teamatowinner', '@thetshirtkid', '@hfxstanfield', '@beelievedc', '@discoverycntr', '@greenharvard', '@bubblycuteone', '@azimel', '@lovemywife1983', '@time4me_sews', '@minsuwoongs', '@scotto519', '@heyot6', '@parentsacrossam', '@billgates', '@asburyparkpress', '@khqa', '@pioneerpress', '@benaffleck', '@praiz8', '@blizzheroes', '@dustinbrowder', '@im2ad', '@brokenscnecal', '@lasvegaslocally', '@vitalvegas', '@iamhorsefly', '@grtvnews', '@scottwalker', '@lizbon', '@kidicalmassdc', '@netkicorp', '@morbidmovies', '@alvinnelson07', '@officialtjonez', '@seanhannity', '@heyseto', '@khalidkkazi', '@willie_am_i', '@justthebottle', '@usatoday', '@benji_devos', '@seagull07', '@aleisstokes', '@intelligencebar', '@libertygeek83', '@cstsmith', '@abbyairshow', '@pmharper', '@danryckert', '@drewscanlon', '@trillac_', '@ihhen', '@msf', '@refugees', '@kristyleemusic', '@schelbertgeorg', '@daorcey', '@nsit_', '@bizzlemahomie', '@soonermagic_', '@brittanypetko', '@daisycuttertz', '@grogparty', '@tony_burke', '@yahooschwab', '@brobread', '@meshnewsdesk', '@omar_molina036', '@milioooo_', '@lawsonofficial', '@itsnasb', '@surf_photo', '@briannafrost', '@ashberxo', '@mind_mischief', '@jimmozel', '@nashhmu', '@witter', '@veronicadlcruz', '@junsuisengen', '@tsunami_nopeach', '@real_liam_payne', '@david_hurn', '@tokteacher', '@arizzo44', '@jlester34', '@cubs', '@re_shrimplevy', '@piprhys', '@thetxi', '@gunnersfan89', '@devinjoslyn', '@ashayo', '@msmiggi', '@randerson62', '@huffpostrelig', '@arobotlegion', '@etribune', '@acebreakingnews', '@mccauleysdesign', '@abysmaljoiner', '@dyamiplotke', '@rickybonessxm', '@po_st', '@wews', '@limpar33', '@sirbrandonknt', '@andygilder', '@connormidd', '@creationmin', '@rwrabbit', '@gooneratheist', '@atheistic_1', '@lolatjesus', '@yahoofinance', '@rvfriedmann', '@lodisilverado', '@ritzy_jewels', '@homeworldgym', '@thisisperidot', '@scriptettesar', '@katiecool447', '@barbi_twins', '@mutek_montreal', '@leejasper', '@dratomic420', '@msf_sea', '@harveymaine', '@iateyourfood', '@raabchar_28', '@drphil', '@morganlawgrp', '@mrsbinker', '@emiliorivera48', '@davidlabrava', '@aphiabeta1907', '@amesocialaction', '@fbi', '@abc', '@binellithresa', '@ohmygoshi', '@no_periferico', '@blutz10', '@fa07af174a71408', '@mnpdnashville', '@montalbanony', '@themagickidraps', '@cyhitheprynce', '@alexeivolkov1', '@mcfaul', '@rightwaystan', '@usnoaagov', '@droughtgov', '@szmnextdoor', '@appleofficlal', '@latechwatch', '@carneross', '@pxnatosil', '@renunciedilma', '@audaciousspunk', '@daniglasgow45', '@blossominglilac', '@bobbyofhomewood', '@joxroundtable', '@runjewels', '@bbc', '@kuualohax', '@_chelsdelong12', '@kendra_leigh13', '@healthandsafety', '@trombonetristan', '@kennethbauer_', '@pmarca', '@drfriedencdc', '@_wildfire__', '@gassymexican', '@edfringe', '@m00nf00l', '@summerhallery', '@collideworship_', '@pattonoswalt', '@alamodc', '@snazzychipz', '@alexalltimelow', '@animallogic', '@nytimes', '@rebeccaforreal', '@govwalker', '@stury', '@nbcpolitics', '@awickedassassin', '@missleylaha', '@beckyfeigin', '@whvholst', '@leashless', '@faze_rain', '@chief__cg', '@kezi9', '@msnbc', '@charlesadler', '@savannahross_4', '@chibi877', '@wkrn', '@ohmyloz', '@rondarousey', '@megancoopy', '@laurathorne97', '@pllolz', '@colinhoffman29', '@cw_hoops', '@dougmartin17', '@longbreastyat', '@macdaddy_leo', '@drake', '@hinterestin', '@233liveonline', '@fedex', '@justintrudeau', '@okgooner', '@nuggets', '@bluebirddenver', '@annmarieronan', '@niamhosullivanx', '@taaylordarr', '@mistresspip', '@messnermatthew', '@newcity', '@myrtlegroggins', '@theemobrago', '@cowgirllawyer', '@wild_lionx3', '@ladyfleur', '@destinythegame', '@bungie', '@playstation', '@northbayhealth', '@questergirl', '@sarahmcpants', '@justjon', '@grabakahitman', '@izi_garcia', '@councilscc', '@cleverbot', '@katiekatcubs', '@yahoocare', '@capicapricapri', '@brento_bento', '@trubgme', '@thisizbwright', '@lightumupbeast', '@peterhowenecn', '@necn', '@gigagil', '@ibeyiofficial', '@radychildrens', '@emaaalay', '@ogtomd', '@volcanodiscover', '@josh_lado', '@glassanimals', '@durban_knight', '@nosy_be', '@ma3route', '@bonnieg434', '@volfan326', '@tneazzy', '@danisnotonfire', '@turnedonfetaboo', '@hsjb215', '@claytonbryant', '@vickybrush', '@jamesmelville', '@missjadebrown', '@catovitch', '@kainyusanagi', '@grummz', '@pixelcanuck', '@wo', '@tonyakappes11', '@macbreck', '@marvel', '@dccomics', '@imagecomics', '@darkhorsecomics', '@idwpublishing', '@kasitaroch', '@vivianunhcr', '@proudgreenhome', '@toddyrockstar', '@classycolkett', '@fuckyeahcarey', '@bornverified', '@akgovbillwalker', '@myfriendmina', '@peterjukes', '@mageavexis', '@flgovscott', '@bilsko', '@humofthecity', '@abc7chicago', '@_itsmegss_', '@mentalhealthgov', '@senfeinstein', '@gloriavelez', '@666canberra', '@tweetinglew', '@tersestuff', '@dalailama', '@hoodedu', '@pbohanna', '@queenwendy_', '@people', '@dr_baseball41', '@granttamane8', '@drewwtaylor', '@dtop77', '@yahootv', '@deezercolombia', '@squibby_', '@kerrykatona7', '@sw_trains', '@strickskin', '@nickscomics', '@gg_keeponrockin', '@strawberrysoryu', '@lexi_purduee', '@mayoroflondon', '@steveycheese99', '@mapmyrun', '@8', '@phdsquares', '@chxrmingprince', '@jones_luna', '@elielcruz', '@dannyjohnjules', '@spencer_fearon', '@christielinford', '@wfaaweather', '@danagould', '@waynesteratl', '@thomasvissman22', '@keithyyl', '@babybackreeve', '@scotrail', '@bdisgusting', '@blairmcdougall', '@waseembadami', '@thecomedyquote', '@50shadezofgrey', '@p45perez', '@govjaynixon', '@clairecmc', '@kristindavis', '@un', '@kelworldpeace', '@taxstone', '@raidersreporter', '@957thegame', '@onegreenplanet', '@neanderrebel', '@anellatulip', '@worstoverdose', '@__srajapakse__', '@independent', '@evahanderek', '@marleyknysh', '@sundercr', '@okcfox', '@widda16', '@londonfire', '@jrlallo', '@nashvillefd', '@captainn_morgan', '@burberryant', '@papcrdoll', '@slopeofhope', '@kristenkoin6', '@tprimo24', '@djeddygnj', '@argentaelite', '@cagov', '@vp', '@hurricane_dame', '@kaylak369', '@mustachemurse', '@dateswhitecoats', '@d1ff3r3nt1sg00d', '@riceechrispies', '@stationcdrkelly', '@tadhgtgmtel', '@infinitegrace7', '@theadvocatemag', '@art_brut_', '@stunckle', '@gordon_r74', '@crazydoctorlady', '@katunews', '@truly_stings', '@karnythia', '@retiredfilth', '@david5fernandez', '@theblaze', '@mixify', '@dead_dreamer15', '@robertbenglund', '@b24fowler', '@daewony0406', '@atljw', '@cnnbrk', '@icrc', '@thatpersianguy', '@youngsafe', '@moscow_ghost', '@sayed_ridha', '@amin_akh', '@kabarmesir', '@badr58', '@todayng', '@rosemarytravale', '@irishtimesworld', '@crazyindapeg', '@vets78734', '@jlabuz', '@molly_the_tanz', '@eeasterling_2', '@alfapedia', '@forest', '@ryleedowns02', '@nevaehburton33', '@abandonedpics', '@aubilenon', '@markkriegsman', '@carolinagutierr', '@anonchimp', '@stacdemon', '@sirtophamhat', '@scynic1', '@nafeezahmed', '@jeremyduns', '@ryanoss123', '@calestous', '@screamqueens', '@mprnews', '@laevantine', '@pyramidhead76', '@calum36chambers', '@mrmikeeaton', '@muazimus_prime', '@huffpostcomedy', '@bluewestlo', '@kalinandmyles', '@kalinwhite', '@blizzard_fans', '@theevilolives', '@comcastcares', '@audreyp77', '@teena_797', '@darryl_brooks', '@elitesportsny', '@lopezandthelion', '@corleonedaboss', '@estellasrevenge', '@blizzard_draco', '@alexis_sanchez', '@benignovito', '@libertybell1000', '@alexbelloli', '@orbette', '@jebbush', '@d_pagexxi', '@hurricane_dolce', '@darrylb1979', '@anarchic_teapot', '@boironusa', '@zeno001', '@narendramodi', '@bjpsamvad', '@meekmill', '@horiikawa', '@phnotf', '@baseballquotes1', '@silverhusky', '@dwarfonjetpack', '@romeocrow', '@haydnexists', '@bang_me_up_guk', '@senatemajldr', '@hazelannmac', '@freefromwolves', '@1', '@lolly_knickers', '@mi_country_hick', '@durrellb', '@veldfest', '@originalfunko', '@spencers', '@randpaul', '@rhee1975', '@deliciousvomit', '@demolition_d', '@blackparavde', '@tyleroakley', '@dnj_com', '@calgaryfringe', '@breitbartnews', '@demetae12', '@bv', '@la_siren', '@vvorm', '@abran_caballero', '@adamrubinespn', '@thewesterngaz', '@thebriankrause', '@antpips67', '@johnejefferson', '@casper_rmg', '@therealrittz', '@cloydrivers', '@fewmoretweets', '@drothvader', '@cm_nevalistis', '@icymagistrate', '@broseidonrex', '@dapurplesharpie', '@sonyprousa', '@lumixusa', '@djiglobal', '@profbriancox', '@rt_america', '@daughterofnai', '@nagel_ashley', '@vicken52', '@basedlarock', '@goonc1ty', '@frackfreelancs', '@deccgovuk', '@frackfree_eu', '@tarleton_sophie', '@juliechen', '@oliviaapalmerr', '@cameronhigdon34', '@optich3cz', '@gilderoy', '@lucymayofficial', '@cameronciletti', '@tigersjostun', '@susanj357', '@allinwithchris', '@lawfulsurvivor', '@threatconnect', '@sweet2young', '@r_lauren83199', '@xojademarie124', '@indigo6e', '@the', '@riverroaming', '@mrtophypup', '@josephjett', '@theblackshag', '@dannyoneil', '@michelleellle', '@irishirr', '@mchapmanwsaz', '@wsaz_brittany', '@kellyannwx', '@bcfcticketlady', '@mr_aamir_javaid', '@dantmatrafajlo', '@violentfeminazi', '@coreyashe', '@buckmasonusa', '@argus_99', '@heidia1438', '@_bookofdaniel', '@abcnews24', '@peterdutton_mp', '@kjfordays', '@shayoly', '@wwexdreamer', '@ezralevant', '@freemurphy', '@dreamoforgonon', '@teeess', '@officialmqm', '@prosyn', '@kaputt21', '@sarniamakchris', '@hromadske', '@kasiadear33', '@stallion150', '@kbeastx', '@weebly', '@doningtondash', '@fadelurker', '@dalinthanelan', '@cta', '@ctafails', '@eles_kaylee', '@jannellix0', '@kiro7seattle', '@stormbeard', '@steel_lord', '@ablaze', '@raychielovesu', '@phillipten', '@lesley_mariiee', '@cyclone_reizei', '@blakeschmidt', '@imsushickoflove', '@alekalicante', '@lightseraphs', '@itss_selenaluna', '@nbc', '@cdcgov', '@forbes', '@leedsrouge', '@mariomaraczi', '@atgrannyshouse', '@toocodtodd', '@wyattb23', '@jolly_jinu', '@soundcloud', '@seanpeconi', '@jason_floyd', '@lynchonsports', '@criscyborg', '@abcnews', '@uabstephenlong', '@courtlizcamp', '@hannahkauthor', '@codythompson25', '@gilmanrocks7', '@lifeaintfairkid', '@brandonmulcahy', '@fpine', '@lolgop', '@klarajoelsson', '@dirk_trossen', '@gregorysanders', '@usdot', '@gofundme', '@vannuyscouncil', '@imawesome7986', '@_itzsteven', '@xdojjjj', '@whopper_jr_760', '@ou_wbball', '@alexjacobsonpfs', '@johndcgow', '@yahoonewsdigest', '@ruddyyyyyy', '@jamiegriff97', '@stavernise', '@himeruisu', '@ssssnell', '@jamienye', '@boyinahorsemask', '@highqualitybird', '@hellotybeeren', '@angel_star39', '@tinybaby', '@adultblackmale', '@mattytalks', '@_keits', '@liva_gotta', '@texansdc', '@kylekrenek', '@zepp1978', '@frobeus_ns', '@olliebailey11', '@hendy_21', '@ashghebranious', '@janiethekillr', '@ticklemeshawn', '@evebrigid', '@j2bone', '@shipsxanchors', '@wesleylowery', '@robertharding', '@repjohnkatko', '@djjohnblaze', '@legacyofthesith', '@sagacioussaber', '@lordofbetrayal', '@salon', '@kombatfans33', '@_asianshawtyy', '@dramaa_llama', '@thedailybeast', '@todayngr', '@bbcintroducing', '@purpleturtlerdg', '@giantgiantsound', '@jasalhad', '@brianboru67', '@jimskiv92', '@hijinks1967', '@god', '@symbolicjensen', '@martynwaites', '@yourboy_shawn', '@kellkane', '@blizzard_gamin', '@badastronomer', '@shekhargupta', '@mihirssharma', '@jamaicaobserver', '@cnewslive', '@tradcatknight', '@phiddleface', '@emily4everever', '@jannet2208', '@chubychux', '@cinla1964', '@windowgatribble', '@dwilliams313', '@ieansquad', '@ymcglaun', '@slate', '@malistkiss', '@charlieputh', '@godof_mischief_', '@justin_ling', '@brandonskeie', '@samsmithworld', '@devpeace', '@_301dc', '@cloudy_goldrush', '@chaboyyhd', '@benkin97', '@mili_5499', '@zenande_mcfen', '@ndzedze', '@themaine', '@haley_whaley', '@argentings', '@cali74142290', '@casewrites', '@wmata', '@ofentse_tsie', '@hienshi', '@gbay99', '@samihonkonen', '@mofanon', '@sholt87', '@mtgrotto', '@eco11c', '@carlsbadbugkil1', '@kushwush', '@gailsimone', '@beauscoven', '@organicallyrude', '@1rockstar62', '@adamnibloe', '@valdes1978', '@hashtagteaclub', '@weapon_x_music', '@darchambau', '@clnv_', '@mailonline', '@breakingnewslh', '@bree_mars', '@roguewatson', '@nycdivorcelaw', '@rawfoodbliss', '@elianaraquel', '@tellyfckngo', '@jaycootchi', '@cbsbigbrother', '@laurenjauregui', '@cityofhummus', '@ilnewsflash', '@collapsed', '@reddakushgodd', '@snapharmony', '@tammy_w1997', '@elijahmallari', '@cnni', '@prisonplanet', '@bardissimo', '@random_tourist', '@thatrussianman', '@cspanwj', '@author_mike', '@yankees', '@rinkydnk2', '@zaibatsunews', '@neoprogressive1', '@thelegendblue', '@cozmo23', '@ganseyman', '@huffpostarts', '@amznfavorites', '@georgous__', '@catwoman1775', '@tackettdc', '@9newsbrisbane', '@9newsgoldcoast', '@sinkingshipindy', '@stonebrewingco', '@startide', '@deniseromano', '@dylanmcclure55', '@assassinkpg', '@devon_breneman', '@vixmeldrew', '@_dangdaddy', '@crimsonfuckingv', '@bitchl0vecannon', '@malabamiandsons', '@nicolaclements4', '@epcotexplorer', '@eyecuts', '@erasuterism', '@offtrackhorse', '@eeenice221', '@swayoung01', '@dustpiggies', '@flowri', '@rangerkaitimay', '@madonnamking', '@lavapixcom', '@mattcohen4fake', '@sharethis', '@scottdpierce', '@billharris_tv', '@harrisgle', '@beezersun', '@meyerbjoern', '@thelonevirologi', '@mackayim', '@whippenz', '@markoturner', '@annaciclismo', '@coach_keith44', '@hannomottola', '@trpreston01', '@mlrydalch', '@nigeltanner1', '@5sos', '@ashton5sos', '@luke5sos', '@marcoarment', '@emmychappy', '@dw_english', '@guy_reginald', '@sarahksilverman', '@hronlinetweets', '@fedporn', '@joonma_', '@beautiful_juic1', '@funkylilshack', '@mariaf30', '@ijournal', '@petereallen', '@huffpostuk', '@bbc5live', '@eileenmfl', '@leonalewis', '@dmassa5', '@seattledot', '@seattletimes', '@madisonpa_', '@wrongdejavu', '@aiginsurance', '@medic914', '@aace_org', '@nervana_1', '@astros', '@eggalie', '@candace_dx', '@parksboardfacts', '@johngreen', '@robthier_en', '@ik4len', '@minhazmerchant', '@vinustrip', '@untmdoutdoors', '@dyannbridges', '@yeshayad', '@slosheriff', '@salmanmydarling', '@anthxvy', '@hellfire_ev', '@jackperu1', '@tennoatax', '@uchicago', '@careemergencies', '@beyonce', '@nicolekidman', '@oprah', '@groupon_uk', '@i_amtalia', '@sgc72', '@uber', '@silent0siris', '@karijobe', '@codycarnes', '@ag_usa', '@hgf52611', '@nasasolarsystem', '@carajdeievingnc', '@jasminehuerta24', '@torontorc', '@thehammers_', '@tonycottee1986', '@nypdnews', '@engineshed', '@onfireanders', '@_dmerida', '@emergencymgtmag', '@eganator2000']\n"
          ]
        }
      ],
      "source": [
        "investigate_vocabulary(vectorizer1.vocabulary_)"
      ]
    },
    {
      "cell_type": "markdown",
      "metadata": {
        "id": "Wetr80-ILULV"
      },
      "source": [
        "**Сравнение:** Можно заметить, что с помощью твит токенайзера мы нормально отделили хэштэги и упоминания "
      ]
    },
    {
      "cell_type": "markdown",
      "metadata": {
        "id": "6_k_-i1x3HvM"
      },
      "source": [
        "## Задание 7 (2 балла)\n",
        "\n",
        "В scikit-learn мы можем оценивать процесс подсчета матрицы через CountVectorizer. У CountVectorizer, как и у других наследников \\_VectorizerMixin, есть аргумент tokenizer и preprocessor. preprocessor применится в самом начале к каждой строке вашего датасета, tokenizer же должен принять строку и вернуть токены.\n",
        "Давайте напишем кастомный токенайзер, которые сделает все, что нам нужно: \n",
        "\n",
        "0. Приведет все буквы к нижнему регистру\n",
        "1. Разобьет текст на токены с помощью TweetTokenizer из пакета nltk\n",
        "2. Удалит все токены содержащие не латинские буквы, кроме смайликов (будем считать ими токены содержащие только пунктуацию и, как минимум, одну скобочку) и хэштегов, которые после начальной # содержат только латинские буквы.\n",
        "3. Удалит все токены, которые перечислены в nltk.corpus.stopwords.words('english')\n",
        "4. Проведет стемминг с помощью SnowballStemmer\n",
        "\n"
      ]
    },
    {
      "cell_type": "code",
      "execution_count": 624,
      "metadata": {},
      "outputs": [
        {
          "name": "stderr",
          "output_type": "stream",
          "text": [
            "[nltk_data] Downloading package stopwords to\n",
            "[nltk_data]     /Users/dmitrysakharov/nltk_data...\n",
            "[nltk_data]   Package stopwords is already up-to-date!\n"
          ]
        }
      ],
      "source": [
        "from nltk.corpus import stopwords\n",
        "from nltk.stem import SnowballStemmer\n",
        "import nltk\n",
        "nltk.download('stopwords')\n",
        "import string"
      ]
    },
    {
      "cell_type": "code",
      "execution_count": 625,
      "metadata": {},
      "outputs": [],
      "source": [
        "tweet_tokenizer = TweetTokenizer()\n",
        "stop_words = set(stopwords.words('english'))\n",
        "stemmer = SnowballStemmer('english')"
      ]
    },
    {
      "cell_type": "code",
      "execution_count": 626,
      "metadata": {
        "id": "qhwmi7DEMD25"
      },
      "outputs": [],
      "source": [
        "def contains_only_latin_letters(s: str) -> bool:\n",
        "    # Проверка, содержит ли слово только латинские буквы\n",
        "    # -- YOUR CODE HERE --\n",
        "    return all(ord(c) < 128 for c in s) and s.isalpha()\n",
        "\n",
        "def is_emoji(s: str) -> bool:\n",
        "    # Проверка, является ли слово смайликом\n",
        "    # -- YOUR CODE HERE --\n",
        "    if '(' not in s and ')' not in s:\n",
        "        return False\n",
        "    return all([i in punctuation for i in s])\n",
        "\n",
        "\n",
        "def is_hashtag(s: str) -> bool:\n",
        "    # Проверка, является ли слово хэштегом\n",
        "    # -- YOUR CODE HERE --\n",
        "    if s.startswith('#')==False:\n",
        "        return False\n",
        "    return s[1:].isalpha()\n",
        "\n",
        "def custom_preprocessor(s: str) -> str:\n",
        "    return s.lower()\n",
        "\n",
        "def custom_tokenizer(s: str) -> List[str]:    \n",
        "    # Кастомный токенайзер\n",
        "    # -- YOUR CODE HERE --\n",
        "    tokens = tweet_tokenizer.tokenize(s)\n",
        "    f_tokens = []\n",
        "    for token in tokens:\n",
        "        if (contains_only_latin_letters(token) or is_emoji(token) or is_hashtag(token)) and token not in stop_words:\n",
        "            stemmed_token = stemmer.stem(token)\n",
        "            f_tokens.append(stemmed_token)\n",
        "    return f_tokens\n",
        "  "
      ]
    },
    {
      "cell_type": "code",
      "execution_count": 627,
      "metadata": {
        "colab": {
          "base_uri": "https://localhost:8080/"
        },
        "id": "vYzPZzf8O6vj",
        "outputId": "b1107f8a-eef7-49f7-8ed3-910be791d645"
      },
      "outputs": [
        {
          "data": {
            "text/plain": [
              "['she', 'love', 'paint', ':-)', '#art']"
            ]
          },
          "execution_count": 627,
          "metadata": {},
          "output_type": "execute_result"
        }
      ],
      "source": [
        "custom_tokenizer('She LOVES painting :-) #art')"
      ]
    },
    {
      "cell_type": "markdown",
      "metadata": {
        "id": "2S_-ThAf5It4"
      },
      "source": [
        "Продемонстрируйте работу вашей функции на первых десяти текстах в обучающей выборке."
      ]
    },
    {
      "cell_type": "code",
      "execution_count": 628,
      "metadata": {},
      "outputs": [],
      "source": [
        "from sklearn.feature_extraction.text import CountVectorizer\n",
        "\n",
        "vectorizer2 = CountVectorizer(preprocessor = custom_preprocessor, tokenizer=custom_tokenizer)\n"
      ]
    },
    {
      "cell_type": "code",
      "execution_count": 629,
      "metadata": {},
      "outputs": [],
      "source": [
        "train_new1 = train_new[0:10]['text_all']"
      ]
    },
    {
      "cell_type": "code",
      "execution_count": 630,
      "metadata": {},
      "outputs": [
        {
          "data": {
            "text/plain": [
              "1186    bridge%20collapse   Ashes 2015: AustraliaÛªs ...\n",
              "4071    hail Carol Stream, Illinois GREAT MICHIGAN TEC...\n",
              "5461    police Houston  CNN: Tennessee movie theater s...\n",
              "5787    rioting   Still rioting in a couple of hours l...\n",
              "7445    wounds Lake Highlands Crack in the path where ...\n",
              "151     airplane%20accident Somewhere Out There Expert...\n",
              "915     bloody Isolated City In World Perth 'I came to...\n",
              "1305    burning   @JohnsonTionne except idk them?? it'...\n",
              "2570    destroy he/him or she/her (ask) destroy the house\n",
              "7399    wounded Maracay y Nirgua, Venezuela Police Off...\n",
              "Name: text_all, dtype: object"
            ]
          },
          "execution_count": 630,
          "metadata": {},
          "output_type": "execute_result"
        }
      ],
      "source": [
        "train_new1"
      ]
    },
    {
      "cell_type": "code",
      "execution_count": 631,
      "metadata": {
        "id": "A1fh3_itPz7D"
      },
      "outputs": [],
      "source": [
        "X = vectorizer2.fit_transform(train_new1)"
      ]
    },
    {
      "cell_type": "code",
      "execution_count": 632,
      "metadata": {},
      "outputs": [
        {
          "data": {
            "text/plain": [
              "(10, 94)"
            ]
          },
          "execution_count": 632,
          "metadata": {},
          "output_type": "execute_result"
        }
      ],
      "source": [
        "X.shape"
      ]
    },
    {
      "cell_type": "code",
      "execution_count": 633,
      "metadata": {},
      "outputs": [
        {
          "data": {
            "text/plain": [
              "array([[0, 0, 0, 0, 0, 0, 0, 0, 1, 1, 0, 2, 0, 0, 0, 0, 2, 1, 0, 0, 0, 0,\n",
              "        0, 0, 0, 1, 0, 0, 0, 0, 0, 0, 1, 0, 0, 0, 0, 0, 0, 0, 0, 0, 0, 0,\n",
              "        1, 0, 0, 0, 0, 0, 0, 0, 0, 0, 0, 0, 0, 0, 0, 0, 0, 0, 0, 0, 0, 0,\n",
              "        0, 0, 0, 0, 0, 0, 0, 0, 0, 0, 0, 0, 0, 0, 0, 0, 0, 0, 0, 0, 0, 1,\n",
              "        0, 0, 0, 0, 1, 0],\n",
              "       [1, 0, 1, 0, 0, 0, 0, 0, 0, 0, 0, 0, 0, 0, 0, 0, 0, 0, 0, 0, 1, 1,\n",
              "        0, 0, 0, 0, 0, 0, 0, 0, 0, 0, 0, 0, 0, 0, 0, 0, 0, 0, 0, 1, 1, 0,\n",
              "        0, 0, 0, 0, 0, 1, 0, 0, 0, 0, 0, 0, 0, 0, 0, 1, 0, 0, 0, 0, 0, 0,\n",
              "        0, 0, 0, 0, 0, 0, 0, 0, 0, 0, 0, 0, 0, 0, 1, 0, 0, 1, 0, 1, 0, 0,\n",
              "        0, 0, 0, 0, 0, 0],\n",
              "       [0, 0, 0, 0, 0, 0, 0, 0, 0, 0, 0, 0, 0, 0, 0, 0, 0, 0, 0, 0, 0, 0,\n",
              "        0, 0, 1, 0, 0, 0, 0, 0, 0, 0, 0, 0, 0, 0, 0, 0, 0, 0, 0, 0, 0, 0,\n",
              "        0, 0, 0, 1, 0, 0, 0, 0, 0, 1, 0, 0, 0, 0, 0, 0, 0, 1, 0, 0, 0, 0,\n",
              "        0, 2, 0, 0, 0, 0, 0, 0, 1, 0, 0, 0, 0, 0, 0, 0, 1, 0, 1, 0, 1, 0,\n",
              "        0, 0, 0, 0, 0, 0],\n",
              "       [0, 0, 0, 0, 0, 0, 0, 0, 0, 0, 0, 0, 0, 0, 0, 0, 0, 0, 0, 0, 0, 0,\n",
              "        0, 1, 0, 0, 1, 0, 0, 0, 0, 0, 0, 0, 0, 0, 0, 0, 0, 0, 0, 0, 0, 0,\n",
              "        0, 1, 0, 0, 0, 0, 0, 0, 0, 0, 0, 0, 0, 1, 0, 0, 0, 0, 0, 0, 0, 0,\n",
              "        0, 0, 0, 0, 0, 0, 2, 0, 0, 0, 0, 0, 0, 1, 0, 0, 0, 0, 0, 0, 0, 0,\n",
              "        0, 0, 0, 0, 0, 0],\n",
              "       [0, 0, 0, 0, 0, 0, 0, 0, 0, 0, 0, 0, 1, 0, 0, 0, 0, 0, 0, 0, 0, 0,\n",
              "        0, 0, 0, 0, 0, 1, 0, 0, 0, 1, 0, 0, 0, 0, 0, 0, 0, 0, 0, 0, 0, 1,\n",
              "        0, 0, 0, 0, 0, 0, 0, 0, 0, 0, 0, 1, 1, 1, 0, 0, 1, 0, 0, 0, 0, 1,\n",
              "        0, 0, 0, 0, 0, 1, 0, 1, 0, 0, 0, 0, 0, 0, 0, 1, 0, 0, 0, 0, 0, 0,\n",
              "        0, 0, 1, 0, 0, 2],\n",
              "       [0, 1, 0, 0, 0, 1, 1, 2, 0, 0, 0, 0, 0, 1, 0, 0, 0, 0, 0, 0, 0, 0,\n",
              "        0, 0, 0, 0, 0, 0, 0, 1, 0, 0, 0, 1, 0, 0, 2, 1, 1, 1, 0, 0, 0, 0,\n",
              "        0, 0, 0, 0, 0, 0, 0, 1, 0, 0, 0, 0, 0, 0, 0, 0, 0, 0, 0, 0, 0, 0,\n",
              "        0, 0, 0, 0, 1, 0, 0, 0, 0, 0, 0, 0, 1, 0, 0, 0, 0, 0, 0, 0, 0, 0,\n",
              "        0, 0, 0, 0, 0, 0],\n",
              "       [0, 0, 0, 0, 0, 0, 0, 0, 0, 0, 0, 0, 0, 0, 1, 1, 0, 0, 0, 1, 0, 0,\n",
              "        1, 0, 0, 0, 0, 0, 0, 0, 0, 0, 0, 0, 0, 0, 0, 0, 0, 0, 1, 0, 0, 0,\n",
              "        0, 0, 0, 0, 0, 0, 1, 0, 1, 1, 1, 0, 0, 0, 0, 0, 0, 0, 0, 0, 1, 0,\n",
              "        1, 0, 0, 1, 0, 0, 0, 0, 0, 0, 1, 1, 0, 0, 0, 0, 0, 0, 0, 0, 0, 0,\n",
              "        0, 1, 0, 1, 0, 0],\n",
              "       [0, 0, 0, 0, 0, 0, 0, 0, 0, 0, 0, 0, 0, 0, 0, 0, 0, 0, 2, 0, 0, 0,\n",
              "        0, 0, 0, 0, 0, 0, 0, 0, 0, 0, 0, 0, 1, 0, 0, 0, 0, 0, 0, 0, 0, 0,\n",
              "        0, 0, 0, 0, 1, 0, 0, 0, 0, 0, 0, 0, 0, 0, 0, 0, 0, 0, 0, 0, 0, 0,\n",
              "        0, 0, 1, 0, 0, 0, 0, 0, 0, 0, 0, 0, 0, 0, 0, 0, 0, 0, 0, 0, 0, 0,\n",
              "        0, 0, 0, 0, 0, 0],\n",
              "       [0, 0, 0, 1, 1, 0, 0, 0, 0, 0, 1, 0, 0, 0, 0, 0, 0, 0, 0, 0, 0, 0,\n",
              "        0, 0, 0, 0, 0, 0, 0, 0, 2, 0, 0, 0, 0, 0, 0, 0, 0, 0, 0, 0, 0, 0,\n",
              "        0, 0, 1, 0, 0, 0, 0, 0, 0, 0, 0, 0, 0, 0, 0, 0, 0, 0, 0, 0, 0, 0,\n",
              "        0, 0, 0, 0, 0, 0, 0, 0, 0, 0, 0, 0, 0, 0, 0, 0, 0, 0, 0, 0, 0, 0,\n",
              "        0, 0, 0, 0, 0, 0],\n",
              "       [0, 0, 0, 0, 0, 0, 0, 0, 0, 0, 0, 0, 0, 0, 0, 0, 0, 0, 0, 0, 0, 0,\n",
              "        0, 0, 0, 0, 0, 0, 1, 0, 0, 0, 0, 0, 0, 1, 0, 0, 0, 0, 0, 0, 0, 0,\n",
              "        0, 0, 0, 0, 0, 0, 0, 0, 0, 0, 0, 0, 0, 0, 1, 0, 0, 0, 1, 1, 0, 0,\n",
              "        0, 1, 0, 0, 0, 0, 0, 0, 0, 1, 0, 0, 0, 0, 0, 0, 1, 0, 0, 0, 0, 0,\n",
              "        1, 0, 0, 0, 0, 2]])"
            ]
          },
          "execution_count": 633,
          "metadata": {},
          "output_type": "execute_result"
        }
      ],
      "source": [
        "X.toarray()"
      ]
    },
    {
      "cell_type": "markdown",
      "metadata": {
        "id": "a5lNZ4tb3HvN"
      },
      "source": [
        "## Задание 8 (1 балл)\n",
        "\n",
        "1. Примените CountVectorizer с реализованным выше токенизатором к обучающим и тестовым выборкам.\n"
      ]
    },
    {
      "cell_type": "code",
      "execution_count": 634,
      "metadata": {
        "id": "LDqixz7QQEbn"
      },
      "outputs": [],
      "source": [
        "vectorizer = CountVectorizer(preprocessor = custom_preprocessor, tokenizer=custom_tokenizer)\n",
        "# -- YOUR CODE HERE --\n",
        "X_train = vectorizer.fit_transform(train_new['text_all'])\n",
        "X_test = vectorizer.transform(test_new['text_all'])\n"
      ]
    },
    {
      "cell_type": "code",
      "execution_count": 635,
      "metadata": {},
      "outputs": [],
      "source": [
        "y_train = train_new['target']\n",
        "y_test = test_new['target']"
      ]
    },
    {
      "cell_type": "code",
      "execution_count": 636,
      "metadata": {
        "id": "BVj03QV2QbWl"
      },
      "outputs": [],
      "source": [
        "from sklearn.linear_model import LogisticRegression\n",
        "# -- YOUR CODE HERE --\n",
        "model = LogisticRegression()\n",
        "model.fit(X_train, y_train)\n",
        "y_pred = model.predict(X_test)\n"
      ]
    },
    {
      "cell_type": "markdown",
      "metadata": {
        "id": "6Ch6uz2P5e-T"
      },
      "source": [
        "3. Посчитайте метрику f1-score на тестовых данных."
      ]
    },
    {
      "cell_type": "code",
      "execution_count": 637,
      "metadata": {
        "colab": {
          "base_uri": "https://localhost:8080/"
        },
        "id": "osyC0pdT3cSD",
        "outputId": "cd957d5f-5118-4b7f-d7ba-01bb5a524086"
      },
      "outputs": [
        {
          "name": "stdout",
          "output_type": "stream",
          "text": [
            "F1-score:  0.7533584094572812\n"
          ]
        }
      ],
      "source": [
        "from sklearn.metrics import f1_score\n",
        "\n",
        "f1 = f1_score(y_test, y_pred)\n",
        "\n",
        "print('F1-score: ', f1)"
      ]
    },
    {
      "cell_type": "markdown",
      "metadata": {
        "id": "aFIEYOMZ3HvN"
      },
      "source": [
        "## Задание 9 (1 балл)\n",
        "\n",
        "1. Повторите 8 задание, но с tf-idf векторизатором. Как изменилось качество?\n"
      ]
    },
    {
      "cell_type": "code",
      "execution_count": 638,
      "metadata": {
        "colab": {
          "base_uri": "https://localhost:8080/"
        },
        "id": "cDqs61hl3ve3",
        "outputId": "fdd72125-dfde-4183-d614-3b0bc9002ada"
      },
      "outputs": [],
      "source": [
        "from sklearn.feature_extraction.text import TfidfVectorizer\n",
        "\n",
        "vectorizer = TfidfVectorizer(preprocessor = custom_preprocessor, tokenizer=custom_tokenizer)\n",
        "# -- YOUR CODE HERE --\n",
        "X_train = vectorizer.fit_transform(train_new['text_all'])\n",
        "X_test = vectorizer.transform(test_new['text_all'])"
      ]
    },
    {
      "cell_type": "code",
      "execution_count": 639,
      "metadata": {},
      "outputs": [
        {
          "data": {
            "text/plain": [
              "(5329, 10485)"
            ]
          },
          "execution_count": 639,
          "metadata": {},
          "output_type": "execute_result"
        }
      ],
      "source": [
        "X_train.shape"
      ]
    },
    {
      "cell_type": "code",
      "execution_count": 640,
      "metadata": {},
      "outputs": [
        {
          "data": {
            "text/plain": [
              "(2284, 10485)"
            ]
          },
          "execution_count": 640,
          "metadata": {},
          "output_type": "execute_result"
        }
      ],
      "source": [
        "X_test.shape"
      ]
    },
    {
      "cell_type": "code",
      "execution_count": 641,
      "metadata": {},
      "outputs": [],
      "source": [
        "y_train = train_new['target']\n",
        "y_test = test_new['target']"
      ]
    },
    {
      "cell_type": "code",
      "execution_count": 642,
      "metadata": {},
      "outputs": [],
      "source": [
        "from sklearn.linear_model import LogisticRegression\n",
        "# -- YOUR CODE HERE --\n",
        "model = LogisticRegression()\n",
        "model.fit(X_train, y_train)\n",
        "y_pred = model.predict(X_test)"
      ]
    },
    {
      "cell_type": "code",
      "execution_count": 643,
      "metadata": {},
      "outputs": [
        {
          "name": "stdout",
          "output_type": "stream",
          "text": [
            "F1-score:  0.7429205996668518\n"
          ]
        }
      ],
      "source": [
        "from sklearn.metrics import f1_score\n",
        "\n",
        "f1 = f1_score(y_test, y_pred)\n",
        "\n",
        "print('F1-score: ', f1)"
      ]
    },
    {
      "cell_type": "markdown",
      "metadata": {
        "id": "SXaNclTZSFjO"
      },
      "source": [
        "1. **Ответ:** Чуть-чуть ухудшилось"
      ]
    },
    {
      "cell_type": "markdown",
      "metadata": {
        "id": "CPtk0lCA5POY"
      },
      "source": [
        "2. Мы можем еще сильнее уменьшить размер нашей матрицы, если отбросим значения df близкие к единице. Скорее всего такие слова не несут много информации о категории, так как встречаются достаточно часто. Ограничьте максимальный df в параметрах TfIdfVectorizer, поставьте верхнюю границу равную 0.9. Как изменился размер матрицы, как изменилось качество?\n"
      ]
    },
    {
      "cell_type": "code",
      "execution_count": 644,
      "metadata": {
        "colab": {
          "base_uri": "https://localhost:8080/"
        },
        "id": "EU-MRXyRSHLm",
        "outputId": "6b5353a8-5f3b-4220-fcd4-64eecfe20054"
      },
      "outputs": [
        {
          "name": "stdout",
          "output_type": "stream",
          "text": [
            "F1-score:  0.7429205996668518\n"
          ]
        }
      ],
      "source": [
        "# 2\n",
        "# -- YOUR CODE HERE --\n",
        "vectorizer = TfidfVectorizer(preprocessor = custom_preprocessor, tokenizer=custom_tokenizer,max_df=0.9)\n",
        "# -- YOUR CODE HERE --\n",
        "X_train1 = vectorizer.fit_transform(train_new['text_all'])\n",
        "X_test1 = vectorizer.transform(test_new['text_all'])\n",
        "y_train = train_new['target']\n",
        "y_test = test_new['target']\n",
        "# -- YOUR CODE HERE --\n",
        "model = LogisticRegression()\n",
        "model.fit(X_train1, y_train)\n",
        "y_pred = model.predict(X_test1)\n",
        "f1 = f1_score(y_test, y_pred)\n",
        "\n",
        "print('F1-score: ', f1)\n"
      ]
    },
    {
      "cell_type": "code",
      "execution_count": 645,
      "metadata": {},
      "outputs": [
        {
          "name": "stdout",
          "output_type": "stream",
          "text": [
            "(5329, 10485)\n",
            "(2284, 10485)\n"
          ]
        }
      ],
      "source": [
        "print(X_train1.shape)\n",
        "print(X_test1.shape)"
      ]
    },
    {
      "cell_type": "markdown",
      "metadata": {
        "id": "4Two_O3rSVmh"
      },
      "source": [
        "2. **Ответ:** Улучшения качества нет, размер матрицы также не изменился"
      ]
    },
    {
      "cell_type": "markdown",
      "metadata": {
        "id": "VhyjbI5X5QnG"
      },
      "source": [
        "3. Также мы можем уменьшить размер матрицы, удаляя слова со слишком маленьким df. Удалось ли добиться улучшения качества? "
      ]
    },
    {
      "cell_type": "code",
      "execution_count": 646,
      "metadata": {
        "colab": {
          "base_uri": "https://localhost:8080/"
        },
        "id": "9mNpIxv6SfKc",
        "outputId": "607ec22e-1fdb-4c29-bbc4-6447ed266349"
      },
      "outputs": [
        {
          "name": "stdout",
          "output_type": "stream",
          "text": [
            "min_df 0.00015 F1-score:  0.7429205996668518 X_train shape (5329, 10485)\n",
            "min_df 0.0002 F1-score:  0.7462520821765685 X_train shape (5329, 4522)\n",
            "min_df 0.00025 F1-score:  0.7462520821765685 X_train shape (5329, 4522)\n",
            "min_df 0.0003 F1-score:  0.7462520821765685 X_train shape (5329, 4522)\n",
            "min_df 0.00035 F1-score:  0.7462520821765685 X_train shape (5329, 4522)\n",
            "min_df 0.0005 F1-score:  0.7444690265486725 X_train shape (5329, 3135)\n",
            "min_df 0.001 F1-score:  0.7445175438596492 X_train shape (5329, 1740)\n",
            "min_df 0.005 F1-score:  0.7201735357917571 X_train shape (5329, 393)\n",
            "min_df 0.01 F1-score:  0.6288361320208454 X_train shape (5329, 127)\n",
            "min_df 0.02 F1-score:  0.4056463595839524 X_train shape (5329, 24)\n"
          ]
        }
      ],
      "source": [
        "# 3\n",
        "# -- YOUR CODE HERE --\n",
        "# 2\n",
        "# -- YOUR CODE HERE --\n",
        "for minn in [0.00015, 0.0002, 0.00025, 0.0003, 0.00035, 0.0005, 0.001, 0.005, 0.01, 0.02]:\n",
        "    vectorizer = TfidfVectorizer(preprocessor = custom_preprocessor, tokenizer=custom_tokenizer, min_df=minn)\n",
        "    # -- YOUR CODE HERE --\n",
        "    X_train1 = vectorizer.fit_transform(train_new['text_all'])\n",
        "    X_test1 = vectorizer.transform(test_new['text_all'])\n",
        "    y_train = train_new['target']\n",
        "    y_test = test_new['target']\n",
        "    # -- YOUR CODE HERE --\n",
        "    model = LogisticRegression()\n",
        "    model.fit(X_train1, y_train)\n",
        "    y_pred = model.predict(X_test1)\n",
        "    f1 = f1_score(y_test, y_pred)\n",
        "\n",
        "    print('min_df', minn, 'F1-score: ', f1, 'X_train shape', X_train1.shape)\n",
        "\n"
      ]
    },
    {
      "cell_type": "markdown",
      "metadata": {
        "id": "imeD8skxSqdg"
      },
      "source": [
        "3. **Ответ:** Да, получилось добиться небольшого улучшения (максимальное улучшение от минимума 0.0002 до 0.00035)"
      ]
    },
    {
      "cell_type": "markdown",
      "metadata": {
        "id": "1l1sx4nB3HvN"
      },
      "source": [
        "## Задание 10 (1 балл)\n",
        "\n",
        "Еще один популяпный трюк, который позволит уменьшить количество признаков называется hashing trick. Его суть в том, то мы случайно группируем признаки ииии  ..... складываем их! А потом удаляем исходные признаки. В итоге все наши признаки это просто суммы исходных. Звучит странно, но это отлично работает. Давайте проверим этот трюк в нашем сеттинге.\n",
        "Также при таком подходе вам не нужно хранить словарь token->index, что тоже иногда полезно.\n",
        "\n",
        "1. Повторите задание 8 с HashingVectorizer, укажите количество фичей равное 5000.\n"
      ]
    },
    {
      "cell_type": "code",
      "execution_count": 647,
      "metadata": {
        "colab": {
          "base_uri": "https://localhost:8080/"
        },
        "id": "8qSoW894RXxz",
        "outputId": "720818f4-f774-4273-bb10-918ecc72ef44"
      },
      "outputs": [
        {
          "name": "stderr",
          "output_type": "stream",
          "text": [
            "/Users/dmitrysakharov/opt/anaconda3/envs/cat/lib/python3.9/site-packages/sklearn/feature_extraction/text.py:516: UserWarning: The parameter 'token_pattern' will not be used since 'tokenizer' is not None'\n",
            "  warnings.warn(\n"
          ]
        },
        {
          "name": "stdout",
          "output_type": "stream",
          "text": [
            "F1 score: *YOUR SCORE* 0.7194645844952593\n"
          ]
        }
      ],
      "source": [
        "from sklearn.feature_extraction.text import HashingVectorizer\n",
        "\n",
        "# -- YOUR CODE HERE --\n",
        "vectorizer = HashingVectorizer(n_features=5000, preprocessor=custom_preprocessor, tokenizer=custom_tokenizer)\n",
        "X_train1 = vectorizer.fit_transform(train_new['text_all'])\n",
        "X_test1 = vectorizer.transform(test_new['text_all'])\n",
        "y_train = train_new['target']\n",
        "y_test = test_new['target']\n",
        "# -- YOUR CODE HERE --\n",
        "model = LogisticRegression()\n",
        "model.fit(X_train1, y_train)\n",
        "y_pred = model.predict(X_test1)\n",
        "f1 = f1_score(y_test, y_pred)\n",
        "\n",
        "print('F1 score: *YOUR SCORE*', f1)"
      ]
    },
    {
      "cell_type": "markdown",
      "metadata": {
        "id": "1C3I4ceg6AG-"
      },
      "source": [
        "2. Какой из подходов показал самый высокий результат?\n"
      ]
    },
    {
      "cell_type": "markdown",
      "metadata": {
        "id": "_bIfyVlOS9Lu"
      },
      "source": [
        "2. **Ответ:** \n",
        "Обычный count vectorizer "
      ]
    },
    {
      "cell_type": "markdown",
      "metadata": {
        "id": "zylJ6l0R3HvN"
      },
      "source": [
        "## Задание 11 (1 балл)\n",
        "\n",
        "В этом задании нужно добиться f1 меры хотя в 0.75 на тестовых данных."
      ]
    },
    {
      "cell_type": "markdown",
      "metadata": {},
      "source": [
        "Вообще я добился 0.75 с обычным каунт вектонайзером, однако попробую побить этот рекорд"
      ]
    },
    {
      "cell_type": "code",
      "execution_count": 649,
      "metadata": {
        "id": "GSTVApFeS-OY"
      },
      "outputs": [
        {
          "name": "stdout",
          "output_type": "stream",
          "text": [
            "max_df 0.1 F1-score:  0.7486157253599114 X_train shape (5329, 5733)\n",
            "max_df 0.2 F1-score:  0.7486218302094818 X_train shape (5329, 5737)\n",
            "max_df 0.3 F1-score:  0.749448123620309 X_train shape (5329, 5740)\n",
            "max_df 0.4 F1-score:  0.7506909894969596 X_train shape (5329, 5741)\n",
            "max_df 0.5 F1-score:  0.7502774694783574 X_train shape (5329, 5742)\n",
            "max_df 0.6 F1-score:  0.7497219132369298 X_train shape (5329, 5743)\n"
          ]
        }
      ],
      "source": [
        "\n",
        "for maxx  in [ 0.1, 0.2, 0.3, 0.4, 0.5, 0.6]:\n",
        "    vectorizer = TfidfVectorizer(min_df=0.0003, max_df = maxx)\n",
        "    # -- YOUR CODE HERE --\n",
        "    X_train1 = vectorizer.fit_transform(train_new['text_all'])\n",
        "    X_test1 = vectorizer.transform(test_new['text_all'])\n",
        "    y_train = train_new['target']\n",
        "    y_test = test_new['target']\n",
        "    # -- YOUR CODE HERE --\n",
        "    model = LogisticRegression()\n",
        "    model.fit(X_train1, y_train)\n",
        "    y_pred = model.predict(X_test1)\n",
        "    f1 = f1_score(y_test, y_pred)\n",
        "    print('max_df', maxx, 'F1-score: ', f1, 'X_train shape', X_train1.shape)\n",
        "\n"
      ]
    },
    {
      "cell_type": "markdown",
      "metadata": {},
      "source": [
        "Также результата >0.75 я добился с TfidfVectorizer c дефолтным токенизатором, mindf=0.0003 и maxdf = 0.4."
      ]
    }
  ],
  "metadata": {
    "colab": {
      "collapsed_sections": [
        "YlLemInT3HvL",
        "A8CPBUal3HvL"
      ],
      "provenance": []
    },
    "kernelspec": {
      "display_name": "Python 3.9.12 ('cat')",
      "language": "python",
      "name": "python3"
    },
    "language_info": {
      "codemirror_mode": {
        "name": "ipython",
        "version": 3
      },
      "file_extension": ".py",
      "mimetype": "text/x-python",
      "name": "python",
      "nbconvert_exporter": "python",
      "pygments_lexer": "ipython3",
      "version": "3.9.12"
    },
    "vscode": {
      "interpreter": {
        "hash": "7b7f7f12165a99971f385bea93d02a75fa5e07e425ec5c9c2c6cfefd03db1651"
      }
    }
  },
  "nbformat": 4,
  "nbformat_minor": 0
}
