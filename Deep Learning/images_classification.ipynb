{
 "cells": [
  {
   "cell_type": "markdown",
   "metadata": {
    "cell_id": 1,
    "id": "kr9vAeEQlRVG"
   },
   "source": [
    "# Домашнее задание 2. Классификация изображений."
   ]
  },
  {
   "cell_type": "markdown",
   "metadata": {
    "cell_id": 3,
    "id": "BxX49gLclRVJ"
   },
   "source": [
    "In this task we will need to train an image classifier. We will work with a dataset, the name of which we will not disclose. You can look at the images in the dataset yourself. It contains 200 classes and about 5 thousand pictures for each class. Classes are numbered, as it is easy to guess, from 0 to 199. You can download the dataset here [here](https://yadi.sk/d/BNR41Vu3y0c7qA).\n",
    "\n",
    "The structure of the dataset is simple -- there are directories train/ and val/, where the training and validation data are located. In train/ and val/ there are directories corresponding to the classes of images, where the images themselves lie.\n",
    " \n",
    "__Job__. You should perform two tasks\n",
    "\n",
    "1) Achieve an accuracy **on validation of at least 0.44**. It is **forbidden** to use pre-trained models and image resizing in this task. 5 points\n",
    "\n",
    "2) Achieve accuracy **at least 0.83** on validation. It is allowed to resize and use pretrain in this task. 5 points\n",
    "\n",
    "Write a brief report about your experiments. What worked and what didn't work? Why did you decide to do it this way and not the other way around? Be sure to provide references to other people's code if you use it. Be sure to refer to articles / blogposts / questions on stackoverflow / youtubers' videos / courses / tips from Uncle Vasya and other additional materials if you use them. \n",
    "\n",
    "Your code must necessarily pass all `asserts` below.\n",
    "\n",
    "__Use of external data for training is strictly prohibited in both assignments. It is also prohibited to train on the validation sample__.\n",
    "\n",
    "\n",
    "__Grading Criteria__: The score is calculated using a simple formula: `min(10, 10 * your accuracy / 0.44)` for the first assignment and `min(10, 10 * (your accuracy - 0.5) / 0.34)` for the second assignment. Grades are rounded to the tenths using arithmetic rules.\n",
    "\n",
    "\n",
    "__Tips and Directions__:\n",
    " - You will probably need to do a lot of googling about classification and how to make it work. That's fine, everyone googles. But don't forget that you need to be ready to be responsible for the rolled up code :)\n",
    " - Use augmentations. Use the `torchvision.transforms` module or the [augmentations] library(https://github.com/albumentations-team/albumentations) for this purpose.\n",
    " - You can train from scratch or filetune (depending on the job) models from `torchvision`.\n",
    " - We recommend that you first write a dataset class (or use the `ImageFolder` class) that returns images and their corresponding classes, and then trayne functions using the templates below. However, we don't force you to do this. If you're not comfortable doing so, you can write code in a style you're comfortable with. But be aware that excessive modification of the templates below will increase the number of questions to your code and increase the probability of being called for defense :)\n",
    " - Validate- Track errors as early as possible to avoid wasting time.\n",
    " - To debug your code quickly, try to train on a small part of the dataset (say, 5-10 images just to make sure that the code runs). When you realize that you can debug everything, move on to training on the whole dataset\n",
    " - Make exactly one change in the model/augmentation/optimizer for each run to understand what and how it affects the result.\n",
    " - Fix random seed.\n",
    " - Start with simple models and gradually move to complex models. Training easy models saves a lot of time.\n",
    " - Set a schedule on the learning rate. Decrease it when the validation loss stops decreasing.\n",
    " - We advise you to use a GPU. If you don't have one, use google colab. If you don't feel comfortable using it on a regular basis, write and debug all code locally on CPU and then run the already written notebook in colab. The author's solution to the problem achieves the required accuracy in colab in 15 minutes of training.\n",
    " \n",
    "Good luck & have fun! :)\n"
   ]
  },
  {
   "cell_type": "code",
   "execution_count": 95,
   "metadata": {
    "id": "EWT3aFU9XmLJ"
   },
   "outputs": [
    {
     "name": "stderr",
     "output_type": "stream",
     "text": [
      "wandb: WARNING Calling wandb.login() after wandb.init() has no effect.\n"
     ]
    },
    {
     "data": {
      "text/plain": [
       "True"
      ]
     },
     "execution_count": 95,
     "metadata": {},
     "output_type": "execute_result"
    }
   ],
   "source": [
    "\n",
    "import wandb\n",
    "\n",
    "wandb.login()"
   ]
  },
  {
   "cell_type": "code",
   "execution_count": null,
   "metadata": {},
   "outputs": [],
   "source": [
    "import math\n",
    "import os\n",
    "import wandb\n",
    "import random\n",
    "import sys\n",
    "import matplotlib.pyplot as plt\n",
    "import numpy as np\n",
    "import pytorch_lightning as pl\n",
    "import os\n",
    "from torch import optim, nn, utils, Tensor\n",
    "from torchvision.transforms import ToTensor\n",
    "import lightning as L\n",
    "import torch.nn.functional as F\n",
    "from torch.optim import Adam\n",
    "import pandas as pd\n",
    "from torchvision.transforms import v2\n",
    "import torchvision\n",
    "import torchvision.transforms as transforms\n",
    "from PIL import Image\n",
    "from pytorch_lightning.loggers import WandbLogger\n",
    "from torch import nn\n",
    "from torch.nn import functional as F\n",
    "from torch.utils.data import DataLoader\n",
    "from torchmetrics.functional import accuracy\n",
    "from torchvision.datasets import ImageFolder\n",
    "from tqdm import tqdm"
   ]
  },
  {
   "cell_type": "code",
   "execution_count": 3,
   "metadata": {
    "id": "47YPLjDL-Mtv"
   },
   "outputs": [],
   "source": [
    "def seed_everything(seed):\n",
    "    random.seed(seed)\n",
    "    os.environ[\"PYTHONHASHSEED\"] = str(seed)\n",
    "    np.random.seed(seed)\n",
    "    torch.manual_seed(seed)\n",
    "    torch.cuda.manual_seed(seed)\n",
    "    torch.backends.cudnn.deterministic = True\n",
    "\n",
    "seed_everything(505505)"
   ]
  },
  {
   "cell_type": "markdown",
   "metadata": {
    "id": "RytEDW0ylRVN"
   },
   "source": [
    "## Task 0 "
   ]
  },
  {
   "cell_type": "markdown",
   "metadata": {
    "id": "2HZECedTvepi"
   },
   "source": [
    "### What can help get a 10"
   ]
  },
  {
   "cell_type": "markdown",
   "metadata": {
    "id": "dOioHGEiveso"
   },
   "source": [
    "1. use all possible optimization methods and experiment with them.\n",
    "2. Selection of learning rate. An example from the last seminar on how to do this: [How to find lr](https://pytorch-lightning.readthedocs.io/en/1.4.5/advanced/lr_finder.html)\n",
    "\n",
    "```\n",
    "  trainer = pl.Trainer(accelerator=“gpu”, max_epochs=2, auto_lr_find=True) \n",
    "\n",
    "  trainer.tune(module, train_dataloader, eval_dataloader)\n",
    "\n",
    "  trainer.fit(module, train_dataloader, eval_dataloader))\n",
    "```\n",
    "\n",
    "\n",
    "\n",
    "3. data augmentation. [Documentation (useful)](https://pytorch.org/vision/main/transforms.html), and [albumentation library](https://towardsdatascience.com/getting-started-with-albumentation-winning-deep-learning-image-augmentation-technique-in-pytorch-47aaba0ee3f8)\n",
    "4. Model architecture selection. \n",
    "5. You can handwrite your own model in YourNet, or you can import an untrained mesh of a known architecture from the torchvision.models module. One way to do this is to: \n",
    "\n",
    "  * `torchvision.models.resnet18(pretrained=False, num_classes=200).to(device)`.\n",
    "  * Documentation on possible models and how you can take them: [Documentation (useful)](https://pytorch.org/vision/stable/models.html)\n",
    "6. Properly normalize data when creating, example [youk, but here and the whole guide from and to](https://www.pluralsight.com/guides/image-classification-with-pytorch)\n",
    "7. Model Checkpointing. Save your progress (models) so that when something goes wrong you can start from there or just reproduce your results of the model you trained. \n",
    " * Example of how you can with wandb here: [Save the best models in wandb](https://docs.wandb.ai/guides/integrations/lightning)\n",
    " * A simple example is: [Save models to pytorch doc](https://pytorch.org/tutorials/beginner/saving_loading_models.html)\n"
   ]
  },
  {
   "cell_type": "markdown",
   "metadata": {
    "id": "WYePsQgNRB-n"
   },
   "source": [
    "### Data preprocessing"
   ]
  },
  {
   "cell_type": "code",
   "execution_count": 4,
   "metadata": {},
   "outputs": [
    {
     "name": "stdout",
     "output_type": "stream",
     "text": [
      "Original image size: 64 x 64\n"
     ]
    }
   ],
   "source": [
    "from PIL import Image\n",
    "\n",
    "image_path = 'dataset/train/class_000/00001.jpg'\n",
    "image = Image.open(image_path)\n",
    "width, height = image.size\n",
    "print(f'Original image size: {width} x {height}')\n"
   ]
  },
  {
   "cell_type": "code",
   "execution_count": 5,
   "metadata": {},
   "outputs": [],
   "source": [
    "import torch\n",
    "from torchvision.transforms import v2\n",
    "\n",
    "transforms = v2.Compose([\n",
    "    v2.ColorJitter(hue=0.05, saturation=0.05),\n",
    "    v2.RandomHorizontalFlip(p=0.5),\n",
    "    v2.RandomVerticalFlip(),\n",
    "    v2.RandomRotation(20),\n",
    "    v2.PILToTensor(),\n",
    "    v2.ToDtype(torch.float32, scale=True ),\n",
    "    v2.Normalize(mean=[0.485, 0.456, 0.406], std=[0.229, 0.224, 0.225]),\n",
    "])"
   ]
  },
  {
   "cell_type": "code",
   "execution_count": null,
   "metadata": {},
   "outputs": [],
   "source": [
    "transforms_val = v2.Compose([\n",
    "    v2.PILToTensor(),\n",
    "    v2.ToDtype(torch.float32, scale=True ),\n",
    "    v2.Normalize(mean=[0.485, 0.456, 0.406], std=[0.229, 0.224, 0.225]),\n",
    "])"
   ]
  },
  {
   "cell_type": "code",
   "execution_count": 6,
   "metadata": {
    "cell_id": 5,
    "id": "QEdDQtHdlRVO"
   },
   "outputs": [],
   "source": [
    "\n",
    "train_transform = transforms\n",
    "val_transform = transforms_val\n",
    "\n",
    "train_dataset = ImageFolder('dataset/train', transform=train_transform)\n",
    "val_dataset = ImageFolder('dataset/val', transform=val_transform)\n",
    "\n",
    "\n",
    "train_dataloader = DataLoader(train_dataset, batch_size=32, shuffle=True,num_workers=4, persistent_workers=True ) \n",
    "val_dataloader = DataLoader(val_dataset, batch_size=32, shuffle=False, num_workers=4, persistent_workers=True) "
   ]
  },
  {
   "cell_type": "code",
   "execution_count": 7,
   "metadata": {
    "cell_id": 6,
    "id": "mrg4Yj0VlRVP"
   },
   "outputs": [
    {
     "name": "stdout",
     "output_type": "stream",
     "text": [
      "tests passed\n"
     ]
    }
   ],
   "source": [
    "# Just very simple sanity checks\n",
    "assert isinstance(train_dataset[0], tuple)\n",
    "assert len(train_dataset[0]) == 2\n",
    "assert isinstance(train_dataset[1][1], int)\n",
    "print(\"tests passed\")"
   ]
  },
  {
   "cell_type": "markdown",
   "metadata": {
    "id": "EOuM0EEYj7Ml"
   },
   "source": [
    "### Lets take a look at the pictures"
   ]
  },
  {
   "cell_type": "code",
   "execution_count": 10,
   "metadata": {
    "id": "DeuB0YC3LYRm"
   },
   "outputs": [
    {
     "name": "stderr",
     "output_type": "stream",
     "text": [
      "Clipping input data to the valid range for imshow with RGB data ([0..1] for floats or [0..255] for integers).\n"
     ]
    },
    {
     "data": {
      "image/png": "[encoded data removed]",
      "text/plain": [
       "<Figure size 640x480 with 1 Axes>"
      ]
     },
     "metadata": {},
     "output_type": "display_data"
    },
    {
     "name": "stderr",
     "output_type": "stream",
     "text": [
      "Clipping input data to the valid range for imshow with RGB data ([0..1] for floats or [0..255] for integers).\n"
     ]
    },
    {
     "data": {
      "image/png": "[encoded data removed]",
      "text/plain": [
       "<Figure size 640x480 with 1 Axes>"
      ]
     },
     "metadata": {},
     "output_type": "display_data"
    }
   ],
   "source": [
    "for batch in val_dataloader:\n",
    "    images, class_nums = batch\n",
    "    plt.imshow(images[4].permute(1, 2, 0))\n",
    "    plt.show()\n",
    "    plt.imshow(images[19].permute(1, 2, 0))\n",
    "    plt.show()\n",
    "    break"
   ]
  },
  {
   "cell_type": "markdown",
   "metadata": {
    "id": "LCwKB-3nKm1-"
   },
   "source": [
    "\n",
    "## Assignment 1. \n",
    "\n",
    "5 points\n",
    "Achieve at least 0.44 on validation. In this task it is forbidden to use pre-trained models and image resizing.\n",
    "\n",
    "\n",
    "In order to beat the scor (considered below) by 2.5/5 points (i.e. half for the task) it is enough to follow a couple of simple rules of life:\n",
    "1. augmentation (without it it will be very difficult)\n",
    "2. Optimizers can (and should) be used with each other. However, when you test something, don't change several parameters at once - you will throw off the logic of the experiments\n",
    "3. do not use full-link models or the very first convolutional models, use more modern architectures (that you met in the lectures).\n",
    "4. Look at all the notebooks from past seminars and make something common out of them. Seminar notebooks will suffice over and above\n"
   ]
  },
  {
   "cell_type": "markdown",
   "metadata": {
    "id": "pWR2l6ymZfRJ"
   },
   "source": [
    "## Model"
   ]
  },
  {
   "cell_type": "code",
   "execution_count": 80,
   "metadata": {},
   "outputs": [],
   "source": [
    "class BasicBlock(nn.Module):\n",
    "\n",
    "    def __init__(self, in_planes, planes, stride=1):\n",
    "        super(BasicBlock, self).__init__()\n",
    "        self.conv1 = nn.Conv2d(in_planes, planes, kernel_size=3, stride=stride, padding=1, bias=False)\n",
    "        self.bn1 = nn.BatchNorm2d(planes)\n",
    "        self.conv2 = nn.Conv2d(planes, planes, kernel_size=3, stride=1, padding=1, bias=False)\n",
    "        self.bn2 = nn.BatchNorm2d(planes)\n",
    "\n",
    "        self.shortcut = nn.Sequential()\n",
    "        if stride != 1 or in_planes != planes:\n",
    "            self.shortcut = nn.Sequential(\n",
    "                nn.Conv2d(in_planes, planes, kernel_size=1, stride=stride, bias=False),\n",
    "                nn.BatchNorm2d(planes)\n",
    "            )\n",
    "\n",
    "    def forward(self, x):\n",
    "        out = F.relu(self.bn1(self.conv1(x)))\n",
    "        out = self.bn2(self.conv2(out))\n",
    "        out += self.shortcut(x)\n",
    "        out = F.relu(out)\n",
    "        return out\n"
   ]
  },
  {
   "cell_type": "markdown",
   "metadata": {},
   "source": [
    "### It is kinda a resnet but adjusted to 64x63 pictures by me"
   ]
  },
  {
   "cell_type": "code",
   "execution_count": 104,
   "metadata": {},
   "outputs": [],
   "source": [
    "class BigFloppaNet(torch.nn.Module):\n",
    "    def __init__(self):\n",
    "        super(BigFloppaNet, self).__init__()\n",
    "        self.in_planes = 64\n",
    "\n",
    "        self.conv1 = nn.Conv2d(in_channels=3, out_channels=64,kernel_size=(5, 5), stride=(2, 2), padding=(1, 1), bias=True )\n",
    "        self.bn1 = nn.BatchNorm2d(num_features=64, eps=1e-05, momentum=0.1, affine=True, track_running_stats=True )\n",
    "        self.relu = nn.ReLU()\n",
    "        self.drop = nn.Dropout(0.3)\n",
    "        self.drop_fc = nn.Dropout(0.5)\n",
    "\n",
    "        self.maxpool = nn.MaxPool2d(kernel_size=2, stride=2, padding=0, dilation=1, ceil_mode=False)\n",
    "        self.layer1 =self._make_layer(64, 2, stride=1)\n",
    "        self.layer2 = self._make_layer(128, 2, stride=2)\n",
    "        self.layer3 = self._make_layer( 256, 2, stride=2)\n",
    "        self.avgpool = nn.AvgPool2d(kernel_size=2, stride = 2)\n",
    "        self.flatten = nn.Flatten()\n",
    "\n",
    "        self.linear = nn.Linear(4096, 200)\n",
    "\n",
    "        self.avgpool = nn.AvgPool2d(kernel_size=2, stride = 2)\n",
    "\n",
    "    def _make_layer(self, planes, num_blocks, stride):\n",
    "        strides = [stride] + [1] * (num_blocks - 1)\n",
    "        layers = []\n",
    "        for stride in strides:\n",
    "            layers.append(BasicBlock(self.in_planes, planes, stride))\n",
    "            self.in_planes = planes\n",
    "        return nn.Sequential(*layers)\n",
    "\n",
    "\n",
    "    def forward(self, images, target=None):\n",
    "        out = self.conv1(images)\n",
    "        out = self.bn1(out)\n",
    "        out = self.relu(out)\n",
    "        out = self.drop(out)\n",
    "        out = self.layer1(out)\n",
    "        out = self.drop(out)\n",
    "        out = self.layer2(out)\n",
    "        out = self.drop(out)\n",
    "        out = self.layer3(out)\n",
    "        out = self.avgpool(out)\n",
    "        out = self.flatten(out)\n",
    "        out = self.drop_fc(out)\n",
    "        out = self.linear(out)\n",
    "        return out\n",
    "\n",
    "    def get_accuracy(self, dataloader):\n",
    "        self.eval()\n",
    "        correct = 0\n",
    "        total = 0\n",
    "        with torch.no_grad():\n",
    "            for images, labels in  dataloader:\n",
    "                outputs = self.forward(images)\n",
    "                _, predicted = torch.max(outputs, 1)\n",
    "                total += labels.size(0)\n",
    "                correct += (predicted == labels).sum().item()\n",
    "        accuracy = 100 * correct / total\n",
    "        return accuracy\n"
   ]
  },
  {
   "cell_type": "code",
   "execution_count": 105,
   "metadata": {},
   "outputs": [],
   "source": [
    "class BigFloppaModule(pl.LightningModule):\n",
    "    def __init__(self, model, learning_rate):\n",
    "        super().__init__()\n",
    "        self.save_hyperparameters()\n",
    "        self.model = model\n",
    "        self.learning_rate = learning_rate\n",
    "\n",
    "    def forward(self, x):\n",
    "        return self.model(x)\n",
    "\n",
    "\n",
    "    def configure_optimizers(self):\n",
    "        optimizer = optim.RMSprop(self.model.parameters(), lr = self.learning_rate, weight_decay=1e-4)\n",
    "        lambda_func = lambda epoch: 0.96**epoch\n",
    "        scheduler = torch.optim.lr_scheduler.LambdaLR(optimizer, lr_lambda=lambda_func)\n",
    "        return [optimizer], [scheduler]\n",
    "\n",
    "    def training_step(self, train_batch, batch_idx):\n",
    "        x, y = train_batch\n",
    "        output = self.model(x)\n",
    "        loss = F.cross_entropy(output, y)\n",
    "        self.log('train_loss', loss, prog_bar=True, on_epoch=True)\n",
    "\n",
    "        acc = (torch.argmax(output, dim=1) == y).float().mean()\n",
    "        self.log('train_acc', acc, prog_bar=True, on_epoch=True)\n",
    "\n",
    "        return loss\n",
    "\n",
    "\n",
    "\n",
    "    def validation_step(self, val_batch, batch_idx):\n",
    "        x, y = val_batch\n",
    "        y_hat = self(x)\n",
    "        val_loss = F.cross_entropy(y_hat, y)\n",
    "        self.log('val_loss', val_loss, prog_bar=True, on_epoch=True)\n",
    "\n",
    "        acc = (torch.argmax(y_hat, dim=1) == y).float().mean()\n",
    "        self.log('val_acc', acc, prog_bar=True, on_epoch=True)\n",
    "        return val_loss"
   ]
  },
  {
   "cell_type": "code",
   "execution_count": null,
   "metadata": {},
   "outputs": [],
   "source": [
    "device = torch.device('cuda:0')"
   ]
  },
  {
   "cell_type": "code",
   "execution_count": 106,
   "metadata": {},
   "outputs": [
    {
     "data": {
      "text/html": [
       "Finishing last run (ID:wdtrzlyh) before initializing another..."
      ],
      "text/plain": [
       "<IPython.core.display.HTML object>"
      ]
     },
     "metadata": {},
     "output_type": "display_data"
    },
    {
     "data": {
      "text/html": [
       "<style>\n",
       "    table.wandb td:nth-child(1) { padding: 0 10px; text-align: left ; width: auto;} td:nth-child(2) {text-align: left ; width: 100%}\n",
       "    .wandb-row { display: flex; flex-direction: row; flex-wrap: wrap; justify-content: flex-start; width: 100% }\n",
       "    .wandb-col { display: flex; flex-direction: column; flex-basis: 100%; flex: 1; padding: 10px; }\n",
       "    </style>\n",
       "<div class=\"wandb-row\"><div class=\"wandb-col\"><h3>Run history:</h3><br/><table class=\"wandb\"><tr><td>epoch</td><td>▁▁▁▁▁▁▁▂▂▂▂▂▂▂▄▄▄▄▄▄▅▅▅▅▅▅▅▇▇▇▇▇▇███████</td></tr><tr><td>train_acc_epoch</td><td>▁▃▅▆▇█</td></tr><tr><td>train_acc_step</td><td>▁▁▁▂▂▁▄▁▃▄▄▄▄▃▄▄▅▅▄▄▄▅▄▇▇▇▅▅▄▄█▄▅▇█▇▆▇▇▅</td></tr><tr><td>train_loss_epoch</td><td>█▅▃▂▂▁</td></tr><tr><td>train_loss_step</td><td>██▇▆▆▆▅▆▅▄▄▄▅▄▄▄▄▃▃▃▄▃▄▂▂▂▂▃▂▂▁▃▃▁▂▃▁▂▁▁</td></tr><tr><td>trainer/global_step</td><td>▁▁▁▂▂▂▂▂▂▃▃▃▃▃▃▄▄▄▄▄▅▅▅▅▅▆▆▆▆▆▆▇▇▇▇▇▇███</td></tr><tr><td>val_acc</td><td>▁▄▆▇██</td></tr><tr><td>val_loss</td><td>█▅▃▂▁▁</td></tr></table><br/></div><div class=\"wandb-col\"><h3>Run summary:</h3><br/><table class=\"wandb\"><tr><td>epoch</td><td>5</td></tr><tr><td>train_acc_epoch</td><td>0.28887</td></tr><tr><td>train_acc_step</td><td>0.22</td></tr><tr><td>train_loss_epoch</td><td>3.04679</td></tr><tr><td>train_loss_step</td><td>2.94679</td></tr><tr><td>trainer/global_step</td><td>11999</td></tr><tr><td>val_acc</td><td>0.2592</td></tr><tr><td>val_loss</td><td>3.19503</td></tr></table><br/></div></div>"
      ],
      "text/plain": [
       "<IPython.core.display.HTML object>"
      ]
     },
     "metadata": {},
     "output_type": "display_data"
    },
    {
     "data": {
      "text/html": [
       " View run <strong style=\"color:#cdcd00\">neat-violet-2</strong> at: <a href='https://wandb.ai/to505to505_team/FloppaNet1/runs/wdtrzlyh' target=\"_blank\">https://wandb.ai/to505to505_team/FloppaNet1/runs/wdtrzlyh</a><br/> View project at: <a href='https://wandb.ai/to505to505_team/FloppaNet1' target=\"_blank\">https://wandb.ai/to505to505_team/FloppaNet1</a><br/>Synced 6 W&B file(s), 0 media file(s), 5 artifact file(s) and 0 other file(s)"
      ],
      "text/plain": [
       "<IPython.core.display.HTML object>"
      ]
     },
     "metadata": {},
     "output_type": "display_data"
    },
    {
     "data": {
      "text/html": [
       "Find logs at: <code>./wandb/run-20240516_000849-wdtrzlyh/logs</code>"
      ],
      "text/plain": [
       "<IPython.core.display.HTML object>"
      ]
     },
     "metadata": {},
     "output_type": "display_data"
    },
    {
     "data": {
      "text/html": [
       "Successfully finished last run (ID:wdtrzlyh). Initializing new run:<br/>"
      ],
      "text/plain": [
       "<IPython.core.display.HTML object>"
      ]
     },
     "metadata": {},
     "output_type": "display_data"
    },
    {
     "data": {
      "text/html": [
       "Tracking run with wandb version 0.17.0"
      ],
      "text/plain": [
       "<IPython.core.display.HTML object>"
      ]
     },
     "metadata": {},
     "output_type": "display_data"
    },
    {
     "data": {
      "text/html": [
       "Run data is saved locally in <code>/Users/dmitrii_sakharov/Docs/Study.obs/Study/ИАД ГЛУБИННОЕ/hw/hw2/wandb/run-20240516_210954-3fyidxhu</code>"
      ],
      "text/plain": [
       "<IPython.core.display.HTML object>"
      ]
     },
     "metadata": {},
     "output_type": "display_data"
    },
    {
     "data": {
      "text/html": [
       "Syncing run <strong><a href='https://wandb.ai/to505to505_team/FloppaNet1/runs/3fyidxhu' target=\"_blank\">stellar-donkey-16</a></strong> to <a href='https://wandb.ai/to505to505_team/FloppaNet1' target=\"_blank\">Weights & Biases</a> (<a href='https://wandb.me/run' target=\"_blank\">docs</a>)<br/>"
      ],
      "text/plain": [
       "<IPython.core.display.HTML object>"
      ]
     },
     "metadata": {},
     "output_type": "display_data"
    },
    {
     "data": {
      "text/html": [
       " View project at <a href='https://wandb.ai/to505to505_team/FloppaNet1' target=\"_blank\">https://wandb.ai/to505to505_team/FloppaNet1</a>"
      ],
      "text/plain": [
       "<IPython.core.display.HTML object>"
      ]
     },
     "metadata": {},
     "output_type": "display_data"
    },
    {
     "data": {
      "text/html": [
       " View run at <a href='https://wandb.ai/to505to505_team/FloppaNet1/runs/3fyidxhu' target=\"_blank\">https://wandb.ai/to505to505_team/FloppaNet1/runs/3fyidxhu</a>"
      ],
      "text/plain": [
       "<IPython.core.display.HTML object>"
      ]
     },
     "metadata": {},
     "output_type": "display_data"
    }
   ],
   "source": [
    "run = wandb.init(project= 'FloppaNet1')\n",
    "wandb_logger = WandbLogger(log_model='all', project='FloppaNet1')"
   ]
  },
  {
   "cell_type": "code",
   "execution_count": null,
   "metadata": {},
   "outputs": [],
   "source": [
    "from pytorch_lightning.callbacks import ModelCheckpoint\n",
    "checkpoint_callback = ModelCheckpoint(\n",
    "    monitor='val_acc',  \n",
    "    dirpath='checkpoints',  \n",
    "    filename='FloppaNet1-{epoch:02d}-{val_acc:.2f}',  \n",
    "    save_top_k=1,  \n",
    "    mode='max'  \n",
    ")"
   ]
  },
  {
   "cell_type": "markdown",
   "metadata": {},
   "source": [
    "Loading the model (it was trained with the same code but on google collab)"
   ]
  },
  {
   "cell_type": "code",
   "execution_count": null,
   "metadata": {},
   "outputs": [],
   "source": [
    "artifact = run.use_artifact('to505to505_team/uncategorized/model-9vysdrn4:v8', type='model')\n",
    "artifact_dir = artifact.download()\n",
    "model_path = f'{artifact_dir}/model.ckpt'\n",
    "module = BigFloppaModule.load_from_checkpoint(model_path)"
   ]
  },
  {
   "cell_type": "code",
   "execution_count": null,
   "metadata": {},
   "outputs": [
    {
     "data": {
      "text/plain": [
       "BigFloppaModule(\n",
       "  (model): BigFloppaNet(\n",
       "    (conv1): Conv2d(3, 64, kernel_size=(5, 5), stride=(2, 2), padding=(1, 1))\n",
       "    (bn1): BatchNorm2d(64, eps=1e-05, momentum=0.1, affine=True, track_running_stats=True)\n",
       "    (relu): ReLU()\n",
       "    (drop): Dropout(p=0.3, inplace=False)\n",
       "    (drop_fc): Dropout(p=0.5, inplace=False)\n",
       "    (maxpool): MaxPool2d(kernel_size=2, stride=2, padding=0, dilation=1, ceil_mode=False)\n",
       "    (layer1): Sequential(\n",
       "      (0): BasicBlock(\n",
       "        (conv1): Conv2d(64, 64, kernel_size=(3, 3), stride=(1, 1), padding=(1, 1), bias=False)\n",
       "        (bn1): BatchNorm2d(64, eps=1e-05, momentum=0.1, affine=True, track_running_stats=True)\n",
       "        (conv2): Conv2d(64, 64, kernel_size=(3, 3), stride=(1, 1), padding=(1, 1), bias=False)\n",
       "        (bn2): BatchNorm2d(64, eps=1e-05, momentum=0.1, affine=True, track_running_stats=True)\n",
       "        (shortcut): Sequential()\n",
       "      )\n",
       "      (1): BasicBlock(\n",
       "        (conv1): Conv2d(64, 64, kernel_size=(3, 3), stride=(1, 1), padding=(1, 1), bias=False)\n",
       "        (bn1): BatchNorm2d(64, eps=1e-05, momentum=0.1, affine=True, track_running_stats=True)\n",
       "        (conv2): Conv2d(64, 64, kernel_size=(3, 3), stride=(1, 1), padding=(1, 1), bias=False)\n",
       "        (bn2): BatchNorm2d(64, eps=1e-05, momentum=0.1, affine=True, track_running_stats=True)\n",
       "        (shortcut): Sequential()\n",
       "      )\n",
       "    )\n",
       "    (layer2): Sequential(\n",
       "      (0): BasicBlock(\n",
       "        (conv1): Conv2d(64, 128, kernel_size=(3, 3), stride=(2, 2), padding=(1, 1), bias=False)\n",
       "        (bn1): BatchNorm2d(128, eps=1e-05, momentum=0.1, affine=True, track_running_stats=True)\n",
       "        (conv2): Conv2d(128, 128, kernel_size=(3, 3), stride=(1, 1), padding=(1, 1), bias=False)\n",
       "        (bn2): BatchNorm2d(128, eps=1e-05, momentum=0.1, affine=True, track_running_stats=True)\n",
       "        (shortcut): Sequential(\n",
       "          (0): Conv2d(64, 128, kernel_size=(1, 1), stride=(2, 2), bias=False)\n",
       "          (1): BatchNorm2d(128, eps=1e-05, momentum=0.1, affine=True, track_running_stats=True)\n",
       "        )\n",
       "      )\n",
       "      (1): BasicBlock(\n",
       "        (conv1): Conv2d(128, 128, kernel_size=(3, 3), stride=(1, 1), padding=(1, 1), bias=False)\n",
       "        (bn1): BatchNorm2d(128, eps=1e-05, momentum=0.1, affine=True, track_running_stats=True)\n",
       "        (conv2): Conv2d(128, 128, kernel_size=(3, 3), stride=(1, 1), padding=(1, 1), bias=False)\n",
       "        (bn2): BatchNorm2d(128, eps=1e-05, momentum=0.1, affine=True, track_running_stats=True)\n",
       "        (shortcut): Sequential()\n",
       "      )\n",
       "    )\n",
       "    (layer3): Sequential(\n",
       "      (0): BasicBlock(\n",
       "        (conv1): Conv2d(128, 256, kernel_size=(3, 3), stride=(2, 2), padding=(1, 1), bias=False)\n",
       "        (bn1): BatchNorm2d(256, eps=1e-05, momentum=0.1, affine=True, track_running_stats=True)\n",
       "        (conv2): Conv2d(256, 256, kernel_size=(3, 3), stride=(1, 1), padding=(1, 1), bias=False)\n",
       "        (bn2): BatchNorm2d(256, eps=1e-05, momentum=0.1, affine=True, track_running_stats=True)\n",
       "        (shortcut): Sequential(\n",
       "          (0): Conv2d(128, 256, kernel_size=(1, 1), stride=(2, 2), bias=False)\n",
       "          (1): BatchNorm2d(256, eps=1e-05, momentum=0.1, affine=True, track_running_stats=True)\n",
       "        )\n",
       "      )\n",
       "      (1): BasicBlock(\n",
       "        (conv1): Conv2d(256, 256, kernel_size=(3, 3), stride=(1, 1), padding=(1, 1), bias=False)\n",
       "        (bn1): BatchNorm2d(256, eps=1e-05, momentum=0.1, affine=True, track_running_stats=True)\n",
       "        (conv2): Conv2d(256, 256, kernel_size=(3, 3), stride=(1, 1), padding=(1, 1), bias=False)\n",
       "        (bn2): BatchNorm2d(256, eps=1e-05, momentum=0.1, affine=True, track_running_stats=True)\n",
       "        (shortcut): Sequential()\n",
       "      )\n",
       "    )\n",
       "    (avgpool): AvgPool2d(kernel_size=2, stride=2, padding=0)\n",
       "    (flatten): Flatten(start_dim=1, end_dim=-1)\n",
       "    (linear): Linear(in_features=4096, out_features=200, bias=True)\n",
       "  )\n",
       ")"
      ]
     },
     "metadata": {},
     "output_type": "display_data"
    }
   ],
   "source": [
    "module"
   ]
  },
  {
   "cell_type": "code",
   "execution_count": null,
   "metadata": {},
   "outputs": [
    {
     "name": "stderr",
     "output_type": "stream",
     "text": [
      "INFO: GPU available: True (cuda), used: True\n",
      "INFO:lightning.pytorch.utilities.rank_zero:GPU available: True (cuda), used: True\n",
      "INFO: TPU available: False, using: 0 TPU cores\n",
      "INFO:lightning.pytorch.utilities.rank_zero:TPU available: False, using: 0 TPU cores\n",
      "INFO: IPU available: False, using: 0 IPUs\n",
      "INFO:lightning.pytorch.utilities.rank_zero:IPU available: False, using: 0 IPUs\n",
      "INFO: HPU available: False, using: 0 HPUs\n",
      "INFO:lightning.pytorch.utilities.rank_zero:HPU available: False, using: 0 HPUs\n",
      "INFO:pytorch_lightning.accelerators.cuda:LOCAL_RANK: 0 - CUDA_VISIBLE_DEVICES: [0]\n",
      "INFO:pytorch_lightning.callbacks.model_summary:\n",
      "  | Name  | Type         | Params\n",
      "---------------------------------------\n",
      "0 | model | BigFloppaNet | 3.6 M \n",
      "---------------------------------------\n",
      "3.6 M     Trainable params\n",
      "0         Non-trainable params\n",
      "3.6 M     Total params\n",
      "14.391    Total estimated model params size (MB)\n"
     ]
    },
    {
     "data": {
      "application/vnd.jupyter.widget-view+json": {
       "model_id": "c30327fd06c641fc806d63eea65f2bb6",
       "version_major": 2,
       "version_minor": 0
      },
      "text/plain": [
       "Sanity Checking: |          | 0/? [00:00<?, ?it/s]"
      ]
     },
     "metadata": {},
     "output_type": "display_data"
    },
    {
     "data": {
      "application/vnd.jupyter.widget-view+json": {
       "model_id": "ad2ac401f1a84880adf36b9f09ea3229",
       "version_major": 2,
       "version_minor": 0
      },
      "text/plain": [
       "Training: |          | 0/? [00:00<?, ?it/s]"
      ]
     },
     "metadata": {},
     "output_type": "display_data"
    },
    {
     "data": {
      "application/vnd.jupyter.widget-view+json": {
       "model_id": "942c068ca9194f58b421ed5e0204901d",
       "version_major": 2,
       "version_minor": 0
      },
      "text/plain": [
       "Validation: |          | 0/? [00:00<?, ?it/s]"
      ]
     },
     "metadata": {},
     "output_type": "display_data"
    },
    {
     "data": {
      "application/vnd.jupyter.widget-view+json": {
       "model_id": "b8e97a0b85a24550a094afb2b2f1813b",
       "version_major": 2,
       "version_minor": 0
      },
      "text/plain": [
       "Validation: |          | 0/? [00:00<?, ?it/s]"
      ]
     },
     "metadata": {},
     "output_type": "display_data"
    },
    {
     "data": {
      "application/vnd.jupyter.widget-view+json": {
       "model_id": "d3b4550f47fe4f07b0e787f3d2f96abd",
       "version_major": 2,
       "version_minor": 0
      },
      "text/plain": [
       "Validation: |          | 0/? [00:00<?, ?it/s]"
      ]
     },
     "metadata": {},
     "output_type": "display_data"
    },
    {
     "data": {
      "application/vnd.jupyter.widget-view+json": {
       "model_id": "6d0287f23ce34edcb575d79d91600b40",
       "version_major": 2,
       "version_minor": 0
      },
      "text/plain": [
       "Validation: |          | 0/? [00:00<?, ?it/s]"
      ]
     },
     "metadata": {},
     "output_type": "display_data"
    },
    {
     "data": {
      "application/vnd.jupyter.widget-view+json": {
       "model_id": "f26d7efad22544b3b2b347385b15fd57",
       "version_major": 2,
       "version_minor": 0
      },
      "text/plain": [
       "Validation: |          | 0/? [00:00<?, ?it/s]"
      ]
     },
     "metadata": {},
     "output_type": "display_data"
    },
    {
     "data": {
      "application/vnd.jupyter.widget-view+json": {
       "model_id": "7820f281be93486ca73a5908e4c35e87",
       "version_major": 2,
       "version_minor": 0
      },
      "text/plain": [
       "Validation: |          | 0/? [00:00<?, ?it/s]"
      ]
     },
     "metadata": {},
     "output_type": "display_data"
    },
    {
     "data": {
      "application/vnd.jupyter.widget-view+json": {
       "model_id": "a488d17f1a7c4d888e355b83b1cc2911",
       "version_major": 2,
       "version_minor": 0
      },
      "text/plain": [
       "Validation: |          | 0/? [00:00<?, ?it/s]"
      ]
     },
     "metadata": {},
     "output_type": "display_data"
    },
    {
     "data": {
      "application/vnd.jupyter.widget-view+json": {
       "model_id": "84ff6fac71e5400383e54bf9fb62b097",
       "version_major": 2,
       "version_minor": 0
      },
      "text/plain": [
       "Validation: |          | 0/? [00:00<?, ?it/s]"
      ]
     },
     "metadata": {},
     "output_type": "display_data"
    },
    {
     "data": {
      "application/vnd.jupyter.widget-view+json": {
       "model_id": "962462ccac3d4737ad414b22696f8443",
       "version_major": 2,
       "version_minor": 0
      },
      "text/plain": [
       "Validation: |          | 0/? [00:00<?, ?it/s]"
      ]
     },
     "metadata": {},
     "output_type": "display_data"
    },
    {
     "data": {
      "application/vnd.jupyter.widget-view+json": {
       "model_id": "fe49824bac8b46399353edf1bf77232a",
       "version_major": 2,
       "version_minor": 0
      },
      "text/plain": [
       "Validation: |          | 0/? [00:00<?, ?it/s]"
      ]
     },
     "metadata": {},
     "output_type": "display_data"
    },
    {
     "data": {
      "application/vnd.jupyter.widget-view+json": {
       "model_id": "d57f5b16b3d048a58e907d7e1b8b1772",
       "version_major": 2,
       "version_minor": 0
      },
      "text/plain": [
       "Validation: |          | 0/? [00:00<?, ?it/s]"
      ]
     },
     "metadata": {},
     "output_type": "display_data"
    },
    {
     "data": {
      "application/vnd.jupyter.widget-view+json": {
       "model_id": "569c06a29bed47de8a88b1507f3ffbbc",
       "version_major": 2,
       "version_minor": 0
      },
      "text/plain": [
       "Validation: |          | 0/? [00:00<?, ?it/s]"
      ]
     },
     "metadata": {},
     "output_type": "display_data"
    },
    {
     "data": {
      "application/vnd.jupyter.widget-view+json": {
       "model_id": "8a657590b03f4470b653fe07defa62ac",
       "version_major": 2,
       "version_minor": 0
      },
      "text/plain": [
       "Validation: |          | 0/? [00:00<?, ?it/s]"
      ]
     },
     "metadata": {},
     "output_type": "display_data"
    },
    {
     "data": {
      "application/vnd.jupyter.widget-view+json": {
       "model_id": "83ceee470fcb44a5a77bdfbcd1bc1f27",
       "version_major": 2,
       "version_minor": 0
      },
      "text/plain": [
       "Validation: |          | 0/? [00:00<?, ?it/s]"
      ]
     },
     "metadata": {},
     "output_type": "display_data"
    },
    {
     "data": {
      "application/vnd.jupyter.widget-view+json": {
       "model_id": "e6e9b680d7294a61a4ae283bdc0d6ed6",
       "version_major": 2,
       "version_minor": 0
      },
      "text/plain": [
       "Validation: |          | 0/? [00:00<?, ?it/s]"
      ]
     },
     "metadata": {},
     "output_type": "display_data"
    },
    {
     "data": {
      "application/vnd.jupyter.widget-view+json": {
       "model_id": "671d5e386ee945488d40e1652c4f679b",
       "version_major": 2,
       "version_minor": 0
      },
      "text/plain": [
       "Validation: |          | 0/? [00:00<?, ?it/s]"
      ]
     },
     "metadata": {},
     "output_type": "display_data"
    },
    {
     "data": {
      "application/vnd.jupyter.widget-view+json": {
       "model_id": "8c5447271c324af3954bd80cea828c91",
       "version_major": 2,
       "version_minor": 0
      },
      "text/plain": [
       "Validation: |          | 0/? [00:00<?, ?it/s]"
      ]
     },
     "metadata": {},
     "output_type": "display_data"
    },
    {
     "data": {
      "application/vnd.jupyter.widget-view+json": {
       "model_id": "0a5a6d04120f45bfa72632e98f870c07",
       "version_major": 2,
       "version_minor": 0
      },
      "text/plain": [
       "Validation: |          | 0/? [00:00<?, ?it/s]"
      ]
     },
     "metadata": {},
     "output_type": "display_data"
    },
    {
     "data": {
      "application/vnd.jupyter.widget-view+json": {
       "model_id": "dbf92def809145d59ff64680ea58ace4",
       "version_major": 2,
       "version_minor": 0
      },
      "text/plain": [
       "Validation: |          | 0/? [00:00<?, ?it/s]"
      ]
     },
     "metadata": {},
     "output_type": "display_data"
    },
    {
     "data": {
      "application/vnd.jupyter.widget-view+json": {
       "model_id": "1a715189dd9441baa76faab6d171b444",
       "version_major": 2,
       "version_minor": 0
      },
      "text/plain": [
       "Validation: |          | 0/? [00:00<?, ?it/s]"
      ]
     },
     "metadata": {},
     "output_type": "display_data"
    },
    {
     "name": "stderr",
     "output_type": "stream",
     "text": [
      "INFO: `Trainer.fit` stopped: `max_epochs=20` reached.\n",
      "INFO:lightning.pytorch.utilities.rank_zero:`Trainer.fit` stopped: `max_epochs=20` reached.\n"
     ]
    }
   ],
   "source": [
    "module.learning_rate = 0.0063\n",
    "trainer = pl.Trainer(accelerator=\"gpu\", max_epochs=20, logger=wandb_logger, callbacks=[checkpoint_callback] )\n",
    "trainer.fit(module, train_dataloaders=train_dataloader,val_dataloaders= val_dataloader)"
   ]
  },
  {
   "cell_type": "markdown",
   "metadata": {},
   "source": [
    "Link to wandb_run: https://api.wandb.ai/links/to505to505_team/4pop8p3b"
   ]
  },
  {
   "cell_type": "markdown",
   "metadata": {
    "id": "3eoTAB1fSOuk"
   },
   "source": [
    "### Validation"
   ]
  },
  {
   "cell_type": "code",
   "execution_count": 3,
   "metadata": {
    "id": "4M_BAiMNl1rL"
   },
   "outputs": [],
   "source": [
    "def evaluate_task(model, test_dataloader, device=\"cuda:0\"):\n",
    "    model = model.to(device)\n",
    "    model.eval()\n",
    "    accuracy = 0.0\n",
    "    for images, labels in tqdm(test_dataloader):\n",
    "        images, labels = images.to(device), labels.to(device)\n",
    "        with torch.no_grad():\n",
    "            acc_batch = (torch.argmax(model(images), dim=1) == labels).float().mean()\n",
    "        accuracy += acc_batch\n",
    "    accuracy = accuracy / len(test_dataloader)\n",
    "    return accuracy"
   ]
  },
  {
   "cell_type": "code",
   "execution_count": null,
   "metadata": {},
   "outputs": [
    {
     "name": "stderr",
     "output_type": "stream",
     "text": [
      "/usr/local/lib/python3.10/dist-packages/pytorch_lightning/utilities/parsing.py:199: Attribute 'model' is an instance of `nn.Module` and is already saved during checkpointing. It is recommended to ignore them using `self.save_hyperparameters(ignore=['model'])`.\n",
      "100%|██████████| 100/100 [00:12<00:00,  7.83it/s]"
     ]
    },
    {
     "name": "stdout",
     "output_type": "stream",
     "text": [
      "Accuracy:  0.4436998963356018\n"
     ]
    },
    {
     "name": "stderr",
     "output_type": "stream",
     "text": [
      "\n"
     ]
    }
   ],
   "source": [
    "model = BigFloppaModule.load_from_checkpoint(model_path)\n",
    "\n",
    "accuracy = evaluate_task(model, val_dataloader)\n",
    "print(f\"Accuracy:  {accuracy}\")"
   ]
  },
  {
   "cell_type": "markdown",
   "metadata": {
    "id": "cZqSdlQQKukS"
   },
   "source": [
    "## Task 2\n",
    "\n",
    "5 points\n",
    "Achieve an accuracy on validation of at least 0.83. In this task, it is possible to resize and use pretrain.\n",
    "\n",
    "In order to get 2.5/5 points (i.e. half for the task) you just need to follow a couple of simple life rules:\n",
    "1. augmentation (without it it will be very difficult)\n",
    "2. Optimizers can (and should) be used with each other. However, when you test something, don't change several parameters at once - you will throw off the logic of the experiments\n",
    "3. do not use full-link models or the very first convolutional models, use more modern architectures (that you met in lectures or you can go further).\n",
    "4. Try to see the quality of the original model without pre-training first, save it as a baseline. From here you will realize which layers need to be pre-trained.\n",
    "5. Look at all the notebooks from past seminars and make something common out of them. Seminar notebooks will suffice"
   ]
  },
  {
   "cell_type": "code",
   "execution_count": null,
   "metadata": {},
   "outputs": [],
   "source": [
    "transforms = v2.Compose([\n",
    "     v2.RandomResizedCrop(\n",
    "         size=(224, 224),\n",
    "        scale=(0.7, 1.0),\n",
    "        ratio=(0.8, 1.31),\n",
    "        antialias=True\n",
    "    ),\n",
    "    v2.ColorJitter(hue=0.05, saturation=0.05),\n",
    "    v2.RandomHorizontalFlip(p=0.5),\n",
    "    v2.RandomVerticalFlip(),\n",
    "    v2.RandomRotation(20),\n",
    "    v2.PILToTensor(),\n",
    "    v2.ToDtype(torch.float32, scale=True ),\n",
    "    v2.Normalize(mean=[0.5, 0.5, 0.5], std=[0.5, 0.5, 0.5]),\n",
    "])"
   ]
  },
  {
   "cell_type": "code",
   "execution_count": null,
   "metadata": {},
   "outputs": [],
   "source": [
    "transforms_val = v2.Compose([\n",
    "    v2.Resize(224, antialias=True),\n",
    "     v2.PILToTensor(),\n",
    "    v2.ToDtype(torch.float32, scale=True ),\n",
    "    v2.Normalize(mean=[0.5, 0.5, 0.5], std=[0.5, 0.5, 0.5])\n",
    "])"
   ]
  },
  {
   "cell_type": "code",
   "execution_count": null,
   "metadata": {},
   "outputs": [],
   "source": [
    "# YOU CAN DEFINE AUGMENTATIONS HERE\n",
    "train_transform = transforms\n",
    "val_transform = transforms_val\n",
    "\n",
    "train_dataset = ImageFolder('dataset/dataset/train', transform=train_transform)\n",
    "val_dataset = ImageFolder('dataset/dataset/val', transform=val_transform)\n",
    "\n",
    "\n",
    "train_dataloader = DataLoader(train_dataset, batch_size=16, shuffle=True,num_workers=2, persistent_workers=True )\n",
    "val_dataloader = DataLoader(val_dataset, batch_size=16, shuffle=False, num_workers=2, persistent_workers=True)"
   ]
  },
  {
   "cell_type": "markdown",
   "metadata": {
    "id": "zDzXM5rNxNQp"
   },
   "source": [
    "### Model"
   ]
  },
  {
   "cell_type": "code",
   "execution_count": null,
   "metadata": {},
   "outputs": [],
   "source": [
    "from transformers import ViTForImageClassification, AdamW\n",
    "from transformers import ViTModel, ViTFeatureExtractor"
   ]
  },
  {
   "cell_type": "code",
   "execution_count": null,
   "metadata": {},
   "outputs": [],
   "source": [
    "class EmbedFloppaModel(nn.Module):\n",
    "    def __init__(self,):\n",
    "      super(EmbedFloppaModel, self).__init__()\n",
    "      # self.flatten = nn.Flatten()\n",
    "      self.model = ViTForImageClassification.from_pretrained('google/vit-base-patch16-224-in21k',\n",
    "                                                              num_labels=200                                                      )\n",
    "\n",
    "      for param in self.model.parameters():\n",
    "          param.requires_grad = False\n",
    "      for param in self.model.classifier.parameters():\n",
    "          param.requires_grad = True\n",
    "\n",
    "\n",
    "    def forward(self, images):\n",
    "      out = self.model(images)\n",
    "      return out"
   ]
  },
  {
   "cell_type": "markdown",
   "metadata": {},
   "source": [
    "Here I am using vit to get a CLS token and pul a linear layer after it"
   ]
  },
  {
   "cell_type": "code",
   "execution_count": null,
   "metadata": {},
   "outputs": [],
   "source": [
    "class EmbedFloppaModule(pl.LightningModule):\n",
    "    def __init__(self, model, learning_rate):\n",
    "        super().__init__()\n",
    "        self.save_hyperparameters()\n",
    "        self.model = model\n",
    "        self.learning_rate = learning_rate\n",
    "\n",
    "    def forward(self, x):\n",
    "        return self.model(x)\n",
    "\n",
    "\n",
    "    def configure_optimizers(self):\n",
    "        optimizer = optim.AdamW(self.model.parameters(), lr = self.learning_rate, weight_decay=1e-4)\n",
    "        lambda_func = lambda epoch: 0.975**epoch\n",
    "        scheduler = torch.optim.lr_scheduler.LambdaLR(optimizer, lr_lambda=lambda_func)\n",
    "        return [optimizer], [scheduler]\n",
    "\n",
    "    def training_step(self, train_batch, batch_idx):\n",
    "        x, y = train_batch\n",
    "        output = self.model(x)\n",
    "        logits = output.logits\n",
    "        loss = F.cross_entropy(logits, y)\n",
    "        self.log('train_loss', loss, prog_bar=True, on_epoch=True)\n",
    "\n",
    "        acc = (torch.argmax(logits, dim=1) == y).float().mean()\n",
    "        self.log('train_acc', acc, prog_bar=True, on_epoch=True)\n",
    "\n",
    "        return loss\n",
    "\n",
    "\n",
    "    def validation_step(self, val_batch, batch_idx):\n",
    "        x, y = val_batch\n",
    "        y_hat = self.model(x)\n",
    "        logits = y_hat.logits\n",
    "\n",
    "        val_loss = F.cross_entropy(logits, y)\n",
    "        self.log('val_loss', val_loss, prog_bar=True, on_epoch=True)\n",
    "\n",
    "        acc = (torch.argmax(logits, dim=1) == y).float().mean()\n",
    "        self.log('val_acc', acc, prog_bar=True, on_epoch=True)\n",
    "        return val_loss"
   ]
  },
  {
   "cell_type": "code",
   "execution_count": null,
   "metadata": {},
   "outputs": [],
   "source": [
    "device = torch.device('cuda:0')\n",
    "run = wandb.init()\n",
    "wandb_logger = WandbLogger(log_model='all', project='Pretrain' )\n",
    "from pytorch_lightning.callbacks import ModelCheckpoint\n",
    "checkpoint_callback = ModelCheckpoint(\n",
    "    monitor='val_acc',  \n",
    "    dirpath='checkpoints', \n",
    "    filename='PretrainEff1-{epoch:02d}-{val_acc:.2f}',  \n",
    "    save_top_k=1,  \n",
    "    mode='max'  \n",
    ")"
   ]
  },
  {
   "cell_type": "code",
   "execution_count": null,
   "metadata": {},
   "outputs": [],
   "source": [
    "artifact = run.use_artifact('to505to505_team/uncategorized/model-39hpepx4:v2', type='model')\n",
    "artifact_dir = artifact.download()\n",
    "model_path = f'{artifact_dir}/model.ckpt'\n",
    "module = EmbedFloppaModule.load_from_checkpoint(model_path)\n",
    "module.learning_rate = 0.001"
   ]
  },
  {
   "cell_type": "code",
   "execution_count": null,
   "metadata": {},
   "outputs": [
    {
     "name": "stderr",
     "output_type": "stream",
     "text": [
      "INFO: GPU available: True (cuda), used: True\n",
      "INFO:lightning.pytorch.utilities.rank_zero:GPU available: True (cuda), used: True\n",
      "INFO: TPU available: False, using: 0 TPU cores\n",
      "INFO:lightning.pytorch.utilities.rank_zero:TPU available: False, using: 0 TPU cores\n",
      "INFO: IPU available: False, using: 0 IPUs\n",
      "INFO:lightning.pytorch.utilities.rank_zero:IPU available: False, using: 0 IPUs\n",
      "INFO: HPU available: False, using: 0 HPUs\n",
      "INFO:lightning.pytorch.utilities.rank_zero:HPU available: False, using: 0 HPUs\n",
      "/usr/local/lib/python3.10/dist-packages/pytorch_lightning/loggers/wandb.py:396: There is a wandb run already in progress and newly created instances of `WandbLogger` will reuse this run. If this is not desired, call `wandb.finish()` before instantiating `WandbLogger`.\n",
      "INFO:pytorch_lightning.accelerators.cuda:LOCAL_RANK: 0 - CUDA_VISIBLE_DEVICES: [0]\n",
      "INFO:pytorch_lightning.callbacks.model_summary:\n",
      "  | Name  | Type             | Params\n",
      "-------------------------------------------\n",
      "0 | model | EmbedFloppaModel | 86.0 M\n",
      "-------------------------------------------\n",
      "153 K     Trainable params\n",
      "85.8 M    Non-trainable params\n",
      "86.0 M    Total params\n",
      "343.810   Total estimated model params size (MB)\n"
     ]
    },
    {
     "data": {
      "application/vnd.jupyter.widget-view+json": {
       "model_id": "32d479530b4144ca9d93b44386e01e81",
       "version_major": 2,
       "version_minor": 0
      },
      "text/plain": [
       "Sanity Checking: |          | 0/? [00:00<?, ?it/s]"
      ]
     },
     "metadata": {},
     "output_type": "display_data"
    },
    {
     "name": "stderr",
     "output_type": "stream",
     "text": [
      "/usr/lib/python3.10/multiprocessing/popen_fork.py:66: RuntimeWarning: os.fork() was called. os.fork() is incompatible with multithreaded code, and JAX is multithreaded, so this will likely lead to a deadlock.\n",
      "  self.pid = os.fork()\n"
     ]
    },
    {
     "data": {
      "application/vnd.jupyter.widget-view+json": {
       "model_id": "71e912116b4842e9a722653c9bb626b4",
       "version_major": 2,
       "version_minor": 0
      },
      "text/plain": [
       "Training: |          | 0/? [00:00<?, ?it/s]"
      ]
     },
     "metadata": {},
     "output_type": "display_data"
    },
    {
     "data": {
      "application/vnd.jupyter.widget-view+json": {
       "model_id": "2d3dc77d23304b5594d6714cdaf70e8d",
       "version_major": 2,
       "version_minor": 0
      },
      "text/plain": [
       "Validation: |          | 0/? [00:00<?, ?it/s]"
      ]
     },
     "metadata": {},
     "output_type": "display_data"
    },
    {
     "data": {
      "application/vnd.jupyter.widget-view+json": {
       "model_id": "94b03b3d4efc4638b5b2577909d54984",
       "version_major": 2,
       "version_minor": 0
      },
      "text/plain": [
       "Validation: |          | 0/? [00:00<?, ?it/s]"
      ]
     },
     "metadata": {},
     "output_type": "display_data"
    },
    {
     "data": {
      "application/vnd.jupyter.widget-view+json": {
       "model_id": "98c9425b078c4b2882b90d4339db9c77",
       "version_major": 2,
       "version_minor": 0
      },
      "text/plain": [
       "Validation: |          | 0/? [00:00<?, ?it/s]"
      ]
     },
     "metadata": {},
     "output_type": "display_data"
    },
    {
     "data": {
      "application/vnd.jupyter.widget-view+json": {
       "model_id": "70a24d0d79154fb1bc94dbf49ba7097b",
       "version_major": 2,
       "version_minor": 0
      },
      "text/plain": [
       "Validation: |          | 0/? [00:00<?, ?it/s]"
      ]
     },
     "metadata": {},
     "output_type": "display_data"
    },
    {
     "data": {
      "application/vnd.jupyter.widget-view+json": {
       "model_id": "e06eaa6550fd4e1e9363310648f34035",
       "version_major": 2,
       "version_minor": 0
      },
      "text/plain": [
       "Validation: |          | 0/? [00:00<?, ?it/s]"
      ]
     },
     "metadata": {},
     "output_type": "display_data"
    },
    {
     "data": {
      "application/vnd.jupyter.widget-view+json": {
       "model_id": "812338d51f954b53a1089d58c922050d",
       "version_major": 2,
       "version_minor": 0
      },
      "text/plain": [
       "Validation: |          | 0/? [00:00<?, ?it/s]"
      ]
     },
     "metadata": {},
     "output_type": "display_data"
    },
    {
     "data": {
      "application/vnd.jupyter.widget-view+json": {
       "model_id": "81641b8069504c408419058d960679e1",
       "version_major": 2,
       "version_minor": 0
      },
      "text/plain": [
       "Validation: |          | 0/? [00:00<?, ?it/s]"
      ]
     },
     "metadata": {},
     "output_type": "display_data"
    },
    {
     "data": {
      "application/vnd.jupyter.widget-view+json": {
       "model_id": "20fff4b88fea4ac18ce3e9b17916c13d",
       "version_major": 2,
       "version_minor": 0
      },
      "text/plain": [
       "Validation: |          | 0/? [00:00<?, ?it/s]"
      ]
     },
     "metadata": {},
     "output_type": "display_data"
    },
    {
     "data": {
      "application/vnd.jupyter.widget-view+json": {
       "model_id": "7209fd2fa13947f6b87d3f8d38f17c85",
       "version_major": 2,
       "version_minor": 0
      },
      "text/plain": [
       "Validation: |          | 0/? [00:00<?, ?it/s]"
      ]
     },
     "metadata": {},
     "output_type": "display_data"
    }
   ],
   "source": [
    "\n",
    "trainer = pl.Trainer(accelerator=\"gpu\", max_epochs=10, logger=wandb_logger, callbacks=[checkpoint_callback] )\n",
    "trainer.fit(module, train_dataloaders=train_dataloader,val_dataloaders= val_dataloader)"
   ]
  },
  {
   "cell_type": "markdown",
   "metadata": {
    "id": "u5D2bwOKSHVp"
   },
   "source": [
    "### Validation"
   ]
  },
  {
   "cell_type": "code",
   "execution_count": null,
   "metadata": {},
   "outputs": [],
   "source": [
    "def evaluate_task(model, test_dataloader, device=\"cuda:0\"):\n",
    "    model = model.to(device)\n",
    "    model.eval()\n",
    "    accuracy = 0.0\n",
    "    for images, labels in tqdm(test_dataloader):\n",
    "        images, labels = images.to(device), labels.to(device)\n",
    "        with torch.no_grad():\n",
    "            acc_batch = (torch.argmax(model(images).logits, dim=1) == labels).float().mean()\n",
    "        accuracy += acc_batch\n",
    "    accuracy = accuracy / len(test_dataloader)\n",
    "    return accuracy"
   ]
  },
  {
   "cell_type": "code",
   "execution_count": null,
   "metadata": {},
   "outputs": [
    {
     "name": "stderr",
     "output_type": "stream",
     "text": [
      "\n",
      "  0%|          | 0/625 [00:00<?, ?it/s]\u001b[A\n",
      "  0%|          | 1/625 [00:00<01:14,  8.38it/s]\u001b[A\n",
      "  0%|          | 2/625 [00:00<01:47,  5.77it/s]\u001b[A\n",
      "  0%|          | 3/625 [00:00<01:51,  5.59it/s]\u001b[A\n",
      "  1%|          | 4/625 [00:00<01:58,  5.25it/s]\u001b[A\n",
      "  1%|          | 5/625 [00:00<01:54,  5.40it/s]\u001b[A\n",
      "  1%|          | 6/625 [00:01<01:59,  5.20it/s]\u001b[A\n",
      "  1%|          | 7/625 [00:01<01:57,  5.26it/s]\u001b[A\n",
      "  1%|▏         | 8/625 [00:01<01:56,  5.29it/s]\u001b[A\n",
      "  1%|▏         | 9/625 [00:01<01:58,  5.18it/s]\u001b[A\n",
      "  2%|▏         | 10/625 [00:01<01:56,  5.26it/s]\u001b[A\n",
      "  2%|▏         | 11/625 [00:02<01:54,  5.35it/s]\u001b[A\n",
      "  2%|▏         | 12/625 [00:02<02:04,  4.93it/s]\u001b[A\n",
      "  2%|▏         | 13/625 [00:02<02:03,  4.95it/s]\u001b[A\n",
      "  2%|▏         | 14/625 [00:02<02:02,  4.99it/s]\u001b[A\n",
      "  2%|▏         | 15/625 [00:02<01:55,  5.29it/s]\u001b[A\n",
      "  3%|▎         | 16/625 [00:03<01:52,  5.40it/s]\u001b[A\n",
      "  3%|▎         | 17/625 [00:03<01:55,  5.26it/s]\u001b[A\n",
      "  3%|▎         | 18/625 [00:03<01:56,  5.20it/s]\u001b[A\n",
      "  3%|▎         | 19/625 [00:03<01:57,  5.17it/s]\u001b[A\n",
      "  3%|▎         | 20/625 [00:03<01:57,  5.14it/s]\u001b[A\n",
      "  3%|▎         | 21/625 [00:04<01:56,  5.19it/s]\u001b[A\n",
      "  4%|▎         | 22/625 [00:04<01:57,  5.13it/s]\u001b[A\n",
      "  4%|▎         | 23/625 [00:04<01:58,  5.09it/s]\u001b[A\n",
      "  4%|▍         | 24/625 [00:04<01:58,  5.05it/s]\u001b[A\n",
      "  4%|▍         | 25/625 [00:04<01:58,  5.06it/s]\u001b[A\n",
      "  4%|▍         | 26/625 [00:04<01:57,  5.09it/s]\u001b[A\n",
      "  4%|▍         | 27/625 [00:05<01:57,  5.08it/s]\u001b[A\n",
      "  4%|▍         | 28/625 [00:05<01:58,  5.04it/s]\u001b[A\n",
      "  5%|▍         | 29/625 [00:05<01:58,  5.01it/s]\u001b[A\n",
      "  5%|▍         | 30/625 [00:05<01:59,  5.00it/s]\u001b[A\n",
      "  5%|▍         | 31/625 [00:05<01:57,  5.05it/s]\u001b[A\n",
      "  5%|▌         | 32/625 [00:06<01:57,  5.04it/s]\u001b[A\n",
      "  5%|▌         | 33/625 [00:06<01:57,  5.05it/s]\u001b[A\n",
      "  5%|▌         | 34/625 [00:06<01:57,  5.05it/s]\u001b[A\n",
      "  6%|▌         | 35/625 [00:06<01:57,  5.01it/s]\u001b[A\n",
      "  6%|▌         | 36/625 [00:06<01:56,  5.04it/s]\u001b[A\n",
      "  6%|▌         | 37/625 [00:07<01:57,  5.01it/s]\u001b[A\n",
      "  6%|▌         | 38/625 [00:07<01:57,  4.98it/s]\u001b[A\n",
      "  6%|▌         | 39/625 [00:07<01:57,  4.98it/s]\u001b[A\n",
      "  6%|▋         | 40/625 [00:07<01:57,  4.97it/s]\u001b[A\n",
      "  7%|▋         | 41/625 [00:07<01:57,  4.97it/s]\u001b[A\n",
      "  7%|▋         | 42/625 [00:08<01:57,  4.97it/s]\u001b[A\n",
      "  7%|▋         | 43/625 [00:08<01:57,  4.95it/s]\u001b[A\n",
      "  7%|▋         | 44/625 [00:08<01:57,  4.93it/s]\u001b[A\n",
      "  7%|▋         | 45/625 [00:08<01:57,  4.94it/s]\u001b[A\n",
      "  7%|▋         | 46/625 [00:09<01:57,  4.94it/s]\u001b[A\n",
      "  8%|▊         | 47/625 [00:09<01:56,  4.96it/s]\u001b[A\n",
      "  8%|▊         | 48/625 [00:09<01:56,  4.94it/s]\u001b[A\n",
      "  8%|▊         | 49/625 [00:09<01:57,  4.92it/s]\u001b[A\n",
      "  8%|▊         | 50/625 [00:09<01:58,  4.85it/s]\u001b[A\n",
      "  8%|▊         | 51/625 [00:10<01:57,  4.90it/s]\u001b[A\n",
      "  8%|▊         | 52/625 [00:10<01:55,  4.97it/s]\u001b[A\n",
      "  8%|▊         | 53/625 [00:10<01:55,  4.96it/s]\u001b[A\n",
      "  9%|▊         | 54/625 [00:10<01:55,  4.93it/s]\u001b[A\n",
      "  9%|▉         | 55/625 [00:10<01:55,  4.95it/s]\u001b[A\n",
      "  9%|▉         | 56/625 [00:11<01:55,  4.93it/s]\u001b[A\n",
      "  9%|▉         | 57/625 [00:11<01:54,  4.95it/s]\u001b[A\n",
      "  9%|▉         | 58/625 [00:11<01:55,  4.91it/s]\u001b[A\n",
      "  9%|▉         | 59/625 [00:11<01:55,  4.90it/s]\u001b[A\n",
      " 10%|▉         | 60/625 [00:11<01:54,  4.92it/s]\u001b[A\n",
      " 10%|▉         | 61/625 [00:12<01:54,  4.93it/s]\u001b[A\n",
      " 10%|▉         | 62/625 [00:12<01:53,  4.97it/s]\u001b[A\n",
      " 10%|█         | 63/625 [00:12<01:53,  4.96it/s]\u001b[A\n",
      " 10%|█         | 64/625 [00:12<01:53,  4.93it/s]\u001b[A\n",
      " 10%|█         | 65/625 [00:12<01:53,  4.94it/s]\u001b[A\n",
      " 11%|█         | 66/625 [00:13<01:53,  4.91it/s]\u001b[A\n",
      " 11%|█         | 67/625 [00:13<01:53,  4.94it/s]\u001b[A\n",
      " 11%|█         | 68/625 [00:13<01:52,  4.94it/s]\u001b[A\n",
      " 11%|█         | 69/625 [00:13<01:52,  4.93it/s]\u001b[A\n",
      " 11%|█         | 70/625 [00:13<01:53,  4.91it/s]\u001b[A\n",
      " 11%|█▏        | 71/625 [00:14<01:53,  4.87it/s]\u001b[A\n",
      " 12%|█▏        | 72/625 [00:14<01:54,  4.83it/s]\u001b[A\n",
      " 12%|█▏        | 73/625 [00:14<01:53,  4.87it/s]\u001b[A\n",
      " 12%|█▏        | 74/625 [00:14<01:53,  4.86it/s]\u001b[A\n",
      " 12%|█▏        | 75/625 [00:14<01:51,  4.93it/s]\u001b[A\n",
      " 12%|█▏        | 76/625 [00:15<01:52,  4.88it/s]\u001b[A\n",
      " 12%|█▏        | 77/625 [00:15<01:52,  4.88it/s]\u001b[A\n",
      " 12%|█▏        | 78/625 [00:15<01:52,  4.85it/s]\u001b[A\n",
      " 13%|█▎        | 79/625 [00:15<01:52,  4.87it/s]\u001b[A\n",
      " 13%|█▎        | 80/625 [00:15<01:51,  4.87it/s]\u001b[A\n",
      " 13%|█▎        | 81/625 [00:16<01:53,  4.81it/s]\u001b[A\n",
      " 13%|█▎        | 82/625 [00:16<01:52,  4.83it/s]\u001b[A\n",
      " 13%|█▎        | 83/625 [00:16<01:51,  4.85it/s]\u001b[A\n",
      " 13%|█▎        | 84/625 [00:16<01:51,  4.83it/s]\u001b[A\n",
      " 14%|█▎        | 85/625 [00:16<01:51,  4.82it/s]\u001b[A\n",
      " 14%|█▍        | 86/625 [00:17<01:51,  4.82it/s]\u001b[A\n",
      " 14%|█▍        | 87/625 [00:17<01:51,  4.81it/s]\u001b[A\n",
      " 14%|█▍        | 88/625 [00:17<01:52,  4.78it/s]\u001b[A\n",
      " 14%|█▍        | 89/625 [00:17<01:52,  4.78it/s]\u001b[A\n",
      " 14%|█▍        | 90/625 [00:18<01:51,  4.81it/s]\u001b[A\n",
      " 15%|█▍        | 91/625 [00:18<01:52,  4.75it/s]\u001b[A\n",
      " 15%|█▍        | 92/625 [00:18<01:51,  4.79it/s]\u001b[A\n",
      " 15%|█▍        | 93/625 [00:18<01:51,  4.79it/s]\u001b[A\n",
      " 15%|█▌        | 94/625 [00:18<01:51,  4.77it/s]\u001b[A\n",
      " 15%|█▌        | 95/625 [00:19<01:50,  4.79it/s]\u001b[A\n",
      " 15%|█▌        | 96/625 [00:19<01:50,  4.77it/s]\u001b[A\n",
      " 16%|█▌        | 97/625 [00:19<01:50,  4.77it/s]\u001b[A\n",
      " 16%|█▌        | 98/625 [00:19<01:50,  4.77it/s]\u001b[A\n",
      " 16%|█▌        | 99/625 [00:19<01:50,  4.76it/s]\u001b[A\n",
      " 16%|█▌        | 100/625 [00:20<01:50,  4.75it/s]\u001b[A\n",
      " 16%|█▌        | 101/625 [00:20<01:50,  4.76it/s]\u001b[A\n",
      " 16%|█▋        | 102/625 [00:20<01:50,  4.75it/s]\u001b[A\n",
      " 16%|█▋        | 103/625 [00:20<01:49,  4.76it/s]\u001b[A\n",
      " 17%|█▋        | 104/625 [00:20<01:50,  4.73it/s]\u001b[A\n",
      " 17%|█▋        | 105/625 [00:21<01:49,  4.76it/s]\u001b[A\n",
      " 17%|█▋        | 106/625 [00:21<01:49,  4.74it/s]\u001b[A\n",
      " 17%|█▋        | 107/625 [00:21<01:49,  4.74it/s]\u001b[A\n",
      " 17%|█▋        | 108/625 [00:21<01:49,  4.72it/s]\u001b[A\n",
      " 17%|█▋        | 109/625 [00:22<01:49,  4.73it/s]\u001b[A\n",
      " 18%|█▊        | 110/625 [00:22<01:49,  4.71it/s]\u001b[A\n",
      " 18%|█▊        | 111/625 [00:22<01:49,  4.71it/s]\u001b[A\n",
      " 18%|█▊        | 112/625 [00:22<01:48,  4.72it/s]\u001b[A\n",
      " 18%|█▊        | 113/625 [00:22<01:48,  4.73it/s]\u001b[A\n",
      " 18%|█▊        | 114/625 [00:23<01:48,  4.72it/s]\u001b[A\n",
      " 18%|█▊        | 115/625 [00:23<01:48,  4.72it/s]\u001b[A\n",
      " 19%|█▊        | 116/625 [00:23<01:48,  4.70it/s]\u001b[A\n",
      " 19%|█▊        | 117/625 [00:23<01:48,  4.70it/s]\u001b[A\n",
      " 19%|█▉        | 118/625 [00:23<01:47,  4.71it/s]\u001b[A\n",
      " 19%|█▉        | 119/625 [00:24<01:47,  4.71it/s]\u001b[A\n",
      " 19%|█▉        | 120/625 [00:24<01:47,  4.71it/s]\u001b[A\n",
      " 19%|█▉        | 121/625 [00:24<01:47,  4.71it/s]\u001b[A\n",
      " 20%|█▉        | 122/625 [00:24<01:46,  4.71it/s]\u001b[A\n",
      " 20%|█▉        | 123/625 [00:25<01:47,  4.67it/s]\u001b[A\n",
      " 20%|█▉        | 124/625 [00:25<01:47,  4.68it/s]\u001b[A\n",
      " 20%|██        | 125/625 [00:25<01:47,  4.67it/s]\u001b[A\n",
      " 20%|██        | 126/625 [00:25<01:46,  4.68it/s]\u001b[A\n",
      " 20%|██        | 127/625 [00:25<01:46,  4.69it/s]\u001b[A\n",
      " 20%|██        | 128/625 [00:26<01:45,  4.69it/s]\u001b[A\n",
      " 21%|██        | 129/625 [00:26<01:46,  4.65it/s]\u001b[A\n",
      " 21%|██        | 130/625 [00:26<01:46,  4.66it/s]\u001b[A\n",
      " 21%|██        | 131/625 [00:26<01:46,  4.65it/s]\u001b[A\n",
      " 21%|██        | 132/625 [00:26<01:48,  4.55it/s]\u001b[A\n",
      " 21%|██▏       | 133/625 [00:27<01:50,  4.47it/s]\u001b[A\n",
      " 21%|██▏       | 134/625 [00:27<01:45,  4.66it/s]\u001b[A\n",
      " 22%|██▏       | 135/625 [00:27<01:42,  4.77it/s]\u001b[A\n",
      " 22%|██▏       | 136/625 [00:27<01:49,  4.45it/s]\u001b[A\n",
      " 22%|██▏       | 137/625 [00:28<01:54,  4.25it/s]\u001b[A\n",
      " 22%|██▏       | 138/625 [00:28<01:48,  4.49it/s]\u001b[A\n",
      " 22%|██▏       | 139/625 [00:28<01:41,  4.79it/s]\u001b[A\n",
      " 22%|██▏       | 140/625 [00:28<01:39,  4.86it/s]\u001b[A\n",
      " 23%|██▎       | 141/625 [00:28<01:53,  4.28it/s]\u001b[A\n",
      " 23%|██▎       | 142/625 [00:29<01:53,  4.27it/s]\u001b[A\n",
      " 23%|██▎       | 143/625 [00:29<01:39,  4.82it/s]\u001b[A\n",
      " 23%|██▎       | 144/625 [00:29<01:36,  4.96it/s]\u001b[A\n",
      " 23%|██▎       | 145/625 [00:29<01:38,  4.89it/s]\u001b[A\n",
      " 23%|██▎       | 146/625 [00:29<01:40,  4.77it/s]\u001b[A\n",
      " 24%|██▎       | 147/625 [00:30<01:41,  4.72it/s]\u001b[A\n",
      " 24%|██▎       | 148/625 [00:30<01:40,  4.75it/s]\u001b[A\n",
      " 24%|██▍       | 149/625 [00:30<01:39,  4.78it/s]\u001b[A\n",
      " 24%|██▍       | 150/625 [00:30<01:40,  4.70it/s]\u001b[A\n",
      " 24%|██▍       | 151/625 [00:31<01:40,  4.71it/s]\u001b[A\n",
      " 24%|██▍       | 152/625 [00:31<01:40,  4.72it/s]\u001b[A\n",
      " 24%|██▍       | 153/625 [00:31<01:39,  4.76it/s]\u001b[A\n",
      " 25%|██▍       | 154/625 [00:31<01:38,  4.78it/s]\u001b[A\n",
      " 25%|██▍       | 155/625 [00:31<01:38,  4.75it/s]\u001b[A\n",
      " 25%|██▍       | 156/625 [00:32<01:39,  4.72it/s]\u001b[A\n",
      " 25%|██▌       | 157/625 [00:32<01:39,  4.73it/s]\u001b[A\n",
      " 25%|██▌       | 158/625 [00:32<01:37,  4.77it/s]\u001b[A\n",
      " 25%|██▌       | 159/625 [00:32<01:37,  4.79it/s]\u001b[A\n",
      " 26%|██▌       | 160/625 [00:32<01:37,  4.76it/s]\u001b[A\n",
      " 26%|██▌       | 161/625 [00:33<01:37,  4.75it/s]\u001b[A\n",
      " 26%|██▌       | 162/625 [00:33<01:37,  4.75it/s]\u001b[A\n",
      " 26%|██▌       | 163/625 [00:33<01:36,  4.77it/s]\u001b[A\n",
      " 26%|██▌       | 164/625 [00:33<01:36,  4.79it/s]\u001b[A\n",
      " 26%|██▋       | 165/625 [00:33<01:36,  4.78it/s]\u001b[A\n",
      " 27%|██▋       | 166/625 [00:34<01:36,  4.77it/s]\u001b[A\n",
      " 27%|██▋       | 167/625 [00:34<01:35,  4.78it/s]\u001b[A\n",
      " 27%|██▋       | 168/625 [00:34<01:34,  4.83it/s]\u001b[A\n",
      " 27%|██▋       | 169/625 [00:34<01:34,  4.84it/s]\u001b[A\n",
      " 27%|██▋       | 170/625 [00:34<01:34,  4.79it/s]\u001b[A\n",
      " 27%|██▋       | 171/625 [00:35<01:34,  4.79it/s]\u001b[A\n",
      " 28%|██▊       | 172/625 [00:35<01:34,  4.78it/s]\u001b[A\n",
      " 28%|██▊       | 173/625 [00:35<01:33,  4.81it/s]\u001b[A\n",
      " 28%|██▊       | 174/625 [00:35<01:33,  4.82it/s]\u001b[A\n",
      " 28%|██▊       | 175/625 [00:36<01:33,  4.81it/s]\u001b[A\n",
      " 28%|██▊       | 176/625 [00:36<01:33,  4.81it/s]\u001b[A\n",
      " 28%|██▊       | 177/625 [00:36<01:32,  4.82it/s]\u001b[A\n",
      " 28%|██▊       | 178/625 [00:36<01:32,  4.85it/s]\u001b[A\n",
      " 29%|██▊       | 179/625 [00:36<01:32,  4.84it/s]\u001b[A\n",
      " 29%|██▉       | 180/625 [00:37<01:32,  4.81it/s]\u001b[A\n",
      " 29%|██▉       | 181/625 [00:37<01:31,  4.83it/s]\u001b[A\n",
      " 29%|██▉       | 182/625 [00:37<01:31,  4.84it/s]\u001b[A\n",
      " 29%|██▉       | 183/625 [00:37<01:30,  4.87it/s]\u001b[A\n",
      " 29%|██▉       | 184/625 [00:37<01:30,  4.87it/s]\u001b[A\n",
      " 30%|██▉       | 185/625 [00:38<01:30,  4.84it/s]\u001b[A\n",
      " 30%|██▉       | 186/625 [00:38<01:30,  4.84it/s]\u001b[A\n",
      " 30%|██▉       | 187/625 [00:38<01:29,  4.87it/s]\u001b[A\n",
      " 30%|███       | 188/625 [00:38<01:29,  4.89it/s]\u001b[A\n",
      " 30%|███       | 189/625 [00:38<01:29,  4.87it/s]\u001b[A\n",
      " 30%|███       | 190/625 [00:39<01:29,  4.86it/s]\u001b[A\n",
      " 31%|███       | 191/625 [00:39<01:29,  4.84it/s]\u001b[A\n",
      " 31%|███       | 192/625 [00:39<01:29,  4.82it/s]\u001b[A\n",
      " 31%|███       | 193/625 [00:39<01:28,  4.87it/s]\u001b[A\n",
      " 31%|███       | 194/625 [00:39<01:28,  4.88it/s]\u001b[A\n",
      " 31%|███       | 195/625 [00:40<01:28,  4.87it/s]\u001b[A\n",
      " 31%|███▏      | 196/625 [00:40<01:28,  4.85it/s]\u001b[A\n",
      " 32%|███▏      | 197/625 [00:40<01:27,  4.87it/s]\u001b[A\n",
      " 32%|███▏      | 198/625 [00:40<01:27,  4.87it/s]\u001b[A\n",
      " 32%|███▏      | 199/625 [00:40<01:28,  4.84it/s]\u001b[A\n",
      " 32%|███▏      | 200/625 [00:41<01:27,  4.88it/s]\u001b[A\n",
      " 32%|███▏      | 201/625 [00:41<01:27,  4.84it/s]\u001b[A\n",
      " 32%|███▏      | 202/625 [00:41<01:25,  4.93it/s]\u001b[A\n",
      " 32%|███▏      | 203/625 [00:41<01:25,  4.92it/s]\u001b[A\n",
      " 33%|███▎      | 204/625 [00:41<01:25,  4.93it/s]\u001b[A\n",
      " 33%|███▎      | 205/625 [00:42<01:25,  4.93it/s]\u001b[A\n",
      " 33%|███▎      | 206/625 [00:42<01:25,  4.89it/s]\u001b[A\n",
      " 33%|███▎      | 207/625 [00:42<01:25,  4.88it/s]\u001b[A\n",
      " 33%|███▎      | 208/625 [00:42<01:25,  4.90it/s]\u001b[A\n",
      " 33%|███▎      | 209/625 [00:43<01:24,  4.90it/s]\u001b[A\n",
      " 34%|███▎      | 210/625 [00:43<01:24,  4.89it/s]\u001b[A\n",
      " 34%|███▍      | 211/625 [00:43<01:24,  4.92it/s]\u001b[A\n",
      " 34%|███▍      | 212/625 [00:43<01:23,  4.94it/s]\u001b[A\n",
      " 34%|███▍      | 213/625 [00:43<01:23,  4.93it/s]\u001b[A\n",
      " 34%|███▍      | 214/625 [00:44<01:22,  4.97it/s]\u001b[A\n",
      " 34%|███▍      | 215/625 [00:44<01:22,  4.97it/s]\u001b[A\n",
      " 35%|███▍      | 216/625 [00:44<01:22,  4.97it/s]\u001b[A\n",
      " 35%|███▍      | 217/625 [00:44<01:22,  4.96it/s]\u001b[A\n",
      " 35%|███▍      | 218/625 [00:44<01:22,  4.96it/s]\u001b[A\n",
      " 35%|███▌      | 219/625 [00:45<01:22,  4.94it/s]\u001b[A\n",
      " 35%|███▌      | 220/625 [00:45<01:21,  4.96it/s]\u001b[A\n",
      " 35%|███▌      | 221/625 [00:45<01:21,  4.95it/s]\u001b[A\n",
      " 36%|███▌      | 222/625 [00:45<01:21,  4.94it/s]\u001b[A\n",
      " 36%|███▌      | 223/625 [00:45<01:21,  4.96it/s]\u001b[A\n",
      " 36%|███▌      | 224/625 [00:46<01:21,  4.92it/s]\u001b[A\n",
      " 36%|███▌      | 225/625 [00:46<01:20,  4.97it/s]\u001b[A\n",
      " 36%|███▌      | 226/625 [00:46<01:20,  4.96it/s]\u001b[A\n",
      " 36%|███▋      | 227/625 [00:46<01:20,  4.96it/s]\u001b[A\n",
      " 36%|███▋      | 228/625 [00:46<01:20,  4.96it/s]\u001b[A\n",
      " 37%|███▋      | 229/625 [00:47<01:19,  4.95it/s]\u001b[A\n",
      " 37%|███▋      | 230/625 [00:47<01:19,  4.94it/s]\u001b[A\n",
      " 37%|███▋      | 231/625 [00:47<01:19,  4.96it/s]\u001b[A\n",
      " 37%|███▋      | 232/625 [00:47<01:19,  4.96it/s]\u001b[A\n",
      " 37%|███▋      | 233/625 [00:47<01:18,  4.97it/s]\u001b[A\n",
      " 37%|███▋      | 234/625 [00:48<01:19,  4.95it/s]\u001b[A\n",
      " 38%|███▊      | 235/625 [00:48<01:18,  4.95it/s]\u001b[A\n",
      " 38%|███▊      | 236/625 [00:48<01:18,  4.96it/s]\u001b[A\n",
      " 38%|███▊      | 237/625 [00:48<01:18,  4.96it/s]\u001b[A\n",
      " 38%|███▊      | 238/625 [00:48<01:17,  4.97it/s]\u001b[A\n",
      " 38%|███▊      | 239/625 [00:49<01:18,  4.95it/s]\u001b[A\n",
      " 38%|███▊      | 240/625 [00:49<01:18,  4.93it/s]\u001b[A\n",
      " 39%|███▊      | 241/625 [00:49<01:17,  4.94it/s]\u001b[A\n",
      " 39%|███▊      | 242/625 [00:49<01:17,  4.97it/s]\u001b[A\n",
      " 39%|███▉      | 243/625 [00:49<01:16,  4.97it/s]\u001b[A\n",
      " 39%|███▉      | 244/625 [00:50<01:16,  4.96it/s]\u001b[A\n",
      " 39%|███▉      | 245/625 [00:50<01:16,  4.96it/s]\u001b[A\n",
      " 39%|███▉      | 246/625 [00:50<01:16,  4.96it/s]\u001b[A\n",
      " 40%|███▉      | 247/625 [00:50<01:16,  4.97it/s]\u001b[A\n",
      " 40%|███▉      | 248/625 [00:50<01:15,  4.97it/s]\u001b[A\n",
      " 40%|███▉      | 249/625 [00:51<01:16,  4.93it/s]\u001b[A\n",
      " 40%|████      | 250/625 [00:51<01:15,  4.97it/s]\u001b[A\n",
      " 40%|████      | 251/625 [00:51<01:15,  4.97it/s]\u001b[A\n",
      " 40%|████      | 252/625 [00:51<01:15,  4.95it/s]\u001b[A\n",
      " 40%|████      | 253/625 [00:51<01:14,  4.97it/s]\u001b[A\n",
      " 41%|████      | 254/625 [00:52<01:14,  4.98it/s]\u001b[A\n",
      " 41%|████      | 255/625 [00:52<01:13,  5.01it/s]\u001b[A\n",
      " 41%|████      | 256/625 [00:52<01:13,  5.02it/s]\u001b[A\n",
      " 41%|████      | 257/625 [00:52<01:13,  5.01it/s]\u001b[A\n",
      " 41%|████▏     | 258/625 [00:52<01:13,  5.02it/s]\u001b[A\n",
      " 41%|████▏     | 259/625 [00:53<01:13,  5.01it/s]\u001b[A\n",
      " 42%|████▏     | 260/625 [00:53<01:13,  5.00it/s]\u001b[A\n",
      " 42%|████▏     | 261/625 [00:53<01:13,  4.93it/s]\u001b[A\n",
      " 42%|████▏     | 262/625 [00:53<01:12,  5.01it/s]\u001b[A\n",
      " 42%|████▏     | 263/625 [00:53<01:11,  5.04it/s]\u001b[A\n",
      " 42%|████▏     | 264/625 [00:54<01:11,  5.02it/s]\u001b[A\n",
      " 42%|████▏     | 265/625 [00:54<01:11,  5.01it/s]\u001b[A\n",
      " 43%|████▎     | 266/625 [00:54<01:11,  5.01it/s]\u001b[A\n",
      " 43%|████▎     | 267/625 [00:54<01:11,  4.99it/s]\u001b[A\n",
      " 43%|████▎     | 268/625 [00:54<01:11,  4.97it/s]\u001b[A\n",
      " 43%|████▎     | 269/625 [00:55<01:11,  5.01it/s]\u001b[A\n",
      " 43%|████▎     | 270/625 [00:55<01:10,  5.05it/s]\u001b[A\n",
      " 43%|████▎     | 271/625 [00:55<01:10,  5.00it/s]\u001b[A\n",
      " 44%|████▎     | 272/625 [00:55<01:10,  5.04it/s]\u001b[A\n",
      " 44%|████▎     | 273/625 [00:55<01:09,  5.03it/s]\u001b[A\n",
      " 44%|████▍     | 274/625 [00:56<01:09,  5.02it/s]\u001b[A\n",
      " 44%|████▍     | 275/625 [00:56<01:09,  5.02it/s]\u001b[A\n",
      " 44%|████▍     | 276/625 [00:56<01:08,  5.06it/s]\u001b[A\n",
      " 44%|████▍     | 277/625 [00:56<01:09,  5.00it/s]\u001b[A\n",
      " 44%|████▍     | 278/625 [00:56<01:09,  5.01it/s]\u001b[A\n",
      " 45%|████▍     | 279/625 [00:57<01:08,  5.04it/s]\u001b[A\n",
      " 45%|████▍     | 280/625 [00:57<01:08,  5.05it/s]\u001b[A\n",
      " 45%|████▍     | 281/625 [00:57<01:07,  5.09it/s]\u001b[A\n",
      " 45%|████▌     | 282/625 [00:57<01:07,  5.06it/s]\u001b[A\n",
      " 45%|████▌     | 283/625 [00:57<01:07,  5.06it/s]\u001b[A\n",
      " 45%|████▌     | 284/625 [00:58<01:07,  5.06it/s]\u001b[A\n",
      " 46%|████▌     | 285/625 [00:58<01:07,  5.07it/s]\u001b[A\n",
      " 46%|████▌     | 286/625 [00:58<01:06,  5.09it/s]\u001b[A\n",
      " 46%|████▌     | 287/625 [00:58<01:06,  5.07it/s]\u001b[A\n",
      " 46%|████▌     | 288/625 [00:58<01:06,  5.07it/s]\u001b[A\n",
      " 46%|████▌     | 289/625 [00:59<01:05,  5.13it/s]\u001b[A\n",
      " 46%|████▋     | 290/625 [00:59<01:05,  5.09it/s]\u001b[A\n",
      " 47%|████▋     | 291/625 [00:59<01:06,  5.06it/s]\u001b[A\n",
      " 47%|████▋     | 292/625 [00:59<01:05,  5.08it/s]\u001b[A\n",
      " 47%|████▋     | 293/625 [00:59<01:05,  5.04it/s]\u001b[A\n",
      " 47%|████▋     | 294/625 [01:00<01:04,  5.10it/s]\u001b[A\n",
      " 47%|████▋     | 295/625 [01:00<01:05,  5.05it/s]\u001b[A\n",
      " 47%|████▋     | 296/625 [01:00<01:05,  5.05it/s]\u001b[A\n",
      " 48%|████▊     | 297/625 [01:00<01:04,  5.11it/s]\u001b[A\n",
      " 48%|████▊     | 298/625 [01:00<01:04,  5.10it/s]\u001b[A\n",
      " 48%|████▊     | 299/625 [01:01<01:03,  5.10it/s]\u001b[A\n",
      " 48%|████▊     | 300/625 [01:01<01:03,  5.10it/s]\u001b[A\n",
      " 48%|████▊     | 301/625 [01:01<01:03,  5.09it/s]\u001b[A\n",
      " 48%|████▊     | 302/625 [01:01<01:03,  5.09it/s]\u001b[A\n",
      " 48%|████▊     | 303/625 [01:01<01:02,  5.11it/s]\u001b[A\n",
      " 49%|████▊     | 304/625 [01:01<01:03,  5.08it/s]\u001b[A\n",
      " 49%|████▉     | 305/625 [01:02<01:02,  5.11it/s]\u001b[A\n",
      " 49%|████▉     | 306/625 [01:02<01:02,  5.10it/s]\u001b[A\n",
      " 49%|████▉     | 307/625 [01:02<01:02,  5.11it/s]\u001b[A\n",
      " 49%|████▉     | 308/625 [01:02<01:01,  5.12it/s]\u001b[A\n",
      " 49%|████▉     | 309/625 [01:02<01:01,  5.13it/s]\u001b[A\n",
      " 50%|████▉     | 310/625 [01:03<01:01,  5.12it/s]\u001b[A\n",
      " 50%|████▉     | 311/625 [01:03<01:01,  5.08it/s]\u001b[A\n",
      " 50%|████▉     | 312/625 [01:03<01:01,  5.09it/s]\u001b[A\n",
      " 50%|█████     | 313/625 [01:03<01:01,  5.11it/s]\u001b[A\n",
      " 50%|█████     | 314/625 [01:03<01:01,  5.07it/s]\u001b[A\n",
      " 50%|█████     | 315/625 [01:04<01:00,  5.12it/s]\u001b[A\n",
      " 51%|█████     | 316/625 [01:04<01:00,  5.12it/s]\u001b[A\n",
      " 51%|█████     | 317/625 [01:04<01:00,  5.06it/s]\u001b[A\n",
      " 51%|█████     | 318/625 [01:04<01:00,  5.12it/s]\u001b[A\n",
      " 51%|█████     | 319/625 [01:04<00:59,  5.13it/s]\u001b[A\n",
      " 51%|█████     | 320/625 [01:05<00:59,  5.13it/s]\u001b[A\n",
      " 51%|█████▏    | 321/625 [01:05<00:59,  5.10it/s]\u001b[A\n",
      " 52%|█████▏    | 322/625 [01:05<00:59,  5.12it/s]\u001b[A\n",
      " 52%|█████▏    | 323/625 [01:05<00:59,  5.12it/s]\u001b[A\n",
      " 52%|█████▏    | 324/625 [01:05<00:58,  5.11it/s]\u001b[A\n",
      " 52%|█████▏    | 325/625 [01:06<00:58,  5.15it/s]\u001b[A\n",
      " 52%|█████▏    | 326/625 [01:06<00:58,  5.12it/s]\u001b[A\n",
      " 52%|█████▏    | 327/625 [01:06<00:58,  5.11it/s]\u001b[A\n",
      " 52%|█████▏    | 328/625 [01:06<00:57,  5.13it/s]\u001b[A\n",
      " 53%|█████▎    | 329/625 [01:06<00:57,  5.14it/s]\u001b[A\n",
      " 53%|█████▎    | 330/625 [01:07<00:57,  5.11it/s]\u001b[A\n",
      " 53%|█████▎    | 331/625 [01:07<00:57,  5.13it/s]\u001b[A\n",
      " 53%|█████▎    | 332/625 [01:07<00:57,  5.10it/s]\u001b[A\n",
      " 53%|█████▎    | 333/625 [01:07<00:57,  5.12it/s]\u001b[A\n",
      " 53%|█████▎    | 334/625 [01:07<00:56,  5.15it/s]\u001b[A\n",
      " 54%|█████▎    | 335/625 [01:08<00:56,  5.11it/s]\u001b[A\n",
      " 54%|█████▍    | 336/625 [01:08<00:56,  5.11it/s]\u001b[A\n",
      " 54%|█████▍    | 337/625 [01:08<00:56,  5.14it/s]\u001b[A\n",
      " 54%|█████▍    | 338/625 [01:08<00:55,  5.13it/s]\u001b[A\n",
      " 54%|█████▍    | 339/625 [01:08<00:55,  5.14it/s]\u001b[A\n",
      " 54%|█████▍    | 340/625 [01:09<00:55,  5.09it/s]\u001b[A\n",
      " 55%|█████▍    | 341/625 [01:09<00:55,  5.10it/s]\u001b[A\n",
      " 55%|█████▍    | 342/625 [01:09<00:55,  5.11it/s]\u001b[A\n",
      " 55%|█████▍    | 343/625 [01:09<00:54,  5.14it/s]\u001b[A\n",
      " 55%|█████▌    | 344/625 [01:09<00:54,  5.13it/s]\u001b[A\n",
      " 55%|█████▌    | 345/625 [01:09<00:54,  5.15it/s]\u001b[A\n",
      " 55%|█████▌    | 346/625 [01:10<00:54,  5.13it/s]\u001b[A\n",
      " 56%|█████▌    | 347/625 [01:10<00:54,  5.11it/s]\u001b[A\n",
      " 56%|█████▌    | 348/625 [01:10<00:54,  5.10it/s]\u001b[A\n",
      " 56%|█████▌    | 349/625 [01:10<00:54,  5.09it/s]\u001b[A\n",
      " 56%|█████▌    | 350/625 [01:10<00:53,  5.11it/s]\u001b[A\n",
      " 56%|█████▌    | 351/625 [01:11<00:53,  5.12it/s]\u001b[A\n",
      " 56%|█████▋    | 352/625 [01:11<00:53,  5.09it/s]\u001b[A\n",
      " 56%|█████▋    | 353/625 [01:11<00:53,  5.12it/s]\u001b[A\n",
      " 57%|█████▋    | 354/625 [01:11<00:52,  5.13it/s]\u001b[A\n",
      " 57%|█████▋    | 355/625 [01:11<00:52,  5.14it/s]\u001b[A\n",
      " 57%|█████▋    | 356/625 [01:12<00:52,  5.14it/s]\u001b[A\n",
      " 57%|█████▋    | 357/625 [01:12<00:51,  5.16it/s]\u001b[A\n",
      " 57%|█████▋    | 358/625 [01:12<00:52,  5.13it/s]\u001b[A\n",
      " 57%|█████▋    | 359/625 [01:12<00:51,  5.16it/s]\u001b[A\n",
      " 58%|█████▊    | 360/625 [01:12<00:51,  5.14it/s]\u001b[A\n",
      " 58%|█████▊    | 361/625 [01:13<00:51,  5.10it/s]\u001b[A\n",
      " 58%|█████▊    | 362/625 [01:13<00:51,  5.14it/s]\u001b[A\n",
      " 58%|█████▊    | 363/625 [01:13<00:50,  5.16it/s]\u001b[A\n",
      " 58%|█████▊    | 364/625 [01:13<00:50,  5.17it/s]\u001b[A\n",
      " 58%|█████▊    | 365/625 [01:13<00:50,  5.16it/s]\u001b[A\n",
      " 59%|█████▊    | 366/625 [01:14<00:50,  5.14it/s]\u001b[A\n",
      " 59%|█████▊    | 367/625 [01:14<00:50,  5.16it/s]\u001b[A\n",
      " 59%|█████▉    | 368/625 [01:14<00:50,  5.14it/s]\u001b[A\n",
      " 59%|█████▉    | 369/625 [01:14<00:49,  5.13it/s]\u001b[A\n",
      " 59%|█████▉    | 370/625 [01:14<00:49,  5.16it/s]\u001b[A\n",
      " 59%|█████▉    | 371/625 [01:15<00:49,  5.14it/s]\u001b[A\n",
      " 60%|█████▉    | 372/625 [01:15<00:49,  5.13it/s]\u001b[A\n",
      " 60%|█████▉    | 373/625 [01:15<00:49,  5.14it/s]\u001b[A\n",
      " 60%|█████▉    | 374/625 [01:15<00:48,  5.13it/s]\u001b[A\n",
      " 60%|██████    | 375/625 [01:15<00:48,  5.14it/s]\u001b[A\n",
      " 60%|██████    | 376/625 [01:16<00:48,  5.14it/s]\u001b[A\n",
      " 60%|██████    | 377/625 [01:16<00:48,  5.12it/s]\u001b[A\n",
      " 60%|██████    | 378/625 [01:16<00:48,  5.09it/s]\u001b[A\n",
      " 61%|██████    | 379/625 [01:16<00:47,  5.16it/s]\u001b[A\n",
      " 61%|██████    | 380/625 [01:16<00:47,  5.14it/s]\u001b[A\n",
      " 61%|██████    | 381/625 [01:17<00:47,  5.15it/s]\u001b[A\n",
      " 61%|██████    | 382/625 [01:17<00:47,  5.13it/s]\u001b[A\n",
      " 61%|██████▏   | 383/625 [01:17<00:47,  5.12it/s]\u001b[A\n",
      " 61%|██████▏   | 384/625 [01:17<00:46,  5.14it/s]\u001b[A\n",
      " 62%|██████▏   | 385/625 [01:17<00:46,  5.12it/s]\u001b[A\n",
      " 62%|██████▏   | 386/625 [01:17<00:46,  5.13it/s]\u001b[A\n",
      " 62%|██████▏   | 387/625 [01:18<00:46,  5.15it/s]\u001b[A\n",
      " 62%|██████▏   | 388/625 [01:18<00:46,  5.12it/s]\u001b[A\n",
      " 62%|██████▏   | 389/625 [01:18<00:45,  5.13it/s]\u001b[A\n",
      " 62%|██████▏   | 390/625 [01:18<00:45,  5.16it/s]\u001b[A\n",
      " 63%|██████▎   | 391/625 [01:18<00:45,  5.14it/s]\u001b[A\n",
      " 63%|██████▎   | 392/625 [01:19<00:45,  5.17it/s]\u001b[A\n",
      " 63%|██████▎   | 393/625 [01:19<00:45,  5.13it/s]\u001b[A\n",
      " 63%|██████▎   | 394/625 [01:19<00:44,  5.14it/s]\u001b[A\n",
      " 63%|██████▎   | 395/625 [01:19<00:44,  5.14it/s]\u001b[A\n",
      " 63%|██████▎   | 396/625 [01:19<00:44,  5.11it/s]\u001b[A\n",
      " 64%|██████▎   | 397/625 [01:20<00:44,  5.12it/s]\u001b[A\n",
      " 64%|██████▎   | 398/625 [01:20<00:44,  5.14it/s]\u001b[A\n",
      " 64%|██████▍   | 399/625 [01:20<00:44,  5.11it/s]\u001b[A\n",
      " 64%|██████▍   | 400/625 [01:20<00:43,  5.12it/s]\u001b[A\n",
      " 64%|██████▍   | 401/625 [01:20<00:43,  5.13it/s]\u001b[A\n",
      " 64%|██████▍   | 402/625 [01:21<00:43,  5.15it/s]\u001b[A\n",
      " 64%|██████▍   | 403/625 [01:21<00:43,  5.16it/s]\u001b[A\n",
      " 65%|██████▍   | 404/625 [01:21<00:42,  5.14it/s]\u001b[A\n",
      " 65%|██████▍   | 405/625 [01:21<00:42,  5.13it/s]\u001b[A\n",
      " 65%|██████▍   | 406/625 [01:21<00:42,  5.14it/s]\u001b[A\n",
      " 65%|██████▌   | 407/625 [01:22<00:42,  5.13it/s]\u001b[A\n",
      " 65%|██████▌   | 408/625 [01:22<00:42,  5.14it/s]\u001b[A\n",
      " 65%|██████▌   | 409/625 [01:22<00:41,  5.16it/s]\u001b[A\n",
      " 66%|██████▌   | 410/625 [01:22<00:41,  5.13it/s]\u001b[A\n",
      " 66%|██████▌   | 411/625 [01:22<00:41,  5.13it/s]\u001b[A\n",
      " 66%|██████▌   | 412/625 [01:23<00:41,  5.11it/s]\u001b[A\n",
      " 66%|██████▌   | 413/625 [01:23<00:41,  5.13it/s]\u001b[A\n",
      " 66%|██████▌   | 414/625 [01:23<00:41,  5.07it/s]\u001b[A\n",
      " 66%|██████▋   | 415/625 [01:23<00:41,  5.09it/s]\u001b[A\n",
      " 67%|██████▋   | 416/625 [01:23<00:40,  5.12it/s]\u001b[A\n",
      " 67%|██████▋   | 417/625 [01:24<00:40,  5.13it/s]\u001b[A\n",
      " 67%|██████▋   | 418/625 [01:24<00:40,  5.12it/s]\u001b[A\n",
      " 67%|██████▋   | 419/625 [01:24<00:40,  5.12it/s]\u001b[A\n",
      " 67%|██████▋   | 420/625 [01:24<00:40,  5.11it/s]\u001b[A\n",
      " 67%|██████▋   | 421/625 [01:24<00:39,  5.14it/s]\u001b[A\n",
      " 68%|██████▊   | 422/625 [01:25<00:40,  5.07it/s]\u001b[A\n",
      " 68%|██████▊   | 423/625 [01:25<00:39,  5.08it/s]\u001b[A\n",
      " 68%|██████▊   | 424/625 [01:25<00:39,  5.14it/s]\u001b[A\n",
      " 68%|██████▊   | 425/625 [01:25<00:40,  4.94it/s]\u001b[A\n",
      " 68%|██████▊   | 426/625 [01:25<00:38,  5.12it/s]\u001b[A\n",
      " 68%|██████▊   | 427/625 [01:25<00:38,  5.15it/s]\u001b[A\n",
      " 68%|██████▊   | 428/625 [01:26<00:38,  5.11it/s]\u001b[A\n",
      " 69%|██████▊   | 429/625 [01:26<00:38,  5.09it/s]\u001b[A\n",
      " 69%|██████▉   | 430/625 [01:26<00:37,  5.14it/s]\u001b[A\n",
      " 69%|██████▉   | 431/625 [01:26<00:38,  5.05it/s]\u001b[A\n",
      " 69%|██████▉   | 432/625 [01:26<00:37,  5.11it/s]\u001b[A\n",
      " 69%|██████▉   | 433/625 [01:27<00:37,  5.16it/s]\u001b[A\n",
      " 69%|██████▉   | 434/625 [01:27<00:37,  5.14it/s]\u001b[A\n",
      " 70%|██████▉   | 435/625 [01:27<00:37,  5.11it/s]\u001b[A\n",
      " 70%|██████▉   | 436/625 [01:27<00:37,  5.08it/s]\u001b[A\n",
      " 70%|██████▉   | 437/625 [01:27<00:36,  5.13it/s]\u001b[A\n",
      " 70%|███████   | 438/625 [01:28<00:36,  5.13it/s]\u001b[A\n",
      " 70%|███████   | 439/625 [01:28<00:36,  5.14it/s]\u001b[A\n",
      " 70%|███████   | 440/625 [01:28<00:36,  5.13it/s]\u001b[A\n",
      " 71%|███████   | 441/625 [01:28<00:36,  5.09it/s]\u001b[A\n",
      " 71%|███████   | 442/625 [01:28<00:35,  5.09it/s]\u001b[A\n",
      " 71%|███████   | 443/625 [01:29<00:35,  5.16it/s]\u001b[A\n",
      " 71%|███████   | 444/625 [01:29<00:35,  5.13it/s]\u001b[A\n",
      " 71%|███████   | 445/625 [01:29<00:35,  5.07it/s]\u001b[A\n",
      " 71%|███████▏  | 446/625 [01:29<00:35,  5.11it/s]\u001b[A\n",
      " 72%|███████▏  | 447/625 [01:29<00:35,  5.06it/s]\u001b[A\n",
      " 72%|███████▏  | 448/625 [01:30<00:34,  5.12it/s]\u001b[A\n",
      " 72%|███████▏  | 449/625 [01:30<00:34,  5.13it/s]\u001b[A\n",
      " 72%|███████▏  | 450/625 [01:30<00:34,  5.09it/s]\u001b[A\n",
      " 72%|███████▏  | 451/625 [01:30<00:34,  5.10it/s]\u001b[A\n",
      " 72%|███████▏  | 452/625 [01:30<00:34,  5.06it/s]\u001b[A\n",
      " 72%|███████▏  | 453/625 [01:31<00:33,  5.09it/s]\u001b[A\n",
      " 73%|███████▎  | 454/625 [01:31<00:33,  5.10it/s]\u001b[A\n",
      " 73%|███████▎  | 455/625 [01:31<00:33,  5.08it/s]\u001b[A\n",
      " 73%|███████▎  | 456/625 [01:31<00:33,  5.07it/s]\u001b[A\n",
      " 73%|███████▎  | 457/625 [01:31<00:33,  5.06it/s]\u001b[A\n",
      " 73%|███████▎  | 458/625 [01:32<00:32,  5.08it/s]\u001b[A\n",
      " 73%|███████▎  | 459/625 [01:32<00:32,  5.08it/s]\u001b[A\n",
      " 74%|███████▎  | 460/625 [01:32<00:32,  5.08it/s]\u001b[A\n",
      " 74%|███████▍  | 461/625 [01:32<00:32,  5.05it/s]\u001b[A\n",
      " 74%|███████▍  | 462/625 [01:32<00:32,  5.06it/s]\u001b[A\n",
      " 74%|███████▍  | 463/625 [01:33<00:31,  5.08it/s]\u001b[A\n",
      " 74%|███████▍  | 464/625 [01:33<00:31,  5.08it/s]\u001b[A\n",
      " 74%|███████▍  | 465/625 [01:33<00:31,  5.06it/s]\u001b[A\n",
      " 75%|███████▍  | 466/625 [01:33<00:31,  5.06it/s]\u001b[A\n",
      " 75%|███████▍  | 467/625 [01:33<00:31,  5.06it/s]\u001b[A\n",
      " 75%|███████▍  | 468/625 [01:34<00:31,  5.06it/s]\u001b[A\n",
      " 75%|███████▌  | 469/625 [01:34<00:30,  5.07it/s]\u001b[A\n",
      " 75%|███████▌  | 470/625 [01:34<00:30,  5.05it/s]\u001b[A\n",
      " 75%|███████▌  | 471/625 [01:34<00:30,  5.06it/s]\u001b[A\n",
      " 76%|███████▌  | 472/625 [01:34<00:30,  5.07it/s]\u001b[A\n",
      " 76%|███████▌  | 473/625 [01:35<00:30,  5.02it/s]\u001b[A\n",
      " 76%|███████▌  | 474/625 [01:35<00:29,  5.08it/s]\u001b[A\n",
      " 76%|███████▌  | 475/625 [01:35<00:29,  5.06it/s]\u001b[A\n",
      " 76%|███████▌  | 476/625 [01:35<00:29,  5.07it/s]\u001b[A\n",
      " 76%|███████▋  | 477/625 [01:35<00:29,  5.08it/s]\u001b[A\n",
      " 76%|███████▋  | 478/625 [01:36<00:29,  5.06it/s]\u001b[A\n",
      " 77%|███████▋  | 479/625 [01:36<00:28,  5.07it/s]\u001b[A\n",
      " 77%|███████▋  | 480/625 [01:36<00:28,  5.06it/s]\u001b[A\n",
      " 77%|███████▋  | 481/625 [01:36<00:28,  5.06it/s]\u001b[A\n",
      " 77%|███████▋  | 482/625 [01:36<00:28,  5.06it/s]\u001b[A\n",
      " 77%|███████▋  | 483/625 [01:37<00:28,  5.06it/s]\u001b[A\n",
      " 77%|███████▋  | 484/625 [01:37<00:27,  5.04it/s]\u001b[A\n",
      " 78%|███████▊  | 485/625 [01:37<00:27,  5.03it/s]\u001b[A\n",
      " 78%|███████▊  | 486/625 [01:37<00:27,  5.05it/s]\u001b[A\n",
      " 78%|███████▊  | 487/625 [01:37<00:27,  5.06it/s]\u001b[A\n",
      " 78%|███████▊  | 488/625 [01:37<00:27,  5.06it/s]\u001b[A\n",
      " 78%|███████▊  | 489/625 [01:38<00:26,  5.04it/s]\u001b[A\n",
      " 78%|███████▊  | 490/625 [01:38<00:26,  5.02it/s]\u001b[A\n",
      " 79%|███████▊  | 491/625 [01:38<00:26,  5.02it/s]\u001b[A\n",
      " 79%|███████▊  | 492/625 [01:38<00:26,  5.04it/s]\u001b[A\n",
      " 79%|███████▉  | 493/625 [01:38<00:26,  5.05it/s]\u001b[A\n",
      " 79%|███████▉  | 494/625 [01:39<00:26,  5.00it/s]\u001b[A\n",
      " 79%|███████▉  | 495/625 [01:39<00:26,  4.97it/s]\u001b[A\n",
      " 79%|███████▉  | 496/625 [01:39<00:25,  5.00it/s]\u001b[A\n",
      " 80%|███████▉  | 497/625 [01:39<00:25,  4.98it/s]\u001b[A\n",
      " 80%|███████▉  | 498/625 [01:39<00:25,  5.00it/s]\u001b[A\n",
      " 80%|███████▉  | 499/625 [01:40<00:25,  4.93it/s]\u001b[A\n",
      " 80%|████████  | 500/625 [01:40<00:24,  5.02it/s]\u001b[A\n",
      " 80%|████████  | 501/625 [01:40<00:24,  5.01it/s]\u001b[A\n",
      " 80%|████████  | 502/625 [01:40<00:24,  4.99it/s]\u001b[A\n",
      " 80%|████████  | 503/625 [01:40<00:24,  5.05it/s]\u001b[A\n",
      " 81%|████████  | 504/625 [01:41<00:24,  5.03it/s]\u001b[A\n",
      " 81%|████████  | 505/625 [01:41<00:24,  5.00it/s]\u001b[A\n",
      " 81%|████████  | 506/625 [01:41<00:23,  4.99it/s]\u001b[A\n",
      " 81%|████████  | 507/625 [01:41<00:23,  4.99it/s]\u001b[A\n",
      " 81%|████████▏ | 508/625 [01:41<00:23,  5.01it/s]\u001b[A\n",
      " 81%|████████▏ | 509/625 [01:42<00:23,  4.98it/s]\u001b[A\n",
      " 82%|████████▏ | 510/625 [01:42<00:23,  4.95it/s]\u001b[A\n",
      " 82%|████████▏ | 511/625 [01:42<00:22,  4.97it/s]\u001b[A\n",
      " 82%|████████▏ | 512/625 [01:42<00:22,  4.97it/s]\u001b[A\n",
      " 82%|████████▏ | 513/625 [01:43<00:22,  4.98it/s]\u001b[A\n",
      " 82%|████████▏ | 514/625 [01:43<00:22,  5.01it/s]\u001b[A\n",
      " 82%|████████▏ | 515/625 [01:43<00:22,  4.92it/s]\u001b[A\n",
      " 83%|████████▎ | 516/625 [01:43<00:21,  5.01it/s]\u001b[A\n",
      " 83%|████████▎ | 517/625 [01:43<00:21,  5.08it/s]\u001b[A\n",
      " 83%|████████▎ | 518/625 [01:43<00:21,  5.04it/s]\u001b[A\n",
      " 83%|████████▎ | 519/625 [01:44<00:21,  5.02it/s]\u001b[A\n",
      " 83%|████████▎ | 520/625 [01:44<00:20,  5.01it/s]\u001b[A\n",
      " 83%|████████▎ | 521/625 [01:44<00:20,  5.00it/s]\u001b[A\n",
      " 84%|████████▎ | 522/625 [01:44<00:20,  5.00it/s]\u001b[A\n",
      " 84%|████████▎ | 523/625 [01:45<00:20,  4.98it/s]\u001b[A\n",
      " 84%|████████▍ | 524/625 [01:45<00:20,  4.96it/s]\u001b[A\n",
      " 84%|████████▍ | 525/625 [01:45<00:20,  4.95it/s]\u001b[A\n",
      " 84%|████████▍ | 526/625 [01:45<00:19,  4.96it/s]\u001b[A\n",
      " 84%|████████▍ | 527/625 [01:45<00:19,  4.97it/s]\u001b[A\n",
      " 84%|████████▍ | 528/625 [01:46<00:19,  4.97it/s]\u001b[A\n",
      " 85%|████████▍ | 529/625 [01:46<00:19,  4.96it/s]\u001b[A\n",
      " 85%|████████▍ | 530/625 [01:46<00:19,  4.95it/s]\u001b[A\n",
      " 85%|████████▍ | 531/625 [01:46<00:18,  4.96it/s]\u001b[A\n",
      " 85%|████████▌ | 532/625 [01:46<00:18,  4.97it/s]\u001b[A\n",
      " 85%|████████▌ | 533/625 [01:47<00:18,  4.95it/s]\u001b[A\n",
      " 85%|████████▌ | 534/625 [01:47<00:18,  4.95it/s]\u001b[A\n",
      " 86%|████████▌ | 535/625 [01:47<00:18,  4.95it/s]\u001b[A\n",
      " 86%|████████▌ | 536/625 [01:47<00:17,  4.95it/s]\u001b[A\n",
      " 86%|████████▌ | 537/625 [01:47<00:17,  4.96it/s]\u001b[A\n",
      " 86%|████████▌ | 538/625 [01:48<00:17,  4.95it/s]\u001b[A\n",
      " 86%|████████▌ | 539/625 [01:48<00:17,  4.96it/s]\u001b[A\n",
      " 86%|████████▋ | 540/625 [01:48<00:17,  4.93it/s]\u001b[A\n",
      " 87%|████████▋ | 541/625 [01:48<00:16,  4.96it/s]\u001b[A\n",
      " 87%|████████▋ | 542/625 [01:48<00:16,  4.96it/s]\u001b[A\n",
      " 87%|████████▋ | 543/625 [01:49<00:16,  4.96it/s]\u001b[A\n",
      " 87%|████████▋ | 544/625 [01:49<00:16,  4.95it/s]\u001b[A\n",
      " 87%|████████▋ | 545/625 [01:49<00:16,  4.95it/s]\u001b[A\n",
      " 87%|████████▋ | 546/625 [01:49<00:15,  4.95it/s]\u001b[A\n",
      " 88%|████████▊ | 547/625 [01:49<00:15,  4.95it/s]\u001b[A\n",
      " 88%|████████▊ | 548/625 [01:50<00:15,  4.95it/s]\u001b[A\n",
      " 88%|████████▊ | 549/625 [01:50<00:15,  4.95it/s]\u001b[A\n",
      " 88%|████████▊ | 550/625 [01:50<00:15,  4.94it/s]\u001b[A\n",
      " 88%|████████▊ | 551/625 [01:50<00:14,  4.94it/s]\u001b[A\n",
      " 88%|████████▊ | 552/625 [01:50<00:14,  4.95it/s]\u001b[A\n",
      " 88%|████████▊ | 553/625 [01:51<00:14,  4.95it/s]\u001b[A\n",
      " 89%|████████▊ | 554/625 [01:51<00:14,  4.94it/s]\u001b[A\n",
      " 89%|████████▉ | 555/625 [01:51<00:14,  4.94it/s]\u001b[A\n",
      " 89%|████████▉ | 556/625 [01:51<00:13,  4.95it/s]\u001b[A\n",
      " 89%|████████▉ | 557/625 [01:51<00:13,  4.95it/s]\u001b[A\n",
      " 89%|████████▉ | 558/625 [01:52<00:13,  4.96it/s]\u001b[A\n",
      " 89%|████████▉ | 559/625 [01:52<00:13,  4.94it/s]\u001b[A\n",
      " 90%|████████▉ | 560/625 [01:52<00:13,  4.95it/s]\u001b[A\n",
      " 90%|████████▉ | 561/625 [01:52<00:12,  4.94it/s]\u001b[A\n",
      " 90%|████████▉ | 562/625 [01:52<00:12,  4.96it/s]\u001b[A\n",
      " 90%|█████████ | 563/625 [01:53<00:12,  4.95it/s]\u001b[A\n",
      " 90%|█████████ | 564/625 [01:53<00:12,  4.93it/s]\u001b[A\n",
      " 90%|█████████ | 565/625 [01:53<00:12,  4.94it/s]\u001b[A\n",
      " 91%|█████████ | 566/625 [01:53<00:12,  4.90it/s]\u001b[A\n",
      " 91%|█████████ | 567/625 [01:53<00:11,  4.93it/s]\u001b[A\n",
      " 91%|█████████ | 568/625 [01:54<00:11,  4.96it/s]\u001b[A\n",
      " 91%|█████████ | 569/625 [01:54<00:11,  4.93it/s]\u001b[A\n",
      " 91%|█████████ | 570/625 [01:54<00:11,  4.94it/s]\u001b[A\n",
      " 91%|█████████▏| 571/625 [01:54<00:10,  4.92it/s]\u001b[A\n",
      " 92%|█████████▏| 572/625 [01:54<00:10,  4.97it/s]\u001b[A\n",
      " 92%|█████████▏| 573/625 [01:55<00:10,  4.97it/s]\u001b[A\n",
      " 92%|█████████▏| 574/625 [01:55<00:10,  4.94it/s]\u001b[A\n",
      " 92%|█████████▏| 575/625 [01:55<00:10,  4.94it/s]\u001b[A\n",
      " 92%|█████████▏| 576/625 [01:55<00:09,  4.91it/s]\u001b[A\n",
      " 92%|█████████▏| 577/625 [01:55<00:09,  4.96it/s]\u001b[A\n",
      " 92%|█████████▏| 578/625 [01:56<00:09,  4.94it/s]\u001b[A\n",
      " 93%|█████████▎| 579/625 [01:56<00:09,  4.93it/s]\u001b[A\n",
      " 93%|█████████▎| 580/625 [01:56<00:09,  4.95it/s]\u001b[A\n",
      " 93%|█████████▎| 581/625 [01:56<00:08,  4.94it/s]\u001b[A\n",
      " 93%|█████████▎| 582/625 [01:56<00:08,  4.96it/s]\u001b[A\n",
      " 93%|█████████▎| 583/625 [01:57<00:08,  4.94it/s]\u001b[A\n",
      " 93%|█████████▎| 584/625 [01:57<00:08,  4.95it/s]\u001b[A\n",
      " 94%|█████████▎| 585/625 [01:57<00:08,  4.94it/s]\u001b[A\n",
      " 94%|█████████▍| 586/625 [01:57<00:07,  4.94it/s]\u001b[A\n",
      " 94%|█████████▍| 587/625 [01:57<00:07,  4.91it/s]\u001b[A\n",
      " 94%|█████████▍| 588/625 [01:58<00:07,  4.96it/s]\u001b[A\n",
      " 94%|█████████▍| 589/625 [01:58<00:07,  4.94it/s]\u001b[A\n",
      " 94%|█████████▍| 590/625 [01:58<00:07,  4.99it/s]\u001b[A\n",
      " 95%|█████████▍| 591/625 [01:58<00:06,  4.97it/s]\u001b[A\n",
      " 95%|█████████▍| 592/625 [01:58<00:06,  4.98it/s]\u001b[A\n",
      " 95%|█████████▍| 593/625 [01:59<00:06,  4.96it/s]\u001b[A\n",
      " 95%|█████████▌| 594/625 [01:59<00:06,  4.96it/s]\u001b[A\n",
      " 95%|█████████▌| 595/625 [01:59<00:06,  4.95it/s]\u001b[A\n",
      " 95%|█████████▌| 596/625 [01:59<00:05,  4.95it/s]\u001b[A\n",
      " 96%|█████████▌| 597/625 [01:59<00:05,  4.96it/s]\u001b[A\n",
      " 96%|█████████▌| 598/625 [02:00<00:05,  4.97it/s]\u001b[A\n",
      " 96%|█████████▌| 599/625 [02:00<00:05,  4.95it/s]\u001b[A\n",
      " 96%|█████████▌| 600/625 [02:00<00:05,  4.94it/s]\u001b[A\n",
      " 96%|█████████▌| 601/625 [02:00<00:04,  4.95it/s]\u001b[A\n",
      " 96%|█████████▋| 602/625 [02:00<00:04,  4.96it/s]\u001b[A\n",
      " 96%|█████████▋| 603/625 [02:01<00:04,  4.95it/s]\u001b[A\n",
      " 97%|█████████▋| 604/625 [02:01<00:04,  4.94it/s]\u001b[A\n",
      " 97%|█████████▋| 605/625 [02:01<00:04,  4.94it/s]\u001b[A\n",
      " 97%|█████████▋| 606/625 [02:01<00:03,  4.95it/s]\u001b[A\n",
      " 97%|█████████▋| 607/625 [02:01<00:03,  4.97it/s]\u001b[A\n",
      " 97%|█████████▋| 608/625 [02:02<00:03,  4.94it/s]\u001b[A\n",
      " 97%|█████████▋| 609/625 [02:02<00:03,  4.95it/s]\u001b[A\n",
      " 98%|█████████▊| 610/625 [02:02<00:03,  4.95it/s]\u001b[A\n",
      " 98%|█████████▊| 611/625 [02:02<00:02,  4.95it/s]\u001b[A\n",
      " 98%|█████████▊| 612/625 [02:02<00:02,  4.95it/s]\u001b[A\n",
      " 98%|█████████▊| 613/625 [02:03<00:02,  4.95it/s]\u001b[A\n",
      " 98%|█████████▊| 614/625 [02:03<00:02,  4.96it/s]\u001b[A\n",
      " 98%|█████████▊| 615/625 [02:03<00:02,  4.95it/s]\u001b[A\n",
      " 99%|█████████▊| 616/625 [02:03<00:01,  4.95it/s]\u001b[A\n",
      " 99%|█████████▊| 617/625 [02:04<00:01,  4.92it/s]\u001b[A\n",
      " 99%|█████████▉| 618/625 [02:04<00:01,  4.96it/s]\u001b[A\n",
      " 99%|█████████▉| 619/625 [02:04<00:01,  4.96it/s]\u001b[A\n",
      " 99%|█████████▉| 620/625 [02:04<00:01,  4.95it/s]\u001b[A\n",
      " 99%|█████████▉| 621/625 [02:04<00:00,  4.95it/s]\u001b[A\n",
      "100%|█████████▉| 622/625 [02:05<00:00,  4.95it/s]\u001b[A\n",
      "100%|█████████▉| 623/625 [02:05<00:00,  4.96it/s]\u001b[A\n",
      "100%|█████████▉| 624/625 [02:05<00:00,  4.97it/s]\u001b[A\n",
      "100%|██████████| 625/625 [02:05<00:00,  4.98it/s]\n"
     ]
    },
    {
     "name": "stdout",
     "output_type": "stream",
     "text": [
      "tensor(0.8310, device='cuda:0')\n"
     ]
    }
   ],
   "source": [
    "model = module\n",
    "\n",
    "accuracy = evaluate_task(model, val_dataloader)\n",
    "print(accuracy)"
   ]
  }
 ],
 "metadata": {
  "colab": {
   "collapsed_sections": [],
   "provenance": [],
   "toc_visible": true
  },
  "kernelspec": {
   "display_name": "Python 3",
   "language": "python",
   "name": "python3"
  },
  "language_info": {
   "codemirror_mode": {
    "name": "ipython",
    "version": 3
   },
   "file_extension": ".py",
   "mimetype": "text/x-python",
   "name": "python",
   "nbconvert_exporter": "python",
   "pygments_lexer": "ipython3",
   "version": "3.9.18"
  },
  "max_cell_id": 35
 },
 "nbformat": 4,
 "nbformat_minor": 0
}
