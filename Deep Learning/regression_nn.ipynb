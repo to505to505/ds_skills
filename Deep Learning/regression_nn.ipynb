{
  "cells": [
    {
      "attachments": {},
      "cell_type": "markdown",
      "metadata": {
        "id": "Q_upCOEI3Upu"
      },
      "source": [
        "## Foundations of Deep Learning, IAD Minor ##\n",
        "\n",
        "## Homework 1. Introduction to PyTorch. Fully connected neural networks.\n",
        "\n",
        "\n",
        "### About the assignment\n",
        "\n",
        "In this assignment, you are to predict the year of a song's release (**regression task**) from some audio features: [data](https://archive.ics.uci.edu/ml/datasets/yearpredictionmsd). In the boxes below is the code to load the data. Note that the training and test samples are in the same file, so DO NOT change the cell where the data is split.\n",
        "\n"
      ]
    },
    {
      "attachments": {},
      "cell_type": "markdown",
      "metadata": {
        "id": "_6ilBKYt6OdD"
      },
      "source": [
        "## Assignment. (maximum 10 points).\n",
        "\n",
        "Implement the training and testing of a neural network for the data set provided to you. The correlation between the obtained metric value on the test sample and the score for the assignment is as follows:\n",
        "\n",
        "- $\\text{RMSE} \\le 9.10 $&mdash; 4 points.\n",
        "- $\\text{RMSE} \\le 9.00 $ &mdash; 6 points.\n",
        "- $\\text{RMSE} \\le 8.90 $&mdash; 8 points.\n",
        "- $\\text{RMSE} \\le 8.80 $&mdash; 10 points.\n",
        "\n",
        "There are a few rules you need to follow:\n",
        "\n",
        "- The entire learning pipeline must be written in PyTorch. You can use other libraries (`numpy`, `sklearn`, etc.), but only for data processing. That is, you can transform data and calculate metrics with these libraries as you like, but you cannot import models from `sklearn` and use them to extract the required quality. Also, you cannot use libraries for which PyTorch itself is a dependency.\n",
        "\n",
        "- We do not limit your choice of model architecture, but most likely a fully-connected neural network will be enough for you.\n",
        "\n",
        "- It is forbidden to use any data other than the training sample for training.\n",
        "\n",
        "- Model ensembling is forbidden.\n",
        "\n",
        "\n",
        "\n",
        "### Useful tips:\n",
        "\n",
        "- It's very unlikely that you'll be able to knock out a quality score of 10 the first time, so try different architectures, optimizers, and hyperparameter values. Ideally, you should change one thing at the start of each new experiment so you know exactly how that factor affects quality.\n",
        "\n",
        "- Don't forget that **normalizing the targeting** will help you to improve the quality of the model.\n",
        "\n",
        "- The fact that we're doing deep learning doesn't mean you should forget about techniques used in classical machine learning. So be sure to perform exploratory data analysis, draw the right graphs, and don't forget about scaling and hyperparameterization.\n",
        "\n",
        "- You will surely encounter the fact that your neural network will be heavily overtrained. There are special regularization methods for neural networks, such as dropout ([article](https://jmlr.org/papers/volume15/srivastava14a/srivastava14a.pdf)) and weight decay ([blogpost](https://towardsdatascience.com/weight-decay-l2-regularization-90a9e17713cd)). They are, of course, implemented in PyTorch. Try experimenting with them.\n",
        "\n",
        "- If you don't know something, don't hesitate to google it. There is a lot of useful information, tutorials and tips on deep learning in general and on PyTorch in particular. But don't forget that you will have to answer strictly for the rolled code without reference to the source!\n",
        "\n",
        "- If you implement GPU learning right away, you'll have more time to experiment, as any computations will run faster. Google Colab provides a few GPU hours (usually around 8-10) per day for free.\n",
        "\n",
        "- To debug your code, you can train on a small portion of data or even a single batches. If the loess on the training sample does not drop, something is definitely going wrong!\n",
        "\n",
        "- Use the utilities that PyTorch provides you with (for example, Dataset and Dataloader). They were specifically designed to simplify the development of the training pipeline.\n",
        "\n",
        "- You will most likely want to track the progress of your training. There is a handy `tqdm` library for creating progress bars.\n",
        "\n",
        "- You might want graphs to be drawn directly during training. You can use the [clear_output](http://ipython.org/ipython-doc/dev/api/generated/IPython.display.html#IPython.display.clear_output) function to delete the old graph and draw a new one in its place.\n",
        "\n",
        "\n",
        "\n",
        "\n",
        "**NECESSARY** draw graphs of the dependence of loss/metric on the training and test samples depending on the training time. If training takes a relatively small number of epochs, it is better to plot the dependence on the number of training step, if there are more epochs, plot the dependence by epochs. If the checker does not see such a graph for your best model, he/she has the right to lower the score for the assignment.\n",
        "\n",
        "**IMPORTANT** Your solution must be reproducible. If it is not, the reviewer has the right to lower the grade for the assignment. To fix the random seed, use the function from the previous assignment.\n",
        "\n"
      ]
    },
    {
      "cell_type": "code",
      "execution_count": 2,
      "metadata": {
        "id": "RI_eoe063VaP"
      },
      "outputs": [],
      "source": [
        "import torch\n",
        "from torch import nn\n",
        "import torch.nn as nn\n",
        "import torch.optim as optim\n",
        "import torch.nn.init as init\n",
        "import torch.nn.functional as F\n",
        "import pandas as pd\n",
        "import numpy as np\n",
        "import wandb\n",
        "import random\n",
        "device = \"cuda\" if torch.cuda.is_available() else \"cpu\"\n",
        "from tqdm.notebook import tqdm\n",
        "from IPython.display import clear_output\n",
        "import matplotlib.pyplot as plt\n",
        "from scipy import stats\n",
        "import numpy as np\n",
        "from sklearn.preprocessing import PowerTransformer"
      ]
    },
    {
      "cell_type": "code",
      "execution_count": 3,
      "metadata": {},
      "outputs": [
        {
          "name": "stderr",
          "output_type": "stream",
          "text": [
            "Failed to detect the name of this notebook, you can set it manually with the WANDB_NOTEBOOK_NAME environment variable to enable code saving.\n",
            "\u001b[34m\u001b[1mwandb\u001b[0m: Currently logged in as: \u001b[33mto505to505\u001b[0m (\u001b[33mto505to505_team\u001b[0m). Use \u001b[1m`wandb login --relogin`\u001b[0m to force relogin\n"
          ]
        },
        {
          "data": {
            "application/vnd.jupyter.widget-view+json": {
              "model_id": "eb1252d9eb594bc98981a0cc2c1dce98",
              "version_major": 2,
              "version_minor": 0
            },
            "text/plain": [
              "VBox(children=(Label(value='Waiting for wandb.init()...\\r'), FloatProgress(value=0.01117329350931363, max=1.0)…"
            ]
          },
          "metadata": {},
          "output_type": "display_data"
        },
        {
          "data": {
            "text/html": [
              "Tracking run with wandb version 0.16.4"
            ],
            "text/plain": [
              "<IPython.core.display.HTML object>"
            ]
          },
          "metadata": {},
          "output_type": "display_data"
        },
        {
          "data": {
            "text/html": [
              "Run data is saved locally in <code>/Users/dmitrii_sakharov/Docs/Study.obs/Study/ИАД ГЛУБИННОЕ/hw/wandb/run-20240318_183813-8rxadlyv</code>"
            ],
            "text/plain": [
              "<IPython.core.display.HTML object>"
            ]
          },
          "metadata": {},
          "output_type": "display_data"
        },
        {
          "data": {
            "text/html": [
              "Syncing run <strong><a href='https://wandb.ai/to505to505_team/pytorch-demo/runs/8rxadlyv' target=\"_blank\">deft-dust-52</a></strong> to <a href='https://wandb.ai/to505to505_team/pytorch-demo' target=\"_blank\">Weights & Biases</a> (<a href='https://wandb.me/run' target=\"_blank\">docs</a>)<br/>"
            ],
            "text/plain": [
              "<IPython.core.display.HTML object>"
            ]
          },
          "metadata": {},
          "output_type": "display_data"
        },
        {
          "data": {
            "text/html": [
              " View project at <a href='https://wandb.ai/to505to505_team/pytorch-demo' target=\"_blank\">https://wandb.ai/to505to505_team/pytorch-demo</a>"
            ],
            "text/plain": [
              "<IPython.core.display.HTML object>"
            ]
          },
          "metadata": {},
          "output_type": "display_data"
        },
        {
          "data": {
            "text/html": [
              " View run at <a href='https://wandb.ai/to505to505_team/pytorch-demo/runs/8rxadlyv' target=\"_blank\">https://wandb.ai/to505to505_team/pytorch-demo/runs/8rxadlyv</a>"
            ],
            "text/plain": [
              "<IPython.core.display.HTML object>"
            ]
          },
          "metadata": {},
          "output_type": "display_data"
        },
        {
          "data": {
            "text/html": [
              "<button onClick=\"this.nextSibling.style.display='block';this.style.display='none';\">Display W&B run</button><iframe src='https://wandb.ai/to505to505_team/pytorch-demo/runs/8rxadlyv?jupyter=true' style='border:none;width:100%;height:420px;display:none;'></iframe>"
            ],
            "text/plain": [
              "<wandb.sdk.wandb_run.Run at 0x297f335d0>"
            ]
          },
          "execution_count": 3,
          "metadata": {},
          "output_type": "execute_result"
        }
      ],
      "source": [
        "wandb.init(project=\"pytorch-demo\")"
      ]
    },
    {
      "cell_type": "code",
      "execution_count": 4,
      "metadata": {
        "id": "DSVJZzkJ7zZE",
        "outputId": "488c6de3-e897-463b-945e-a6752c113f63",
        "scrolled": false
      },
      "outputs": [
        {
          "data": {
            "text/html": [
              "<div>\n",
              "<style scoped>\n",
              "    .dataframe tbody tr th:only-of-type {\n",
              "        vertical-align: middle;\n",
              "    }\n",
              "\n",
              "    .dataframe tbody tr th {\n",
              "        vertical-align: top;\n",
              "    }\n",
              "\n",
              "    .dataframe thead th {\n",
              "        text-align: right;\n",
              "    }\n",
              "</style>\n",
              "<table border=\"1\" class=\"dataframe\">\n",
              "  <thead>\n",
              "    <tr style=\"text-align: right;\">\n",
              "      <th></th>\n",
              "      <th>0</th>\n",
              "      <th>1</th>\n",
              "      <th>2</th>\n",
              "      <th>3</th>\n",
              "      <th>4</th>\n",
              "      <th>5</th>\n",
              "      <th>6</th>\n",
              "      <th>7</th>\n",
              "      <th>8</th>\n",
              "      <th>9</th>\n",
              "      <th>...</th>\n",
              "      <th>81</th>\n",
              "      <th>82</th>\n",
              "      <th>83</th>\n",
              "      <th>84</th>\n",
              "      <th>85</th>\n",
              "      <th>86</th>\n",
              "      <th>87</th>\n",
              "      <th>88</th>\n",
              "      <th>89</th>\n",
              "      <th>90</th>\n",
              "    </tr>\n",
              "  </thead>\n",
              "  <tbody>\n",
              "    <tr>\n",
              "      <th>0</th>\n",
              "      <td>2001</td>\n",
              "      <td>49.94357</td>\n",
              "      <td>21.47114</td>\n",
              "      <td>73.07750</td>\n",
              "      <td>8.74861</td>\n",
              "      <td>-17.40628</td>\n",
              "      <td>-13.09905</td>\n",
              "      <td>-25.01202</td>\n",
              "      <td>-12.23257</td>\n",
              "      <td>7.83089</td>\n",
              "      <td>...</td>\n",
              "      <td>13.01620</td>\n",
              "      <td>-54.40548</td>\n",
              "      <td>58.99367</td>\n",
              "      <td>15.37344</td>\n",
              "      <td>1.11144</td>\n",
              "      <td>-23.08793</td>\n",
              "      <td>68.40795</td>\n",
              "      <td>-1.82223</td>\n",
              "      <td>-27.46348</td>\n",
              "      <td>2.26327</td>\n",
              "    </tr>\n",
              "    <tr>\n",
              "      <th>1</th>\n",
              "      <td>2001</td>\n",
              "      <td>48.73215</td>\n",
              "      <td>18.42930</td>\n",
              "      <td>70.32679</td>\n",
              "      <td>12.94636</td>\n",
              "      <td>-10.32437</td>\n",
              "      <td>-24.83777</td>\n",
              "      <td>8.76630</td>\n",
              "      <td>-0.92019</td>\n",
              "      <td>18.76548</td>\n",
              "      <td>...</td>\n",
              "      <td>5.66812</td>\n",
              "      <td>-19.68073</td>\n",
              "      <td>33.04964</td>\n",
              "      <td>42.87836</td>\n",
              "      <td>-9.90378</td>\n",
              "      <td>-32.22788</td>\n",
              "      <td>70.49388</td>\n",
              "      <td>12.04941</td>\n",
              "      <td>58.43453</td>\n",
              "      <td>26.92061</td>\n",
              "    </tr>\n",
              "    <tr>\n",
              "      <th>2</th>\n",
              "      <td>2001</td>\n",
              "      <td>50.95714</td>\n",
              "      <td>31.85602</td>\n",
              "      <td>55.81851</td>\n",
              "      <td>13.41693</td>\n",
              "      <td>-6.57898</td>\n",
              "      <td>-18.54940</td>\n",
              "      <td>-3.27872</td>\n",
              "      <td>-2.35035</td>\n",
              "      <td>16.07017</td>\n",
              "      <td>...</td>\n",
              "      <td>3.03800</td>\n",
              "      <td>26.05866</td>\n",
              "      <td>-50.92779</td>\n",
              "      <td>10.93792</td>\n",
              "      <td>-0.07568</td>\n",
              "      <td>43.20130</td>\n",
              "      <td>-115.00698</td>\n",
              "      <td>-0.05859</td>\n",
              "      <td>39.67068</td>\n",
              "      <td>-0.66345</td>\n",
              "    </tr>\n",
              "    <tr>\n",
              "      <th>3</th>\n",
              "      <td>2001</td>\n",
              "      <td>48.24750</td>\n",
              "      <td>-1.89837</td>\n",
              "      <td>36.29772</td>\n",
              "      <td>2.58776</td>\n",
              "      <td>0.97170</td>\n",
              "      <td>-26.21683</td>\n",
              "      <td>5.05097</td>\n",
              "      <td>-10.34124</td>\n",
              "      <td>3.55005</td>\n",
              "      <td>...</td>\n",
              "      <td>34.57337</td>\n",
              "      <td>-171.70734</td>\n",
              "      <td>-16.96705</td>\n",
              "      <td>-46.67617</td>\n",
              "      <td>-12.51516</td>\n",
              "      <td>82.58061</td>\n",
              "      <td>-72.08993</td>\n",
              "      <td>9.90558</td>\n",
              "      <td>199.62971</td>\n",
              "      <td>18.85382</td>\n",
              "    </tr>\n",
              "    <tr>\n",
              "      <th>4</th>\n",
              "      <td>2001</td>\n",
              "      <td>50.97020</td>\n",
              "      <td>42.20998</td>\n",
              "      <td>67.09964</td>\n",
              "      <td>8.46791</td>\n",
              "      <td>-15.85279</td>\n",
              "      <td>-16.81409</td>\n",
              "      <td>-12.48207</td>\n",
              "      <td>-9.37636</td>\n",
              "      <td>12.63699</td>\n",
              "      <td>...</td>\n",
              "      <td>9.92661</td>\n",
              "      <td>-55.95724</td>\n",
              "      <td>64.92712</td>\n",
              "      <td>-17.72522</td>\n",
              "      <td>-1.49237</td>\n",
              "      <td>-7.50035</td>\n",
              "      <td>51.76631</td>\n",
              "      <td>7.88713</td>\n",
              "      <td>55.66926</td>\n",
              "      <td>28.74903</td>\n",
              "    </tr>\n",
              "    <tr>\n",
              "      <th>5</th>\n",
              "      <td>2001</td>\n",
              "      <td>50.54767</td>\n",
              "      <td>0.31568</td>\n",
              "      <td>92.35066</td>\n",
              "      <td>22.38696</td>\n",
              "      <td>-25.51870</td>\n",
              "      <td>-19.04928</td>\n",
              "      <td>20.67345</td>\n",
              "      <td>-5.19943</td>\n",
              "      <td>3.63566</td>\n",
              "      <td>...</td>\n",
              "      <td>6.59753</td>\n",
              "      <td>-50.69577</td>\n",
              "      <td>26.02574</td>\n",
              "      <td>18.94430</td>\n",
              "      <td>-0.33730</td>\n",
              "      <td>6.09352</td>\n",
              "      <td>35.18381</td>\n",
              "      <td>5.00283</td>\n",
              "      <td>-11.02257</td>\n",
              "      <td>0.02263</td>\n",
              "    </tr>\n",
              "    <tr>\n",
              "      <th>6</th>\n",
              "      <td>2001</td>\n",
              "      <td>50.57546</td>\n",
              "      <td>33.17843</td>\n",
              "      <td>50.53517</td>\n",
              "      <td>11.55217</td>\n",
              "      <td>-27.24764</td>\n",
              "      <td>-8.78206</td>\n",
              "      <td>-12.04282</td>\n",
              "      <td>-9.53930</td>\n",
              "      <td>28.61811</td>\n",
              "      <td>...</td>\n",
              "      <td>11.63681</td>\n",
              "      <td>25.44182</td>\n",
              "      <td>134.62382</td>\n",
              "      <td>21.51982</td>\n",
              "      <td>8.17570</td>\n",
              "      <td>35.46251</td>\n",
              "      <td>11.57736</td>\n",
              "      <td>4.50056</td>\n",
              "      <td>-4.62739</td>\n",
              "      <td>1.40192</td>\n",
              "    </tr>\n",
              "    <tr>\n",
              "      <th>7</th>\n",
              "      <td>2001</td>\n",
              "      <td>48.26892</td>\n",
              "      <td>8.97526</td>\n",
              "      <td>75.23158</td>\n",
              "      <td>24.04945</td>\n",
              "      <td>-16.02105</td>\n",
              "      <td>-14.09491</td>\n",
              "      <td>8.11871</td>\n",
              "      <td>-1.87566</td>\n",
              "      <td>7.46701</td>\n",
              "      <td>...</td>\n",
              "      <td>18.03989</td>\n",
              "      <td>-58.46192</td>\n",
              "      <td>-65.56438</td>\n",
              "      <td>46.99856</td>\n",
              "      <td>-4.09602</td>\n",
              "      <td>56.37650</td>\n",
              "      <td>-18.29975</td>\n",
              "      <td>-0.30633</td>\n",
              "      <td>3.98364</td>\n",
              "      <td>-3.72556</td>\n",
              "    </tr>\n",
              "    <tr>\n",
              "      <th>8</th>\n",
              "      <td>2001</td>\n",
              "      <td>49.75468</td>\n",
              "      <td>33.99581</td>\n",
              "      <td>56.73846</td>\n",
              "      <td>2.89581</td>\n",
              "      <td>-2.92429</td>\n",
              "      <td>-26.44413</td>\n",
              "      <td>1.71392</td>\n",
              "      <td>-0.55644</td>\n",
              "      <td>22.08594</td>\n",
              "      <td>...</td>\n",
              "      <td>18.70812</td>\n",
              "      <td>5.20391</td>\n",
              "      <td>-27.75192</td>\n",
              "      <td>17.22100</td>\n",
              "      <td>-0.85210</td>\n",
              "      <td>-15.67150</td>\n",
              "      <td>-26.36257</td>\n",
              "      <td>5.48708</td>\n",
              "      <td>-9.13495</td>\n",
              "      <td>6.08680</td>\n",
              "    </tr>\n",
              "    <tr>\n",
              "      <th>9</th>\n",
              "      <td>2007</td>\n",
              "      <td>45.17809</td>\n",
              "      <td>46.34234</td>\n",
              "      <td>-40.65357</td>\n",
              "      <td>-2.47909</td>\n",
              "      <td>1.21253</td>\n",
              "      <td>-0.65302</td>\n",
              "      <td>-6.95536</td>\n",
              "      <td>-12.20040</td>\n",
              "      <td>17.02512</td>\n",
              "      <td>...</td>\n",
              "      <td>-4.36742</td>\n",
              "      <td>-87.55285</td>\n",
              "      <td>-70.79677</td>\n",
              "      <td>76.57355</td>\n",
              "      <td>-7.71727</td>\n",
              "      <td>3.26926</td>\n",
              "      <td>-298.49845</td>\n",
              "      <td>11.49326</td>\n",
              "      <td>-89.21804</td>\n",
              "      <td>-15.09719</td>\n",
              "    </tr>\n",
              "  </tbody>\n",
              "</table>\n",
              "<p>10 rows × 91 columns</p>\n",
              "</div>"
            ],
            "text/plain": [
              "     0         1         2         3         4         5         6         7   \\\n",
              "0  2001  49.94357  21.47114  73.07750   8.74861 -17.40628 -13.09905 -25.01202   \n",
              "1  2001  48.73215  18.42930  70.32679  12.94636 -10.32437 -24.83777   8.76630   \n",
              "2  2001  50.95714  31.85602  55.81851  13.41693  -6.57898 -18.54940  -3.27872   \n",
              "3  2001  48.24750  -1.89837  36.29772   2.58776   0.97170 -26.21683   5.05097   \n",
              "4  2001  50.97020  42.20998  67.09964   8.46791 -15.85279 -16.81409 -12.48207   \n",
              "5  2001  50.54767   0.31568  92.35066  22.38696 -25.51870 -19.04928  20.67345   \n",
              "6  2001  50.57546  33.17843  50.53517  11.55217 -27.24764  -8.78206 -12.04282   \n",
              "7  2001  48.26892   8.97526  75.23158  24.04945 -16.02105 -14.09491   8.11871   \n",
              "8  2001  49.75468  33.99581  56.73846   2.89581  -2.92429 -26.44413   1.71392   \n",
              "9  2007  45.17809  46.34234 -40.65357  -2.47909   1.21253  -0.65302  -6.95536   \n",
              "\n",
              "         8         9   ...        81         82         83        84  \\\n",
              "0 -12.23257   7.83089  ...  13.01620  -54.40548   58.99367  15.37344   \n",
              "1  -0.92019  18.76548  ...   5.66812  -19.68073   33.04964  42.87836   \n",
              "2  -2.35035  16.07017  ...   3.03800   26.05866  -50.92779  10.93792   \n",
              "3 -10.34124   3.55005  ...  34.57337 -171.70734  -16.96705 -46.67617   \n",
              "4  -9.37636  12.63699  ...   9.92661  -55.95724   64.92712 -17.72522   \n",
              "5  -5.19943   3.63566  ...   6.59753  -50.69577   26.02574  18.94430   \n",
              "6  -9.53930  28.61811  ...  11.63681   25.44182  134.62382  21.51982   \n",
              "7  -1.87566   7.46701  ...  18.03989  -58.46192  -65.56438  46.99856   \n",
              "8  -0.55644  22.08594  ...  18.70812    5.20391  -27.75192  17.22100   \n",
              "9 -12.20040  17.02512  ...  -4.36742  -87.55285  -70.79677  76.57355   \n",
              "\n",
              "         85        86         87        88         89        90  \n",
              "0   1.11144 -23.08793   68.40795  -1.82223  -27.46348   2.26327  \n",
              "1  -9.90378 -32.22788   70.49388  12.04941   58.43453  26.92061  \n",
              "2  -0.07568  43.20130 -115.00698  -0.05859   39.67068  -0.66345  \n",
              "3 -12.51516  82.58061  -72.08993   9.90558  199.62971  18.85382  \n",
              "4  -1.49237  -7.50035   51.76631   7.88713   55.66926  28.74903  \n",
              "5  -0.33730   6.09352   35.18381   5.00283  -11.02257   0.02263  \n",
              "6   8.17570  35.46251   11.57736   4.50056   -4.62739   1.40192  \n",
              "7  -4.09602  56.37650  -18.29975  -0.30633    3.98364  -3.72556  \n",
              "8  -0.85210 -15.67150  -26.36257   5.48708   -9.13495   6.08680  \n",
              "9  -7.71727   3.26926 -298.49845  11.49326  -89.21804 -15.09719  \n",
              "\n",
              "[10 rows x 91 columns]"
            ]
          },
          "execution_count": 4,
          "metadata": {},
          "output_type": "execute_result"
        }
      ],
      "source": [
        "df = pd.read_csv('data.txt.zip', header=None)\n",
        "df.head(10)"
      ]
    },
    {
      "cell_type": "code",
      "execution_count": 5,
      "metadata": {},
      "outputs": [],
      "source": [
        "device = torch.device(\"mps\")"
      ]
    },
    {
      "attachments": {},
      "cell_type": "markdown",
      "metadata": {
        "id": "N9a-eJUG35C3"
      },
      "source": [
        "Мы вывели кусок данных, чтобы понять, насколько они пригодны для работы без изменений. Здесь ясно, что сомнительно дальше с такими данными работать, потому что как минимум есть отрицательные значения, которые не отмасштабированы, кроме того еще сразу бросается в глаза совсем разная размерность, где-то видим реально большие числа, а где-то 0.075. Ясно, что будем скейлить."
      ]
    },
    {
      "cell_type": "code",
      "execution_count": 6,
      "metadata": {
        "id": "n4wnRJT1778j"
      },
      "outputs": [],
      "source": [
        "X = df.iloc[:, 1:].values\n",
        "y = df.iloc[:, 0].values\n",
        "\n",
        "train_size = 463715\n",
        "X_train = X[:train_size, :]\n",
        "y_train = y[:train_size]\n",
        "X_test = X[train_size:, :]\n",
        "y_test = y[train_size:]"
      ]
    },
    {
      "cell_type": "code",
      "execution_count": 7,
      "metadata": {},
      "outputs": [],
      "source": [
        "y_train = y_train.reshape(-1, 1)\n",
        "y_test= y_test.reshape(-1, 1)"
      ]
    },
    {
      "cell_type": "code",
      "execution_count": 8,
      "metadata": {},
      "outputs": [
        {
          "data": {
            "text/plain": [
              "51630"
            ]
          },
          "execution_count": 8,
          "metadata": {},
          "output_type": "execute_result"
        }
      ],
      "source": [
        "len(y_test)"
      ]
    },
    {
      "cell_type": "code",
      "execution_count": 9,
      "metadata": {},
      "outputs": [
        {
          "name": "stderr",
          "output_type": "stream",
          "text": [
            "/Users/dmitrii_sakharov/anaconda3/lib/python3.11/site-packages/numpy/core/_methods.py:239: RuntimeWarning: overflow encountered in multiply\n",
            "  x = um.multiply(x, x, out=x)\n",
            "/Users/dmitrii_sakharov/anaconda3/lib/python3.11/site-packages/numpy/core/_methods.py:250: RuntimeWarning: overflow encountered in reduce\n",
            "  ret = umr_sum(x, axis, dtype, out, keepdims=keepdims, where=where)\n"
          ]
        }
      ],
      "source": [
        "pt = PowerTransformer(standardize=True, method='yeo-johnson')\n",
        "pt.fit(y_train)\n",
        "y_train = pt.transform(y_train.astype('float64'))\n",
        "y_test = pt.transform(y_test.astype('float64'))"
      ]
    },
    {
      "cell_type": "code",
      "execution_count": 14,
      "metadata": {},
      "outputs": [
        {
          "data": {
            "image/png": "[encoded data removed]",
            "text/plain": [
              "<Figure size 1200x1000 with 2 Axes>"
            ]
          },
          "metadata": {},
          "output_type": "display_data"
        }
      ],
      "source": [
        "fig = plt.figure(figsize=(12,10))\n",
        "ax1 = fig.add_subplot(121)\n",
        "ax2 = fig.add_subplot(122)\n",
        "ax1.hist(y[:train_size], bins=100)\n",
        "ax1.set_title(\"Target before tranformation\")\n",
        "ax2.hist(y_train, bins=100,)\n",
        "ax2.set_title(\"Target after tranformation\")\n",
        "plt.show()"
      ]
    },
    {
      "cell_type": "code",
      "execution_count": 15,
      "metadata": {},
      "outputs": [],
      "source": [
        "from sklearn.preprocessing import StandardScaler\n",
        "from sklearn.preprocessing import MinMaxScaler\n",
        "\n",
        "scaler = StandardScaler()"
      ]
    },
    {
      "cell_type": "code",
      "execution_count": 16,
      "metadata": {},
      "outputs": [],
      "source": [
        "scaler.fit(X_train)\n",
        "X_train = scaler.transform(X_train)\n",
        "X_test = scaler.transform(X_test)\n"
      ]
    },
    {
      "cell_type": "code",
      "execution_count": 574,
      "metadata": {
        "id": "lkfkXylb8U-O"
      },
      "outputs": [],
      "source": [
        "def set_random_seed(seed):\n",
        "    torch.backends.cudnn.deterministic = True\n",
        "    torch.manual_seed(seed)\n",
        "    torch.cuda.manual_seed(seed)\n",
        "    np.random.seed(seed)\n",
        "    random.seed(seed)"
      ]
    },
    {
      "cell_type": "markdown",
      "metadata": {},
      "source": [
        "### Data"
      ]
    },
    {
      "cell_type": "code",
      "execution_count": 575,
      "metadata": {
        "id": "LxnT6G1J-apf"
      },
      "outputs": [],
      "source": [
        "class myDataset(torch.utils.data.Dataset):\n",
        "    def __init__(self, x, y):\n",
        "        self.x = x\n",
        "        self.y = y\n",
        "\n",
        "    def __len__(self):\n",
        "        return self.x.shape[0]\n",
        "    \n",
        "    def __getitem__(self, idx):\n",
        "        return torch.tensor(self.x[idx, :], dtype=torch.float), self.y[idx]"
      ]
    },
    {
      "cell_type": "code",
      "execution_count": 576,
      "metadata": {},
      "outputs": [],
      "source": [
        "X_tr = torch.tensor(X_train)\n",
        "X_tst = torch.tensor(X_test)\n",
        "Y_tr = torch.tensor(y_train)\n",
        "Y_tst = torch.tensor(y_test)\n",
        "\n",
        "data = myDataset(X_tr, Y_tr)\n",
        "data_test = myDataset(X_tst, Y_tst)\n",
        "\n",
        "dataloader = torch.utils.data.DataLoader(data, batch_size=20000)\n",
        "dataloader_test = torch.utils.data.DataLoader(data_test, batch_size=51630)\n"
      ]
    },
    {
      "cell_type": "markdown",
      "metadata": {},
      "source": [
        "### Model"
      ]
    },
    {
      "cell_type": "code",
      "execution_count": 639,
      "metadata": {},
      "outputs": [],
      "source": [
        "\n",
        "class MyModel(nn.Module):\n",
        "    def __init__(self, input_size, device):\n",
        "        super(MyModel, self).__init__()\n",
        "        self.device = device\n",
        "        self.layer1 = nn.Linear(input_size, 350)\n",
        "        init.xavier_uniform_(self.layer1.weight)\n",
        "        self.bn1 = nn.BatchNorm1d(350)\n",
        "        self.relu = nn.ReLU()\n",
        "        self.dropout1 = nn.Dropout(0.5)\n",
        "        self.layer2 = nn.Linear(350, 200)\n",
        "        self.bn2 = nn.BatchNorm1d(200)\n",
        "        self.relu = nn.ReLU()\n",
        "        self.dropout2 = nn.Dropout(0.5, inplace=False)\n",
        "        self.layer3 = nn.Linear(200, 1)\n",
        "        # Если используете ReLU перед последним слоем\n",
        "        init.kaiming_uniform_(self.layer3.weight, nonlinearity='relu')\n",
        "\n",
        "    def forward(self, x):\n",
        "\n",
        "        x = self.layer1(x)\n",
        "        x = self.bn1(x)\n",
        "        x = self.relu(x)\n",
        "        x = self.dropout1(x)\n",
        "        x = self.layer2(x)\n",
        "        x = self.bn2(x)\n",
        "        x = self.relu(x)\n",
        "        x = self.dropout2(x)\n",
        "        x = self.layer3(x)\n",
        "        return x"
      ]
    },
    {
      "cell_type": "code",
      "execution_count": 640,
      "metadata": {},
      "outputs": [],
      "source": [
        "input_size = X_tr.shape[1]\n",
        "model = MyModel(input_size, device)"
      ]
    },
    {
      "cell_type": "markdown",
      "metadata": {},
      "source": [
        "### Training"
      ]
    },
    {
      "cell_type": "code",
      "execution_count": 643,
      "metadata": {},
      "outputs": [
        {
          "name": "stderr",
          "output_type": "stream",
          "text": [
            "/var/folders/wn/vk7vt0j13lgf017ktpdypywr0000gn/T/ipykernel_21887/1995826793.py:11: UserWarning: To copy construct from a tensor, it is recommended to use sourceTensor.clone().detach() or sourceTensor.clone().detach().requires_grad_(True), rather than torch.tensor(sourceTensor).\n",
            "  return torch.tensor(self.x[idx, :], dtype=torch.float), self.y[idx]\n"
          ]
        }
      ],
      "source": [
        "x_val, y_val = next(iter(dataloader_test))\n",
        "x_val = x_val.float().to(device) \n",
        "y_val = y_val.float().to(device) "
      ]
    },
    {
      "cell_type": "code",
      "execution_count": 644,
      "metadata": {},
      "outputs": [
        {
          "data": {
            "text/plain": [
              "MyModel(\n",
              "  (layer1): Linear(in_features=90, out_features=350, bias=True)\n",
              "  (bn1): BatchNorm1d(350, eps=1e-05, momentum=0.1, affine=True, track_running_stats=True)\n",
              "  (relu): ReLU()\n",
              "  (dropout1): Dropout(p=0.5, inplace=False)\n",
              "  (layer2): Linear(in_features=350, out_features=200, bias=True)\n",
              "  (bn2): BatchNorm1d(200, eps=1e-05, momentum=0.1, affine=True, track_running_stats=True)\n",
              "  (dropout2): Dropout(p=0.5, inplace=False)\n",
              "  (layer3): Linear(in_features=200, out_features=1, bias=True)\n",
              ")"
            ]
          },
          "execution_count": 644,
          "metadata": {},
          "output_type": "execute_result"
        }
      ],
      "source": [
        "model.to(device)"
      ]
    },
    {
      "cell_type": "code",
      "execution_count": 699,
      "metadata": {},
      "outputs": [],
      "source": [
        "optimizer = optim.AdamW(model.parameters(), lr = 0.01, weight_decay=0.001 )"
      ]
    },
    {
      "cell_type": "code",
      "execution_count": 700,
      "metadata": {},
      "outputs": [],
      "source": [
        "wandb.watch(model);"
      ]
    },
    {
      "cell_type": "code",
      "execution_count": 701,
      "metadata": {},
      "outputs": [],
      "source": [
        "from torch.nn.utils import clip_grad_norm_\n",
        "max_grad_norm = 4.0"
      ]
    },
    {
      "cell_type": "code",
      "execution_count": 642,
      "metadata": {},
      "outputs": [],
      "source": [
        "criterion = torch.nn.MSELoss()"
      ]
    },
    {
      "cell_type": "code",
      "execution_count": 702,
      "metadata": {},
      "outputs": [
        {
          "data": {
            "application/vnd.jupyter.widget-view+json": {
              "model_id": "6b0164475a3a4e5b9ecded03a8109553",
              "version_major": 2,
              "version_minor": 0
            },
            "text/plain": [
              "  0%|          | 0/24 [00:00<?, ?it/s]"
            ]
          },
          "metadata": {},
          "output_type": "display_data"
        },
        {
          "name": "stderr",
          "output_type": "stream",
          "text": [
            "/var/folders/wn/vk7vt0j13lgf017ktpdypywr0000gn/T/ipykernel_21887/1995826793.py:11: UserWarning: To copy construct from a tensor, it is recommended to use sourceTensor.clone().detach() or sourceTensor.clone().detach().requires_grad_(True), rather than torch.tensor(sourceTensor).\n",
            "  return torch.tensor(self.x[idx, :], dtype=torch.float), self.y[idx]\n"
          ]
        },
        {
          "name": "stdout",
          "output_type": "stream",
          "text": [
            "Epoch: 0, loss: 0.5938705801963806 Epoch: 0, loss test: 0.6179109811782837\n",
            "Epoch: 0, loss: 0.5421116352081299 Epoch: 0, loss test: 0.6143274307250977\n"
          ]
        },
        {
          "data": {
            "application/vnd.jupyter.widget-view+json": {
              "model_id": "d8eaa8fac43f4b178f6fd7882e3f9b17",
              "version_major": 2,
              "version_minor": 0
            },
            "text/plain": [
              "  0%|          | 0/24 [00:00<?, ?it/s]"
            ]
          },
          "metadata": {},
          "output_type": "display_data"
        },
        {
          "name": "stdout",
          "output_type": "stream",
          "text": [
            "Epoch: 1, loss: 0.5781282782554626 Epoch: 1, loss test: 0.619314968585968\n",
            "Epoch: 1, loss: 0.5880038142204285 Epoch: 1, loss test: 0.6129748821258545\n"
          ]
        },
        {
          "data": {
            "application/vnd.jupyter.widget-view+json": {
              "model_id": "bc0054a3685e45a197b7df9c8d151cea",
              "version_major": 2,
              "version_minor": 0
            },
            "text/plain": [
              "  0%|          | 0/24 [00:00<?, ?it/s]"
            ]
          },
          "metadata": {},
          "output_type": "display_data"
        },
        {
          "name": "stdout",
          "output_type": "stream",
          "text": [
            "Epoch: 2, loss: 0.5373549461364746 Epoch: 2, loss test: 0.6154896020889282\n",
            "Epoch: 2, loss: 0.572481095790863 Epoch: 2, loss test: 0.6141406893730164\n",
            "Epoch: 2, loss: 0.56780606508255 Epoch: 2, loss test: 0.6134487986564636\n"
          ]
        },
        {
          "data": {
            "application/vnd.jupyter.widget-view+json": {
              "model_id": "8eb8b50982434b80b889daecc55b4bf4",
              "version_major": 2,
              "version_minor": 0
            },
            "text/plain": [
              "  0%|          | 0/24 [00:00<?, ?it/s]"
            ]
          },
          "metadata": {},
          "output_type": "display_data"
        },
        {
          "name": "stdout",
          "output_type": "stream",
          "text": [
            "Epoch: 3, loss: 0.5456801652908325 Epoch: 3, loss test: 0.6199458241462708\n",
            "Epoch: 3, loss: 0.557033360004425 Epoch: 3, loss test: 0.6124439239501953\n"
          ]
        },
        {
          "data": {
            "application/vnd.jupyter.widget-view+json": {
              "model_id": "f7575cc8a1cc48b289e6518cbaaeabdb",
              "version_major": 2,
              "version_minor": 0
            },
            "text/plain": [
              "  0%|          | 0/24 [00:00<?, ?it/s]"
            ]
          },
          "metadata": {},
          "output_type": "display_data"
        },
        {
          "name": "stdout",
          "output_type": "stream",
          "text": [
            "Epoch: 4, loss: 0.5763087272644043 Epoch: 4, loss test: 0.6185884475708008\n",
            "Epoch: 4, loss: 0.5551866888999939 Epoch: 4, loss test: 0.6153044700622559\n",
            "Epoch: 4, loss: 0.3813484311103821 Epoch: 4, loss test: 0.6154321432113647\n"
          ]
        },
        {
          "data": {
            "application/vnd.jupyter.widget-view+json": {
              "model_id": "0c80cb4665c5498e94d5f747e2e43f9f",
              "version_major": 2,
              "version_minor": 0
            },
            "text/plain": [
              "  0%|          | 0/24 [00:00<?, ?it/s]"
            ]
          },
          "metadata": {},
          "output_type": "display_data"
        },
        {
          "name": "stdout",
          "output_type": "stream",
          "text": [
            "Epoch: 5, loss: 0.5765013694763184 Epoch: 5, loss test: 0.6153368949890137\n",
            "Epoch: 5, loss: 0.5305416584014893 Epoch: 5, loss test: 0.6136106252670288\n"
          ]
        },
        {
          "data": {
            "application/vnd.jupyter.widget-view+json": {
              "model_id": "bc501ca0f4e440cc947e1a4b167703c8",
              "version_major": 2,
              "version_minor": 0
            },
            "text/plain": [
              "  0%|          | 0/24 [00:00<?, ?it/s]"
            ]
          },
          "metadata": {},
          "output_type": "display_data"
        },
        {
          "name": "stdout",
          "output_type": "stream",
          "text": [
            "Epoch: 6, loss: 0.5766417980194092 Epoch: 6, loss test: 0.6205911040306091\n",
            "Epoch: 6, loss: 0.5949287414550781 Epoch: 6, loss test: 0.6132068037986755\n"
          ]
        },
        {
          "data": {
            "application/vnd.jupyter.widget-view+json": {
              "model_id": "80e22414f54d484c8d84ab045124b8c4",
              "version_major": 2,
              "version_minor": 0
            },
            "text/plain": [
              "  0%|          | 0/24 [00:00<?, ?it/s]"
            ]
          },
          "metadata": {},
          "output_type": "display_data"
        },
        {
          "name": "stdout",
          "output_type": "stream",
          "text": [
            "Epoch: 7, loss: 0.5301859378814697 Epoch: 7, loss test: 0.6172301769256592\n",
            "Epoch: 7, loss: 0.5644388794898987 Epoch: 7, loss test: 0.6147298812866211\n",
            "Epoch: 7, loss: 0.560865581035614 Epoch: 7, loss test: 0.6177674531936646\n"
          ]
        },
        {
          "data": {
            "application/vnd.jupyter.widget-view+json": {
              "model_id": "a69c1f1b81a246e7adca9877dbb38a9d",
              "version_major": 2,
              "version_minor": 0
            },
            "text/plain": [
              "  0%|          | 0/24 [00:00<?, ?it/s]"
            ]
          },
          "metadata": {},
          "output_type": "display_data"
        },
        {
          "name": "stdout",
          "output_type": "stream",
          "text": [
            "Epoch: 8, loss: 0.5338549613952637 Epoch: 8, loss test: 0.619887113571167\n",
            "Epoch: 8, loss: 0.5504510402679443 Epoch: 8, loss test: 0.6123256683349609\n"
          ]
        },
        {
          "data": {
            "application/vnd.jupyter.widget-view+json": {
              "model_id": "99caab8ceac344f58d17a6e2db71e06a",
              "version_major": 2,
              "version_minor": 0
            },
            "text/plain": [
              "  0%|          | 0/24 [00:00<?, ?it/s]"
            ]
          },
          "metadata": {},
          "output_type": "display_data"
        },
        {
          "name": "stdout",
          "output_type": "stream",
          "text": [
            "Epoch: 9, loss: 0.5629664659500122 Epoch: 9, loss test: 0.6210346221923828\n",
            "Epoch: 9, loss: 0.5483914613723755 Epoch: 9, loss test: 0.615352213382721\n",
            "Epoch: 9, loss: 0.36851587891578674 Epoch: 9, loss test: 0.6173650622367859\n"
          ]
        },
        {
          "data": {
            "application/vnd.jupyter.widget-view+json": {
              "model_id": "9e2ab71652034df3af5a198519909b03",
              "version_major": 2,
              "version_minor": 0
            },
            "text/plain": [
              "  0%|          | 0/24 [00:00<?, ?it/s]"
            ]
          },
          "metadata": {},
          "output_type": "display_data"
        },
        {
          "name": "stdout",
          "output_type": "stream",
          "text": [
            "Epoch: 10, loss: 0.5682267546653748 Epoch: 10, loss test: 0.6149141192436218\n",
            "Epoch: 10, loss: 0.5429558753967285 Epoch: 10, loss test: 0.6120642423629761\n"
          ]
        },
        {
          "data": {
            "application/vnd.jupyter.widget-view+json": {
              "model_id": "58b6e6eca9064cd8b1795441ed16e9f8",
              "version_major": 2,
              "version_minor": 0
            },
            "text/plain": [
              "  0%|          | 0/24 [00:00<?, ?it/s]"
            ]
          },
          "metadata": {},
          "output_type": "display_data"
        },
        {
          "name": "stdout",
          "output_type": "stream",
          "text": [
            "Epoch: 11, loss: 0.5773921608924866 Epoch: 11, loss test: 0.6229631304740906\n",
            "Epoch: 11, loss: 0.5928280353546143 Epoch: 11, loss test: 0.6148380041122437\n"
          ]
        },
        {
          "data": {
            "application/vnd.jupyter.widget-view+json": {
              "model_id": "1d6a367d8b8f41bdba7cc3f863bd701e",
              "version_major": 2,
              "version_minor": 0
            },
            "text/plain": [
              "  0%|          | 0/24 [00:00<?, ?it/s]"
            ]
          },
          "metadata": {},
          "output_type": "display_data"
        },
        {
          "name": "stdout",
          "output_type": "stream",
          "text": [
            "Epoch: 12, loss: 0.5309866070747375 Epoch: 12, loss test: 0.6171503663063049\n",
            "Epoch: 12, loss: 0.5721116065979004 Epoch: 12, loss test: 0.6135859489440918\n",
            "Epoch: 12, loss: 0.5541025400161743 Epoch: 12, loss test: 0.6219210028648376\n"
          ]
        },
        {
          "data": {
            "application/vnd.jupyter.widget-view+json": {
              "model_id": "f722da56edd84200a19dd75452abe4e3",
              "version_major": 2,
              "version_minor": 0
            },
            "text/plain": [
              "  0%|          | 0/24 [00:00<?, ?it/s]"
            ]
          },
          "metadata": {},
          "output_type": "display_data"
        },
        {
          "name": "stdout",
          "output_type": "stream",
          "text": [
            "Epoch: 13, loss: 0.5374264717102051 Epoch: 13, loss test: 0.6165592670440674\n",
            "Epoch: 13, loss: 0.5562331080436707 Epoch: 13, loss test: 0.6146378517150879\n"
          ]
        },
        {
          "data": {
            "application/vnd.jupyter.widget-view+json": {
              "model_id": "48fa906dac4a41529df611750bf14258",
              "version_major": 2,
              "version_minor": 0
            },
            "text/plain": [
              "  0%|          | 0/24 [00:00<?, ?it/s]"
            ]
          },
          "metadata": {},
          "output_type": "display_data"
        },
        {
          "name": "stdout",
          "output_type": "stream",
          "text": [
            "Epoch: 14, loss: 0.5630797743797302 Epoch: 14, loss test: 0.6225512027740479\n",
            "Epoch: 14, loss: 0.5500016212463379 Epoch: 14, loss test: 0.6128774285316467\n",
            "Epoch: 14, loss: 0.38744479417800903 Epoch: 14, loss test: 0.6193493008613586\n"
          ]
        },
        {
          "data": {
            "application/vnd.jupyter.widget-view+json": {
              "model_id": "730c6999b2734ca8a019a80063e01345",
              "version_major": 2,
              "version_minor": 0
            },
            "text/plain": [
              "  0%|          | 0/24 [00:00<?, ?it/s]"
            ]
          },
          "metadata": {},
          "output_type": "display_data"
        },
        {
          "name": "stdout",
          "output_type": "stream",
          "text": [
            "Epoch: 15, loss: 0.5669996738433838 Epoch: 15, loss test: 0.6148244142532349\n",
            "Epoch: 15, loss: 0.544985830783844 Epoch: 15, loss test: 0.6137876510620117\n"
          ]
        },
        {
          "data": {
            "application/vnd.jupyter.widget-view+json": {
              "model_id": "e6b0173ba3b043fba58e8f1a538cd76e",
              "version_major": 2,
              "version_minor": 0
            },
            "text/plain": [
              "  0%|          | 0/24 [00:00<?, ?it/s]"
            ]
          },
          "metadata": {},
          "output_type": "display_data"
        },
        {
          "name": "stdout",
          "output_type": "stream",
          "text": [
            "Epoch: 16, loss: 0.5881842374801636 Epoch: 16, loss test: 0.620317816734314\n",
            "Epoch: 16, loss: 0.5854946374893188 Epoch: 16, loss test: 0.6124273538589478\n"
          ]
        },
        {
          "data": {
            "application/vnd.jupyter.widget-view+json": {
              "model_id": "b23f45e320f14acf8928569831ec2be3",
              "version_major": 2,
              "version_minor": 0
            },
            "text/plain": [
              "  0%|          | 0/24 [00:00<?, ?it/s]"
            ]
          },
          "metadata": {},
          "output_type": "display_data"
        },
        {
          "name": "stdout",
          "output_type": "stream",
          "text": [
            "Epoch: 17, loss: 0.5321329236030579 Epoch: 17, loss test: 0.6188305616378784\n",
            "Epoch: 17, loss: 0.5663028359413147 Epoch: 17, loss test: 0.6149015426635742\n",
            "Epoch: 17, loss: 0.5614437460899353 Epoch: 17, loss test: 0.6140512228012085\n"
          ]
        },
        {
          "data": {
            "application/vnd.jupyter.widget-view+json": {
              "model_id": "bc109d4863014ecc83866ce36d45f247",
              "version_major": 2,
              "version_minor": 0
            },
            "text/plain": [
              "  0%|          | 0/24 [00:00<?, ?it/s]"
            ]
          },
          "metadata": {},
          "output_type": "display_data"
        },
        {
          "name": "stdout",
          "output_type": "stream",
          "text": [
            "Epoch: 18, loss: 0.5390235781669617 Epoch: 18, loss test: 0.6158671379089355\n",
            "Epoch: 18, loss: 0.543590247631073 Epoch: 18, loss test: 0.6118507981300354\n"
          ]
        },
        {
          "data": {
            "application/vnd.jupyter.widget-view+json": {
              "model_id": "3be4488a07fa40ce82081db98372e82c",
              "version_major": 2,
              "version_minor": 0
            },
            "text/plain": [
              "  0%|          | 0/24 [00:00<?, ?it/s]"
            ]
          },
          "metadata": {},
          "output_type": "display_data"
        },
        {
          "name": "stdout",
          "output_type": "stream",
          "text": [
            "Epoch: 19, loss: 0.5789943933486938 Epoch: 19, loss test: 0.6195784211158752\n",
            "Epoch: 19, loss: 0.55667644739151 Epoch: 19, loss test: 0.6142051815986633\n",
            "Epoch: 19, loss: 0.3690129816532135 Epoch: 19, loss test: 0.6148738861083984\n"
          ]
        },
        {
          "data": {
            "application/vnd.jupyter.widget-view+json": {
              "model_id": "4fb3a51da2a6451aa7b265fa7fe90c4f",
              "version_major": 2,
              "version_minor": 0
            },
            "text/plain": [
              "  0%|          | 0/24 [00:00<?, ?it/s]"
            ]
          },
          "metadata": {},
          "output_type": "display_data"
        },
        {
          "name": "stdout",
          "output_type": "stream",
          "text": [
            "Epoch: 20, loss: 0.5785712003707886 Epoch: 20, loss test: 0.620387852191925\n",
            "Epoch: 20, loss: 0.5308488011360168 Epoch: 20, loss test: 0.6144546270370483\n"
          ]
        },
        {
          "data": {
            "application/vnd.jupyter.widget-view+json": {
              "model_id": "9a778829acd146dc853db167efb5220a",
              "version_major": 2,
              "version_minor": 0
            },
            "text/plain": [
              "  0%|          | 0/24 [00:00<?, ?it/s]"
            ]
          },
          "metadata": {},
          "output_type": "display_data"
        },
        {
          "name": "stdout",
          "output_type": "stream",
          "text": [
            "Epoch: 21, loss: 0.5789787173271179 Epoch: 21, loss test: 0.6167776584625244\n",
            "Epoch: 21, loss: 0.5838942527770996 Epoch: 21, loss test: 0.6133425235748291\n"
          ]
        },
        {
          "data": {
            "application/vnd.jupyter.widget-view+json": {
              "model_id": "91c0ef17a0de417e9fb9654eb7c67384",
              "version_major": 2,
              "version_minor": 0
            },
            "text/plain": [
              "  0%|          | 0/24 [00:00<?, ?it/s]"
            ]
          },
          "metadata": {},
          "output_type": "display_data"
        },
        {
          "name": "stdout",
          "output_type": "stream",
          "text": [
            "Epoch: 22, loss: 0.5371259450912476 Epoch: 22, loss test: 0.6202981472015381\n",
            "Epoch: 22, loss: 0.5617092847824097 Epoch: 22, loss test: 0.613980233669281\n",
            "Epoch: 22, loss: 0.5565144419670105 Epoch: 22, loss test: 0.6158921122550964\n"
          ]
        },
        {
          "data": {
            "application/vnd.jupyter.widget-view+json": {
              "model_id": "bb61781607834f20a318703f21d9aa52",
              "version_major": 2,
              "version_minor": 0
            },
            "text/plain": [
              "  0%|          | 0/24 [00:00<?, ?it/s]"
            ]
          },
          "metadata": {},
          "output_type": "display_data"
        },
        {
          "name": "stdout",
          "output_type": "stream",
          "text": [
            "Epoch: 23, loss: 0.5280612111091614 Epoch: 23, loss test: 0.6214545965194702\n",
            "Epoch: 23, loss: 0.5444802641868591 Epoch: 23, loss test: 0.6129364371299744\n"
          ]
        },
        {
          "data": {
            "application/vnd.jupyter.widget-view+json": {
              "model_id": "3c5c3d939b134d4db41dece5302014e4",
              "version_major": 2,
              "version_minor": 0
            },
            "text/plain": [
              "  0%|          | 0/24 [00:00<?, ?it/s]"
            ]
          },
          "metadata": {},
          "output_type": "display_data"
        },
        {
          "name": "stdout",
          "output_type": "stream",
          "text": [
            "Epoch: 24, loss: 0.5632895231246948 Epoch: 24, loss test: 0.6213163733482361\n",
            "Epoch: 24, loss: 0.5447996854782104 Epoch: 24, loss test: 0.6142207384109497\n",
            "Epoch: 24, loss: 0.3695465326309204 Epoch: 24, loss test: 0.6172558069229126\n"
          ]
        },
        {
          "data": {
            "application/vnd.jupyter.widget-view+json": {
              "model_id": "d4be5efa7f9044f0a28360cb6c782052",
              "version_major": 2,
              "version_minor": 0
            },
            "text/plain": [
              "  0%|          | 0/24 [00:00<?, ?it/s]"
            ]
          },
          "metadata": {},
          "output_type": "display_data"
        },
        {
          "name": "stdout",
          "output_type": "stream",
          "text": [
            "Epoch: 25, loss: 0.5749969482421875 Epoch: 25, loss test: 0.6180543303489685\n",
            "Epoch: 25, loss: 0.536332905292511 Epoch: 25, loss test: 0.6137391924858093\n"
          ]
        },
        {
          "data": {
            "application/vnd.jupyter.widget-view+json": {
              "model_id": "fcc7b20ad2f349afa46e23f5dff8b1b3",
              "version_major": 2,
              "version_minor": 0
            },
            "text/plain": [
              "  0%|          | 0/24 [00:00<?, ?it/s]"
            ]
          },
          "metadata": {},
          "output_type": "display_data"
        },
        {
          "name": "stdout",
          "output_type": "stream",
          "text": [
            "Epoch: 26, loss: 0.5910086035728455 Epoch: 26, loss test: 0.6198549270629883\n",
            "Epoch: 26, loss: 0.6090104579925537 Epoch: 26, loss test: 0.6134666204452515\n"
          ]
        },
        {
          "data": {
            "application/vnd.jupyter.widget-view+json": {
              "model_id": "317716f6c15b437ebb359d9f62ed82da",
              "version_major": 2,
              "version_minor": 0
            },
            "text/plain": [
              "  0%|          | 0/24 [00:00<?, ?it/s]"
            ]
          },
          "metadata": {},
          "output_type": "display_data"
        },
        {
          "name": "stdout",
          "output_type": "stream",
          "text": [
            "Epoch: 27, loss: 0.5353503227233887 Epoch: 27, loss test: 0.6191353797912598\n",
            "Epoch: 27, loss: 0.5751620531082153 Epoch: 27, loss test: 0.6174675822257996\n",
            "Epoch: 27, loss: 0.5683361887931824 Epoch: 27, loss test: 0.6164038181304932\n"
          ]
        },
        {
          "data": {
            "application/vnd.jupyter.widget-view+json": {
              "model_id": "2a202260454e4f73acb5efa3b1386ffd",
              "version_major": 2,
              "version_minor": 0
            },
            "text/plain": [
              "  0%|          | 0/24 [00:00<?, ?it/s]"
            ]
          },
          "metadata": {},
          "output_type": "display_data"
        },
        {
          "name": "stdout",
          "output_type": "stream",
          "text": [
            "Epoch: 28, loss: 0.5369989275932312 Epoch: 28, loss test: 0.6193642020225525\n",
            "Epoch: 28, loss: 0.563076376914978 Epoch: 28, loss test: 0.6152098178863525\n"
          ]
        },
        {
          "data": {
            "application/vnd.jupyter.widget-view+json": {
              "model_id": "b80d84dda67a410c92e75ccfb9c1919a",
              "version_major": 2,
              "version_minor": 0
            },
            "text/plain": [
              "  0%|          | 0/24 [00:00<?, ?it/s]"
            ]
          },
          "metadata": {},
          "output_type": "display_data"
        },
        {
          "name": "stdout",
          "output_type": "stream",
          "text": [
            "Epoch: 29, loss: 0.581105649471283 Epoch: 29, loss test: 0.6247004866600037\n",
            "Epoch: 29, loss: 0.5552645325660706 Epoch: 29, loss test: 0.6145037412643433\n",
            "Epoch: 29, loss: 0.37045884132385254 Epoch: 29, loss test: 0.6166312098503113\n"
          ]
        },
        {
          "data": {
            "application/vnd.jupyter.widget-view+json": {
              "model_id": "09435da7e785412c883272ba9ca32d1a",
              "version_major": 2,
              "version_minor": 0
            },
            "text/plain": [
              "  0%|          | 0/24 [00:00<?, ?it/s]"
            ]
          },
          "metadata": {},
          "output_type": "display_data"
        },
        {
          "name": "stdout",
          "output_type": "stream",
          "text": [
            "Epoch: 30, loss: 0.5753206610679626 Epoch: 30, loss test: 0.6255677342414856\n",
            "Epoch: 30, loss: 0.529563844203949 Epoch: 30, loss test: 0.6148331761360168\n"
          ]
        },
        {
          "data": {
            "application/vnd.jupyter.widget-view+json": {
              "model_id": "4867811b9dbf4058993969594efeef83",
              "version_major": 2,
              "version_minor": 0
            },
            "text/plain": [
              "  0%|          | 0/24 [00:00<?, ?it/s]"
            ]
          },
          "metadata": {},
          "output_type": "display_data"
        },
        {
          "name": "stdout",
          "output_type": "stream",
          "text": [
            "Epoch: 31, loss: 0.5843092799186707 Epoch: 31, loss test: 0.6185359954833984\n",
            "Epoch: 31, loss: 0.5906533002853394 Epoch: 31, loss test: 0.6169085502624512\n"
          ]
        },
        {
          "data": {
            "application/vnd.jupyter.widget-view+json": {
              "model_id": "d952f2ecb98f4a9e9ce9b90a15520947",
              "version_major": 2,
              "version_minor": 0
            },
            "text/plain": [
              "  0%|          | 0/24 [00:00<?, ?it/s]"
            ]
          },
          "metadata": {},
          "output_type": "display_data"
        },
        {
          "name": "stdout",
          "output_type": "stream",
          "text": [
            "Epoch: 32, loss: 0.5482407808303833 Epoch: 32, loss test: 0.6246289610862732\n",
            "Epoch: 32, loss: 0.5686869025230408 Epoch: 32, loss test: 0.6145219206809998\n",
            "Epoch: 32, loss: 0.5668408870697021 Epoch: 32, loss test: 0.619939923286438\n"
          ]
        },
        {
          "data": {
            "application/vnd.jupyter.widget-view+json": {
              "model_id": "6a58081ca6144fe89dba87b58395190f",
              "version_major": 2,
              "version_minor": 0
            },
            "text/plain": [
              "  0%|          | 0/24 [00:00<?, ?it/s]"
            ]
          },
          "metadata": {},
          "output_type": "display_data"
        },
        {
          "name": "stdout",
          "output_type": "stream",
          "text": [
            "Epoch: 33, loss: 0.543200671672821 Epoch: 33, loss test: 0.6246934533119202\n",
            "Epoch: 33, loss: 0.5564427375793457 Epoch: 33, loss test: 0.6127315759658813\n"
          ]
        },
        {
          "data": {
            "application/vnd.jupyter.widget-view+json": {
              "model_id": "120342d608744b74b24f1a267142df1b",
              "version_major": 2,
              "version_minor": 0
            },
            "text/plain": [
              "  0%|          | 0/24 [00:00<?, ?it/s]"
            ]
          },
          "metadata": {},
          "output_type": "display_data"
        },
        {
          "name": "stdout",
          "output_type": "stream",
          "text": [
            "Epoch: 34, loss: 0.5686176419258118 Epoch: 34, loss test: 0.6252558827400208\n",
            "Epoch: 34, loss: 0.5507187247276306 Epoch: 34, loss test: 0.6168256998062134\n",
            "Epoch: 34, loss: 0.3599877953529358 Epoch: 34, loss test: 0.6175337433815002\n"
          ]
        },
        {
          "data": {
            "application/vnd.jupyter.widget-view+json": {
              "model_id": "0d49d39aacd54f6c8e3f5ae19b434391",
              "version_major": 2,
              "version_minor": 0
            },
            "text/plain": [
              "  0%|          | 0/24 [00:00<?, ?it/s]"
            ]
          },
          "metadata": {},
          "output_type": "display_data"
        },
        {
          "name": "stdout",
          "output_type": "stream",
          "text": [
            "Epoch: 35, loss: 0.5770916938781738 Epoch: 35, loss test: 0.6312781572341919\n",
            "Epoch: 35, loss: 0.5317168831825256 Epoch: 35, loss test: 0.6175838112831116\n"
          ]
        },
        {
          "data": {
            "application/vnd.jupyter.widget-view+json": {
              "model_id": "9dfaa8da76514ddf8b5846ee0b9413ed",
              "version_major": 2,
              "version_minor": 0
            },
            "text/plain": [
              "  0%|          | 0/24 [00:00<?, ?it/s]"
            ]
          },
          "metadata": {},
          "output_type": "display_data"
        },
        {
          "name": "stdout",
          "output_type": "stream",
          "text": [
            "Epoch: 36, loss: 0.5736781358718872 Epoch: 36, loss test: 0.6226784586906433\n",
            "Epoch: 36, loss: 0.5817305445671082 Epoch: 36, loss test: 0.623026967048645\n"
          ]
        },
        {
          "data": {
            "application/vnd.jupyter.widget-view+json": {
              "model_id": "572304e87b7a420593c21595c680ded7",
              "version_major": 2,
              "version_minor": 0
            },
            "text/plain": [
              "  0%|          | 0/24 [00:00<?, ?it/s]"
            ]
          },
          "metadata": {},
          "output_type": "display_data"
        },
        {
          "name": "stdout",
          "output_type": "stream",
          "text": [
            "Epoch: 37, loss: 0.5406875014305115 Epoch: 37, loss test: 0.6279647946357727\n",
            "Epoch: 37, loss: 0.5703353881835938 Epoch: 37, loss test: 0.6160082817077637\n",
            "Epoch: 37, loss: 0.5637423396110535 Epoch: 37, loss test: 0.6213644742965698\n"
          ]
        },
        {
          "data": {
            "application/vnd.jupyter.widget-view+json": {
              "model_id": "abd40565f9b041239d7c8b8ea737b47d",
              "version_major": 2,
              "version_minor": 0
            },
            "text/plain": [
              "  0%|          | 0/24 [00:00<?, ?it/s]"
            ]
          },
          "metadata": {},
          "output_type": "display_data"
        },
        {
          "name": "stdout",
          "output_type": "stream",
          "text": [
            "Epoch: 38, loss: 0.5282538533210754 Epoch: 38, loss test: 0.6228306889533997\n",
            "Epoch: 38, loss: 0.551321268081665 Epoch: 38, loss test: 0.6149294972419739\n"
          ]
        },
        {
          "data": {
            "application/vnd.jupyter.widget-view+json": {
              "model_id": "b81d281ba22e49cfa1392fc5ac3e05b6",
              "version_major": 2,
              "version_minor": 0
            },
            "text/plain": [
              "  0%|          | 0/24 [00:00<?, ?it/s]"
            ]
          },
          "metadata": {},
          "output_type": "display_data"
        },
        {
          "name": "stdout",
          "output_type": "stream",
          "text": [
            "Epoch: 39, loss: 0.5595105290412903 Epoch: 39, loss test: 0.6246481537818909\n",
            "Epoch: 39, loss: 0.5463983416557312 Epoch: 39, loss test: 0.6155655980110168\n",
            "Epoch: 39, loss: 0.3719363808631897 Epoch: 39, loss test: 0.619646430015564\n"
          ]
        },
        {
          "data": {
            "application/vnd.jupyter.widget-view+json": {
              "model_id": "7de87d3bde3b4f71a596524b991fbd46",
              "version_major": 2,
              "version_minor": 0
            },
            "text/plain": [
              "  0%|          | 0/24 [00:00<?, ?it/s]"
            ]
          },
          "metadata": {},
          "output_type": "display_data"
        },
        {
          "name": "stdout",
          "output_type": "stream",
          "text": [
            "Epoch: 40, loss: 0.5776222348213196 Epoch: 40, loss test: 0.6272180080413818\n",
            "Epoch: 40, loss: 0.5276672840118408 Epoch: 40, loss test: 0.6146457195281982\n"
          ]
        },
        {
          "data": {
            "application/vnd.jupyter.widget-view+json": {
              "model_id": "822b73d6ed91404e9c9f21d8ec458b1f",
              "version_major": 2,
              "version_minor": 0
            },
            "text/plain": [
              "  0%|          | 0/24 [00:00<?, ?it/s]"
            ]
          },
          "metadata": {},
          "output_type": "display_data"
        },
        {
          "name": "stdout",
          "output_type": "stream",
          "text": [
            "Epoch: 41, loss: 0.6064783930778503 Epoch: 41, loss test: 0.6258317232131958\n",
            "Epoch: 41, loss: 0.5905041694641113 Epoch: 41, loss test: 0.6219395399093628\n"
          ]
        },
        {
          "data": {
            "application/vnd.jupyter.widget-view+json": {
              "model_id": "4ab370865cd3403fa69d77a658388ad0",
              "version_major": 2,
              "version_minor": 0
            },
            "text/plain": [
              "  0%|          | 0/24 [00:00<?, ?it/s]"
            ]
          },
          "metadata": {},
          "output_type": "display_data"
        },
        {
          "name": "stdout",
          "output_type": "stream",
          "text": [
            "Epoch: 42, loss: 0.5294020175933838 Epoch: 42, loss test: 0.6217697262763977\n",
            "Epoch: 42, loss: 0.5796898603439331 Epoch: 42, loss test: 0.6239917874336243\n",
            "Epoch: 42, loss: 0.5624765157699585 Epoch: 42, loss test: 0.6264569759368896\n"
          ]
        },
        {
          "data": {
            "application/vnd.jupyter.widget-view+json": {
              "model_id": "345c5d31de6241498f0f169373574909",
              "version_major": 2,
              "version_minor": 0
            },
            "text/plain": [
              "  0%|          | 0/24 [00:00<?, ?it/s]"
            ]
          },
          "metadata": {},
          "output_type": "display_data"
        },
        {
          "name": "stdout",
          "output_type": "stream",
          "text": [
            "Epoch: 43, loss: 0.5343586802482605 Epoch: 43, loss test: 0.6215193271636963\n",
            "Epoch: 43, loss: 0.5777509808540344 Epoch: 43, loss test: 0.6224976181983948\n"
          ]
        },
        {
          "data": {
            "application/vnd.jupyter.widget-view+json": {
              "model_id": "bd6d48221204492885527651754a3905",
              "version_major": 2,
              "version_minor": 0
            },
            "text/plain": [
              "  0%|          | 0/24 [00:00<?, ?it/s]"
            ]
          },
          "metadata": {},
          "output_type": "display_data"
        },
        {
          "name": "stdout",
          "output_type": "stream",
          "text": [
            "Epoch: 44, loss: 0.5840438604354858 Epoch: 44, loss test: 0.6365442872047424\n",
            "Epoch: 44, loss: 0.5473868250846863 Epoch: 44, loss test: 0.6157947778701782\n",
            "Epoch: 44, loss: 0.3702527582645416 Epoch: 44, loss test: 0.6312359571456909\n"
          ]
        },
        {
          "data": {
            "application/vnd.jupyter.widget-view+json": {
              "model_id": "b814e1926abd402a9baa2743ed7b8392",
              "version_major": 2,
              "version_minor": 0
            },
            "text/plain": [
              "  0%|          | 0/24 [00:00<?, ?it/s]"
            ]
          },
          "metadata": {},
          "output_type": "display_data"
        },
        {
          "name": "stdout",
          "output_type": "stream",
          "text": [
            "Epoch: 45, loss: 0.5813493728637695 Epoch: 45, loss test: 0.6491060256958008\n",
            "Epoch: 45, loss: 0.5646372437477112 Epoch: 45, loss test: 0.6156213283538818\n"
          ]
        },
        {
          "data": {
            "application/vnd.jupyter.widget-view+json": {
              "model_id": "9ca5855fbdbf473885058b0b5a09722b",
              "version_major": 2,
              "version_minor": 0
            },
            "text/plain": [
              "  0%|          | 0/24 [00:00<?, ?it/s]"
            ]
          },
          "metadata": {},
          "output_type": "display_data"
        },
        {
          "name": "stdout",
          "output_type": "stream",
          "text": [
            "Epoch: 46, loss: 0.6581835746765137 Epoch: 46, loss test: 0.639244556427002\n",
            "Epoch: 46, loss: 0.586629331111908 Epoch: 46, loss test: 0.6245850920677185\n"
          ]
        },
        {
          "data": {
            "application/vnd.jupyter.widget-view+json": {
              "model_id": "a42b4f0ec01949f1b880177f6595b05c",
              "version_major": 2,
              "version_minor": 0
            },
            "text/plain": [
              "  0%|          | 0/24 [00:00<?, ?it/s]"
            ]
          },
          "metadata": {},
          "output_type": "display_data"
        },
        {
          "name": "stdout",
          "output_type": "stream",
          "text": [
            "Epoch: 47, loss: 0.595637321472168 Epoch: 47, loss test: 0.6436377167701721\n",
            "Epoch: 47, loss: 0.6731346845626831 Epoch: 47, loss test: 0.6793484687805176\n",
            "Epoch: 47, loss: 0.5886298418045044 Epoch: 47, loss test: 0.6218063831329346\n"
          ]
        },
        {
          "data": {
            "application/vnd.jupyter.widget-view+json": {
              "model_id": "d3409e17c4894b03897b499b30da734d",
              "version_major": 2,
              "version_minor": 0
            },
            "text/plain": [
              "  0%|          | 0/24 [00:00<?, ?it/s]"
            ]
          },
          "metadata": {},
          "output_type": "display_data"
        },
        {
          "name": "stdout",
          "output_type": "stream",
          "text": [
            "Epoch: 48, loss: 0.6136715412139893 Epoch: 48, loss test: 0.6557418704032898\n",
            "Epoch: 48, loss: 0.6274465918540955 Epoch: 48, loss test: 0.6343393921852112\n"
          ]
        },
        {
          "data": {
            "application/vnd.jupyter.widget-view+json": {
              "model_id": "1f6fd32147254fb9a2ae97337afbba5c",
              "version_major": 2,
              "version_minor": 0
            },
            "text/plain": [
              "  0%|          | 0/24 [00:00<?, ?it/s]"
            ]
          },
          "metadata": {},
          "output_type": "display_data"
        },
        {
          "name": "stdout",
          "output_type": "stream",
          "text": [
            "Epoch: 49, loss: 0.6914775967597961 Epoch: 49, loss test: 0.6865696907043457\n",
            "Epoch: 49, loss: 0.572933554649353 Epoch: 49, loss test: 0.6247332692146301\n",
            "Epoch: 49, loss: 0.44738635420799255 Epoch: 49, loss test: 0.6413428783416748\n"
          ]
        },
        {
          "data": {
            "application/vnd.jupyter.widget-view+json": {
              "model_id": "bdc4e6dde53c4f4f85897833965572dc",
              "version_major": 2,
              "version_minor": 0
            },
            "text/plain": [
              "  0%|          | 0/24 [00:00<?, ?it/s]"
            ]
          },
          "metadata": {},
          "output_type": "display_data"
        },
        {
          "name": "stdout",
          "output_type": "stream",
          "text": [
            "Epoch: 50, loss: 0.5767403841018677 Epoch: 50, loss test: 0.617203414440155\n",
            "Epoch: 50, loss: 0.5387769341468811 Epoch: 50, loss test: 0.614017903804779\n"
          ]
        },
        {
          "data": {
            "application/vnd.jupyter.widget-view+json": {
              "model_id": "8195b8c5d381461cac3d60e2f6ed1b2f",
              "version_major": 2,
              "version_minor": 0
            },
            "text/plain": [
              "  0%|          | 0/24 [00:00<?, ?it/s]"
            ]
          },
          "metadata": {},
          "output_type": "display_data"
        },
        {
          "name": "stdout",
          "output_type": "stream",
          "text": [
            "Epoch: 51, loss: 0.5923649668693542 Epoch: 51, loss test: 0.6211864352226257\n",
            "Epoch: 51, loss: 0.591086745262146 Epoch: 51, loss test: 0.6154196262359619\n"
          ]
        },
        {
          "data": {
            "application/vnd.jupyter.widget-view+json": {
              "model_id": "d8fc0a137d3a492796e667aada1dff21",
              "version_major": 2,
              "version_minor": 0
            },
            "text/plain": [
              "  0%|          | 0/24 [00:00<?, ?it/s]"
            ]
          },
          "metadata": {},
          "output_type": "display_data"
        },
        {
          "name": "stdout",
          "output_type": "stream",
          "text": [
            "Epoch: 52, loss: 0.5386195182800293 Epoch: 52, loss test: 0.616515040397644\n",
            "Epoch: 52, loss: 0.5647134780883789 Epoch: 52, loss test: 0.6136884093284607\n",
            "Epoch: 52, loss: 0.5708469748497009 Epoch: 52, loss test: 0.6217501759529114\n"
          ]
        },
        {
          "data": {
            "application/vnd.jupyter.widget-view+json": {
              "model_id": "2d6e54b25b2e4b24bd17bc18b1360a5e",
              "version_major": 2,
              "version_minor": 0
            },
            "text/plain": [
              "  0%|          | 0/24 [00:00<?, ?it/s]"
            ]
          },
          "metadata": {},
          "output_type": "display_data"
        },
        {
          "name": "stdout",
          "output_type": "stream",
          "text": [
            "Epoch: 53, loss: 0.5364412069320679 Epoch: 53, loss test: 0.6185974478721619\n",
            "Epoch: 53, loss: 0.551506519317627 Epoch: 53, loss test: 0.6124024987220764\n"
          ]
        },
        {
          "data": {
            "application/vnd.jupyter.widget-view+json": {
              "model_id": "2984294c4145449290cd9eafbea49ce8",
              "version_major": 2,
              "version_minor": 0
            },
            "text/plain": [
              "  0%|          | 0/24 [00:00<?, ?it/s]"
            ]
          },
          "metadata": {},
          "output_type": "display_data"
        },
        {
          "name": "stdout",
          "output_type": "stream",
          "text": [
            "Epoch: 54, loss: 0.5727407336235046 Epoch: 54, loss test: 0.6219134330749512\n",
            "Epoch: 54, loss: 0.5456579923629761 Epoch: 54, loss test: 0.6190345883369446\n",
            "Epoch: 54, loss: 0.352601557970047 Epoch: 54, loss test: 0.6150903105735779\n"
          ]
        },
        {
          "data": {
            "application/vnd.jupyter.widget-view+json": {
              "model_id": "1d1d4129625e491f9c6c58f80eba8c06",
              "version_major": 2,
              "version_minor": 0
            },
            "text/plain": [
              "  0%|          | 0/24 [00:00<?, ?it/s]"
            ]
          },
          "metadata": {},
          "output_type": "display_data"
        },
        {
          "name": "stdout",
          "output_type": "stream",
          "text": [
            "Epoch: 55, loss: 0.5727429389953613 Epoch: 55, loss test: 0.6162503361701965\n",
            "Epoch: 55, loss: 0.5274437665939331 Epoch: 55, loss test: 0.6174184083938599\n"
          ]
        },
        {
          "data": {
            "application/vnd.jupyter.widget-view+json": {
              "model_id": "91ce5d898170491893b694eb74aa5905",
              "version_major": 2,
              "version_minor": 0
            },
            "text/plain": [
              "  0%|          | 0/24 [00:00<?, ?it/s]"
            ]
          },
          "metadata": {},
          "output_type": "display_data"
        },
        {
          "name": "stdout",
          "output_type": "stream",
          "text": [
            "Epoch: 56, loss: 0.5770075917243958 Epoch: 56, loss test: 0.6209816932678223\n",
            "Epoch: 56, loss: 0.5969208478927612 Epoch: 56, loss test: 0.6165302991867065\n"
          ]
        },
        {
          "data": {
            "application/vnd.jupyter.widget-view+json": {
              "model_id": "4380f6efe37749ffa6af0cc318caa163",
              "version_major": 2,
              "version_minor": 0
            },
            "text/plain": [
              "  0%|          | 0/24 [00:00<?, ?it/s]"
            ]
          },
          "metadata": {},
          "output_type": "display_data"
        },
        {
          "name": "stdout",
          "output_type": "stream",
          "text": [
            "Epoch: 57, loss: 0.5341722369194031 Epoch: 57, loss test: 0.6203510761260986\n",
            "Epoch: 57, loss: 0.5698182582855225 Epoch: 57, loss test: 0.615172803401947\n",
            "Epoch: 57, loss: 0.5578778982162476 Epoch: 57, loss test: 0.6194390058517456\n"
          ]
        },
        {
          "data": {
            "application/vnd.jupyter.widget-view+json": {
              "model_id": "87fd402de71f4d1bbb8d9ddda8cd789d",
              "version_major": 2,
              "version_minor": 0
            },
            "text/plain": [
              "  0%|          | 0/24 [00:00<?, ?it/s]"
            ]
          },
          "metadata": {},
          "output_type": "display_data"
        },
        {
          "name": "stdout",
          "output_type": "stream",
          "text": [
            "Epoch: 58, loss: 0.5297592878341675 Epoch: 58, loss test: 0.61859130859375\n",
            "Epoch: 58, loss: 0.5515937209129333 Epoch: 58, loss test: 0.6136549115180969\n"
          ]
        },
        {
          "data": {
            "application/vnd.jupyter.widget-view+json": {
              "model_id": "5d148a141cc342a181dc9650a6ebcf08",
              "version_major": 2,
              "version_minor": 0
            },
            "text/plain": [
              "  0%|          | 0/24 [00:00<?, ?it/s]"
            ]
          },
          "metadata": {},
          "output_type": "display_data"
        },
        {
          "name": "stdout",
          "output_type": "stream",
          "text": [
            "Epoch: 59, loss: 0.5608011484146118 Epoch: 59, loss test: 0.6224721670150757\n",
            "Epoch: 59, loss: 0.5370573997497559 Epoch: 59, loss test: 0.6178967952728271\n",
            "Epoch: 59, loss: 0.3428800404071808 Epoch: 59, loss test: 0.6161621809005737\n"
          ]
        }
      ],
      "source": [
        "counter = 0\n",
        "best_val_loss = float(\"inf\")\n",
        "losses = []\n",
        "losses_test = []\n",
        "for epoch in range(60):\n",
        "    for x_train, y_train in tqdm(dataloader):\n",
        "        \n",
        "        y_train = y_train.float().to(device)\n",
        "        x_train = x_train.to(device)\n",
        "        model.train()\n",
        "        counter+=1\n",
        "        y_pred = model(x_train)\n",
        "        y_pred =  y_pred.to(device)\n",
        "        loss = criterion(y_pred, y_train.float())\n",
        "        loss.backward()\n",
        "        clip_grad_norm_(model.parameters(), max_grad_norm)\n",
        "\n",
        "        optimizer.step()\n",
        "        optimizer.zero_grad()\n",
        "       \n",
        "        losses.append(loss.item())\n",
        "        \n",
        "        with torch.no_grad():\n",
        "            model.eval()\n",
        "            y_pred = model(x_val.clone().detach().float().to(device))\n",
        "            y_pred.to(device)\n",
        "            loss_test = criterion(y_pred, y_val.view(y_pred.shape).to(device))\n",
        "            losses_test.append(loss_test.item())\n",
        "            if loss_test < best_val_loss:\n",
        "                best_val_loss = loss_test\n",
        "                torch.save(model.state_dict(), 'best_model.pth')\n",
        "        if(counter%10==0):\n",
        "            wandb.log(\n",
        "                {\n",
        "                    \"val loss\": loss.item(),\n",
        "                    \"val loss test\": loss_test.item()\n",
        "                }\n",
        "            )\n",
        "            print(\n",
        "                f\"Epoch: {epoch}, loss: {loss.item()} \"\n",
        "                f\"Epoch: {epoch}, loss test: {loss_test.item()}\"\n",
        "            )"
      ]
    },
    {
      "cell_type": "code",
      "execution_count": 703,
      "metadata": {},
      "outputs": [
        {
          "data": {
            "text/plain": [
              "tensor(0.6109, device='mps:0')"
            ]
          },
          "execution_count": 703,
          "metadata": {},
          "output_type": "execute_result"
        }
      ],
      "source": [
        "best_val_loss"
      ]
    },
    {
      "cell_type": "code",
      "execution_count": 704,
      "metadata": {},
      "outputs": [],
      "source": [
        "from scipy import special"
      ]
    },
    {
      "cell_type": "code",
      "execution_count": 705,
      "metadata": {},
      "outputs": [
        {
          "data": {
            "text/plain": [
              "MyModel(\n",
              "  (layer1): Linear(in_features=90, out_features=350, bias=True)\n",
              "  (bn1): BatchNorm1d(350, eps=1e-05, momentum=0.1, affine=True, track_running_stats=True)\n",
              "  (relu): ReLU()\n",
              "  (dropout1): Dropout(p=0.5, inplace=False)\n",
              "  (layer2): Linear(in_features=350, out_features=200, bias=True)\n",
              "  (bn2): BatchNorm1d(200, eps=1e-05, momentum=0.1, affine=True, track_running_stats=True)\n",
              "  (dropout2): Dropout(p=0.5, inplace=False)\n",
              "  (layer3): Linear(in_features=200, out_features=1, bias=True)\n",
              ")"
            ]
          },
          "execution_count": 705,
          "metadata": {},
          "output_type": "execute_result"
        }
      ],
      "source": [
        "model = MyModel(input_size, device)\n",
        "model.load_state_dict(torch.load('best_model.pth'))\n",
        "model.to(device)\n",
        "model.eval()  "
      ]
    },
    {
      "cell_type": "code",
      "execution_count": 706,
      "metadata": {},
      "outputs": [],
      "source": [
        "y_new = model(x_val.clone().detach().float().to(device))\n",
        "y_new_cpu = y_new.detach().cpu().numpy()\n",
        "y_new_original = pt.inverse_transform(y_new_cpu.astype('float64'))"
      ]
    },
    {
      "cell_type": "code",
      "execution_count": 707,
      "metadata": {},
      "outputs": [],
      "source": [
        "y_val_new = y_val.detach().cpu().numpy()\n",
        "y_val_original = pt.inverse_transform(y_val_new.astype('float64'))"
      ]
    },
    {
      "cell_type": "code",
      "execution_count": 708,
      "metadata": {},
      "outputs": [],
      "source": [
        "from sklearn.metrics import mean_squared_error as mse\n",
        "mse1 = mse(y_new_original, y_val_original)"
      ]
    },
    {
      "cell_type": "code",
      "execution_count": 709,
      "metadata": {},
      "outputs": [
        {
          "data": {
            "text/plain": [
              "77.26890735789148"
            ]
          },
          "execution_count": 709,
          "metadata": {},
          "output_type": "execute_result"
        }
      ],
      "source": [
        "mse1"
      ]
    },
    {
      "cell_type": "code",
      "execution_count": 710,
      "metadata": {},
      "outputs": [
        {
          "data": {
            "text/plain": [
              "8.790273451826824"
            ]
          },
          "execution_count": 710,
          "metadata": {},
          "output_type": "execute_result"
        }
      ],
      "source": [
        "rmse1 = np.sqrt(mse1)\n",
        "rmse1"
      ]
    }
  ],
  "metadata": {
    "colab": {
      "provenance": []
    },
    "kernelspec": {
      "display_name": "Python 3 (ipykernel)",
      "language": "python",
      "name": "python3"
    },
    "language_info": {
      "codemirror_mode": {
        "name": "ipython",
        "version": 3
      },
      "file_extension": ".py",
      "mimetype": "text/x-python",
      "name": "python",
      "nbconvert_exporter": "python",
      "pygments_lexer": "ipython3",
      "version": "3.11.5"
    }
  },
  "nbformat": 4,
  "nbformat_minor": 0
}
